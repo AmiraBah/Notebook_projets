{
 "cells": [
  {
   "cell_type": "markdown",
   "id": "69d16ee7",
   "metadata": {},
   "source": [
    "# 1. Introduction"
   ]
  },
  {
   "cell_type": "markdown",
   "id": "779987d9",
   "metadata": {},
   "source": [
    "## 1.1 Préambule"
   ]
  },
  {
   "cell_type": "markdown",
   "id": "ec2cee08",
   "metadata": {},
   "source": [
    "La jeune start-up \"Fruits!\", spécialisée dans l'AgriTech, ambitionne de révolutionner la récolte des fruits grâce à des solutions innovantes L’entreprise se fixe pour objectif de préserver la biodiversité fruitière en concevant des robots cueilleurs intelligents capables de traiter chaque espèce de fruit de manière spécifique.\n",
    "\n",
    "Dans un premier temps, la start-up prévoit de lancer une application mobile grand public. Cette application permettra aux utilisateurs de photographier un fruit et d'accéder instantanément à des informations détaillées sur celui-ci.\n",
    "\n",
    "Ce projet vise à sensibiliser le grand public à l'importance de la biodiversité des fruits, tout en servant de base pour le développement d’un moteur de classification d’images spécialisé. Par ailleurs, le déploiement de cette application contribuera à la mise en place d’une première version de l’architecture Big Data nécessaire à l’évolution des technologies de la start-up."
   ]
  },
  {
   "cell_type": "markdown",
   "id": "7f3a979a",
   "metadata": {},
   "source": [
    "## 1.2 Objectifs "
   ]
  },
  {
   "cell_type": "markdown",
   "id": "48e62cce",
   "metadata": {},
   "source": [
    "1. Concevoir une chaîne initiale de traitement des données intégrant une phase de prétraitement ainsi qu’une étape de réduction de dimensionnalité.\n",
    "2. Anticiper la croissance rapide du volume de données après la mise en service du projet, ce qui nécessite :\n",
    "    - Le déploiement des processus de traitement dans un environnement Big Data adapté\n",
    "    - Le développement de scripts en PySpark pour permettre des calculs distribués et optimiser la gestion des données à grande échelle"
   ]
  },
  {
   "cell_type": "markdown",
   "id": "f7b11f62",
   "metadata": {},
   "source": [
    "## 1.3 Déroulement des étapes du projet"
   ]
  },
  {
   "cell_type": "markdown",
   "id": "6b95e6ce",
   "metadata": {},
   "source": [
    "Le projet sera réalisé en deux phases distinctes, chacune dans un environnement différent. Dans un premier temps, le développement et l'exécution du code se feront en local, en travaillant sur un volume limité d'images. Cette étape permettra de valider les choix techniques initiaux. Une fois ces choix validés, la solution sera déployée dans un environnement Big Data (AWS) en mode distribué pour gérer des volumes de données plus importants.\n",
    "\n",
    "En conséquence, le projet se structurera en trois étapes principales:\n",
    "- Établissement des choix techniques généraux retenus\n",
    "- Développement et déploiement de la solution en local\n",
    "- Déploiement de la solution dans un environnement cloud"
   ]
  },
  {
   "cell_type": "markdown",
   "id": "f5b34029",
   "metadata": {},
   "source": [
    "# 2.Choix techniques généraux retenus"
   ]
  },
  {
   "cell_type": "markdown",
   "id": "bbd9c176",
   "metadata": {},
   "source": [
    "## 2.1 Calcul distribué"
   ]
  },
  {
   "cell_type": "markdown",
   "id": "32baf092",
   "metadata": {},
   "source": [
    "Le projet nécessite le développement de scripts en PySpark afin d’anticiper et de gérer efficacement l’augmentation rapide du volume de données prévue après la livraison. PySpark offre une interface en langage Python pour interagir avec Spark, un outil puissant pour coordonner et exécuter des tâches sur des données réparties entre plusieurs ordinateurs.\n",
    "Apache Spark, un framework open source de calcul distribué in-memory, est conçu pour le traitement et l’analyse de données massives, offrant rapidité et scalabilité.\n",
    "\n",
    "Le fonctionnement de Spark repose sur :\n",
    "- Le driver (ou Spark Session) qui planifie et distribue les tâches entre différents exécuteurs, assurant l'exécution du code sur plusieurs machines\n",
    "- Les exécuteurs, processus distincts configurables en termes de CPU et de mémoire, qui exécutent les tâches de traitement sur des fractions de données\n",
    "\n",
    "Pour ce projet, Spark sera utilisé dans les deux environnements, local et cloud, via des scripts PySpark :\n",
    "- En environnement local, nous simulerons le calcul distribué pour valider la solution et ses performances\n",
    "- En environnement cloud, nous déploierons la solution sur un cluster de machines, réalisant les opérations à grande échelle avec une véritable architecture distribuée"
   ]
  },
  {
   "cell_type": "markdown",
   "id": "cbb5322d",
   "metadata": {},
   "source": [
    "## 2.2. Transfert Learning"
   ]
  },
  {
   "cell_type": "markdown",
   "id": "5364c9f9",
   "metadata": {},
   "source": [
    "Le projet exige également la mise en place d’une première chaîne de traitement des données, incluant une phase de prétraitement et une étape de réduction de dimensionnalité. Il est spécifié qu’il n’est pas nécessaire d’entraîner un modèle à ce stade. Ainsi, nous avons opté pour une approche de transfert learning. Le transfert learning consiste à exploiter les connaissances déjà acquises par un modèle pré-entraîné (dans notre cas, MobileNetV2) et à les adapter à notre problématique.\n",
    "\n",
    "Concrètement, nous fournirons nos images au modèle et extrairons les données de l’avant-dernière couche. Cette couche produit un vecteur réduit de dimension (1,1,1280), qui est idéal pour nos besoins. La dernière couche, étant une couche softmax dédiée à la classification, sera ignorée, car nous ne visons pas la classification à ce stade. Cette méthode nous permettra de créer une première version fonctionnelle du moteur de classification d’images de fruits.\n",
    "\n",
    "Le choix de MobileNetV2 s’est imposé pour plusieurs raisons :\n",
    "- Sa rapidité d’exécution, essentielle pour traiter un grand volume de données\n",
    "- La faible dimensionnalité du vecteur de caractéristiques en sortie (1,1,1280), qui facilite le traitement et la gestion des données"
   ]
  },
  {
   "cell_type": "markdown",
   "id": "4ab5c6e9",
   "metadata": {},
   "source": [
    "# 3. Déploiement de la solution en local"
   ]
  },
  {
   "cell_type": "markdown",
   "id": "33a43845",
   "metadata": {},
   "source": [
    "## 3.1. Importation des librairies"
   ]
  },
  {
   "cell_type": "code",
   "execution_count": 1,
   "id": "a5c0c74f",
   "metadata": {},
   "outputs": [
    {
     "name": "stderr",
     "output_type": "stream",
     "text": [
      "2024-12-04 12:19:21.831495: I tensorflow/core/platform/cpu_feature_guard.cc:210] This TensorFlow binary is optimized to use available CPU instructions in performance-critical operations.\n",
      "To enable the following instructions: AVX2 FMA, in other operations, rebuild TensorFlow with the appropriate compiler flags.\n"
     ]
    }
   ],
   "source": [
    "import os\n",
    "import shutil\n",
    "import io\n",
    "import numpy as np\n",
    "import pandas as pd\n",
    "from PIL import Image\n",
    "from fpdf import FPDF\n",
    "\n",
    "from pyspark.sql import SparkSession\n",
    "from pyspark.sql.functions import (\n",
    "    col, split, element_at, pandas_udf, PandasUDFType, udf\n",
    ")\n",
    "from pyspark.sql.types import ArrayType, FloatType\n",
    "from pyspark.ml.feature import PCA\n",
    "from pyspark.ml.linalg import Vectors, VectorUDT\n",
    "\n",
    "import tensorflow as tf\n",
    "from tensorflow.keras.applications import MobileNetV2\n",
    "from tensorflow.keras.applications.mobilenet_v2 import preprocess_input\n",
    "from tensorflow.keras.utils import img_to_array\n",
    "from tensorflow.keras.models import Model\n"
   ]
  },
  {
   "cell_type": "markdown",
   "id": "ff70cfa3",
   "metadata": {},
   "source": [
    "## 3.2. Définition des PATHs"
   ]
  },
  {
   "cell_type": "markdown",
   "id": "661ff67c",
   "metadata": {},
   "source": [
    "Pour cette première itération, nous travaillons sur un échantillon représentant 5% des images (3110 images au total). Ces images sont situées dans le répertoire fruits-360-original-size/Test. Les résultats du traitement seront enregistrés dans le dossier \"Resultats\"."
   ]
  },
  {
   "cell_type": "code",
   "execution_count": null,
   "id": "cde0aa67",
   "metadata": {},
   "outputs": [
    {
     "name": "stdout",
     "output_type": "stream",
     "text": [
      "PATH:        /Users/amira/Documents/OPC/Projet9\n",
      "PATH_Data:   /Users/amira/Documents/OPC/Projet9/data/fruits-360_dataset/fruits-360/Test\n",
      "PATH_Result: /Users/amira/Documents/OPC/Projet9/Resultats_2\n"
     ]
    }
   ],
   "source": [
    "PATH = os.getcwd()\n",
    "PATH_Data = PATH+'/data/fruits-360_dataset/fruits-360/Test'\n",
    "PATH_Result = PATH+'/Resultats_2'\n",
    "print('PATH:        '+\\\n",
    "      PATH+'\\nPATH_Data:   '+\\\n",
    "      PATH_Data+'\\nPATH_Result: '+PATH_Result)"
   ]
  },
  {
   "cell_type": "markdown",
   "id": "983e285a",
   "metadata": {},
   "source": [
    "## 3.3. Création de la SparkSession"
   ]
  },
  {
   "cell_type": "markdown",
   "id": "da5e637a",
   "metadata": {},
   "source": [
    "L’application Spark est orchestrée via une SparkSession, qui sert de point d’entrée pour exécuter les fonctions définies par l’utilisateur sur un cluster. Chaque SparkSession est associée à une application Spark unique, permettant une gestion centralisée des tâches.\n",
    "\n",
    "Dans le code, une SparkSession est configurée avec les paramètres suivants :\n",
    "\n",
    "- Nom de l’application : \"P8\", visible dans l’interface utilisateur Web de Spark\n",
    "- Mode d’exécution : défini sur local[*], ce qui indique que Spark peut utiliser tous les cœurs disponibles du processeur pour l’exécution locale\n",
    "- Adresse et port du driver :\n",
    "  - spark.driver.bindAddress : défini sur 192.168.1.14, spécifiant l’adresse IP pour la communication du driver\n",
    "  - spark.driver.port : fixé à 50400, assurant une liaison explicite et stable pour les connexions\n",
    "- Timeout réseau :\n",
    "  - spark.network.timeout : réglé sur 600s pour prévenir les déconnexions dues à une inactivité prolongée entre le driver et les exécuteurs\n",
    "  - spark.executor.heartbeatInterval : défini sur 100s, spécifiant la fréquence à laquelle les exécuteurs envoient des signaux d’activité au driver pour maintenir la connexion active\n",
    "\n",
    "Ces configurations permettent une exécution locale optimisée et robuste, tout en réduisant les risques de perte de connexion dans des environnements instables."
   ]
  },
  {
   "cell_type": "code",
   "execution_count": null,
   "id": "58569876",
   "metadata": {},
   "outputs": [
    {
     "name": "stderr",
     "output_type": "stream",
     "text": [
      "Setting default log level to \"WARN\".\n",
      "To adjust logging level use sc.setLogLevel(newLevel). For SparkR, use setLogLevel(newLevel).\n",
      "24/12/03 19:19:24 WARN NativeCodeLoader: Unable to load native-hadoop library for your platform... using builtin-java classes where applicable\n"
     ]
    }
   ],
   "source": [
    "spark = (SparkSession\n",
    "         .builder\n",
    "         .appName('P8')\n",
    "         .master('local[*]')\n",
    "         .config(\"spark.driver.bindAddress\", \"192.168.1.14\")  \n",
    "         .config(\"spark.driver.port\", \"50400\")               \n",
    "         .config(\"spark.network.timeout\", \"600s\")            \n",
    "         .config(\"spark.executor.heartbeatInterval\", \"100s\") \n",
    "         .getOrCreate()\n",
    ")\n"
   ]
  },
  {
   "cell_type": "markdown",
   "id": "5c8b53ac",
   "metadata": {},
   "source": [
    "Nous créons également la variable \"sc\" qui est un SparkContext issue de la variable spark:"
   ]
  },
  {
   "cell_type": "code",
   "execution_count": null,
   "id": "14aeccb1",
   "metadata": {},
   "outputs": [],
   "source": [
    "sc = spark.sparkContext"
   ]
  },
  {
   "cell_type": "code",
   "execution_count": null,
   "id": "e97bf13b",
   "metadata": {},
   "outputs": [
    {
     "data": {
      "text/html": [
       "\n",
       "            <div>\n",
       "                <p><b>SparkSession - in-memory</b></p>\n",
       "                \n",
       "        <div>\n",
       "            <p><b>SparkContext</b></p>\n",
       "\n",
       "            <p><a href=\"http://air-de-amira.home:4040\">Spark UI</a></p>\n",
       "\n",
       "            <dl>\n",
       "              <dt>Version</dt>\n",
       "                <dd><code>v3.5.3</code></dd>\n",
       "              <dt>Master</dt>\n",
       "                <dd><code>local[*]</code></dd>\n",
       "              <dt>AppName</dt>\n",
       "                <dd><code>P8</code></dd>\n",
       "            </dl>\n",
       "        </div>\n",
       "        \n",
       "            </div>\n",
       "        "
      ],
      "text/plain": [
       "<pyspark.sql.session.SparkSession at 0x134f5b990>"
      ]
     },
     "execution_count": 5,
     "metadata": {},
     "output_type": "execute_result"
    }
   ],
   "source": [
    "spark"
   ]
  },
  {
   "cell_type": "markdown",
   "id": "5cfa1114",
   "metadata": {},
   "source": [
    "## 3.4. Traitement des données"
   ]
  },
  {
   "cell_type": "markdown",
   "id": "195a88b0",
   "metadata": {},
   "source": [
    "Dans la suite de notre flux de travail, nous procéderons successivement aux étapes suivantes :\n",
    "\n",
    "- Préparation des données:\n",
    "\n",
    "    - Importer les images dans un DataFrame à l’aide d’un pandas UDF\n",
    "    - Associer chaque image à son label correspondant\n",
    "    - Prétraiter les images en les redimensionnant pour les rendre compatibles avec notre modèle\n",
    "    - Préparation du modèle\n",
    "\n",
    "- Importer le modèle MobileNetV2:\n",
    "    - Créer un nouveau modèle en supprimant la dernière couche de MobileNetV2\n",
    "    - Définition du processus de chargement des images et application de leur featurisation à l’aide de pandas UDF\n",
    "\n",
    "- Exécution des actions d’extraction des features.\n",
    "\n",
    "- Enregistrement des résultats des actions réalisées.\n",
    "\n",
    "- Vérification du bon fonctionnement en chargeant les données enregistrées."
   ]
  },
  {
   "cell_type": "markdown",
   "id": "ea928a90",
   "metadata": {},
   "source": [
    "### 3.4.1. Chargement des données"
   ]
  },
  {
   "cell_type": "markdown",
   "id": "386fe0bc",
   "metadata": {},
   "source": [
    "Les images sont chargées au format binaire, ce qui permet une plus grande flexibilité dans leur prétraitement. Avant de procéder au chargement, nous spécifions que seules les images ayant l'extension .jpg doivent être prises en compte. Nous indiquons également que tous les objets présents dans les sous-dossiers du répertoire spécifié doivent être chargés."
   ]
  },
  {
   "cell_type": "code",
   "execution_count": null,
   "id": "e68e53b9",
   "metadata": {},
   "outputs": [
    {
     "name": "stderr",
     "output_type": "stream",
     "text": [
      "                                                                                \r"
     ]
    }
   ],
   "source": [
    "images = spark.read.format(\"binaryFile\") \\\n",
    "  .option(\"pathGlobFilter\", \"*.jpg\") \\\n",
    "  .option(\"recursiveFileLookup\", \"true\") \\\n",
    "  .load(PATH_Data)"
   ]
  },
  {
   "cell_type": "markdown",
   "id": "645faeaf",
   "metadata": {},
   "source": [
    "Nous affichons les 5 premières images contenant:\n",
    " - le path de l'image\n",
    " - la date et heure de sa dernière modification\n",
    " - sa longueur\n",
    " - son contenu encodé en valeur hexadécimal\n",
    "\n",
    " Nous conservons que le path de l'image et nous ajoutons une colonne contenant les labels de chaque image"
   ]
  },
  {
   "cell_type": "code",
   "execution_count": null,
   "id": "a08b0494",
   "metadata": {},
   "outputs": [
    {
     "name": "stdout",
     "output_type": "stream",
     "text": [
      "root\n",
      " |-- path: string (nullable = true)\n",
      " |-- modificationTime: timestamp (nullable = true)\n",
      " |-- length: long (nullable = true)\n",
      " |-- content: binary (nullable = true)\n",
      " |-- label: string (nullable = true)\n",
      "\n",
      "None\n",
      "+--------------------------------------------------------------------------------------------------------+----------+\n",
      "|path                                                                                                    |label     |\n",
      "+--------------------------------------------------------------------------------------------------------+----------+\n",
      "|file:/Users/amira/Documents/OPC/Projet9/data/fruits-360_dataset/fruits-360/Test/Watermelon/r_106_100.jpg|Watermelon|\n",
      "|file:/Users/amira/Documents/OPC/Projet9/data/fruits-360_dataset/fruits-360/Test/Watermelon/r_109_100.jpg|Watermelon|\n",
      "|file:/Users/amira/Documents/OPC/Projet9/data/fruits-360_dataset/fruits-360/Test/Watermelon/r_108_100.jpg|Watermelon|\n",
      "|file:/Users/amira/Documents/OPC/Projet9/data/fruits-360_dataset/fruits-360/Test/Watermelon/r_107_100.jpg|Watermelon|\n",
      "|file:/Users/amira/Documents/OPC/Projet9/data/fruits-360_dataset/fruits-360/Test/Watermelon/r_95_100.jpg |Watermelon|\n",
      "+--------------------------------------------------------------------------------------------------------+----------+\n",
      "only showing top 5 rows\n",
      "\n",
      "None\n"
     ]
    }
   ],
   "source": [
    "images = images.withColumn('label', element_at(split(images['path'], '/'),-2))\n",
    "print(images.printSchema())\n",
    "print(images.select('path','label').show(5,False))"
   ]
  },
  {
   "cell_type": "markdown",
   "id": "2f51b9fb",
   "metadata": {},
   "source": [
    "### 3.4.2. Préparation du modèle"
   ]
  },
  {
   "cell_type": "markdown",
   "id": "83d47705",
   "metadata": {},
   "source": [
    "Dans ce projet, j’utiliserai la technique de transfert learning pour extraire les caractéristiques des images. J’ai opté pour le modèle MobileNetV2, reconnu pour sa rapidité d’exécution, notamment par rapport à des modèles comme VGG16.\n",
    "\n",
    "Voici un schéma représentant son fonctionnement (M. Akay et al., \"Deep Learning Classification of Systemic Sclerosis Skin Using the MobileNetV2 Model,\" in IEEE Open Journal of Engineering in Medicine and Biology, vol. 2, pp. 104-110, 2021, doi: 10.1109/OJEMB.2021.3066097.):\n",
    "\n",
    "![Description MobileNetV2](https://i.imgur.com/w2EGdt0.png)\n",
    "\n",
    "\n",
    "Le modèle intègre une dernière couche dédiée à la classification en 1000 catégories, que nous n'utiliserons pas dans notre cas.\n",
    "L’objectif est de récupérer le vecteur de caractéristiques de dimensions (1,1,1280). Ce vecteur servira à alimenter un moteur de classification qui permettra d’identifier les différents fruits de notre jeu de données. Comme pour d’autres modèles similaires, MobileNetV2 exige des images d’entrée au format (224,224,3). Étant donné que nos images ont une dimension de (100,100,3), nous devrons d'abord les redimensionner pour qu'elles soient compatibles.\n",
    "\n",
    "Les étapes principales :\n",
    "\n",
    "- Charger le modèle MobileNetV2 avec des poids précalculés basés sur ImageNet, tout en adaptant le format des images d’entrée\n",
    "- Construire un nouveau modèle comprenant :\n",
    "   - En entrée: les entrées originales de MobileNetV2\n",
    "   - En sortie: l'avant-dernière couche de MobileNetV2"
   ]
  },
  {
   "cell_type": "code",
   "execution_count": null,
   "id": "9cdd9bdf",
   "metadata": {},
   "outputs": [],
   "source": [
    "model = MobileNetV2(weights='imagenet',\n",
    "                    include_top=True,\n",
    "                    input_shape=(224, 224, 3))"
   ]
  },
  {
   "cell_type": "code",
   "execution_count": null,
   "id": "99d6b68d",
   "metadata": {},
   "outputs": [],
   "source": [
    "new_model = Model(inputs=model.input,\n",
    "                  outputs=model.layers[-2].output)"
   ]
  },
  {
   "cell_type": "markdown",
   "id": "7b197379",
   "metadata": {},
   "source": [
    "Voici le résumé de notre nouveau modèle, où l'on peut observer que le vecteur de sortie est bien de dimension (1, 1, 1280):"
   ]
  },
  {
   "cell_type": "code",
   "execution_count": null,
   "id": "e8207725",
   "metadata": {},
   "outputs": [
    {
     "data": {
      "text/html": [
       "<pre style=\"white-space:pre;overflow-x:auto;line-height:normal;font-family:Menlo,'DejaVu Sans Mono',consolas,'Courier New',monospace\"><span style=\"font-weight: bold\">Model: \"functional\"</span>\n",
       "</pre>\n"
      ],
      "text/plain": [
       "\u001b[1mModel: \"functional\"\u001b[0m\n"
      ]
     },
     "metadata": {},
     "output_type": "display_data"
    },
    {
     "data": {
      "text/html": [
       "<pre style=\"white-space:pre;overflow-x:auto;line-height:normal;font-family:Menlo,'DejaVu Sans Mono',consolas,'Courier New',monospace\">┏━━━━━━━━━━━━━━━━━━━━━┳━━━━━━━━━━━━━━━━━━━┳━━━━━━━━━━━━┳━━━━━━━━━━━━━━━━━━━┓\n",
       "┃<span style=\"font-weight: bold\"> Layer (type)        </span>┃<span style=\"font-weight: bold\"> Output Shape      </span>┃<span style=\"font-weight: bold\">    Param # </span>┃<span style=\"font-weight: bold\"> Connected to      </span>┃\n",
       "┡━━━━━━━━━━━━━━━━━━━━━╇━━━━━━━━━━━━━━━━━━━╇━━━━━━━━━━━━╇━━━━━━━━━━━━━━━━━━━┩\n",
       "│ input_layer         │ (<span style=\"color: #00d7ff; text-decoration-color: #00d7ff\">None</span>, <span style=\"color: #00af00; text-decoration-color: #00af00\">224</span>, <span style=\"color: #00af00; text-decoration-color: #00af00\">224</span>,  │          <span style=\"color: #00af00; text-decoration-color: #00af00\">0</span> │ -                 │\n",
       "│ (<span style=\"color: #0087ff; text-decoration-color: #0087ff\">InputLayer</span>)        │ <span style=\"color: #00af00; text-decoration-color: #00af00\">3</span>)                │            │                   │\n",
       "├─────────────────────┼───────────────────┼────────────┼───────────────────┤\n",
       "│ Conv1 (<span style=\"color: #0087ff; text-decoration-color: #0087ff\">Conv2D</span>)      │ (<span style=\"color: #00d7ff; text-decoration-color: #00d7ff\">None</span>, <span style=\"color: #00af00; text-decoration-color: #00af00\">112</span>, <span style=\"color: #00af00; text-decoration-color: #00af00\">112</span>,  │        <span style=\"color: #00af00; text-decoration-color: #00af00\">864</span> │ input_layer[<span style=\"color: #00af00; text-decoration-color: #00af00\">0</span>][<span style=\"color: #00af00; text-decoration-color: #00af00\">0</span>] │\n",
       "│                     │ <span style=\"color: #00af00; text-decoration-color: #00af00\">32</span>)               │            │                   │\n",
       "├─────────────────────┼───────────────────┼────────────┼───────────────────┤\n",
       "│ bn_Conv1            │ (<span style=\"color: #00d7ff; text-decoration-color: #00d7ff\">None</span>, <span style=\"color: #00af00; text-decoration-color: #00af00\">112</span>, <span style=\"color: #00af00; text-decoration-color: #00af00\">112</span>,  │        <span style=\"color: #00af00; text-decoration-color: #00af00\">128</span> │ Conv1[<span style=\"color: #00af00; text-decoration-color: #00af00\">0</span>][<span style=\"color: #00af00; text-decoration-color: #00af00\">0</span>]       │\n",
       "│ (<span style=\"color: #0087ff; text-decoration-color: #0087ff\">BatchNormalizatio…</span> │ <span style=\"color: #00af00; text-decoration-color: #00af00\">32</span>)               │            │                   │\n",
       "├─────────────────────┼───────────────────┼────────────┼───────────────────┤\n",
       "│ Conv1_relu (<span style=\"color: #0087ff; text-decoration-color: #0087ff\">ReLU</span>)   │ (<span style=\"color: #00d7ff; text-decoration-color: #00d7ff\">None</span>, <span style=\"color: #00af00; text-decoration-color: #00af00\">112</span>, <span style=\"color: #00af00; text-decoration-color: #00af00\">112</span>,  │          <span style=\"color: #00af00; text-decoration-color: #00af00\">0</span> │ bn_Conv1[<span style=\"color: #00af00; text-decoration-color: #00af00\">0</span>][<span style=\"color: #00af00; text-decoration-color: #00af00\">0</span>]    │\n",
       "│                     │ <span style=\"color: #00af00; text-decoration-color: #00af00\">32</span>)               │            │                   │\n",
       "├─────────────────────┼───────────────────┼────────────┼───────────────────┤\n",
       "│ expanded_conv_dept… │ (<span style=\"color: #00d7ff; text-decoration-color: #00d7ff\">None</span>, <span style=\"color: #00af00; text-decoration-color: #00af00\">112</span>, <span style=\"color: #00af00; text-decoration-color: #00af00\">112</span>,  │        <span style=\"color: #00af00; text-decoration-color: #00af00\">288</span> │ Conv1_relu[<span style=\"color: #00af00; text-decoration-color: #00af00\">0</span>][<span style=\"color: #00af00; text-decoration-color: #00af00\">0</span>]  │\n",
       "│ (<span style=\"color: #0087ff; text-decoration-color: #0087ff\">DepthwiseConv2D</span>)   │ <span style=\"color: #00af00; text-decoration-color: #00af00\">32</span>)               │            │                   │\n",
       "├─────────────────────┼───────────────────┼────────────┼───────────────────┤\n",
       "│ expanded_conv_dept… │ (<span style=\"color: #00d7ff; text-decoration-color: #00d7ff\">None</span>, <span style=\"color: #00af00; text-decoration-color: #00af00\">112</span>, <span style=\"color: #00af00; text-decoration-color: #00af00\">112</span>,  │        <span style=\"color: #00af00; text-decoration-color: #00af00\">128</span> │ expanded_conv_de… │\n",
       "│ (<span style=\"color: #0087ff; text-decoration-color: #0087ff\">BatchNormalizatio…</span> │ <span style=\"color: #00af00; text-decoration-color: #00af00\">32</span>)               │            │                   │\n",
       "├─────────────────────┼───────────────────┼────────────┼───────────────────┤\n",
       "│ expanded_conv_dept… │ (<span style=\"color: #00d7ff; text-decoration-color: #00d7ff\">None</span>, <span style=\"color: #00af00; text-decoration-color: #00af00\">112</span>, <span style=\"color: #00af00; text-decoration-color: #00af00\">112</span>,  │          <span style=\"color: #00af00; text-decoration-color: #00af00\">0</span> │ expanded_conv_de… │\n",
       "│ (<span style=\"color: #0087ff; text-decoration-color: #0087ff\">ReLU</span>)              │ <span style=\"color: #00af00; text-decoration-color: #00af00\">32</span>)               │            │                   │\n",
       "├─────────────────────┼───────────────────┼────────────┼───────────────────┤\n",
       "│ expanded_conv_proj… │ (<span style=\"color: #00d7ff; text-decoration-color: #00d7ff\">None</span>, <span style=\"color: #00af00; text-decoration-color: #00af00\">112</span>, <span style=\"color: #00af00; text-decoration-color: #00af00\">112</span>,  │        <span style=\"color: #00af00; text-decoration-color: #00af00\">512</span> │ expanded_conv_de… │\n",
       "│ (<span style=\"color: #0087ff; text-decoration-color: #0087ff\">Conv2D</span>)            │ <span style=\"color: #00af00; text-decoration-color: #00af00\">16</span>)               │            │                   │\n",
       "├─────────────────────┼───────────────────┼────────────┼───────────────────┤\n",
       "│ expanded_conv_proj… │ (<span style=\"color: #00d7ff; text-decoration-color: #00d7ff\">None</span>, <span style=\"color: #00af00; text-decoration-color: #00af00\">112</span>, <span style=\"color: #00af00; text-decoration-color: #00af00\">112</span>,  │         <span style=\"color: #00af00; text-decoration-color: #00af00\">64</span> │ expanded_conv_pr… │\n",
       "│ (<span style=\"color: #0087ff; text-decoration-color: #0087ff\">BatchNormalizatio…</span> │ <span style=\"color: #00af00; text-decoration-color: #00af00\">16</span>)               │            │                   │\n",
       "├─────────────────────┼───────────────────┼────────────┼───────────────────┤\n",
       "│ block_1_expand      │ (<span style=\"color: #00d7ff; text-decoration-color: #00d7ff\">None</span>, <span style=\"color: #00af00; text-decoration-color: #00af00\">112</span>, <span style=\"color: #00af00; text-decoration-color: #00af00\">112</span>,  │      <span style=\"color: #00af00; text-decoration-color: #00af00\">1,536</span> │ expanded_conv_pr… │\n",
       "│ (<span style=\"color: #0087ff; text-decoration-color: #0087ff\">Conv2D</span>)            │ <span style=\"color: #00af00; text-decoration-color: #00af00\">96</span>)               │            │                   │\n",
       "├─────────────────────┼───────────────────┼────────────┼───────────────────┤\n",
       "│ block_1_expand_BN   │ (<span style=\"color: #00d7ff; text-decoration-color: #00d7ff\">None</span>, <span style=\"color: #00af00; text-decoration-color: #00af00\">112</span>, <span style=\"color: #00af00; text-decoration-color: #00af00\">112</span>,  │        <span style=\"color: #00af00; text-decoration-color: #00af00\">384</span> │ block_1_expand[<span style=\"color: #00af00; text-decoration-color: #00af00\">0</span>… │\n",
       "│ (<span style=\"color: #0087ff; text-decoration-color: #0087ff\">BatchNormalizatio…</span> │ <span style=\"color: #00af00; text-decoration-color: #00af00\">96</span>)               │            │                   │\n",
       "├─────────────────────┼───────────────────┼────────────┼───────────────────┤\n",
       "│ block_1_expand_relu │ (<span style=\"color: #00d7ff; text-decoration-color: #00d7ff\">None</span>, <span style=\"color: #00af00; text-decoration-color: #00af00\">112</span>, <span style=\"color: #00af00; text-decoration-color: #00af00\">112</span>,  │          <span style=\"color: #00af00; text-decoration-color: #00af00\">0</span> │ block_1_expand_B… │\n",
       "│ (<span style=\"color: #0087ff; text-decoration-color: #0087ff\">ReLU</span>)              │ <span style=\"color: #00af00; text-decoration-color: #00af00\">96</span>)               │            │                   │\n",
       "├─────────────────────┼───────────────────┼────────────┼───────────────────┤\n",
       "│ block_1_pad         │ (<span style=\"color: #00d7ff; text-decoration-color: #00d7ff\">None</span>, <span style=\"color: #00af00; text-decoration-color: #00af00\">113</span>, <span style=\"color: #00af00; text-decoration-color: #00af00\">113</span>,  │          <span style=\"color: #00af00; text-decoration-color: #00af00\">0</span> │ block_1_expand_r… │\n",
       "│ (<span style=\"color: #0087ff; text-decoration-color: #0087ff\">ZeroPadding2D</span>)     │ <span style=\"color: #00af00; text-decoration-color: #00af00\">96</span>)               │            │                   │\n",
       "├─────────────────────┼───────────────────┼────────────┼───────────────────┤\n",
       "│ block_1_depthwise   │ (<span style=\"color: #00d7ff; text-decoration-color: #00d7ff\">None</span>, <span style=\"color: #00af00; text-decoration-color: #00af00\">56</span>, <span style=\"color: #00af00; text-decoration-color: #00af00\">56</span>,    │        <span style=\"color: #00af00; text-decoration-color: #00af00\">864</span> │ block_1_pad[<span style=\"color: #00af00; text-decoration-color: #00af00\">0</span>][<span style=\"color: #00af00; text-decoration-color: #00af00\">0</span>] │\n",
       "│ (<span style=\"color: #0087ff; text-decoration-color: #0087ff\">DepthwiseConv2D</span>)   │ <span style=\"color: #00af00; text-decoration-color: #00af00\">96</span>)               │            │                   │\n",
       "├─────────────────────┼───────────────────┼────────────┼───────────────────┤\n",
       "│ block_1_depthwise_… │ (<span style=\"color: #00d7ff; text-decoration-color: #00d7ff\">None</span>, <span style=\"color: #00af00; text-decoration-color: #00af00\">56</span>, <span style=\"color: #00af00; text-decoration-color: #00af00\">56</span>,    │        <span style=\"color: #00af00; text-decoration-color: #00af00\">384</span> │ block_1_depthwis… │\n",
       "│ (<span style=\"color: #0087ff; text-decoration-color: #0087ff\">BatchNormalizatio…</span> │ <span style=\"color: #00af00; text-decoration-color: #00af00\">96</span>)               │            │                   │\n",
       "├─────────────────────┼───────────────────┼────────────┼───────────────────┤\n",
       "│ block_1_depthwise_… │ (<span style=\"color: #00d7ff; text-decoration-color: #00d7ff\">None</span>, <span style=\"color: #00af00; text-decoration-color: #00af00\">56</span>, <span style=\"color: #00af00; text-decoration-color: #00af00\">56</span>,    │          <span style=\"color: #00af00; text-decoration-color: #00af00\">0</span> │ block_1_depthwis… │\n",
       "│ (<span style=\"color: #0087ff; text-decoration-color: #0087ff\">ReLU</span>)              │ <span style=\"color: #00af00; text-decoration-color: #00af00\">96</span>)               │            │                   │\n",
       "├─────────────────────┼───────────────────┼────────────┼───────────────────┤\n",
       "│ block_1_project     │ (<span style=\"color: #00d7ff; text-decoration-color: #00d7ff\">None</span>, <span style=\"color: #00af00; text-decoration-color: #00af00\">56</span>, <span style=\"color: #00af00; text-decoration-color: #00af00\">56</span>,    │      <span style=\"color: #00af00; text-decoration-color: #00af00\">2,304</span> │ block_1_depthwis… │\n",
       "│ (<span style=\"color: #0087ff; text-decoration-color: #0087ff\">Conv2D</span>)            │ <span style=\"color: #00af00; text-decoration-color: #00af00\">24</span>)               │            │                   │\n",
       "├─────────────────────┼───────────────────┼────────────┼───────────────────┤\n",
       "│ block_1_project_BN  │ (<span style=\"color: #00d7ff; text-decoration-color: #00d7ff\">None</span>, <span style=\"color: #00af00; text-decoration-color: #00af00\">56</span>, <span style=\"color: #00af00; text-decoration-color: #00af00\">56</span>,    │         <span style=\"color: #00af00; text-decoration-color: #00af00\">96</span> │ block_1_project[<span style=\"color: #00af00; text-decoration-color: #00af00\">…</span> │\n",
       "│ (<span style=\"color: #0087ff; text-decoration-color: #0087ff\">BatchNormalizatio…</span> │ <span style=\"color: #00af00; text-decoration-color: #00af00\">24</span>)               │            │                   │\n",
       "├─────────────────────┼───────────────────┼────────────┼───────────────────┤\n",
       "│ block_2_expand      │ (<span style=\"color: #00d7ff; text-decoration-color: #00d7ff\">None</span>, <span style=\"color: #00af00; text-decoration-color: #00af00\">56</span>, <span style=\"color: #00af00; text-decoration-color: #00af00\">56</span>,    │      <span style=\"color: #00af00; text-decoration-color: #00af00\">3,456</span> │ block_1_project_… │\n",
       "│ (<span style=\"color: #0087ff; text-decoration-color: #0087ff\">Conv2D</span>)            │ <span style=\"color: #00af00; text-decoration-color: #00af00\">144</span>)              │            │                   │\n",
       "├─────────────────────┼───────────────────┼────────────┼───────────────────┤\n",
       "│ block_2_expand_BN   │ (<span style=\"color: #00d7ff; text-decoration-color: #00d7ff\">None</span>, <span style=\"color: #00af00; text-decoration-color: #00af00\">56</span>, <span style=\"color: #00af00; text-decoration-color: #00af00\">56</span>,    │        <span style=\"color: #00af00; text-decoration-color: #00af00\">576</span> │ block_2_expand[<span style=\"color: #00af00; text-decoration-color: #00af00\">0</span>… │\n",
       "│ (<span style=\"color: #0087ff; text-decoration-color: #0087ff\">BatchNormalizatio…</span> │ <span style=\"color: #00af00; text-decoration-color: #00af00\">144</span>)              │            │                   │\n",
       "├─────────────────────┼───────────────────┼────────────┼───────────────────┤\n",
       "│ block_2_expand_relu │ (<span style=\"color: #00d7ff; text-decoration-color: #00d7ff\">None</span>, <span style=\"color: #00af00; text-decoration-color: #00af00\">56</span>, <span style=\"color: #00af00; text-decoration-color: #00af00\">56</span>,    │          <span style=\"color: #00af00; text-decoration-color: #00af00\">0</span> │ block_2_expand_B… │\n",
       "│ (<span style=\"color: #0087ff; text-decoration-color: #0087ff\">ReLU</span>)              │ <span style=\"color: #00af00; text-decoration-color: #00af00\">144</span>)              │            │                   │\n",
       "├─────────────────────┼───────────────────┼────────────┼───────────────────┤\n",
       "│ block_2_depthwise   │ (<span style=\"color: #00d7ff; text-decoration-color: #00d7ff\">None</span>, <span style=\"color: #00af00; text-decoration-color: #00af00\">56</span>, <span style=\"color: #00af00; text-decoration-color: #00af00\">56</span>,    │      <span style=\"color: #00af00; text-decoration-color: #00af00\">1,296</span> │ block_2_expand_r… │\n",
       "│ (<span style=\"color: #0087ff; text-decoration-color: #0087ff\">DepthwiseConv2D</span>)   │ <span style=\"color: #00af00; text-decoration-color: #00af00\">144</span>)              │            │                   │\n",
       "├─────────────────────┼───────────────────┼────────────┼───────────────────┤\n",
       "│ block_2_depthwise_… │ (<span style=\"color: #00d7ff; text-decoration-color: #00d7ff\">None</span>, <span style=\"color: #00af00; text-decoration-color: #00af00\">56</span>, <span style=\"color: #00af00; text-decoration-color: #00af00\">56</span>,    │        <span style=\"color: #00af00; text-decoration-color: #00af00\">576</span> │ block_2_depthwis… │\n",
       "│ (<span style=\"color: #0087ff; text-decoration-color: #0087ff\">BatchNormalizatio…</span> │ <span style=\"color: #00af00; text-decoration-color: #00af00\">144</span>)              │            │                   │\n",
       "├─────────────────────┼───────────────────┼────────────┼───────────────────┤\n",
       "│ block_2_depthwise_… │ (<span style=\"color: #00d7ff; text-decoration-color: #00d7ff\">None</span>, <span style=\"color: #00af00; text-decoration-color: #00af00\">56</span>, <span style=\"color: #00af00; text-decoration-color: #00af00\">56</span>,    │          <span style=\"color: #00af00; text-decoration-color: #00af00\">0</span> │ block_2_depthwis… │\n",
       "│ (<span style=\"color: #0087ff; text-decoration-color: #0087ff\">ReLU</span>)              │ <span style=\"color: #00af00; text-decoration-color: #00af00\">144</span>)              │            │                   │\n",
       "├─────────────────────┼───────────────────┼────────────┼───────────────────┤\n",
       "│ block_2_project     │ (<span style=\"color: #00d7ff; text-decoration-color: #00d7ff\">None</span>, <span style=\"color: #00af00; text-decoration-color: #00af00\">56</span>, <span style=\"color: #00af00; text-decoration-color: #00af00\">56</span>,    │      <span style=\"color: #00af00; text-decoration-color: #00af00\">3,456</span> │ block_2_depthwis… │\n",
       "│ (<span style=\"color: #0087ff; text-decoration-color: #0087ff\">Conv2D</span>)            │ <span style=\"color: #00af00; text-decoration-color: #00af00\">24</span>)               │            │                   │\n",
       "├─────────────────────┼───────────────────┼────────────┼───────────────────┤\n",
       "│ block_2_project_BN  │ (<span style=\"color: #00d7ff; text-decoration-color: #00d7ff\">None</span>, <span style=\"color: #00af00; text-decoration-color: #00af00\">56</span>, <span style=\"color: #00af00; text-decoration-color: #00af00\">56</span>,    │         <span style=\"color: #00af00; text-decoration-color: #00af00\">96</span> │ block_2_project[<span style=\"color: #00af00; text-decoration-color: #00af00\">…</span> │\n",
       "│ (<span style=\"color: #0087ff; text-decoration-color: #0087ff\">BatchNormalizatio…</span> │ <span style=\"color: #00af00; text-decoration-color: #00af00\">24</span>)               │            │                   │\n",
       "├─────────────────────┼───────────────────┼────────────┼───────────────────┤\n",
       "│ block_2_add (<span style=\"color: #0087ff; text-decoration-color: #0087ff\">Add</span>)   │ (<span style=\"color: #00d7ff; text-decoration-color: #00d7ff\">None</span>, <span style=\"color: #00af00; text-decoration-color: #00af00\">56</span>, <span style=\"color: #00af00; text-decoration-color: #00af00\">56</span>,    │          <span style=\"color: #00af00; text-decoration-color: #00af00\">0</span> │ block_1_project_… │\n",
       "│                     │ <span style=\"color: #00af00; text-decoration-color: #00af00\">24</span>)               │            │ block_2_project_… │\n",
       "├─────────────────────┼───────────────────┼────────────┼───────────────────┤\n",
       "│ block_3_expand      │ (<span style=\"color: #00d7ff; text-decoration-color: #00d7ff\">None</span>, <span style=\"color: #00af00; text-decoration-color: #00af00\">56</span>, <span style=\"color: #00af00; text-decoration-color: #00af00\">56</span>,    │      <span style=\"color: #00af00; text-decoration-color: #00af00\">3,456</span> │ block_2_add[<span style=\"color: #00af00; text-decoration-color: #00af00\">0</span>][<span style=\"color: #00af00; text-decoration-color: #00af00\">0</span>] │\n",
       "│ (<span style=\"color: #0087ff; text-decoration-color: #0087ff\">Conv2D</span>)            │ <span style=\"color: #00af00; text-decoration-color: #00af00\">144</span>)              │            │                   │\n",
       "├─────────────────────┼───────────────────┼────────────┼───────────────────┤\n",
       "│ block_3_expand_BN   │ (<span style=\"color: #00d7ff; text-decoration-color: #00d7ff\">None</span>, <span style=\"color: #00af00; text-decoration-color: #00af00\">56</span>, <span style=\"color: #00af00; text-decoration-color: #00af00\">56</span>,    │        <span style=\"color: #00af00; text-decoration-color: #00af00\">576</span> │ block_3_expand[<span style=\"color: #00af00; text-decoration-color: #00af00\">0</span>… │\n",
       "│ (<span style=\"color: #0087ff; text-decoration-color: #0087ff\">BatchNormalizatio…</span> │ <span style=\"color: #00af00; text-decoration-color: #00af00\">144</span>)              │            │                   │\n",
       "├─────────────────────┼───────────────────┼────────────┼───────────────────┤\n",
       "│ block_3_expand_relu │ (<span style=\"color: #00d7ff; text-decoration-color: #00d7ff\">None</span>, <span style=\"color: #00af00; text-decoration-color: #00af00\">56</span>, <span style=\"color: #00af00; text-decoration-color: #00af00\">56</span>,    │          <span style=\"color: #00af00; text-decoration-color: #00af00\">0</span> │ block_3_expand_B… │\n",
       "│ (<span style=\"color: #0087ff; text-decoration-color: #0087ff\">ReLU</span>)              │ <span style=\"color: #00af00; text-decoration-color: #00af00\">144</span>)              │            │                   │\n",
       "├─────────────────────┼───────────────────┼────────────┼───────────────────┤\n",
       "│ block_3_pad         │ (<span style=\"color: #00d7ff; text-decoration-color: #00d7ff\">None</span>, <span style=\"color: #00af00; text-decoration-color: #00af00\">57</span>, <span style=\"color: #00af00; text-decoration-color: #00af00\">57</span>,    │          <span style=\"color: #00af00; text-decoration-color: #00af00\">0</span> │ block_3_expand_r… │\n",
       "│ (<span style=\"color: #0087ff; text-decoration-color: #0087ff\">ZeroPadding2D</span>)     │ <span style=\"color: #00af00; text-decoration-color: #00af00\">144</span>)              │            │                   │\n",
       "├─────────────────────┼───────────────────┼────────────┼───────────────────┤\n",
       "│ block_3_depthwise   │ (<span style=\"color: #00d7ff; text-decoration-color: #00d7ff\">None</span>, <span style=\"color: #00af00; text-decoration-color: #00af00\">28</span>, <span style=\"color: #00af00; text-decoration-color: #00af00\">28</span>,    │      <span style=\"color: #00af00; text-decoration-color: #00af00\">1,296</span> │ block_3_pad[<span style=\"color: #00af00; text-decoration-color: #00af00\">0</span>][<span style=\"color: #00af00; text-decoration-color: #00af00\">0</span>] │\n",
       "│ (<span style=\"color: #0087ff; text-decoration-color: #0087ff\">DepthwiseConv2D</span>)   │ <span style=\"color: #00af00; text-decoration-color: #00af00\">144</span>)              │            │                   │\n",
       "├─────────────────────┼───────────────────┼────────────┼───────────────────┤\n",
       "│ block_3_depthwise_… │ (<span style=\"color: #00d7ff; text-decoration-color: #00d7ff\">None</span>, <span style=\"color: #00af00; text-decoration-color: #00af00\">28</span>, <span style=\"color: #00af00; text-decoration-color: #00af00\">28</span>,    │        <span style=\"color: #00af00; text-decoration-color: #00af00\">576</span> │ block_3_depthwis… │\n",
       "│ (<span style=\"color: #0087ff; text-decoration-color: #0087ff\">BatchNormalizatio…</span> │ <span style=\"color: #00af00; text-decoration-color: #00af00\">144</span>)              │            │                   │\n",
       "├─────────────────────┼───────────────────┼────────────┼───────────────────┤\n",
       "│ block_3_depthwise_… │ (<span style=\"color: #00d7ff; text-decoration-color: #00d7ff\">None</span>, <span style=\"color: #00af00; text-decoration-color: #00af00\">28</span>, <span style=\"color: #00af00; text-decoration-color: #00af00\">28</span>,    │          <span style=\"color: #00af00; text-decoration-color: #00af00\">0</span> │ block_3_depthwis… │\n",
       "│ (<span style=\"color: #0087ff; text-decoration-color: #0087ff\">ReLU</span>)              │ <span style=\"color: #00af00; text-decoration-color: #00af00\">144</span>)              │            │                   │\n",
       "├─────────────────────┼───────────────────┼────────────┼───────────────────┤\n",
       "│ block_3_project     │ (<span style=\"color: #00d7ff; text-decoration-color: #00d7ff\">None</span>, <span style=\"color: #00af00; text-decoration-color: #00af00\">28</span>, <span style=\"color: #00af00; text-decoration-color: #00af00\">28</span>,    │      <span style=\"color: #00af00; text-decoration-color: #00af00\">4,608</span> │ block_3_depthwis… │\n",
       "│ (<span style=\"color: #0087ff; text-decoration-color: #0087ff\">Conv2D</span>)            │ <span style=\"color: #00af00; text-decoration-color: #00af00\">32</span>)               │            │                   │\n",
       "├─────────────────────┼───────────────────┼────────────┼───────────────────┤\n",
       "│ block_3_project_BN  │ (<span style=\"color: #00d7ff; text-decoration-color: #00d7ff\">None</span>, <span style=\"color: #00af00; text-decoration-color: #00af00\">28</span>, <span style=\"color: #00af00; text-decoration-color: #00af00\">28</span>,    │        <span style=\"color: #00af00; text-decoration-color: #00af00\">128</span> │ block_3_project[<span style=\"color: #00af00; text-decoration-color: #00af00\">…</span> │\n",
       "│ (<span style=\"color: #0087ff; text-decoration-color: #0087ff\">BatchNormalizatio…</span> │ <span style=\"color: #00af00; text-decoration-color: #00af00\">32</span>)               │            │                   │\n",
       "├─────────────────────┼───────────────────┼────────────┼───────────────────┤\n",
       "│ block_4_expand      │ (<span style=\"color: #00d7ff; text-decoration-color: #00d7ff\">None</span>, <span style=\"color: #00af00; text-decoration-color: #00af00\">28</span>, <span style=\"color: #00af00; text-decoration-color: #00af00\">28</span>,    │      <span style=\"color: #00af00; text-decoration-color: #00af00\">6,144</span> │ block_3_project_… │\n",
       "│ (<span style=\"color: #0087ff; text-decoration-color: #0087ff\">Conv2D</span>)            │ <span style=\"color: #00af00; text-decoration-color: #00af00\">192</span>)              │            │                   │\n",
       "├─────────────────────┼───────────────────┼────────────┼───────────────────┤\n",
       "│ block_4_expand_BN   │ (<span style=\"color: #00d7ff; text-decoration-color: #00d7ff\">None</span>, <span style=\"color: #00af00; text-decoration-color: #00af00\">28</span>, <span style=\"color: #00af00; text-decoration-color: #00af00\">28</span>,    │        <span style=\"color: #00af00; text-decoration-color: #00af00\">768</span> │ block_4_expand[<span style=\"color: #00af00; text-decoration-color: #00af00\">0</span>… │\n",
       "│ (<span style=\"color: #0087ff; text-decoration-color: #0087ff\">BatchNormalizatio…</span> │ <span style=\"color: #00af00; text-decoration-color: #00af00\">192</span>)              │            │                   │\n",
       "├─────────────────────┼───────────────────┼────────────┼───────────────────┤\n",
       "│ block_4_expand_relu │ (<span style=\"color: #00d7ff; text-decoration-color: #00d7ff\">None</span>, <span style=\"color: #00af00; text-decoration-color: #00af00\">28</span>, <span style=\"color: #00af00; text-decoration-color: #00af00\">28</span>,    │          <span style=\"color: #00af00; text-decoration-color: #00af00\">0</span> │ block_4_expand_B… │\n",
       "│ (<span style=\"color: #0087ff; text-decoration-color: #0087ff\">ReLU</span>)              │ <span style=\"color: #00af00; text-decoration-color: #00af00\">192</span>)              │            │                   │\n",
       "├─────────────────────┼───────────────────┼────────────┼───────────────────┤\n",
       "│ block_4_depthwise   │ (<span style=\"color: #00d7ff; text-decoration-color: #00d7ff\">None</span>, <span style=\"color: #00af00; text-decoration-color: #00af00\">28</span>, <span style=\"color: #00af00; text-decoration-color: #00af00\">28</span>,    │      <span style=\"color: #00af00; text-decoration-color: #00af00\">1,728</span> │ block_4_expand_r… │\n",
       "│ (<span style=\"color: #0087ff; text-decoration-color: #0087ff\">DepthwiseConv2D</span>)   │ <span style=\"color: #00af00; text-decoration-color: #00af00\">192</span>)              │            │                   │\n",
       "├─────────────────────┼───────────────────┼────────────┼───────────────────┤\n",
       "│ block_4_depthwise_… │ (<span style=\"color: #00d7ff; text-decoration-color: #00d7ff\">None</span>, <span style=\"color: #00af00; text-decoration-color: #00af00\">28</span>, <span style=\"color: #00af00; text-decoration-color: #00af00\">28</span>,    │        <span style=\"color: #00af00; text-decoration-color: #00af00\">768</span> │ block_4_depthwis… │\n",
       "│ (<span style=\"color: #0087ff; text-decoration-color: #0087ff\">BatchNormalizatio…</span> │ <span style=\"color: #00af00; text-decoration-color: #00af00\">192</span>)              │            │                   │\n",
       "├─────────────────────┼───────────────────┼────────────┼───────────────────┤\n",
       "│ block_4_depthwise_… │ (<span style=\"color: #00d7ff; text-decoration-color: #00d7ff\">None</span>, <span style=\"color: #00af00; text-decoration-color: #00af00\">28</span>, <span style=\"color: #00af00; text-decoration-color: #00af00\">28</span>,    │          <span style=\"color: #00af00; text-decoration-color: #00af00\">0</span> │ block_4_depthwis… │\n",
       "│ (<span style=\"color: #0087ff; text-decoration-color: #0087ff\">ReLU</span>)              │ <span style=\"color: #00af00; text-decoration-color: #00af00\">192</span>)              │            │                   │\n",
       "├─────────────────────┼───────────────────┼────────────┼───────────────────┤\n",
       "│ block_4_project     │ (<span style=\"color: #00d7ff; text-decoration-color: #00d7ff\">None</span>, <span style=\"color: #00af00; text-decoration-color: #00af00\">28</span>, <span style=\"color: #00af00; text-decoration-color: #00af00\">28</span>,    │      <span style=\"color: #00af00; text-decoration-color: #00af00\">6,144</span> │ block_4_depthwis… │\n",
       "│ (<span style=\"color: #0087ff; text-decoration-color: #0087ff\">Conv2D</span>)            │ <span style=\"color: #00af00; text-decoration-color: #00af00\">32</span>)               │            │                   │\n",
       "├─────────────────────┼───────────────────┼────────────┼───────────────────┤\n",
       "│ block_4_project_BN  │ (<span style=\"color: #00d7ff; text-decoration-color: #00d7ff\">None</span>, <span style=\"color: #00af00; text-decoration-color: #00af00\">28</span>, <span style=\"color: #00af00; text-decoration-color: #00af00\">28</span>,    │        <span style=\"color: #00af00; text-decoration-color: #00af00\">128</span> │ block_4_project[<span style=\"color: #00af00; text-decoration-color: #00af00\">…</span> │\n",
       "│ (<span style=\"color: #0087ff; text-decoration-color: #0087ff\">BatchNormalizatio…</span> │ <span style=\"color: #00af00; text-decoration-color: #00af00\">32</span>)               │            │                   │\n",
       "├─────────────────────┼───────────────────┼────────────┼───────────────────┤\n",
       "│ block_4_add (<span style=\"color: #0087ff; text-decoration-color: #0087ff\">Add</span>)   │ (<span style=\"color: #00d7ff; text-decoration-color: #00d7ff\">None</span>, <span style=\"color: #00af00; text-decoration-color: #00af00\">28</span>, <span style=\"color: #00af00; text-decoration-color: #00af00\">28</span>,    │          <span style=\"color: #00af00; text-decoration-color: #00af00\">0</span> │ block_3_project_… │\n",
       "│                     │ <span style=\"color: #00af00; text-decoration-color: #00af00\">32</span>)               │            │ block_4_project_… │\n",
       "├─────────────────────┼───────────────────┼────────────┼───────────────────┤\n",
       "│ block_5_expand      │ (<span style=\"color: #00d7ff; text-decoration-color: #00d7ff\">None</span>, <span style=\"color: #00af00; text-decoration-color: #00af00\">28</span>, <span style=\"color: #00af00; text-decoration-color: #00af00\">28</span>,    │      <span style=\"color: #00af00; text-decoration-color: #00af00\">6,144</span> │ block_4_add[<span style=\"color: #00af00; text-decoration-color: #00af00\">0</span>][<span style=\"color: #00af00; text-decoration-color: #00af00\">0</span>] │\n",
       "│ (<span style=\"color: #0087ff; text-decoration-color: #0087ff\">Conv2D</span>)            │ <span style=\"color: #00af00; text-decoration-color: #00af00\">192</span>)              │            │                   │\n",
       "├─────────────────────┼───────────────────┼────────────┼───────────────────┤\n",
       "│ block_5_expand_BN   │ (<span style=\"color: #00d7ff; text-decoration-color: #00d7ff\">None</span>, <span style=\"color: #00af00; text-decoration-color: #00af00\">28</span>, <span style=\"color: #00af00; text-decoration-color: #00af00\">28</span>,    │        <span style=\"color: #00af00; text-decoration-color: #00af00\">768</span> │ block_5_expand[<span style=\"color: #00af00; text-decoration-color: #00af00\">0</span>… │\n",
       "│ (<span style=\"color: #0087ff; text-decoration-color: #0087ff\">BatchNormalizatio…</span> │ <span style=\"color: #00af00; text-decoration-color: #00af00\">192</span>)              │            │                   │\n",
       "├─────────────────────┼───────────────────┼────────────┼───────────────────┤\n",
       "│ block_5_expand_relu │ (<span style=\"color: #00d7ff; text-decoration-color: #00d7ff\">None</span>, <span style=\"color: #00af00; text-decoration-color: #00af00\">28</span>, <span style=\"color: #00af00; text-decoration-color: #00af00\">28</span>,    │          <span style=\"color: #00af00; text-decoration-color: #00af00\">0</span> │ block_5_expand_B… │\n",
       "│ (<span style=\"color: #0087ff; text-decoration-color: #0087ff\">ReLU</span>)              │ <span style=\"color: #00af00; text-decoration-color: #00af00\">192</span>)              │            │                   │\n",
       "├─────────────────────┼───────────────────┼────────────┼───────────────────┤\n",
       "│ block_5_depthwise   │ (<span style=\"color: #00d7ff; text-decoration-color: #00d7ff\">None</span>, <span style=\"color: #00af00; text-decoration-color: #00af00\">28</span>, <span style=\"color: #00af00; text-decoration-color: #00af00\">28</span>,    │      <span style=\"color: #00af00; text-decoration-color: #00af00\">1,728</span> │ block_5_expand_r… │\n",
       "│ (<span style=\"color: #0087ff; text-decoration-color: #0087ff\">DepthwiseConv2D</span>)   │ <span style=\"color: #00af00; text-decoration-color: #00af00\">192</span>)              │            │                   │\n",
       "├─────────────────────┼───────────────────┼────────────┼───────────────────┤\n",
       "│ block_5_depthwise_… │ (<span style=\"color: #00d7ff; text-decoration-color: #00d7ff\">None</span>, <span style=\"color: #00af00; text-decoration-color: #00af00\">28</span>, <span style=\"color: #00af00; text-decoration-color: #00af00\">28</span>,    │        <span style=\"color: #00af00; text-decoration-color: #00af00\">768</span> │ block_5_depthwis… │\n",
       "│ (<span style=\"color: #0087ff; text-decoration-color: #0087ff\">BatchNormalizatio…</span> │ <span style=\"color: #00af00; text-decoration-color: #00af00\">192</span>)              │            │                   │\n",
       "├─────────────────────┼───────────────────┼────────────┼───────────────────┤\n",
       "│ block_5_depthwise_… │ (<span style=\"color: #00d7ff; text-decoration-color: #00d7ff\">None</span>, <span style=\"color: #00af00; text-decoration-color: #00af00\">28</span>, <span style=\"color: #00af00; text-decoration-color: #00af00\">28</span>,    │          <span style=\"color: #00af00; text-decoration-color: #00af00\">0</span> │ block_5_depthwis… │\n",
       "│ (<span style=\"color: #0087ff; text-decoration-color: #0087ff\">ReLU</span>)              │ <span style=\"color: #00af00; text-decoration-color: #00af00\">192</span>)              │            │                   │\n",
       "├─────────────────────┼───────────────────┼────────────┼───────────────────┤\n",
       "│ block_5_project     │ (<span style=\"color: #00d7ff; text-decoration-color: #00d7ff\">None</span>, <span style=\"color: #00af00; text-decoration-color: #00af00\">28</span>, <span style=\"color: #00af00; text-decoration-color: #00af00\">28</span>,    │      <span style=\"color: #00af00; text-decoration-color: #00af00\">6,144</span> │ block_5_depthwis… │\n",
       "│ (<span style=\"color: #0087ff; text-decoration-color: #0087ff\">Conv2D</span>)            │ <span style=\"color: #00af00; text-decoration-color: #00af00\">32</span>)               │            │                   │\n",
       "├─────────────────────┼───────────────────┼────────────┼───────────────────┤\n",
       "│ block_5_project_BN  │ (<span style=\"color: #00d7ff; text-decoration-color: #00d7ff\">None</span>, <span style=\"color: #00af00; text-decoration-color: #00af00\">28</span>, <span style=\"color: #00af00; text-decoration-color: #00af00\">28</span>,    │        <span style=\"color: #00af00; text-decoration-color: #00af00\">128</span> │ block_5_project[<span style=\"color: #00af00; text-decoration-color: #00af00\">…</span> │\n",
       "│ (<span style=\"color: #0087ff; text-decoration-color: #0087ff\">BatchNormalizatio…</span> │ <span style=\"color: #00af00; text-decoration-color: #00af00\">32</span>)               │            │                   │\n",
       "├─────────────────────┼───────────────────┼────────────┼───────────────────┤\n",
       "│ block_5_add (<span style=\"color: #0087ff; text-decoration-color: #0087ff\">Add</span>)   │ (<span style=\"color: #00d7ff; text-decoration-color: #00d7ff\">None</span>, <span style=\"color: #00af00; text-decoration-color: #00af00\">28</span>, <span style=\"color: #00af00; text-decoration-color: #00af00\">28</span>,    │          <span style=\"color: #00af00; text-decoration-color: #00af00\">0</span> │ block_4_add[<span style=\"color: #00af00; text-decoration-color: #00af00\">0</span>][<span style=\"color: #00af00; text-decoration-color: #00af00\">0</span>… │\n",
       "│                     │ <span style=\"color: #00af00; text-decoration-color: #00af00\">32</span>)               │            │ block_5_project_… │\n",
       "├─────────────────────┼───────────────────┼────────────┼───────────────────┤\n",
       "│ block_6_expand      │ (<span style=\"color: #00d7ff; text-decoration-color: #00d7ff\">None</span>, <span style=\"color: #00af00; text-decoration-color: #00af00\">28</span>, <span style=\"color: #00af00; text-decoration-color: #00af00\">28</span>,    │      <span style=\"color: #00af00; text-decoration-color: #00af00\">6,144</span> │ block_5_add[<span style=\"color: #00af00; text-decoration-color: #00af00\">0</span>][<span style=\"color: #00af00; text-decoration-color: #00af00\">0</span>] │\n",
       "│ (<span style=\"color: #0087ff; text-decoration-color: #0087ff\">Conv2D</span>)            │ <span style=\"color: #00af00; text-decoration-color: #00af00\">192</span>)              │            │                   │\n",
       "├─────────────────────┼───────────────────┼────────────┼───────────────────┤\n",
       "│ block_6_expand_BN   │ (<span style=\"color: #00d7ff; text-decoration-color: #00d7ff\">None</span>, <span style=\"color: #00af00; text-decoration-color: #00af00\">28</span>, <span style=\"color: #00af00; text-decoration-color: #00af00\">28</span>,    │        <span style=\"color: #00af00; text-decoration-color: #00af00\">768</span> │ block_6_expand[<span style=\"color: #00af00; text-decoration-color: #00af00\">0</span>… │\n",
       "│ (<span style=\"color: #0087ff; text-decoration-color: #0087ff\">BatchNormalizatio…</span> │ <span style=\"color: #00af00; text-decoration-color: #00af00\">192</span>)              │            │                   │\n",
       "├─────────────────────┼───────────────────┼────────────┼───────────────────┤\n",
       "│ block_6_expand_relu │ (<span style=\"color: #00d7ff; text-decoration-color: #00d7ff\">None</span>, <span style=\"color: #00af00; text-decoration-color: #00af00\">28</span>, <span style=\"color: #00af00; text-decoration-color: #00af00\">28</span>,    │          <span style=\"color: #00af00; text-decoration-color: #00af00\">0</span> │ block_6_expand_B… │\n",
       "│ (<span style=\"color: #0087ff; text-decoration-color: #0087ff\">ReLU</span>)              │ <span style=\"color: #00af00; text-decoration-color: #00af00\">192</span>)              │            │                   │\n",
       "├─────────────────────┼───────────────────┼────────────┼───────────────────┤\n",
       "│ block_6_pad         │ (<span style=\"color: #00d7ff; text-decoration-color: #00d7ff\">None</span>, <span style=\"color: #00af00; text-decoration-color: #00af00\">29</span>, <span style=\"color: #00af00; text-decoration-color: #00af00\">29</span>,    │          <span style=\"color: #00af00; text-decoration-color: #00af00\">0</span> │ block_6_expand_r… │\n",
       "│ (<span style=\"color: #0087ff; text-decoration-color: #0087ff\">ZeroPadding2D</span>)     │ <span style=\"color: #00af00; text-decoration-color: #00af00\">192</span>)              │            │                   │\n",
       "├─────────────────────┼───────────────────┼────────────┼───────────────────┤\n",
       "│ block_6_depthwise   │ (<span style=\"color: #00d7ff; text-decoration-color: #00d7ff\">None</span>, <span style=\"color: #00af00; text-decoration-color: #00af00\">14</span>, <span style=\"color: #00af00; text-decoration-color: #00af00\">14</span>,    │      <span style=\"color: #00af00; text-decoration-color: #00af00\">1,728</span> │ block_6_pad[<span style=\"color: #00af00; text-decoration-color: #00af00\">0</span>][<span style=\"color: #00af00; text-decoration-color: #00af00\">0</span>] │\n",
       "│ (<span style=\"color: #0087ff; text-decoration-color: #0087ff\">DepthwiseConv2D</span>)   │ <span style=\"color: #00af00; text-decoration-color: #00af00\">192</span>)              │            │                   │\n",
       "├─────────────────────┼───────────────────┼────────────┼───────────────────┤\n",
       "│ block_6_depthwise_… │ (<span style=\"color: #00d7ff; text-decoration-color: #00d7ff\">None</span>, <span style=\"color: #00af00; text-decoration-color: #00af00\">14</span>, <span style=\"color: #00af00; text-decoration-color: #00af00\">14</span>,    │        <span style=\"color: #00af00; text-decoration-color: #00af00\">768</span> │ block_6_depthwis… │\n",
       "│ (<span style=\"color: #0087ff; text-decoration-color: #0087ff\">BatchNormalizatio…</span> │ <span style=\"color: #00af00; text-decoration-color: #00af00\">192</span>)              │            │                   │\n",
       "├─────────────────────┼───────────────────┼────────────┼───────────────────┤\n",
       "│ block_6_depthwise_… │ (<span style=\"color: #00d7ff; text-decoration-color: #00d7ff\">None</span>, <span style=\"color: #00af00; text-decoration-color: #00af00\">14</span>, <span style=\"color: #00af00; text-decoration-color: #00af00\">14</span>,    │          <span style=\"color: #00af00; text-decoration-color: #00af00\">0</span> │ block_6_depthwis… │\n",
       "│ (<span style=\"color: #0087ff; text-decoration-color: #0087ff\">ReLU</span>)              │ <span style=\"color: #00af00; text-decoration-color: #00af00\">192</span>)              │            │                   │\n",
       "├─────────────────────┼───────────────────┼────────────┼───────────────────┤\n",
       "│ block_6_project     │ (<span style=\"color: #00d7ff; text-decoration-color: #00d7ff\">None</span>, <span style=\"color: #00af00; text-decoration-color: #00af00\">14</span>, <span style=\"color: #00af00; text-decoration-color: #00af00\">14</span>,    │     <span style=\"color: #00af00; text-decoration-color: #00af00\">12,288</span> │ block_6_depthwis… │\n",
       "│ (<span style=\"color: #0087ff; text-decoration-color: #0087ff\">Conv2D</span>)            │ <span style=\"color: #00af00; text-decoration-color: #00af00\">64</span>)               │            │                   │\n",
       "├─────────────────────┼───────────────────┼────────────┼───────────────────┤\n",
       "│ block_6_project_BN  │ (<span style=\"color: #00d7ff; text-decoration-color: #00d7ff\">None</span>, <span style=\"color: #00af00; text-decoration-color: #00af00\">14</span>, <span style=\"color: #00af00; text-decoration-color: #00af00\">14</span>,    │        <span style=\"color: #00af00; text-decoration-color: #00af00\">256</span> │ block_6_project[<span style=\"color: #00af00; text-decoration-color: #00af00\">…</span> │\n",
       "│ (<span style=\"color: #0087ff; text-decoration-color: #0087ff\">BatchNormalizatio…</span> │ <span style=\"color: #00af00; text-decoration-color: #00af00\">64</span>)               │            │                   │\n",
       "├─────────────────────┼───────────────────┼────────────┼───────────────────┤\n",
       "│ block_7_expand      │ (<span style=\"color: #00d7ff; text-decoration-color: #00d7ff\">None</span>, <span style=\"color: #00af00; text-decoration-color: #00af00\">14</span>, <span style=\"color: #00af00; text-decoration-color: #00af00\">14</span>,    │     <span style=\"color: #00af00; text-decoration-color: #00af00\">24,576</span> │ block_6_project_… │\n",
       "│ (<span style=\"color: #0087ff; text-decoration-color: #0087ff\">Conv2D</span>)            │ <span style=\"color: #00af00; text-decoration-color: #00af00\">384</span>)              │            │                   │\n",
       "├─────────────────────┼───────────────────┼────────────┼───────────────────┤\n",
       "│ block_7_expand_BN   │ (<span style=\"color: #00d7ff; text-decoration-color: #00d7ff\">None</span>, <span style=\"color: #00af00; text-decoration-color: #00af00\">14</span>, <span style=\"color: #00af00; text-decoration-color: #00af00\">14</span>,    │      <span style=\"color: #00af00; text-decoration-color: #00af00\">1,536</span> │ block_7_expand[<span style=\"color: #00af00; text-decoration-color: #00af00\">0</span>… │\n",
       "│ (<span style=\"color: #0087ff; text-decoration-color: #0087ff\">BatchNormalizatio…</span> │ <span style=\"color: #00af00; text-decoration-color: #00af00\">384</span>)              │            │                   │\n",
       "├─────────────────────┼───────────────────┼────────────┼───────────────────┤\n",
       "│ block_7_expand_relu │ (<span style=\"color: #00d7ff; text-decoration-color: #00d7ff\">None</span>, <span style=\"color: #00af00; text-decoration-color: #00af00\">14</span>, <span style=\"color: #00af00; text-decoration-color: #00af00\">14</span>,    │          <span style=\"color: #00af00; text-decoration-color: #00af00\">0</span> │ block_7_expand_B… │\n",
       "│ (<span style=\"color: #0087ff; text-decoration-color: #0087ff\">ReLU</span>)              │ <span style=\"color: #00af00; text-decoration-color: #00af00\">384</span>)              │            │                   │\n",
       "├─────────────────────┼───────────────────┼────────────┼───────────────────┤\n",
       "│ block_7_depthwise   │ (<span style=\"color: #00d7ff; text-decoration-color: #00d7ff\">None</span>, <span style=\"color: #00af00; text-decoration-color: #00af00\">14</span>, <span style=\"color: #00af00; text-decoration-color: #00af00\">14</span>,    │      <span style=\"color: #00af00; text-decoration-color: #00af00\">3,456</span> │ block_7_expand_r… │\n",
       "│ (<span style=\"color: #0087ff; text-decoration-color: #0087ff\">DepthwiseConv2D</span>)   │ <span style=\"color: #00af00; text-decoration-color: #00af00\">384</span>)              │            │                   │\n",
       "├─────────────────────┼───────────────────┼────────────┼───────────────────┤\n",
       "│ block_7_depthwise_… │ (<span style=\"color: #00d7ff; text-decoration-color: #00d7ff\">None</span>, <span style=\"color: #00af00; text-decoration-color: #00af00\">14</span>, <span style=\"color: #00af00; text-decoration-color: #00af00\">14</span>,    │      <span style=\"color: #00af00; text-decoration-color: #00af00\">1,536</span> │ block_7_depthwis… │\n",
       "│ (<span style=\"color: #0087ff; text-decoration-color: #0087ff\">BatchNormalizatio…</span> │ <span style=\"color: #00af00; text-decoration-color: #00af00\">384</span>)              │            │                   │\n",
       "├─────────────────────┼───────────────────┼────────────┼───────────────────┤\n",
       "│ block_7_depthwise_… │ (<span style=\"color: #00d7ff; text-decoration-color: #00d7ff\">None</span>, <span style=\"color: #00af00; text-decoration-color: #00af00\">14</span>, <span style=\"color: #00af00; text-decoration-color: #00af00\">14</span>,    │          <span style=\"color: #00af00; text-decoration-color: #00af00\">0</span> │ block_7_depthwis… │\n",
       "│ (<span style=\"color: #0087ff; text-decoration-color: #0087ff\">ReLU</span>)              │ <span style=\"color: #00af00; text-decoration-color: #00af00\">384</span>)              │            │                   │\n",
       "├─────────────────────┼───────────────────┼────────────┼───────────────────┤\n",
       "│ block_7_project     │ (<span style=\"color: #00d7ff; text-decoration-color: #00d7ff\">None</span>, <span style=\"color: #00af00; text-decoration-color: #00af00\">14</span>, <span style=\"color: #00af00; text-decoration-color: #00af00\">14</span>,    │     <span style=\"color: #00af00; text-decoration-color: #00af00\">24,576</span> │ block_7_depthwis… │\n",
       "│ (<span style=\"color: #0087ff; text-decoration-color: #0087ff\">Conv2D</span>)            │ <span style=\"color: #00af00; text-decoration-color: #00af00\">64</span>)               │            │                   │\n",
       "├─────────────────────┼───────────────────┼────────────┼───────────────────┤\n",
       "│ block_7_project_BN  │ (<span style=\"color: #00d7ff; text-decoration-color: #00d7ff\">None</span>, <span style=\"color: #00af00; text-decoration-color: #00af00\">14</span>, <span style=\"color: #00af00; text-decoration-color: #00af00\">14</span>,    │        <span style=\"color: #00af00; text-decoration-color: #00af00\">256</span> │ block_7_project[<span style=\"color: #00af00; text-decoration-color: #00af00\">…</span> │\n",
       "│ (<span style=\"color: #0087ff; text-decoration-color: #0087ff\">BatchNormalizatio…</span> │ <span style=\"color: #00af00; text-decoration-color: #00af00\">64</span>)               │            │                   │\n",
       "├─────────────────────┼───────────────────┼────────────┼───────────────────┤\n",
       "│ block_7_add (<span style=\"color: #0087ff; text-decoration-color: #0087ff\">Add</span>)   │ (<span style=\"color: #00d7ff; text-decoration-color: #00d7ff\">None</span>, <span style=\"color: #00af00; text-decoration-color: #00af00\">14</span>, <span style=\"color: #00af00; text-decoration-color: #00af00\">14</span>,    │          <span style=\"color: #00af00; text-decoration-color: #00af00\">0</span> │ block_6_project_… │\n",
       "│                     │ <span style=\"color: #00af00; text-decoration-color: #00af00\">64</span>)               │            │ block_7_project_… │\n",
       "├─────────────────────┼───────────────────┼────────────┼───────────────────┤\n",
       "│ block_8_expand      │ (<span style=\"color: #00d7ff; text-decoration-color: #00d7ff\">None</span>, <span style=\"color: #00af00; text-decoration-color: #00af00\">14</span>, <span style=\"color: #00af00; text-decoration-color: #00af00\">14</span>,    │     <span style=\"color: #00af00; text-decoration-color: #00af00\">24,576</span> │ block_7_add[<span style=\"color: #00af00; text-decoration-color: #00af00\">0</span>][<span style=\"color: #00af00; text-decoration-color: #00af00\">0</span>] │\n",
       "│ (<span style=\"color: #0087ff; text-decoration-color: #0087ff\">Conv2D</span>)            │ <span style=\"color: #00af00; text-decoration-color: #00af00\">384</span>)              │            │                   │\n",
       "├─────────────────────┼───────────────────┼────────────┼───────────────────┤\n",
       "│ block_8_expand_BN   │ (<span style=\"color: #00d7ff; text-decoration-color: #00d7ff\">None</span>, <span style=\"color: #00af00; text-decoration-color: #00af00\">14</span>, <span style=\"color: #00af00; text-decoration-color: #00af00\">14</span>,    │      <span style=\"color: #00af00; text-decoration-color: #00af00\">1,536</span> │ block_8_expand[<span style=\"color: #00af00; text-decoration-color: #00af00\">0</span>… │\n",
       "│ (<span style=\"color: #0087ff; text-decoration-color: #0087ff\">BatchNormalizatio…</span> │ <span style=\"color: #00af00; text-decoration-color: #00af00\">384</span>)              │            │                   │\n",
       "├─────────────────────┼───────────────────┼────────────┼───────────────────┤\n",
       "│ block_8_expand_relu │ (<span style=\"color: #00d7ff; text-decoration-color: #00d7ff\">None</span>, <span style=\"color: #00af00; text-decoration-color: #00af00\">14</span>, <span style=\"color: #00af00; text-decoration-color: #00af00\">14</span>,    │          <span style=\"color: #00af00; text-decoration-color: #00af00\">0</span> │ block_8_expand_B… │\n",
       "│ (<span style=\"color: #0087ff; text-decoration-color: #0087ff\">ReLU</span>)              │ <span style=\"color: #00af00; text-decoration-color: #00af00\">384</span>)              │            │                   │\n",
       "├─────────────────────┼───────────────────┼────────────┼───────────────────┤\n",
       "│ block_8_depthwise   │ (<span style=\"color: #00d7ff; text-decoration-color: #00d7ff\">None</span>, <span style=\"color: #00af00; text-decoration-color: #00af00\">14</span>, <span style=\"color: #00af00; text-decoration-color: #00af00\">14</span>,    │      <span style=\"color: #00af00; text-decoration-color: #00af00\">3,456</span> │ block_8_expand_r… │\n",
       "│ (<span style=\"color: #0087ff; text-decoration-color: #0087ff\">DepthwiseConv2D</span>)   │ <span style=\"color: #00af00; text-decoration-color: #00af00\">384</span>)              │            │                   │\n",
       "├─────────────────────┼───────────────────┼────────────┼───────────────────┤\n",
       "│ block_8_depthwise_… │ (<span style=\"color: #00d7ff; text-decoration-color: #00d7ff\">None</span>, <span style=\"color: #00af00; text-decoration-color: #00af00\">14</span>, <span style=\"color: #00af00; text-decoration-color: #00af00\">14</span>,    │      <span style=\"color: #00af00; text-decoration-color: #00af00\">1,536</span> │ block_8_depthwis… │\n",
       "│ (<span style=\"color: #0087ff; text-decoration-color: #0087ff\">BatchNormalizatio…</span> │ <span style=\"color: #00af00; text-decoration-color: #00af00\">384</span>)              │            │                   │\n",
       "├─────────────────────┼───────────────────┼────────────┼───────────────────┤\n",
       "│ block_8_depthwise_… │ (<span style=\"color: #00d7ff; text-decoration-color: #00d7ff\">None</span>, <span style=\"color: #00af00; text-decoration-color: #00af00\">14</span>, <span style=\"color: #00af00; text-decoration-color: #00af00\">14</span>,    │          <span style=\"color: #00af00; text-decoration-color: #00af00\">0</span> │ block_8_depthwis… │\n",
       "│ (<span style=\"color: #0087ff; text-decoration-color: #0087ff\">ReLU</span>)              │ <span style=\"color: #00af00; text-decoration-color: #00af00\">384</span>)              │            │                   │\n",
       "├─────────────────────┼───────────────────┼────────────┼───────────────────┤\n",
       "│ block_8_project     │ (<span style=\"color: #00d7ff; text-decoration-color: #00d7ff\">None</span>, <span style=\"color: #00af00; text-decoration-color: #00af00\">14</span>, <span style=\"color: #00af00; text-decoration-color: #00af00\">14</span>,    │     <span style=\"color: #00af00; text-decoration-color: #00af00\">24,576</span> │ block_8_depthwis… │\n",
       "│ (<span style=\"color: #0087ff; text-decoration-color: #0087ff\">Conv2D</span>)            │ <span style=\"color: #00af00; text-decoration-color: #00af00\">64</span>)               │            │                   │\n",
       "├─────────────────────┼───────────────────┼────────────┼───────────────────┤\n",
       "│ block_8_project_BN  │ (<span style=\"color: #00d7ff; text-decoration-color: #00d7ff\">None</span>, <span style=\"color: #00af00; text-decoration-color: #00af00\">14</span>, <span style=\"color: #00af00; text-decoration-color: #00af00\">14</span>,    │        <span style=\"color: #00af00; text-decoration-color: #00af00\">256</span> │ block_8_project[<span style=\"color: #00af00; text-decoration-color: #00af00\">…</span> │\n",
       "│ (<span style=\"color: #0087ff; text-decoration-color: #0087ff\">BatchNormalizatio…</span> │ <span style=\"color: #00af00; text-decoration-color: #00af00\">64</span>)               │            │                   │\n",
       "├─────────────────────┼───────────────────┼────────────┼───────────────────┤\n",
       "│ block_8_add (<span style=\"color: #0087ff; text-decoration-color: #0087ff\">Add</span>)   │ (<span style=\"color: #00d7ff; text-decoration-color: #00d7ff\">None</span>, <span style=\"color: #00af00; text-decoration-color: #00af00\">14</span>, <span style=\"color: #00af00; text-decoration-color: #00af00\">14</span>,    │          <span style=\"color: #00af00; text-decoration-color: #00af00\">0</span> │ block_7_add[<span style=\"color: #00af00; text-decoration-color: #00af00\">0</span>][<span style=\"color: #00af00; text-decoration-color: #00af00\">0</span>… │\n",
       "│                     │ <span style=\"color: #00af00; text-decoration-color: #00af00\">64</span>)               │            │ block_8_project_… │\n",
       "├─────────────────────┼───────────────────┼────────────┼───────────────────┤\n",
       "│ block_9_expand      │ (<span style=\"color: #00d7ff; text-decoration-color: #00d7ff\">None</span>, <span style=\"color: #00af00; text-decoration-color: #00af00\">14</span>, <span style=\"color: #00af00; text-decoration-color: #00af00\">14</span>,    │     <span style=\"color: #00af00; text-decoration-color: #00af00\">24,576</span> │ block_8_add[<span style=\"color: #00af00; text-decoration-color: #00af00\">0</span>][<span style=\"color: #00af00; text-decoration-color: #00af00\">0</span>] │\n",
       "│ (<span style=\"color: #0087ff; text-decoration-color: #0087ff\">Conv2D</span>)            │ <span style=\"color: #00af00; text-decoration-color: #00af00\">384</span>)              │            │                   │\n",
       "├─────────────────────┼───────────────────┼────────────┼───────────────────┤\n",
       "│ block_9_expand_BN   │ (<span style=\"color: #00d7ff; text-decoration-color: #00d7ff\">None</span>, <span style=\"color: #00af00; text-decoration-color: #00af00\">14</span>, <span style=\"color: #00af00; text-decoration-color: #00af00\">14</span>,    │      <span style=\"color: #00af00; text-decoration-color: #00af00\">1,536</span> │ block_9_expand[<span style=\"color: #00af00; text-decoration-color: #00af00\">0</span>… │\n",
       "│ (<span style=\"color: #0087ff; text-decoration-color: #0087ff\">BatchNormalizatio…</span> │ <span style=\"color: #00af00; text-decoration-color: #00af00\">384</span>)              │            │                   │\n",
       "├─────────────────────┼───────────────────┼────────────┼───────────────────┤\n",
       "│ block_9_expand_relu │ (<span style=\"color: #00d7ff; text-decoration-color: #00d7ff\">None</span>, <span style=\"color: #00af00; text-decoration-color: #00af00\">14</span>, <span style=\"color: #00af00; text-decoration-color: #00af00\">14</span>,    │          <span style=\"color: #00af00; text-decoration-color: #00af00\">0</span> │ block_9_expand_B… │\n",
       "│ (<span style=\"color: #0087ff; text-decoration-color: #0087ff\">ReLU</span>)              │ <span style=\"color: #00af00; text-decoration-color: #00af00\">384</span>)              │            │                   │\n",
       "├─────────────────────┼───────────────────┼────────────┼───────────────────┤\n",
       "│ block_9_depthwise   │ (<span style=\"color: #00d7ff; text-decoration-color: #00d7ff\">None</span>, <span style=\"color: #00af00; text-decoration-color: #00af00\">14</span>, <span style=\"color: #00af00; text-decoration-color: #00af00\">14</span>,    │      <span style=\"color: #00af00; text-decoration-color: #00af00\">3,456</span> │ block_9_expand_r… │\n",
       "│ (<span style=\"color: #0087ff; text-decoration-color: #0087ff\">DepthwiseConv2D</span>)   │ <span style=\"color: #00af00; text-decoration-color: #00af00\">384</span>)              │            │                   │\n",
       "├─────────────────────┼───────────────────┼────────────┼───────────────────┤\n",
       "│ block_9_depthwise_… │ (<span style=\"color: #00d7ff; text-decoration-color: #00d7ff\">None</span>, <span style=\"color: #00af00; text-decoration-color: #00af00\">14</span>, <span style=\"color: #00af00; text-decoration-color: #00af00\">14</span>,    │      <span style=\"color: #00af00; text-decoration-color: #00af00\">1,536</span> │ block_9_depthwis… │\n",
       "│ (<span style=\"color: #0087ff; text-decoration-color: #0087ff\">BatchNormalizatio…</span> │ <span style=\"color: #00af00; text-decoration-color: #00af00\">384</span>)              │            │                   │\n",
       "├─────────────────────┼───────────────────┼────────────┼───────────────────┤\n",
       "│ block_9_depthwise_… │ (<span style=\"color: #00d7ff; text-decoration-color: #00d7ff\">None</span>, <span style=\"color: #00af00; text-decoration-color: #00af00\">14</span>, <span style=\"color: #00af00; text-decoration-color: #00af00\">14</span>,    │          <span style=\"color: #00af00; text-decoration-color: #00af00\">0</span> │ block_9_depthwis… │\n",
       "│ (<span style=\"color: #0087ff; text-decoration-color: #0087ff\">ReLU</span>)              │ <span style=\"color: #00af00; text-decoration-color: #00af00\">384</span>)              │            │                   │\n",
       "├─────────────────────┼───────────────────┼────────────┼───────────────────┤\n",
       "│ block_9_project     │ (<span style=\"color: #00d7ff; text-decoration-color: #00d7ff\">None</span>, <span style=\"color: #00af00; text-decoration-color: #00af00\">14</span>, <span style=\"color: #00af00; text-decoration-color: #00af00\">14</span>,    │     <span style=\"color: #00af00; text-decoration-color: #00af00\">24,576</span> │ block_9_depthwis… │\n",
       "│ (<span style=\"color: #0087ff; text-decoration-color: #0087ff\">Conv2D</span>)            │ <span style=\"color: #00af00; text-decoration-color: #00af00\">64</span>)               │            │                   │\n",
       "├─────────────────────┼───────────────────┼────────────┼───────────────────┤\n",
       "│ block_9_project_BN  │ (<span style=\"color: #00d7ff; text-decoration-color: #00d7ff\">None</span>, <span style=\"color: #00af00; text-decoration-color: #00af00\">14</span>, <span style=\"color: #00af00; text-decoration-color: #00af00\">14</span>,    │        <span style=\"color: #00af00; text-decoration-color: #00af00\">256</span> │ block_9_project[<span style=\"color: #00af00; text-decoration-color: #00af00\">…</span> │\n",
       "│ (<span style=\"color: #0087ff; text-decoration-color: #0087ff\">BatchNormalizatio…</span> │ <span style=\"color: #00af00; text-decoration-color: #00af00\">64</span>)               │            │                   │\n",
       "├─────────────────────┼───────────────────┼────────────┼───────────────────┤\n",
       "│ block_9_add (<span style=\"color: #0087ff; text-decoration-color: #0087ff\">Add</span>)   │ (<span style=\"color: #00d7ff; text-decoration-color: #00d7ff\">None</span>, <span style=\"color: #00af00; text-decoration-color: #00af00\">14</span>, <span style=\"color: #00af00; text-decoration-color: #00af00\">14</span>,    │          <span style=\"color: #00af00; text-decoration-color: #00af00\">0</span> │ block_8_add[<span style=\"color: #00af00; text-decoration-color: #00af00\">0</span>][<span style=\"color: #00af00; text-decoration-color: #00af00\">0</span>… │\n",
       "│                     │ <span style=\"color: #00af00; text-decoration-color: #00af00\">64</span>)               │            │ block_9_project_… │\n",
       "├─────────────────────┼───────────────────┼────────────┼───────────────────┤\n",
       "│ block_10_expand     │ (<span style=\"color: #00d7ff; text-decoration-color: #00d7ff\">None</span>, <span style=\"color: #00af00; text-decoration-color: #00af00\">14</span>, <span style=\"color: #00af00; text-decoration-color: #00af00\">14</span>,    │     <span style=\"color: #00af00; text-decoration-color: #00af00\">24,576</span> │ block_9_add[<span style=\"color: #00af00; text-decoration-color: #00af00\">0</span>][<span style=\"color: #00af00; text-decoration-color: #00af00\">0</span>] │\n",
       "│ (<span style=\"color: #0087ff; text-decoration-color: #0087ff\">Conv2D</span>)            │ <span style=\"color: #00af00; text-decoration-color: #00af00\">384</span>)              │            │                   │\n",
       "├─────────────────────┼───────────────────┼────────────┼───────────────────┤\n",
       "│ block_10_expand_BN  │ (<span style=\"color: #00d7ff; text-decoration-color: #00d7ff\">None</span>, <span style=\"color: #00af00; text-decoration-color: #00af00\">14</span>, <span style=\"color: #00af00; text-decoration-color: #00af00\">14</span>,    │      <span style=\"color: #00af00; text-decoration-color: #00af00\">1,536</span> │ block_10_expand[<span style=\"color: #00af00; text-decoration-color: #00af00\">…</span> │\n",
       "│ (<span style=\"color: #0087ff; text-decoration-color: #0087ff\">BatchNormalizatio…</span> │ <span style=\"color: #00af00; text-decoration-color: #00af00\">384</span>)              │            │                   │\n",
       "├─────────────────────┼───────────────────┼────────────┼───────────────────┤\n",
       "│ block_10_expand_re… │ (<span style=\"color: #00d7ff; text-decoration-color: #00d7ff\">None</span>, <span style=\"color: #00af00; text-decoration-color: #00af00\">14</span>, <span style=\"color: #00af00; text-decoration-color: #00af00\">14</span>,    │          <span style=\"color: #00af00; text-decoration-color: #00af00\">0</span> │ block_10_expand_… │\n",
       "│ (<span style=\"color: #0087ff; text-decoration-color: #0087ff\">ReLU</span>)              │ <span style=\"color: #00af00; text-decoration-color: #00af00\">384</span>)              │            │                   │\n",
       "├─────────────────────┼───────────────────┼────────────┼───────────────────┤\n",
       "│ block_10_depthwise  │ (<span style=\"color: #00d7ff; text-decoration-color: #00d7ff\">None</span>, <span style=\"color: #00af00; text-decoration-color: #00af00\">14</span>, <span style=\"color: #00af00; text-decoration-color: #00af00\">14</span>,    │      <span style=\"color: #00af00; text-decoration-color: #00af00\">3,456</span> │ block_10_expand_… │\n",
       "│ (<span style=\"color: #0087ff; text-decoration-color: #0087ff\">DepthwiseConv2D</span>)   │ <span style=\"color: #00af00; text-decoration-color: #00af00\">384</span>)              │            │                   │\n",
       "├─────────────────────┼───────────────────┼────────────┼───────────────────┤\n",
       "│ block_10_depthwise… │ (<span style=\"color: #00d7ff; text-decoration-color: #00d7ff\">None</span>, <span style=\"color: #00af00; text-decoration-color: #00af00\">14</span>, <span style=\"color: #00af00; text-decoration-color: #00af00\">14</span>,    │      <span style=\"color: #00af00; text-decoration-color: #00af00\">1,536</span> │ block_10_depthwi… │\n",
       "│ (<span style=\"color: #0087ff; text-decoration-color: #0087ff\">BatchNormalizatio…</span> │ <span style=\"color: #00af00; text-decoration-color: #00af00\">384</span>)              │            │                   │\n",
       "├─────────────────────┼───────────────────┼────────────┼───────────────────┤\n",
       "│ block_10_depthwise… │ (<span style=\"color: #00d7ff; text-decoration-color: #00d7ff\">None</span>, <span style=\"color: #00af00; text-decoration-color: #00af00\">14</span>, <span style=\"color: #00af00; text-decoration-color: #00af00\">14</span>,    │          <span style=\"color: #00af00; text-decoration-color: #00af00\">0</span> │ block_10_depthwi… │\n",
       "│ (<span style=\"color: #0087ff; text-decoration-color: #0087ff\">ReLU</span>)              │ <span style=\"color: #00af00; text-decoration-color: #00af00\">384</span>)              │            │                   │\n",
       "├─────────────────────┼───────────────────┼────────────┼───────────────────┤\n",
       "│ block_10_project    │ (<span style=\"color: #00d7ff; text-decoration-color: #00d7ff\">None</span>, <span style=\"color: #00af00; text-decoration-color: #00af00\">14</span>, <span style=\"color: #00af00; text-decoration-color: #00af00\">14</span>,    │     <span style=\"color: #00af00; text-decoration-color: #00af00\">36,864</span> │ block_10_depthwi… │\n",
       "│ (<span style=\"color: #0087ff; text-decoration-color: #0087ff\">Conv2D</span>)            │ <span style=\"color: #00af00; text-decoration-color: #00af00\">96</span>)               │            │                   │\n",
       "├─────────────────────┼───────────────────┼────────────┼───────────────────┤\n",
       "│ block_10_project_BN │ (<span style=\"color: #00d7ff; text-decoration-color: #00d7ff\">None</span>, <span style=\"color: #00af00; text-decoration-color: #00af00\">14</span>, <span style=\"color: #00af00; text-decoration-color: #00af00\">14</span>,    │        <span style=\"color: #00af00; text-decoration-color: #00af00\">384</span> │ block_10_project… │\n",
       "│ (<span style=\"color: #0087ff; text-decoration-color: #0087ff\">BatchNormalizatio…</span> │ <span style=\"color: #00af00; text-decoration-color: #00af00\">96</span>)               │            │                   │\n",
       "├─────────────────────┼───────────────────┼────────────┼───────────────────┤\n",
       "│ block_11_expand     │ (<span style=\"color: #00d7ff; text-decoration-color: #00d7ff\">None</span>, <span style=\"color: #00af00; text-decoration-color: #00af00\">14</span>, <span style=\"color: #00af00; text-decoration-color: #00af00\">14</span>,    │     <span style=\"color: #00af00; text-decoration-color: #00af00\">55,296</span> │ block_10_project… │\n",
       "│ (<span style=\"color: #0087ff; text-decoration-color: #0087ff\">Conv2D</span>)            │ <span style=\"color: #00af00; text-decoration-color: #00af00\">576</span>)              │            │                   │\n",
       "├─────────────────────┼───────────────────┼────────────┼───────────────────┤\n",
       "│ block_11_expand_BN  │ (<span style=\"color: #00d7ff; text-decoration-color: #00d7ff\">None</span>, <span style=\"color: #00af00; text-decoration-color: #00af00\">14</span>, <span style=\"color: #00af00; text-decoration-color: #00af00\">14</span>,    │      <span style=\"color: #00af00; text-decoration-color: #00af00\">2,304</span> │ block_11_expand[<span style=\"color: #00af00; text-decoration-color: #00af00\">…</span> │\n",
       "│ (<span style=\"color: #0087ff; text-decoration-color: #0087ff\">BatchNormalizatio…</span> │ <span style=\"color: #00af00; text-decoration-color: #00af00\">576</span>)              │            │                   │\n",
       "├─────────────────────┼───────────────────┼────────────┼───────────────────┤\n",
       "│ block_11_expand_re… │ (<span style=\"color: #00d7ff; text-decoration-color: #00d7ff\">None</span>, <span style=\"color: #00af00; text-decoration-color: #00af00\">14</span>, <span style=\"color: #00af00; text-decoration-color: #00af00\">14</span>,    │          <span style=\"color: #00af00; text-decoration-color: #00af00\">0</span> │ block_11_expand_… │\n",
       "│ (<span style=\"color: #0087ff; text-decoration-color: #0087ff\">ReLU</span>)              │ <span style=\"color: #00af00; text-decoration-color: #00af00\">576</span>)              │            │                   │\n",
       "├─────────────────────┼───────────────────┼────────────┼───────────────────┤\n",
       "│ block_11_depthwise  │ (<span style=\"color: #00d7ff; text-decoration-color: #00d7ff\">None</span>, <span style=\"color: #00af00; text-decoration-color: #00af00\">14</span>, <span style=\"color: #00af00; text-decoration-color: #00af00\">14</span>,    │      <span style=\"color: #00af00; text-decoration-color: #00af00\">5,184</span> │ block_11_expand_… │\n",
       "│ (<span style=\"color: #0087ff; text-decoration-color: #0087ff\">DepthwiseConv2D</span>)   │ <span style=\"color: #00af00; text-decoration-color: #00af00\">576</span>)              │            │                   │\n",
       "├─────────────────────┼───────────────────┼────────────┼───────────────────┤\n",
       "│ block_11_depthwise… │ (<span style=\"color: #00d7ff; text-decoration-color: #00d7ff\">None</span>, <span style=\"color: #00af00; text-decoration-color: #00af00\">14</span>, <span style=\"color: #00af00; text-decoration-color: #00af00\">14</span>,    │      <span style=\"color: #00af00; text-decoration-color: #00af00\">2,304</span> │ block_11_depthwi… │\n",
       "│ (<span style=\"color: #0087ff; text-decoration-color: #0087ff\">BatchNormalizatio…</span> │ <span style=\"color: #00af00; text-decoration-color: #00af00\">576</span>)              │            │                   │\n",
       "├─────────────────────┼───────────────────┼────────────┼───────────────────┤\n",
       "│ block_11_depthwise… │ (<span style=\"color: #00d7ff; text-decoration-color: #00d7ff\">None</span>, <span style=\"color: #00af00; text-decoration-color: #00af00\">14</span>, <span style=\"color: #00af00; text-decoration-color: #00af00\">14</span>,    │          <span style=\"color: #00af00; text-decoration-color: #00af00\">0</span> │ block_11_depthwi… │\n",
       "│ (<span style=\"color: #0087ff; text-decoration-color: #0087ff\">ReLU</span>)              │ <span style=\"color: #00af00; text-decoration-color: #00af00\">576</span>)              │            │                   │\n",
       "├─────────────────────┼───────────────────┼────────────┼───────────────────┤\n",
       "│ block_11_project    │ (<span style=\"color: #00d7ff; text-decoration-color: #00d7ff\">None</span>, <span style=\"color: #00af00; text-decoration-color: #00af00\">14</span>, <span style=\"color: #00af00; text-decoration-color: #00af00\">14</span>,    │     <span style=\"color: #00af00; text-decoration-color: #00af00\">55,296</span> │ block_11_depthwi… │\n",
       "│ (<span style=\"color: #0087ff; text-decoration-color: #0087ff\">Conv2D</span>)            │ <span style=\"color: #00af00; text-decoration-color: #00af00\">96</span>)               │            │                   │\n",
       "├─────────────────────┼───────────────────┼────────────┼───────────────────┤\n",
       "│ block_11_project_BN │ (<span style=\"color: #00d7ff; text-decoration-color: #00d7ff\">None</span>, <span style=\"color: #00af00; text-decoration-color: #00af00\">14</span>, <span style=\"color: #00af00; text-decoration-color: #00af00\">14</span>,    │        <span style=\"color: #00af00; text-decoration-color: #00af00\">384</span> │ block_11_project… │\n",
       "│ (<span style=\"color: #0087ff; text-decoration-color: #0087ff\">BatchNormalizatio…</span> │ <span style=\"color: #00af00; text-decoration-color: #00af00\">96</span>)               │            │                   │\n",
       "├─────────────────────┼───────────────────┼────────────┼───────────────────┤\n",
       "│ block_11_add (<span style=\"color: #0087ff; text-decoration-color: #0087ff\">Add</span>)  │ (<span style=\"color: #00d7ff; text-decoration-color: #00d7ff\">None</span>, <span style=\"color: #00af00; text-decoration-color: #00af00\">14</span>, <span style=\"color: #00af00; text-decoration-color: #00af00\">14</span>,    │          <span style=\"color: #00af00; text-decoration-color: #00af00\">0</span> │ block_10_project… │\n",
       "│                     │ <span style=\"color: #00af00; text-decoration-color: #00af00\">96</span>)               │            │ block_11_project… │\n",
       "├─────────────────────┼───────────────────┼────────────┼───────────────────┤\n",
       "│ block_12_expand     │ (<span style=\"color: #00d7ff; text-decoration-color: #00d7ff\">None</span>, <span style=\"color: #00af00; text-decoration-color: #00af00\">14</span>, <span style=\"color: #00af00; text-decoration-color: #00af00\">14</span>,    │     <span style=\"color: #00af00; text-decoration-color: #00af00\">55,296</span> │ block_11_add[<span style=\"color: #00af00; text-decoration-color: #00af00\">0</span>][<span style=\"color: #00af00; text-decoration-color: #00af00\">…</span> │\n",
       "│ (<span style=\"color: #0087ff; text-decoration-color: #0087ff\">Conv2D</span>)            │ <span style=\"color: #00af00; text-decoration-color: #00af00\">576</span>)              │            │                   │\n",
       "├─────────────────────┼───────────────────┼────────────┼───────────────────┤\n",
       "│ block_12_expand_BN  │ (<span style=\"color: #00d7ff; text-decoration-color: #00d7ff\">None</span>, <span style=\"color: #00af00; text-decoration-color: #00af00\">14</span>, <span style=\"color: #00af00; text-decoration-color: #00af00\">14</span>,    │      <span style=\"color: #00af00; text-decoration-color: #00af00\">2,304</span> │ block_12_expand[<span style=\"color: #00af00; text-decoration-color: #00af00\">…</span> │\n",
       "│ (<span style=\"color: #0087ff; text-decoration-color: #0087ff\">BatchNormalizatio…</span> │ <span style=\"color: #00af00; text-decoration-color: #00af00\">576</span>)              │            │                   │\n",
       "├─────────────────────┼───────────────────┼────────────┼───────────────────┤\n",
       "│ block_12_expand_re… │ (<span style=\"color: #00d7ff; text-decoration-color: #00d7ff\">None</span>, <span style=\"color: #00af00; text-decoration-color: #00af00\">14</span>, <span style=\"color: #00af00; text-decoration-color: #00af00\">14</span>,    │          <span style=\"color: #00af00; text-decoration-color: #00af00\">0</span> │ block_12_expand_… │\n",
       "│ (<span style=\"color: #0087ff; text-decoration-color: #0087ff\">ReLU</span>)              │ <span style=\"color: #00af00; text-decoration-color: #00af00\">576</span>)              │            │                   │\n",
       "├─────────────────────┼───────────────────┼────────────┼───────────────────┤\n",
       "│ block_12_depthwise  │ (<span style=\"color: #00d7ff; text-decoration-color: #00d7ff\">None</span>, <span style=\"color: #00af00; text-decoration-color: #00af00\">14</span>, <span style=\"color: #00af00; text-decoration-color: #00af00\">14</span>,    │      <span style=\"color: #00af00; text-decoration-color: #00af00\">5,184</span> │ block_12_expand_… │\n",
       "│ (<span style=\"color: #0087ff; text-decoration-color: #0087ff\">DepthwiseConv2D</span>)   │ <span style=\"color: #00af00; text-decoration-color: #00af00\">576</span>)              │            │                   │\n",
       "├─────────────────────┼───────────────────┼────────────┼───────────────────┤\n",
       "│ block_12_depthwise… │ (<span style=\"color: #00d7ff; text-decoration-color: #00d7ff\">None</span>, <span style=\"color: #00af00; text-decoration-color: #00af00\">14</span>, <span style=\"color: #00af00; text-decoration-color: #00af00\">14</span>,    │      <span style=\"color: #00af00; text-decoration-color: #00af00\">2,304</span> │ block_12_depthwi… │\n",
       "│ (<span style=\"color: #0087ff; text-decoration-color: #0087ff\">BatchNormalizatio…</span> │ <span style=\"color: #00af00; text-decoration-color: #00af00\">576</span>)              │            │                   │\n",
       "├─────────────────────┼───────────────────┼────────────┼───────────────────┤\n",
       "│ block_12_depthwise… │ (<span style=\"color: #00d7ff; text-decoration-color: #00d7ff\">None</span>, <span style=\"color: #00af00; text-decoration-color: #00af00\">14</span>, <span style=\"color: #00af00; text-decoration-color: #00af00\">14</span>,    │          <span style=\"color: #00af00; text-decoration-color: #00af00\">0</span> │ block_12_depthwi… │\n",
       "│ (<span style=\"color: #0087ff; text-decoration-color: #0087ff\">ReLU</span>)              │ <span style=\"color: #00af00; text-decoration-color: #00af00\">576</span>)              │            │                   │\n",
       "├─────────────────────┼───────────────────┼────────────┼───────────────────┤\n",
       "│ block_12_project    │ (<span style=\"color: #00d7ff; text-decoration-color: #00d7ff\">None</span>, <span style=\"color: #00af00; text-decoration-color: #00af00\">14</span>, <span style=\"color: #00af00; text-decoration-color: #00af00\">14</span>,    │     <span style=\"color: #00af00; text-decoration-color: #00af00\">55,296</span> │ block_12_depthwi… │\n",
       "│ (<span style=\"color: #0087ff; text-decoration-color: #0087ff\">Conv2D</span>)            │ <span style=\"color: #00af00; text-decoration-color: #00af00\">96</span>)               │            │                   │\n",
       "├─────────────────────┼───────────────────┼────────────┼───────────────────┤\n",
       "│ block_12_project_BN │ (<span style=\"color: #00d7ff; text-decoration-color: #00d7ff\">None</span>, <span style=\"color: #00af00; text-decoration-color: #00af00\">14</span>, <span style=\"color: #00af00; text-decoration-color: #00af00\">14</span>,    │        <span style=\"color: #00af00; text-decoration-color: #00af00\">384</span> │ block_12_project… │\n",
       "│ (<span style=\"color: #0087ff; text-decoration-color: #0087ff\">BatchNormalizatio…</span> │ <span style=\"color: #00af00; text-decoration-color: #00af00\">96</span>)               │            │                   │\n",
       "├─────────────────────┼───────────────────┼────────────┼───────────────────┤\n",
       "│ block_12_add (<span style=\"color: #0087ff; text-decoration-color: #0087ff\">Add</span>)  │ (<span style=\"color: #00d7ff; text-decoration-color: #00d7ff\">None</span>, <span style=\"color: #00af00; text-decoration-color: #00af00\">14</span>, <span style=\"color: #00af00; text-decoration-color: #00af00\">14</span>,    │          <span style=\"color: #00af00; text-decoration-color: #00af00\">0</span> │ block_11_add[<span style=\"color: #00af00; text-decoration-color: #00af00\">0</span>][<span style=\"color: #00af00; text-decoration-color: #00af00\">…</span> │\n",
       "│                     │ <span style=\"color: #00af00; text-decoration-color: #00af00\">96</span>)               │            │ block_12_project… │\n",
       "├─────────────────────┼───────────────────┼────────────┼───────────────────┤\n",
       "│ block_13_expand     │ (<span style=\"color: #00d7ff; text-decoration-color: #00d7ff\">None</span>, <span style=\"color: #00af00; text-decoration-color: #00af00\">14</span>, <span style=\"color: #00af00; text-decoration-color: #00af00\">14</span>,    │     <span style=\"color: #00af00; text-decoration-color: #00af00\">55,296</span> │ block_12_add[<span style=\"color: #00af00; text-decoration-color: #00af00\">0</span>][<span style=\"color: #00af00; text-decoration-color: #00af00\">…</span> │\n",
       "│ (<span style=\"color: #0087ff; text-decoration-color: #0087ff\">Conv2D</span>)            │ <span style=\"color: #00af00; text-decoration-color: #00af00\">576</span>)              │            │                   │\n",
       "├─────────────────────┼───────────────────┼────────────┼───────────────────┤\n",
       "│ block_13_expand_BN  │ (<span style=\"color: #00d7ff; text-decoration-color: #00d7ff\">None</span>, <span style=\"color: #00af00; text-decoration-color: #00af00\">14</span>, <span style=\"color: #00af00; text-decoration-color: #00af00\">14</span>,    │      <span style=\"color: #00af00; text-decoration-color: #00af00\">2,304</span> │ block_13_expand[<span style=\"color: #00af00; text-decoration-color: #00af00\">…</span> │\n",
       "│ (<span style=\"color: #0087ff; text-decoration-color: #0087ff\">BatchNormalizatio…</span> │ <span style=\"color: #00af00; text-decoration-color: #00af00\">576</span>)              │            │                   │\n",
       "├─────────────────────┼───────────────────┼────────────┼───────────────────┤\n",
       "│ block_13_expand_re… │ (<span style=\"color: #00d7ff; text-decoration-color: #00d7ff\">None</span>, <span style=\"color: #00af00; text-decoration-color: #00af00\">14</span>, <span style=\"color: #00af00; text-decoration-color: #00af00\">14</span>,    │          <span style=\"color: #00af00; text-decoration-color: #00af00\">0</span> │ block_13_expand_… │\n",
       "│ (<span style=\"color: #0087ff; text-decoration-color: #0087ff\">ReLU</span>)              │ <span style=\"color: #00af00; text-decoration-color: #00af00\">576</span>)              │            │                   │\n",
       "├─────────────────────┼───────────────────┼────────────┼───────────────────┤\n",
       "│ block_13_pad        │ (<span style=\"color: #00d7ff; text-decoration-color: #00d7ff\">None</span>, <span style=\"color: #00af00; text-decoration-color: #00af00\">15</span>, <span style=\"color: #00af00; text-decoration-color: #00af00\">15</span>,    │          <span style=\"color: #00af00; text-decoration-color: #00af00\">0</span> │ block_13_expand_… │\n",
       "│ (<span style=\"color: #0087ff; text-decoration-color: #0087ff\">ZeroPadding2D</span>)     │ <span style=\"color: #00af00; text-decoration-color: #00af00\">576</span>)              │            │                   │\n",
       "├─────────────────────┼───────────────────┼────────────┼───────────────────┤\n",
       "│ block_13_depthwise  │ (<span style=\"color: #00d7ff; text-decoration-color: #00d7ff\">None</span>, <span style=\"color: #00af00; text-decoration-color: #00af00\">7</span>, <span style=\"color: #00af00; text-decoration-color: #00af00\">7</span>, <span style=\"color: #00af00; text-decoration-color: #00af00\">576</span>) │      <span style=\"color: #00af00; text-decoration-color: #00af00\">5,184</span> │ block_13_pad[<span style=\"color: #00af00; text-decoration-color: #00af00\">0</span>][<span style=\"color: #00af00; text-decoration-color: #00af00\">…</span> │\n",
       "│ (<span style=\"color: #0087ff; text-decoration-color: #0087ff\">DepthwiseConv2D</span>)   │                   │            │                   │\n",
       "├─────────────────────┼───────────────────┼────────────┼───────────────────┤\n",
       "│ block_13_depthwise… │ (<span style=\"color: #00d7ff; text-decoration-color: #00d7ff\">None</span>, <span style=\"color: #00af00; text-decoration-color: #00af00\">7</span>, <span style=\"color: #00af00; text-decoration-color: #00af00\">7</span>, <span style=\"color: #00af00; text-decoration-color: #00af00\">576</span>) │      <span style=\"color: #00af00; text-decoration-color: #00af00\">2,304</span> │ block_13_depthwi… │\n",
       "│ (<span style=\"color: #0087ff; text-decoration-color: #0087ff\">BatchNormalizatio…</span> │                   │            │                   │\n",
       "├─────────────────────┼───────────────────┼────────────┼───────────────────┤\n",
       "│ block_13_depthwise… │ (<span style=\"color: #00d7ff; text-decoration-color: #00d7ff\">None</span>, <span style=\"color: #00af00; text-decoration-color: #00af00\">7</span>, <span style=\"color: #00af00; text-decoration-color: #00af00\">7</span>, <span style=\"color: #00af00; text-decoration-color: #00af00\">576</span>) │          <span style=\"color: #00af00; text-decoration-color: #00af00\">0</span> │ block_13_depthwi… │\n",
       "│ (<span style=\"color: #0087ff; text-decoration-color: #0087ff\">ReLU</span>)              │                   │            │                   │\n",
       "├─────────────────────┼───────────────────┼────────────┼───────────────────┤\n",
       "│ block_13_project    │ (<span style=\"color: #00d7ff; text-decoration-color: #00d7ff\">None</span>, <span style=\"color: #00af00; text-decoration-color: #00af00\">7</span>, <span style=\"color: #00af00; text-decoration-color: #00af00\">7</span>, <span style=\"color: #00af00; text-decoration-color: #00af00\">160</span>) │     <span style=\"color: #00af00; text-decoration-color: #00af00\">92,160</span> │ block_13_depthwi… │\n",
       "│ (<span style=\"color: #0087ff; text-decoration-color: #0087ff\">Conv2D</span>)            │                   │            │                   │\n",
       "├─────────────────────┼───────────────────┼────────────┼───────────────────┤\n",
       "│ block_13_project_BN │ (<span style=\"color: #00d7ff; text-decoration-color: #00d7ff\">None</span>, <span style=\"color: #00af00; text-decoration-color: #00af00\">7</span>, <span style=\"color: #00af00; text-decoration-color: #00af00\">7</span>, <span style=\"color: #00af00; text-decoration-color: #00af00\">160</span>) │        <span style=\"color: #00af00; text-decoration-color: #00af00\">640</span> │ block_13_project… │\n",
       "│ (<span style=\"color: #0087ff; text-decoration-color: #0087ff\">BatchNormalizatio…</span> │                   │            │                   │\n",
       "├─────────────────────┼───────────────────┼────────────┼───────────────────┤\n",
       "│ block_14_expand     │ (<span style=\"color: #00d7ff; text-decoration-color: #00d7ff\">None</span>, <span style=\"color: #00af00; text-decoration-color: #00af00\">7</span>, <span style=\"color: #00af00; text-decoration-color: #00af00\">7</span>, <span style=\"color: #00af00; text-decoration-color: #00af00\">960</span>) │    <span style=\"color: #00af00; text-decoration-color: #00af00\">153,600</span> │ block_13_project… │\n",
       "│ (<span style=\"color: #0087ff; text-decoration-color: #0087ff\">Conv2D</span>)            │                   │            │                   │\n",
       "├─────────────────────┼───────────────────┼────────────┼───────────────────┤\n",
       "│ block_14_expand_BN  │ (<span style=\"color: #00d7ff; text-decoration-color: #00d7ff\">None</span>, <span style=\"color: #00af00; text-decoration-color: #00af00\">7</span>, <span style=\"color: #00af00; text-decoration-color: #00af00\">7</span>, <span style=\"color: #00af00; text-decoration-color: #00af00\">960</span>) │      <span style=\"color: #00af00; text-decoration-color: #00af00\">3,840</span> │ block_14_expand[<span style=\"color: #00af00; text-decoration-color: #00af00\">…</span> │\n",
       "│ (<span style=\"color: #0087ff; text-decoration-color: #0087ff\">BatchNormalizatio…</span> │                   │            │                   │\n",
       "├─────────────────────┼───────────────────┼────────────┼───────────────────┤\n",
       "│ block_14_expand_re… │ (<span style=\"color: #00d7ff; text-decoration-color: #00d7ff\">None</span>, <span style=\"color: #00af00; text-decoration-color: #00af00\">7</span>, <span style=\"color: #00af00; text-decoration-color: #00af00\">7</span>, <span style=\"color: #00af00; text-decoration-color: #00af00\">960</span>) │          <span style=\"color: #00af00; text-decoration-color: #00af00\">0</span> │ block_14_expand_… │\n",
       "│ (<span style=\"color: #0087ff; text-decoration-color: #0087ff\">ReLU</span>)              │                   │            │                   │\n",
       "├─────────────────────┼───────────────────┼────────────┼───────────────────┤\n",
       "│ block_14_depthwise  │ (<span style=\"color: #00d7ff; text-decoration-color: #00d7ff\">None</span>, <span style=\"color: #00af00; text-decoration-color: #00af00\">7</span>, <span style=\"color: #00af00; text-decoration-color: #00af00\">7</span>, <span style=\"color: #00af00; text-decoration-color: #00af00\">960</span>) │      <span style=\"color: #00af00; text-decoration-color: #00af00\">8,640</span> │ block_14_expand_… │\n",
       "│ (<span style=\"color: #0087ff; text-decoration-color: #0087ff\">DepthwiseConv2D</span>)   │                   │            │                   │\n",
       "├─────────────────────┼───────────────────┼────────────┼───────────────────┤\n",
       "│ block_14_depthwise… │ (<span style=\"color: #00d7ff; text-decoration-color: #00d7ff\">None</span>, <span style=\"color: #00af00; text-decoration-color: #00af00\">7</span>, <span style=\"color: #00af00; text-decoration-color: #00af00\">7</span>, <span style=\"color: #00af00; text-decoration-color: #00af00\">960</span>) │      <span style=\"color: #00af00; text-decoration-color: #00af00\">3,840</span> │ block_14_depthwi… │\n",
       "│ (<span style=\"color: #0087ff; text-decoration-color: #0087ff\">BatchNormalizatio…</span> │                   │            │                   │\n",
       "├─────────────────────┼───────────────────┼────────────┼───────────────────┤\n",
       "│ block_14_depthwise… │ (<span style=\"color: #00d7ff; text-decoration-color: #00d7ff\">None</span>, <span style=\"color: #00af00; text-decoration-color: #00af00\">7</span>, <span style=\"color: #00af00; text-decoration-color: #00af00\">7</span>, <span style=\"color: #00af00; text-decoration-color: #00af00\">960</span>) │          <span style=\"color: #00af00; text-decoration-color: #00af00\">0</span> │ block_14_depthwi… │\n",
       "│ (<span style=\"color: #0087ff; text-decoration-color: #0087ff\">ReLU</span>)              │                   │            │                   │\n",
       "├─────────────────────┼───────────────────┼────────────┼───────────────────┤\n",
       "│ block_14_project    │ (<span style=\"color: #00d7ff; text-decoration-color: #00d7ff\">None</span>, <span style=\"color: #00af00; text-decoration-color: #00af00\">7</span>, <span style=\"color: #00af00; text-decoration-color: #00af00\">7</span>, <span style=\"color: #00af00; text-decoration-color: #00af00\">160</span>) │    <span style=\"color: #00af00; text-decoration-color: #00af00\">153,600</span> │ block_14_depthwi… │\n",
       "│ (<span style=\"color: #0087ff; text-decoration-color: #0087ff\">Conv2D</span>)            │                   │            │                   │\n",
       "├─────────────────────┼───────────────────┼────────────┼───────────────────┤\n",
       "│ block_14_project_BN │ (<span style=\"color: #00d7ff; text-decoration-color: #00d7ff\">None</span>, <span style=\"color: #00af00; text-decoration-color: #00af00\">7</span>, <span style=\"color: #00af00; text-decoration-color: #00af00\">7</span>, <span style=\"color: #00af00; text-decoration-color: #00af00\">160</span>) │        <span style=\"color: #00af00; text-decoration-color: #00af00\">640</span> │ block_14_project… │\n",
       "│ (<span style=\"color: #0087ff; text-decoration-color: #0087ff\">BatchNormalizatio…</span> │                   │            │                   │\n",
       "├─────────────────────┼───────────────────┼────────────┼───────────────────┤\n",
       "│ block_14_add (<span style=\"color: #0087ff; text-decoration-color: #0087ff\">Add</span>)  │ (<span style=\"color: #00d7ff; text-decoration-color: #00d7ff\">None</span>, <span style=\"color: #00af00; text-decoration-color: #00af00\">7</span>, <span style=\"color: #00af00; text-decoration-color: #00af00\">7</span>, <span style=\"color: #00af00; text-decoration-color: #00af00\">160</span>) │          <span style=\"color: #00af00; text-decoration-color: #00af00\">0</span> │ block_13_project… │\n",
       "│                     │                   │            │ block_14_project… │\n",
       "├─────────────────────┼───────────────────┼────────────┼───────────────────┤\n",
       "│ block_15_expand     │ (<span style=\"color: #00d7ff; text-decoration-color: #00d7ff\">None</span>, <span style=\"color: #00af00; text-decoration-color: #00af00\">7</span>, <span style=\"color: #00af00; text-decoration-color: #00af00\">7</span>, <span style=\"color: #00af00; text-decoration-color: #00af00\">960</span>) │    <span style=\"color: #00af00; text-decoration-color: #00af00\">153,600</span> │ block_14_add[<span style=\"color: #00af00; text-decoration-color: #00af00\">0</span>][<span style=\"color: #00af00; text-decoration-color: #00af00\">…</span> │\n",
       "│ (<span style=\"color: #0087ff; text-decoration-color: #0087ff\">Conv2D</span>)            │                   │            │                   │\n",
       "├─────────────────────┼───────────────────┼────────────┼───────────────────┤\n",
       "│ block_15_expand_BN  │ (<span style=\"color: #00d7ff; text-decoration-color: #00d7ff\">None</span>, <span style=\"color: #00af00; text-decoration-color: #00af00\">7</span>, <span style=\"color: #00af00; text-decoration-color: #00af00\">7</span>, <span style=\"color: #00af00; text-decoration-color: #00af00\">960</span>) │      <span style=\"color: #00af00; text-decoration-color: #00af00\">3,840</span> │ block_15_expand[<span style=\"color: #00af00; text-decoration-color: #00af00\">…</span> │\n",
       "│ (<span style=\"color: #0087ff; text-decoration-color: #0087ff\">BatchNormalizatio…</span> │                   │            │                   │\n",
       "├─────────────────────┼───────────────────┼────────────┼───────────────────┤\n",
       "│ block_15_expand_re… │ (<span style=\"color: #00d7ff; text-decoration-color: #00d7ff\">None</span>, <span style=\"color: #00af00; text-decoration-color: #00af00\">7</span>, <span style=\"color: #00af00; text-decoration-color: #00af00\">7</span>, <span style=\"color: #00af00; text-decoration-color: #00af00\">960</span>) │          <span style=\"color: #00af00; text-decoration-color: #00af00\">0</span> │ block_15_expand_… │\n",
       "│ (<span style=\"color: #0087ff; text-decoration-color: #0087ff\">ReLU</span>)              │                   │            │                   │\n",
       "├─────────────────────┼───────────────────┼────────────┼───────────────────┤\n",
       "│ block_15_depthwise  │ (<span style=\"color: #00d7ff; text-decoration-color: #00d7ff\">None</span>, <span style=\"color: #00af00; text-decoration-color: #00af00\">7</span>, <span style=\"color: #00af00; text-decoration-color: #00af00\">7</span>, <span style=\"color: #00af00; text-decoration-color: #00af00\">960</span>) │      <span style=\"color: #00af00; text-decoration-color: #00af00\">8,640</span> │ block_15_expand_… │\n",
       "│ (<span style=\"color: #0087ff; text-decoration-color: #0087ff\">DepthwiseConv2D</span>)   │                   │            │                   │\n",
       "├─────────────────────┼───────────────────┼────────────┼───────────────────┤\n",
       "│ block_15_depthwise… │ (<span style=\"color: #00d7ff; text-decoration-color: #00d7ff\">None</span>, <span style=\"color: #00af00; text-decoration-color: #00af00\">7</span>, <span style=\"color: #00af00; text-decoration-color: #00af00\">7</span>, <span style=\"color: #00af00; text-decoration-color: #00af00\">960</span>) │      <span style=\"color: #00af00; text-decoration-color: #00af00\">3,840</span> │ block_15_depthwi… │\n",
       "│ (<span style=\"color: #0087ff; text-decoration-color: #0087ff\">BatchNormalizatio…</span> │                   │            │                   │\n",
       "├─────────────────────┼───────────────────┼────────────┼───────────────────┤\n",
       "│ block_15_depthwise… │ (<span style=\"color: #00d7ff; text-decoration-color: #00d7ff\">None</span>, <span style=\"color: #00af00; text-decoration-color: #00af00\">7</span>, <span style=\"color: #00af00; text-decoration-color: #00af00\">7</span>, <span style=\"color: #00af00; text-decoration-color: #00af00\">960</span>) │          <span style=\"color: #00af00; text-decoration-color: #00af00\">0</span> │ block_15_depthwi… │\n",
       "│ (<span style=\"color: #0087ff; text-decoration-color: #0087ff\">ReLU</span>)              │                   │            │                   │\n",
       "├─────────────────────┼───────────────────┼────────────┼───────────────────┤\n",
       "│ block_15_project    │ (<span style=\"color: #00d7ff; text-decoration-color: #00d7ff\">None</span>, <span style=\"color: #00af00; text-decoration-color: #00af00\">7</span>, <span style=\"color: #00af00; text-decoration-color: #00af00\">7</span>, <span style=\"color: #00af00; text-decoration-color: #00af00\">160</span>) │    <span style=\"color: #00af00; text-decoration-color: #00af00\">153,600</span> │ block_15_depthwi… │\n",
       "│ (<span style=\"color: #0087ff; text-decoration-color: #0087ff\">Conv2D</span>)            │                   │            │                   │\n",
       "├─────────────────────┼───────────────────┼────────────┼───────────────────┤\n",
       "│ block_15_project_BN │ (<span style=\"color: #00d7ff; text-decoration-color: #00d7ff\">None</span>, <span style=\"color: #00af00; text-decoration-color: #00af00\">7</span>, <span style=\"color: #00af00; text-decoration-color: #00af00\">7</span>, <span style=\"color: #00af00; text-decoration-color: #00af00\">160</span>) │        <span style=\"color: #00af00; text-decoration-color: #00af00\">640</span> │ block_15_project… │\n",
       "│ (<span style=\"color: #0087ff; text-decoration-color: #0087ff\">BatchNormalizatio…</span> │                   │            │                   │\n",
       "├─────────────────────┼───────────────────┼────────────┼───────────────────┤\n",
       "│ block_15_add (<span style=\"color: #0087ff; text-decoration-color: #0087ff\">Add</span>)  │ (<span style=\"color: #00d7ff; text-decoration-color: #00d7ff\">None</span>, <span style=\"color: #00af00; text-decoration-color: #00af00\">7</span>, <span style=\"color: #00af00; text-decoration-color: #00af00\">7</span>, <span style=\"color: #00af00; text-decoration-color: #00af00\">160</span>) │          <span style=\"color: #00af00; text-decoration-color: #00af00\">0</span> │ block_14_add[<span style=\"color: #00af00; text-decoration-color: #00af00\">0</span>][<span style=\"color: #00af00; text-decoration-color: #00af00\">…</span> │\n",
       "│                     │                   │            │ block_15_project… │\n",
       "├─────────────────────┼───────────────────┼────────────┼───────────────────┤\n",
       "│ block_16_expand     │ (<span style=\"color: #00d7ff; text-decoration-color: #00d7ff\">None</span>, <span style=\"color: #00af00; text-decoration-color: #00af00\">7</span>, <span style=\"color: #00af00; text-decoration-color: #00af00\">7</span>, <span style=\"color: #00af00; text-decoration-color: #00af00\">960</span>) │    <span style=\"color: #00af00; text-decoration-color: #00af00\">153,600</span> │ block_15_add[<span style=\"color: #00af00; text-decoration-color: #00af00\">0</span>][<span style=\"color: #00af00; text-decoration-color: #00af00\">…</span> │\n",
       "│ (<span style=\"color: #0087ff; text-decoration-color: #0087ff\">Conv2D</span>)            │                   │            │                   │\n",
       "├─────────────────────┼───────────────────┼────────────┼───────────────────┤\n",
       "│ block_16_expand_BN  │ (<span style=\"color: #00d7ff; text-decoration-color: #00d7ff\">None</span>, <span style=\"color: #00af00; text-decoration-color: #00af00\">7</span>, <span style=\"color: #00af00; text-decoration-color: #00af00\">7</span>, <span style=\"color: #00af00; text-decoration-color: #00af00\">960</span>) │      <span style=\"color: #00af00; text-decoration-color: #00af00\">3,840</span> │ block_16_expand[<span style=\"color: #00af00; text-decoration-color: #00af00\">…</span> │\n",
       "│ (<span style=\"color: #0087ff; text-decoration-color: #0087ff\">BatchNormalizatio…</span> │                   │            │                   │\n",
       "├─────────────────────┼───────────────────┼────────────┼───────────────────┤\n",
       "│ block_16_expand_re… │ (<span style=\"color: #00d7ff; text-decoration-color: #00d7ff\">None</span>, <span style=\"color: #00af00; text-decoration-color: #00af00\">7</span>, <span style=\"color: #00af00; text-decoration-color: #00af00\">7</span>, <span style=\"color: #00af00; text-decoration-color: #00af00\">960</span>) │          <span style=\"color: #00af00; text-decoration-color: #00af00\">0</span> │ block_16_expand_… │\n",
       "│ (<span style=\"color: #0087ff; text-decoration-color: #0087ff\">ReLU</span>)              │                   │            │                   │\n",
       "├─────────────────────┼───────────────────┼────────────┼───────────────────┤\n",
       "│ block_16_depthwise  │ (<span style=\"color: #00d7ff; text-decoration-color: #00d7ff\">None</span>, <span style=\"color: #00af00; text-decoration-color: #00af00\">7</span>, <span style=\"color: #00af00; text-decoration-color: #00af00\">7</span>, <span style=\"color: #00af00; text-decoration-color: #00af00\">960</span>) │      <span style=\"color: #00af00; text-decoration-color: #00af00\">8,640</span> │ block_16_expand_… │\n",
       "│ (<span style=\"color: #0087ff; text-decoration-color: #0087ff\">DepthwiseConv2D</span>)   │                   │            │                   │\n",
       "├─────────────────────┼───────────────────┼────────────┼───────────────────┤\n",
       "│ block_16_depthwise… │ (<span style=\"color: #00d7ff; text-decoration-color: #00d7ff\">None</span>, <span style=\"color: #00af00; text-decoration-color: #00af00\">7</span>, <span style=\"color: #00af00; text-decoration-color: #00af00\">7</span>, <span style=\"color: #00af00; text-decoration-color: #00af00\">960</span>) │      <span style=\"color: #00af00; text-decoration-color: #00af00\">3,840</span> │ block_16_depthwi… │\n",
       "│ (<span style=\"color: #0087ff; text-decoration-color: #0087ff\">BatchNormalizatio…</span> │                   │            │                   │\n",
       "├─────────────────────┼───────────────────┼────────────┼───────────────────┤\n",
       "│ block_16_depthwise… │ (<span style=\"color: #00d7ff; text-decoration-color: #00d7ff\">None</span>, <span style=\"color: #00af00; text-decoration-color: #00af00\">7</span>, <span style=\"color: #00af00; text-decoration-color: #00af00\">7</span>, <span style=\"color: #00af00; text-decoration-color: #00af00\">960</span>) │          <span style=\"color: #00af00; text-decoration-color: #00af00\">0</span> │ block_16_depthwi… │\n",
       "│ (<span style=\"color: #0087ff; text-decoration-color: #0087ff\">ReLU</span>)              │                   │            │                   │\n",
       "├─────────────────────┼───────────────────┼────────────┼───────────────────┤\n",
       "│ block_16_project    │ (<span style=\"color: #00d7ff; text-decoration-color: #00d7ff\">None</span>, <span style=\"color: #00af00; text-decoration-color: #00af00\">7</span>, <span style=\"color: #00af00; text-decoration-color: #00af00\">7</span>, <span style=\"color: #00af00; text-decoration-color: #00af00\">320</span>) │    <span style=\"color: #00af00; text-decoration-color: #00af00\">307,200</span> │ block_16_depthwi… │\n",
       "│ (<span style=\"color: #0087ff; text-decoration-color: #0087ff\">Conv2D</span>)            │                   │            │                   │\n",
       "├─────────────────────┼───────────────────┼────────────┼───────────────────┤\n",
       "│ block_16_project_BN │ (<span style=\"color: #00d7ff; text-decoration-color: #00d7ff\">None</span>, <span style=\"color: #00af00; text-decoration-color: #00af00\">7</span>, <span style=\"color: #00af00; text-decoration-color: #00af00\">7</span>, <span style=\"color: #00af00; text-decoration-color: #00af00\">320</span>) │      <span style=\"color: #00af00; text-decoration-color: #00af00\">1,280</span> │ block_16_project… │\n",
       "│ (<span style=\"color: #0087ff; text-decoration-color: #0087ff\">BatchNormalizatio…</span> │                   │            │                   │\n",
       "├─────────────────────┼───────────────────┼────────────┼───────────────────┤\n",
       "│ Conv_1 (<span style=\"color: #0087ff; text-decoration-color: #0087ff\">Conv2D</span>)     │ (<span style=\"color: #00d7ff; text-decoration-color: #00d7ff\">None</span>, <span style=\"color: #00af00; text-decoration-color: #00af00\">7</span>, <span style=\"color: #00af00; text-decoration-color: #00af00\">7</span>,      │    <span style=\"color: #00af00; text-decoration-color: #00af00\">409,600</span> │ block_16_project… │\n",
       "│                     │ <span style=\"color: #00af00; text-decoration-color: #00af00\">1280</span>)             │            │                   │\n",
       "├─────────────────────┼───────────────────┼────────────┼───────────────────┤\n",
       "│ Conv_1_bn           │ (<span style=\"color: #00d7ff; text-decoration-color: #00d7ff\">None</span>, <span style=\"color: #00af00; text-decoration-color: #00af00\">7</span>, <span style=\"color: #00af00; text-decoration-color: #00af00\">7</span>,      │      <span style=\"color: #00af00; text-decoration-color: #00af00\">5,120</span> │ Conv_1[<span style=\"color: #00af00; text-decoration-color: #00af00\">0</span>][<span style=\"color: #00af00; text-decoration-color: #00af00\">0</span>]      │\n",
       "│ (<span style=\"color: #0087ff; text-decoration-color: #0087ff\">BatchNormalizatio…</span> │ <span style=\"color: #00af00; text-decoration-color: #00af00\">1280</span>)             │            │                   │\n",
       "├─────────────────────┼───────────────────┼────────────┼───────────────────┤\n",
       "│ out_relu (<span style=\"color: #0087ff; text-decoration-color: #0087ff\">ReLU</span>)     │ (<span style=\"color: #00d7ff; text-decoration-color: #00d7ff\">None</span>, <span style=\"color: #00af00; text-decoration-color: #00af00\">7</span>, <span style=\"color: #00af00; text-decoration-color: #00af00\">7</span>,      │          <span style=\"color: #00af00; text-decoration-color: #00af00\">0</span> │ Conv_1_bn[<span style=\"color: #00af00; text-decoration-color: #00af00\">0</span>][<span style=\"color: #00af00; text-decoration-color: #00af00\">0</span>]   │\n",
       "│                     │ <span style=\"color: #00af00; text-decoration-color: #00af00\">1280</span>)             │            │                   │\n",
       "├─────────────────────┼───────────────────┼────────────┼───────────────────┤\n",
       "│ global_average_poo… │ (<span style=\"color: #00d7ff; text-decoration-color: #00d7ff\">None</span>, <span style=\"color: #00af00; text-decoration-color: #00af00\">1280</span>)      │          <span style=\"color: #00af00; text-decoration-color: #00af00\">0</span> │ out_relu[<span style=\"color: #00af00; text-decoration-color: #00af00\">0</span>][<span style=\"color: #00af00; text-decoration-color: #00af00\">0</span>]    │\n",
       "│ (<span style=\"color: #0087ff; text-decoration-color: #0087ff\">GlobalAveragePool…</span> │                   │            │                   │\n",
       "└─────────────────────┴───────────────────┴────────────┴───────────────────┘\n",
       "</pre>\n"
      ],
      "text/plain": [
       "┏━━━━━━━━━━━━━━━━━━━━━┳━━━━━━━━━━━━━━━━━━━┳━━━━━━━━━━━━┳━━━━━━━━━━━━━━━━━━━┓\n",
       "┃\u001b[1m \u001b[0m\u001b[1mLayer (type)       \u001b[0m\u001b[1m \u001b[0m┃\u001b[1m \u001b[0m\u001b[1mOutput Shape     \u001b[0m\u001b[1m \u001b[0m┃\u001b[1m \u001b[0m\u001b[1m   Param #\u001b[0m\u001b[1m \u001b[0m┃\u001b[1m \u001b[0m\u001b[1mConnected to     \u001b[0m\u001b[1m \u001b[0m┃\n",
       "┡━━━━━━━━━━━━━━━━━━━━━╇━━━━━━━━━━━━━━━━━━━╇━━━━━━━━━━━━╇━━━━━━━━━━━━━━━━━━━┩\n",
       "│ input_layer         │ (\u001b[38;5;45mNone\u001b[0m, \u001b[38;5;34m224\u001b[0m, \u001b[38;5;34m224\u001b[0m,  │          \u001b[38;5;34m0\u001b[0m │ -                 │\n",
       "│ (\u001b[38;5;33mInputLayer\u001b[0m)        │ \u001b[38;5;34m3\u001b[0m)                │            │                   │\n",
       "├─────────────────────┼───────────────────┼────────────┼───────────────────┤\n",
       "│ Conv1 (\u001b[38;5;33mConv2D\u001b[0m)      │ (\u001b[38;5;45mNone\u001b[0m, \u001b[38;5;34m112\u001b[0m, \u001b[38;5;34m112\u001b[0m,  │        \u001b[38;5;34m864\u001b[0m │ input_layer[\u001b[38;5;34m0\u001b[0m][\u001b[38;5;34m0\u001b[0m] │\n",
       "│                     │ \u001b[38;5;34m32\u001b[0m)               │            │                   │\n",
       "├─────────────────────┼───────────────────┼────────────┼───────────────────┤\n",
       "│ bn_Conv1            │ (\u001b[38;5;45mNone\u001b[0m, \u001b[38;5;34m112\u001b[0m, \u001b[38;5;34m112\u001b[0m,  │        \u001b[38;5;34m128\u001b[0m │ Conv1[\u001b[38;5;34m0\u001b[0m][\u001b[38;5;34m0\u001b[0m]       │\n",
       "│ (\u001b[38;5;33mBatchNormalizatio…\u001b[0m │ \u001b[38;5;34m32\u001b[0m)               │            │                   │\n",
       "├─────────────────────┼───────────────────┼────────────┼───────────────────┤\n",
       "│ Conv1_relu (\u001b[38;5;33mReLU\u001b[0m)   │ (\u001b[38;5;45mNone\u001b[0m, \u001b[38;5;34m112\u001b[0m, \u001b[38;5;34m112\u001b[0m,  │          \u001b[38;5;34m0\u001b[0m │ bn_Conv1[\u001b[38;5;34m0\u001b[0m][\u001b[38;5;34m0\u001b[0m]    │\n",
       "│                     │ \u001b[38;5;34m32\u001b[0m)               │            │                   │\n",
       "├─────────────────────┼───────────────────┼────────────┼───────────────────┤\n",
       "│ expanded_conv_dept… │ (\u001b[38;5;45mNone\u001b[0m, \u001b[38;5;34m112\u001b[0m, \u001b[38;5;34m112\u001b[0m,  │        \u001b[38;5;34m288\u001b[0m │ Conv1_relu[\u001b[38;5;34m0\u001b[0m][\u001b[38;5;34m0\u001b[0m]  │\n",
       "│ (\u001b[38;5;33mDepthwiseConv2D\u001b[0m)   │ \u001b[38;5;34m32\u001b[0m)               │            │                   │\n",
       "├─────────────────────┼───────────────────┼────────────┼───────────────────┤\n",
       "│ expanded_conv_dept… │ (\u001b[38;5;45mNone\u001b[0m, \u001b[38;5;34m112\u001b[0m, \u001b[38;5;34m112\u001b[0m,  │        \u001b[38;5;34m128\u001b[0m │ expanded_conv_de… │\n",
       "│ (\u001b[38;5;33mBatchNormalizatio…\u001b[0m │ \u001b[38;5;34m32\u001b[0m)               │            │                   │\n",
       "├─────────────────────┼───────────────────┼────────────┼───────────────────┤\n",
       "│ expanded_conv_dept… │ (\u001b[38;5;45mNone\u001b[0m, \u001b[38;5;34m112\u001b[0m, \u001b[38;5;34m112\u001b[0m,  │          \u001b[38;5;34m0\u001b[0m │ expanded_conv_de… │\n",
       "│ (\u001b[38;5;33mReLU\u001b[0m)              │ \u001b[38;5;34m32\u001b[0m)               │            │                   │\n",
       "├─────────────────────┼───────────────────┼────────────┼───────────────────┤\n",
       "│ expanded_conv_proj… │ (\u001b[38;5;45mNone\u001b[0m, \u001b[38;5;34m112\u001b[0m, \u001b[38;5;34m112\u001b[0m,  │        \u001b[38;5;34m512\u001b[0m │ expanded_conv_de… │\n",
       "│ (\u001b[38;5;33mConv2D\u001b[0m)            │ \u001b[38;5;34m16\u001b[0m)               │            │                   │\n",
       "├─────────────────────┼───────────────────┼────────────┼───────────────────┤\n",
       "│ expanded_conv_proj… │ (\u001b[38;5;45mNone\u001b[0m, \u001b[38;5;34m112\u001b[0m, \u001b[38;5;34m112\u001b[0m,  │         \u001b[38;5;34m64\u001b[0m │ expanded_conv_pr… │\n",
       "│ (\u001b[38;5;33mBatchNormalizatio…\u001b[0m │ \u001b[38;5;34m16\u001b[0m)               │            │                   │\n",
       "├─────────────────────┼───────────────────┼────────────┼───────────────────┤\n",
       "│ block_1_expand      │ (\u001b[38;5;45mNone\u001b[0m, \u001b[38;5;34m112\u001b[0m, \u001b[38;5;34m112\u001b[0m,  │      \u001b[38;5;34m1,536\u001b[0m │ expanded_conv_pr… │\n",
       "│ (\u001b[38;5;33mConv2D\u001b[0m)            │ \u001b[38;5;34m96\u001b[0m)               │            │                   │\n",
       "├─────────────────────┼───────────────────┼────────────┼───────────────────┤\n",
       "│ block_1_expand_BN   │ (\u001b[38;5;45mNone\u001b[0m, \u001b[38;5;34m112\u001b[0m, \u001b[38;5;34m112\u001b[0m,  │        \u001b[38;5;34m384\u001b[0m │ block_1_expand[\u001b[38;5;34m0\u001b[0m… │\n",
       "│ (\u001b[38;5;33mBatchNormalizatio…\u001b[0m │ \u001b[38;5;34m96\u001b[0m)               │            │                   │\n",
       "├─────────────────────┼───────────────────┼────────────┼───────────────────┤\n",
       "│ block_1_expand_relu │ (\u001b[38;5;45mNone\u001b[0m, \u001b[38;5;34m112\u001b[0m, \u001b[38;5;34m112\u001b[0m,  │          \u001b[38;5;34m0\u001b[0m │ block_1_expand_B… │\n",
       "│ (\u001b[38;5;33mReLU\u001b[0m)              │ \u001b[38;5;34m96\u001b[0m)               │            │                   │\n",
       "├─────────────────────┼───────────────────┼────────────┼───────────────────┤\n",
       "│ block_1_pad         │ (\u001b[38;5;45mNone\u001b[0m, \u001b[38;5;34m113\u001b[0m, \u001b[38;5;34m113\u001b[0m,  │          \u001b[38;5;34m0\u001b[0m │ block_1_expand_r… │\n",
       "│ (\u001b[38;5;33mZeroPadding2D\u001b[0m)     │ \u001b[38;5;34m96\u001b[0m)               │            │                   │\n",
       "├─────────────────────┼───────────────────┼────────────┼───────────────────┤\n",
       "│ block_1_depthwise   │ (\u001b[38;5;45mNone\u001b[0m, \u001b[38;5;34m56\u001b[0m, \u001b[38;5;34m56\u001b[0m,    │        \u001b[38;5;34m864\u001b[0m │ block_1_pad[\u001b[38;5;34m0\u001b[0m][\u001b[38;5;34m0\u001b[0m] │\n",
       "│ (\u001b[38;5;33mDepthwiseConv2D\u001b[0m)   │ \u001b[38;5;34m96\u001b[0m)               │            │                   │\n",
       "├─────────────────────┼───────────────────┼────────────┼───────────────────┤\n",
       "│ block_1_depthwise_… │ (\u001b[38;5;45mNone\u001b[0m, \u001b[38;5;34m56\u001b[0m, \u001b[38;5;34m56\u001b[0m,    │        \u001b[38;5;34m384\u001b[0m │ block_1_depthwis… │\n",
       "│ (\u001b[38;5;33mBatchNormalizatio…\u001b[0m │ \u001b[38;5;34m96\u001b[0m)               │            │                   │\n",
       "├─────────────────────┼───────────────────┼────────────┼───────────────────┤\n",
       "│ block_1_depthwise_… │ (\u001b[38;5;45mNone\u001b[0m, \u001b[38;5;34m56\u001b[0m, \u001b[38;5;34m56\u001b[0m,    │          \u001b[38;5;34m0\u001b[0m │ block_1_depthwis… │\n",
       "│ (\u001b[38;5;33mReLU\u001b[0m)              │ \u001b[38;5;34m96\u001b[0m)               │            │                   │\n",
       "├─────────────────────┼───────────────────┼────────────┼───────────────────┤\n",
       "│ block_1_project     │ (\u001b[38;5;45mNone\u001b[0m, \u001b[38;5;34m56\u001b[0m, \u001b[38;5;34m56\u001b[0m,    │      \u001b[38;5;34m2,304\u001b[0m │ block_1_depthwis… │\n",
       "│ (\u001b[38;5;33mConv2D\u001b[0m)            │ \u001b[38;5;34m24\u001b[0m)               │            │                   │\n",
       "├─────────────────────┼───────────────────┼────────────┼───────────────────┤\n",
       "│ block_1_project_BN  │ (\u001b[38;5;45mNone\u001b[0m, \u001b[38;5;34m56\u001b[0m, \u001b[38;5;34m56\u001b[0m,    │         \u001b[38;5;34m96\u001b[0m │ block_1_project[\u001b[38;5;34m…\u001b[0m │\n",
       "│ (\u001b[38;5;33mBatchNormalizatio…\u001b[0m │ \u001b[38;5;34m24\u001b[0m)               │            │                   │\n",
       "├─────────────────────┼───────────────────┼────────────┼───────────────────┤\n",
       "│ block_2_expand      │ (\u001b[38;5;45mNone\u001b[0m, \u001b[38;5;34m56\u001b[0m, \u001b[38;5;34m56\u001b[0m,    │      \u001b[38;5;34m3,456\u001b[0m │ block_1_project_… │\n",
       "│ (\u001b[38;5;33mConv2D\u001b[0m)            │ \u001b[38;5;34m144\u001b[0m)              │            │                   │\n",
       "├─────────────────────┼───────────────────┼────────────┼───────────────────┤\n",
       "│ block_2_expand_BN   │ (\u001b[38;5;45mNone\u001b[0m, \u001b[38;5;34m56\u001b[0m, \u001b[38;5;34m56\u001b[0m,    │        \u001b[38;5;34m576\u001b[0m │ block_2_expand[\u001b[38;5;34m0\u001b[0m… │\n",
       "│ (\u001b[38;5;33mBatchNormalizatio…\u001b[0m │ \u001b[38;5;34m144\u001b[0m)              │            │                   │\n",
       "├─────────────────────┼───────────────────┼────────────┼───────────────────┤\n",
       "│ block_2_expand_relu │ (\u001b[38;5;45mNone\u001b[0m, \u001b[38;5;34m56\u001b[0m, \u001b[38;5;34m56\u001b[0m,    │          \u001b[38;5;34m0\u001b[0m │ block_2_expand_B… │\n",
       "│ (\u001b[38;5;33mReLU\u001b[0m)              │ \u001b[38;5;34m144\u001b[0m)              │            │                   │\n",
       "├─────────────────────┼───────────────────┼────────────┼───────────────────┤\n",
       "│ block_2_depthwise   │ (\u001b[38;5;45mNone\u001b[0m, \u001b[38;5;34m56\u001b[0m, \u001b[38;5;34m56\u001b[0m,    │      \u001b[38;5;34m1,296\u001b[0m │ block_2_expand_r… │\n",
       "│ (\u001b[38;5;33mDepthwiseConv2D\u001b[0m)   │ \u001b[38;5;34m144\u001b[0m)              │            │                   │\n",
       "├─────────────────────┼───────────────────┼────────────┼───────────────────┤\n",
       "│ block_2_depthwise_… │ (\u001b[38;5;45mNone\u001b[0m, \u001b[38;5;34m56\u001b[0m, \u001b[38;5;34m56\u001b[0m,    │        \u001b[38;5;34m576\u001b[0m │ block_2_depthwis… │\n",
       "│ (\u001b[38;5;33mBatchNormalizatio…\u001b[0m │ \u001b[38;5;34m144\u001b[0m)              │            │                   │\n",
       "├─────────────────────┼───────────────────┼────────────┼───────────────────┤\n",
       "│ block_2_depthwise_… │ (\u001b[38;5;45mNone\u001b[0m, \u001b[38;5;34m56\u001b[0m, \u001b[38;5;34m56\u001b[0m,    │          \u001b[38;5;34m0\u001b[0m │ block_2_depthwis… │\n",
       "│ (\u001b[38;5;33mReLU\u001b[0m)              │ \u001b[38;5;34m144\u001b[0m)              │            │                   │\n",
       "├─────────────────────┼───────────────────┼────────────┼───────────────────┤\n",
       "│ block_2_project     │ (\u001b[38;5;45mNone\u001b[0m, \u001b[38;5;34m56\u001b[0m, \u001b[38;5;34m56\u001b[0m,    │      \u001b[38;5;34m3,456\u001b[0m │ block_2_depthwis… │\n",
       "│ (\u001b[38;5;33mConv2D\u001b[0m)            │ \u001b[38;5;34m24\u001b[0m)               │            │                   │\n",
       "├─────────────────────┼───────────────────┼────────────┼───────────────────┤\n",
       "│ block_2_project_BN  │ (\u001b[38;5;45mNone\u001b[0m, \u001b[38;5;34m56\u001b[0m, \u001b[38;5;34m56\u001b[0m,    │         \u001b[38;5;34m96\u001b[0m │ block_2_project[\u001b[38;5;34m…\u001b[0m │\n",
       "│ (\u001b[38;5;33mBatchNormalizatio…\u001b[0m │ \u001b[38;5;34m24\u001b[0m)               │            │                   │\n",
       "├─────────────────────┼───────────────────┼────────────┼───────────────────┤\n",
       "│ block_2_add (\u001b[38;5;33mAdd\u001b[0m)   │ (\u001b[38;5;45mNone\u001b[0m, \u001b[38;5;34m56\u001b[0m, \u001b[38;5;34m56\u001b[0m,    │          \u001b[38;5;34m0\u001b[0m │ block_1_project_… │\n",
       "│                     │ \u001b[38;5;34m24\u001b[0m)               │            │ block_2_project_… │\n",
       "├─────────────────────┼───────────────────┼────────────┼───────────────────┤\n",
       "│ block_3_expand      │ (\u001b[38;5;45mNone\u001b[0m, \u001b[38;5;34m56\u001b[0m, \u001b[38;5;34m56\u001b[0m,    │      \u001b[38;5;34m3,456\u001b[0m │ block_2_add[\u001b[38;5;34m0\u001b[0m][\u001b[38;5;34m0\u001b[0m] │\n",
       "│ (\u001b[38;5;33mConv2D\u001b[0m)            │ \u001b[38;5;34m144\u001b[0m)              │            │                   │\n",
       "├─────────────────────┼───────────────────┼────────────┼───────────────────┤\n",
       "│ block_3_expand_BN   │ (\u001b[38;5;45mNone\u001b[0m, \u001b[38;5;34m56\u001b[0m, \u001b[38;5;34m56\u001b[0m,    │        \u001b[38;5;34m576\u001b[0m │ block_3_expand[\u001b[38;5;34m0\u001b[0m… │\n",
       "│ (\u001b[38;5;33mBatchNormalizatio…\u001b[0m │ \u001b[38;5;34m144\u001b[0m)              │            │                   │\n",
       "├─────────────────────┼───────────────────┼────────────┼───────────────────┤\n",
       "│ block_3_expand_relu │ (\u001b[38;5;45mNone\u001b[0m, \u001b[38;5;34m56\u001b[0m, \u001b[38;5;34m56\u001b[0m,    │          \u001b[38;5;34m0\u001b[0m │ block_3_expand_B… │\n",
       "│ (\u001b[38;5;33mReLU\u001b[0m)              │ \u001b[38;5;34m144\u001b[0m)              │            │                   │\n",
       "├─────────────────────┼───────────────────┼────────────┼───────────────────┤\n",
       "│ block_3_pad         │ (\u001b[38;5;45mNone\u001b[0m, \u001b[38;5;34m57\u001b[0m, \u001b[38;5;34m57\u001b[0m,    │          \u001b[38;5;34m0\u001b[0m │ block_3_expand_r… │\n",
       "│ (\u001b[38;5;33mZeroPadding2D\u001b[0m)     │ \u001b[38;5;34m144\u001b[0m)              │            │                   │\n",
       "├─────────────────────┼───────────────────┼────────────┼───────────────────┤\n",
       "│ block_3_depthwise   │ (\u001b[38;5;45mNone\u001b[0m, \u001b[38;5;34m28\u001b[0m, \u001b[38;5;34m28\u001b[0m,    │      \u001b[38;5;34m1,296\u001b[0m │ block_3_pad[\u001b[38;5;34m0\u001b[0m][\u001b[38;5;34m0\u001b[0m] │\n",
       "│ (\u001b[38;5;33mDepthwiseConv2D\u001b[0m)   │ \u001b[38;5;34m144\u001b[0m)              │            │                   │\n",
       "├─────────────────────┼───────────────────┼────────────┼───────────────────┤\n",
       "│ block_3_depthwise_… │ (\u001b[38;5;45mNone\u001b[0m, \u001b[38;5;34m28\u001b[0m, \u001b[38;5;34m28\u001b[0m,    │        \u001b[38;5;34m576\u001b[0m │ block_3_depthwis… │\n",
       "│ (\u001b[38;5;33mBatchNormalizatio…\u001b[0m │ \u001b[38;5;34m144\u001b[0m)              │            │                   │\n",
       "├─────────────────────┼───────────────────┼────────────┼───────────────────┤\n",
       "│ block_3_depthwise_… │ (\u001b[38;5;45mNone\u001b[0m, \u001b[38;5;34m28\u001b[0m, \u001b[38;5;34m28\u001b[0m,    │          \u001b[38;5;34m0\u001b[0m │ block_3_depthwis… │\n",
       "│ (\u001b[38;5;33mReLU\u001b[0m)              │ \u001b[38;5;34m144\u001b[0m)              │            │                   │\n",
       "├─────────────────────┼───────────────────┼────────────┼───────────────────┤\n",
       "│ block_3_project     │ (\u001b[38;5;45mNone\u001b[0m, \u001b[38;5;34m28\u001b[0m, \u001b[38;5;34m28\u001b[0m,    │      \u001b[38;5;34m4,608\u001b[0m │ block_3_depthwis… │\n",
       "│ (\u001b[38;5;33mConv2D\u001b[0m)            │ \u001b[38;5;34m32\u001b[0m)               │            │                   │\n",
       "├─────────────────────┼───────────────────┼────────────┼───────────────────┤\n",
       "│ block_3_project_BN  │ (\u001b[38;5;45mNone\u001b[0m, \u001b[38;5;34m28\u001b[0m, \u001b[38;5;34m28\u001b[0m,    │        \u001b[38;5;34m128\u001b[0m │ block_3_project[\u001b[38;5;34m…\u001b[0m │\n",
       "│ (\u001b[38;5;33mBatchNormalizatio…\u001b[0m │ \u001b[38;5;34m32\u001b[0m)               │            │                   │\n",
       "├─────────────────────┼───────────────────┼────────────┼───────────────────┤\n",
       "│ block_4_expand      │ (\u001b[38;5;45mNone\u001b[0m, \u001b[38;5;34m28\u001b[0m, \u001b[38;5;34m28\u001b[0m,    │      \u001b[38;5;34m6,144\u001b[0m │ block_3_project_… │\n",
       "│ (\u001b[38;5;33mConv2D\u001b[0m)            │ \u001b[38;5;34m192\u001b[0m)              │            │                   │\n",
       "├─────────────────────┼───────────────────┼────────────┼───────────────────┤\n",
       "│ block_4_expand_BN   │ (\u001b[38;5;45mNone\u001b[0m, \u001b[38;5;34m28\u001b[0m, \u001b[38;5;34m28\u001b[0m,    │        \u001b[38;5;34m768\u001b[0m │ block_4_expand[\u001b[38;5;34m0\u001b[0m… │\n",
       "│ (\u001b[38;5;33mBatchNormalizatio…\u001b[0m │ \u001b[38;5;34m192\u001b[0m)              │            │                   │\n",
       "├─────────────────────┼───────────────────┼────────────┼───────────────────┤\n",
       "│ block_4_expand_relu │ (\u001b[38;5;45mNone\u001b[0m, \u001b[38;5;34m28\u001b[0m, \u001b[38;5;34m28\u001b[0m,    │          \u001b[38;5;34m0\u001b[0m │ block_4_expand_B… │\n",
       "│ (\u001b[38;5;33mReLU\u001b[0m)              │ \u001b[38;5;34m192\u001b[0m)              │            │                   │\n",
       "├─────────────────────┼───────────────────┼────────────┼───────────────────┤\n",
       "│ block_4_depthwise   │ (\u001b[38;5;45mNone\u001b[0m, \u001b[38;5;34m28\u001b[0m, \u001b[38;5;34m28\u001b[0m,    │      \u001b[38;5;34m1,728\u001b[0m │ block_4_expand_r… │\n",
       "│ (\u001b[38;5;33mDepthwiseConv2D\u001b[0m)   │ \u001b[38;5;34m192\u001b[0m)              │            │                   │\n",
       "├─────────────────────┼───────────────────┼────────────┼───────────────────┤\n",
       "│ block_4_depthwise_… │ (\u001b[38;5;45mNone\u001b[0m, \u001b[38;5;34m28\u001b[0m, \u001b[38;5;34m28\u001b[0m,    │        \u001b[38;5;34m768\u001b[0m │ block_4_depthwis… │\n",
       "│ (\u001b[38;5;33mBatchNormalizatio…\u001b[0m │ \u001b[38;5;34m192\u001b[0m)              │            │                   │\n",
       "├─────────────────────┼───────────────────┼────────────┼───────────────────┤\n",
       "│ block_4_depthwise_… │ (\u001b[38;5;45mNone\u001b[0m, \u001b[38;5;34m28\u001b[0m, \u001b[38;5;34m28\u001b[0m,    │          \u001b[38;5;34m0\u001b[0m │ block_4_depthwis… │\n",
       "│ (\u001b[38;5;33mReLU\u001b[0m)              │ \u001b[38;5;34m192\u001b[0m)              │            │                   │\n",
       "├─────────────────────┼───────────────────┼────────────┼───────────────────┤\n",
       "│ block_4_project     │ (\u001b[38;5;45mNone\u001b[0m, \u001b[38;5;34m28\u001b[0m, \u001b[38;5;34m28\u001b[0m,    │      \u001b[38;5;34m6,144\u001b[0m │ block_4_depthwis… │\n",
       "│ (\u001b[38;5;33mConv2D\u001b[0m)            │ \u001b[38;5;34m32\u001b[0m)               │            │                   │\n",
       "├─────────────────────┼───────────────────┼────────────┼───────────────────┤\n",
       "│ block_4_project_BN  │ (\u001b[38;5;45mNone\u001b[0m, \u001b[38;5;34m28\u001b[0m, \u001b[38;5;34m28\u001b[0m,    │        \u001b[38;5;34m128\u001b[0m │ block_4_project[\u001b[38;5;34m…\u001b[0m │\n",
       "│ (\u001b[38;5;33mBatchNormalizatio…\u001b[0m │ \u001b[38;5;34m32\u001b[0m)               │            │                   │\n",
       "├─────────────────────┼───────────────────┼────────────┼───────────────────┤\n",
       "│ block_4_add (\u001b[38;5;33mAdd\u001b[0m)   │ (\u001b[38;5;45mNone\u001b[0m, \u001b[38;5;34m28\u001b[0m, \u001b[38;5;34m28\u001b[0m,    │          \u001b[38;5;34m0\u001b[0m │ block_3_project_… │\n",
       "│                     │ \u001b[38;5;34m32\u001b[0m)               │            │ block_4_project_… │\n",
       "├─────────────────────┼───────────────────┼────────────┼───────────────────┤\n",
       "│ block_5_expand      │ (\u001b[38;5;45mNone\u001b[0m, \u001b[38;5;34m28\u001b[0m, \u001b[38;5;34m28\u001b[0m,    │      \u001b[38;5;34m6,144\u001b[0m │ block_4_add[\u001b[38;5;34m0\u001b[0m][\u001b[38;5;34m0\u001b[0m] │\n",
       "│ (\u001b[38;5;33mConv2D\u001b[0m)            │ \u001b[38;5;34m192\u001b[0m)              │            │                   │\n",
       "├─────────────────────┼───────────────────┼────────────┼───────────────────┤\n",
       "│ block_5_expand_BN   │ (\u001b[38;5;45mNone\u001b[0m, \u001b[38;5;34m28\u001b[0m, \u001b[38;5;34m28\u001b[0m,    │        \u001b[38;5;34m768\u001b[0m │ block_5_expand[\u001b[38;5;34m0\u001b[0m… │\n",
       "│ (\u001b[38;5;33mBatchNormalizatio…\u001b[0m │ \u001b[38;5;34m192\u001b[0m)              │            │                   │\n",
       "├─────────────────────┼───────────────────┼────────────┼───────────────────┤\n",
       "│ block_5_expand_relu │ (\u001b[38;5;45mNone\u001b[0m, \u001b[38;5;34m28\u001b[0m, \u001b[38;5;34m28\u001b[0m,    │          \u001b[38;5;34m0\u001b[0m │ block_5_expand_B… │\n",
       "│ (\u001b[38;5;33mReLU\u001b[0m)              │ \u001b[38;5;34m192\u001b[0m)              │            │                   │\n",
       "├─────────────────────┼───────────────────┼────────────┼───────────────────┤\n",
       "│ block_5_depthwise   │ (\u001b[38;5;45mNone\u001b[0m, \u001b[38;5;34m28\u001b[0m, \u001b[38;5;34m28\u001b[0m,    │      \u001b[38;5;34m1,728\u001b[0m │ block_5_expand_r… │\n",
       "│ (\u001b[38;5;33mDepthwiseConv2D\u001b[0m)   │ \u001b[38;5;34m192\u001b[0m)              │            │                   │\n",
       "├─────────────────────┼───────────────────┼────────────┼───────────────────┤\n",
       "│ block_5_depthwise_… │ (\u001b[38;5;45mNone\u001b[0m, \u001b[38;5;34m28\u001b[0m, \u001b[38;5;34m28\u001b[0m,    │        \u001b[38;5;34m768\u001b[0m │ block_5_depthwis… │\n",
       "│ (\u001b[38;5;33mBatchNormalizatio…\u001b[0m │ \u001b[38;5;34m192\u001b[0m)              │            │                   │\n",
       "├─────────────────────┼───────────────────┼────────────┼───────────────────┤\n",
       "│ block_5_depthwise_… │ (\u001b[38;5;45mNone\u001b[0m, \u001b[38;5;34m28\u001b[0m, \u001b[38;5;34m28\u001b[0m,    │          \u001b[38;5;34m0\u001b[0m │ block_5_depthwis… │\n",
       "│ (\u001b[38;5;33mReLU\u001b[0m)              │ \u001b[38;5;34m192\u001b[0m)              │            │                   │\n",
       "├─────────────────────┼───────────────────┼────────────┼───────────────────┤\n",
       "│ block_5_project     │ (\u001b[38;5;45mNone\u001b[0m, \u001b[38;5;34m28\u001b[0m, \u001b[38;5;34m28\u001b[0m,    │      \u001b[38;5;34m6,144\u001b[0m │ block_5_depthwis… │\n",
       "│ (\u001b[38;5;33mConv2D\u001b[0m)            │ \u001b[38;5;34m32\u001b[0m)               │            │                   │\n",
       "├─────────────────────┼───────────────────┼────────────┼───────────────────┤\n",
       "│ block_5_project_BN  │ (\u001b[38;5;45mNone\u001b[0m, \u001b[38;5;34m28\u001b[0m, \u001b[38;5;34m28\u001b[0m,    │        \u001b[38;5;34m128\u001b[0m │ block_5_project[\u001b[38;5;34m…\u001b[0m │\n",
       "│ (\u001b[38;5;33mBatchNormalizatio…\u001b[0m │ \u001b[38;5;34m32\u001b[0m)               │            │                   │\n",
       "├─────────────────────┼───────────────────┼────────────┼───────────────────┤\n",
       "│ block_5_add (\u001b[38;5;33mAdd\u001b[0m)   │ (\u001b[38;5;45mNone\u001b[0m, \u001b[38;5;34m28\u001b[0m, \u001b[38;5;34m28\u001b[0m,    │          \u001b[38;5;34m0\u001b[0m │ block_4_add[\u001b[38;5;34m0\u001b[0m][\u001b[38;5;34m0\u001b[0m… │\n",
       "│                     │ \u001b[38;5;34m32\u001b[0m)               │            │ block_5_project_… │\n",
       "├─────────────────────┼───────────────────┼────────────┼───────────────────┤\n",
       "│ block_6_expand      │ (\u001b[38;5;45mNone\u001b[0m, \u001b[38;5;34m28\u001b[0m, \u001b[38;5;34m28\u001b[0m,    │      \u001b[38;5;34m6,144\u001b[0m │ block_5_add[\u001b[38;5;34m0\u001b[0m][\u001b[38;5;34m0\u001b[0m] │\n",
       "│ (\u001b[38;5;33mConv2D\u001b[0m)            │ \u001b[38;5;34m192\u001b[0m)              │            │                   │\n",
       "├─────────────────────┼───────────────────┼────────────┼───────────────────┤\n",
       "│ block_6_expand_BN   │ (\u001b[38;5;45mNone\u001b[0m, \u001b[38;5;34m28\u001b[0m, \u001b[38;5;34m28\u001b[0m,    │        \u001b[38;5;34m768\u001b[0m │ block_6_expand[\u001b[38;5;34m0\u001b[0m… │\n",
       "│ (\u001b[38;5;33mBatchNormalizatio…\u001b[0m │ \u001b[38;5;34m192\u001b[0m)              │            │                   │\n",
       "├─────────────────────┼───────────────────┼────────────┼───────────────────┤\n",
       "│ block_6_expand_relu │ (\u001b[38;5;45mNone\u001b[0m, \u001b[38;5;34m28\u001b[0m, \u001b[38;5;34m28\u001b[0m,    │          \u001b[38;5;34m0\u001b[0m │ block_6_expand_B… │\n",
       "│ (\u001b[38;5;33mReLU\u001b[0m)              │ \u001b[38;5;34m192\u001b[0m)              │            │                   │\n",
       "├─────────────────────┼───────────────────┼────────────┼───────────────────┤\n",
       "│ block_6_pad         │ (\u001b[38;5;45mNone\u001b[0m, \u001b[38;5;34m29\u001b[0m, \u001b[38;5;34m29\u001b[0m,    │          \u001b[38;5;34m0\u001b[0m │ block_6_expand_r… │\n",
       "│ (\u001b[38;5;33mZeroPadding2D\u001b[0m)     │ \u001b[38;5;34m192\u001b[0m)              │            │                   │\n",
       "├─────────────────────┼───────────────────┼────────────┼───────────────────┤\n",
       "│ block_6_depthwise   │ (\u001b[38;5;45mNone\u001b[0m, \u001b[38;5;34m14\u001b[0m, \u001b[38;5;34m14\u001b[0m,    │      \u001b[38;5;34m1,728\u001b[0m │ block_6_pad[\u001b[38;5;34m0\u001b[0m][\u001b[38;5;34m0\u001b[0m] │\n",
       "│ (\u001b[38;5;33mDepthwiseConv2D\u001b[0m)   │ \u001b[38;5;34m192\u001b[0m)              │            │                   │\n",
       "├─────────────────────┼───────────────────┼────────────┼───────────────────┤\n",
       "│ block_6_depthwise_… │ (\u001b[38;5;45mNone\u001b[0m, \u001b[38;5;34m14\u001b[0m, \u001b[38;5;34m14\u001b[0m,    │        \u001b[38;5;34m768\u001b[0m │ block_6_depthwis… │\n",
       "│ (\u001b[38;5;33mBatchNormalizatio…\u001b[0m │ \u001b[38;5;34m192\u001b[0m)              │            │                   │\n",
       "├─────────────────────┼───────────────────┼────────────┼───────────────────┤\n",
       "│ block_6_depthwise_… │ (\u001b[38;5;45mNone\u001b[0m, \u001b[38;5;34m14\u001b[0m, \u001b[38;5;34m14\u001b[0m,    │          \u001b[38;5;34m0\u001b[0m │ block_6_depthwis… │\n",
       "│ (\u001b[38;5;33mReLU\u001b[0m)              │ \u001b[38;5;34m192\u001b[0m)              │            │                   │\n",
       "├─────────────────────┼───────────────────┼────────────┼───────────────────┤\n",
       "│ block_6_project     │ (\u001b[38;5;45mNone\u001b[0m, \u001b[38;5;34m14\u001b[0m, \u001b[38;5;34m14\u001b[0m,    │     \u001b[38;5;34m12,288\u001b[0m │ block_6_depthwis… │\n",
       "│ (\u001b[38;5;33mConv2D\u001b[0m)            │ \u001b[38;5;34m64\u001b[0m)               │            │                   │\n",
       "├─────────────────────┼───────────────────┼────────────┼───────────────────┤\n",
       "│ block_6_project_BN  │ (\u001b[38;5;45mNone\u001b[0m, \u001b[38;5;34m14\u001b[0m, \u001b[38;5;34m14\u001b[0m,    │        \u001b[38;5;34m256\u001b[0m │ block_6_project[\u001b[38;5;34m…\u001b[0m │\n",
       "│ (\u001b[38;5;33mBatchNormalizatio…\u001b[0m │ \u001b[38;5;34m64\u001b[0m)               │            │                   │\n",
       "├─────────────────────┼───────────────────┼────────────┼───────────────────┤\n",
       "│ block_7_expand      │ (\u001b[38;5;45mNone\u001b[0m, \u001b[38;5;34m14\u001b[0m, \u001b[38;5;34m14\u001b[0m,    │     \u001b[38;5;34m24,576\u001b[0m │ block_6_project_… │\n",
       "│ (\u001b[38;5;33mConv2D\u001b[0m)            │ \u001b[38;5;34m384\u001b[0m)              │            │                   │\n",
       "├─────────────────────┼───────────────────┼────────────┼───────────────────┤\n",
       "│ block_7_expand_BN   │ (\u001b[38;5;45mNone\u001b[0m, \u001b[38;5;34m14\u001b[0m, \u001b[38;5;34m14\u001b[0m,    │      \u001b[38;5;34m1,536\u001b[0m │ block_7_expand[\u001b[38;5;34m0\u001b[0m… │\n",
       "│ (\u001b[38;5;33mBatchNormalizatio…\u001b[0m │ \u001b[38;5;34m384\u001b[0m)              │            │                   │\n",
       "├─────────────────────┼───────────────────┼────────────┼───────────────────┤\n",
       "│ block_7_expand_relu │ (\u001b[38;5;45mNone\u001b[0m, \u001b[38;5;34m14\u001b[0m, \u001b[38;5;34m14\u001b[0m,    │          \u001b[38;5;34m0\u001b[0m │ block_7_expand_B… │\n",
       "│ (\u001b[38;5;33mReLU\u001b[0m)              │ \u001b[38;5;34m384\u001b[0m)              │            │                   │\n",
       "├─────────────────────┼───────────────────┼────────────┼───────────────────┤\n",
       "│ block_7_depthwise   │ (\u001b[38;5;45mNone\u001b[0m, \u001b[38;5;34m14\u001b[0m, \u001b[38;5;34m14\u001b[0m,    │      \u001b[38;5;34m3,456\u001b[0m │ block_7_expand_r… │\n",
       "│ (\u001b[38;5;33mDepthwiseConv2D\u001b[0m)   │ \u001b[38;5;34m384\u001b[0m)              │            │                   │\n",
       "├─────────────────────┼───────────────────┼────────────┼───────────────────┤\n",
       "│ block_7_depthwise_… │ (\u001b[38;5;45mNone\u001b[0m, \u001b[38;5;34m14\u001b[0m, \u001b[38;5;34m14\u001b[0m,    │      \u001b[38;5;34m1,536\u001b[0m │ block_7_depthwis… │\n",
       "│ (\u001b[38;5;33mBatchNormalizatio…\u001b[0m │ \u001b[38;5;34m384\u001b[0m)              │            │                   │\n",
       "├─────────────────────┼───────────────────┼────────────┼───────────────────┤\n",
       "│ block_7_depthwise_… │ (\u001b[38;5;45mNone\u001b[0m, \u001b[38;5;34m14\u001b[0m, \u001b[38;5;34m14\u001b[0m,    │          \u001b[38;5;34m0\u001b[0m │ block_7_depthwis… │\n",
       "│ (\u001b[38;5;33mReLU\u001b[0m)              │ \u001b[38;5;34m384\u001b[0m)              │            │                   │\n",
       "├─────────────────────┼───────────────────┼────────────┼───────────────────┤\n",
       "│ block_7_project     │ (\u001b[38;5;45mNone\u001b[0m, \u001b[38;5;34m14\u001b[0m, \u001b[38;5;34m14\u001b[0m,    │     \u001b[38;5;34m24,576\u001b[0m │ block_7_depthwis… │\n",
       "│ (\u001b[38;5;33mConv2D\u001b[0m)            │ \u001b[38;5;34m64\u001b[0m)               │            │                   │\n",
       "├─────────────────────┼───────────────────┼────────────┼───────────────────┤\n",
       "│ block_7_project_BN  │ (\u001b[38;5;45mNone\u001b[0m, \u001b[38;5;34m14\u001b[0m, \u001b[38;5;34m14\u001b[0m,    │        \u001b[38;5;34m256\u001b[0m │ block_7_project[\u001b[38;5;34m…\u001b[0m │\n",
       "│ (\u001b[38;5;33mBatchNormalizatio…\u001b[0m │ \u001b[38;5;34m64\u001b[0m)               │            │                   │\n",
       "├─────────────────────┼───────────────────┼────────────┼───────────────────┤\n",
       "│ block_7_add (\u001b[38;5;33mAdd\u001b[0m)   │ (\u001b[38;5;45mNone\u001b[0m, \u001b[38;5;34m14\u001b[0m, \u001b[38;5;34m14\u001b[0m,    │          \u001b[38;5;34m0\u001b[0m │ block_6_project_… │\n",
       "│                     │ \u001b[38;5;34m64\u001b[0m)               │            │ block_7_project_… │\n",
       "├─────────────────────┼───────────────────┼────────────┼───────────────────┤\n",
       "│ block_8_expand      │ (\u001b[38;5;45mNone\u001b[0m, \u001b[38;5;34m14\u001b[0m, \u001b[38;5;34m14\u001b[0m,    │     \u001b[38;5;34m24,576\u001b[0m │ block_7_add[\u001b[38;5;34m0\u001b[0m][\u001b[38;5;34m0\u001b[0m] │\n",
       "│ (\u001b[38;5;33mConv2D\u001b[0m)            │ \u001b[38;5;34m384\u001b[0m)              │            │                   │\n",
       "├─────────────────────┼───────────────────┼────────────┼───────────────────┤\n",
       "│ block_8_expand_BN   │ (\u001b[38;5;45mNone\u001b[0m, \u001b[38;5;34m14\u001b[0m, \u001b[38;5;34m14\u001b[0m,    │      \u001b[38;5;34m1,536\u001b[0m │ block_8_expand[\u001b[38;5;34m0\u001b[0m… │\n",
       "│ (\u001b[38;5;33mBatchNormalizatio…\u001b[0m │ \u001b[38;5;34m384\u001b[0m)              │            │                   │\n",
       "├─────────────────────┼───────────────────┼────────────┼───────────────────┤\n",
       "│ block_8_expand_relu │ (\u001b[38;5;45mNone\u001b[0m, \u001b[38;5;34m14\u001b[0m, \u001b[38;5;34m14\u001b[0m,    │          \u001b[38;5;34m0\u001b[0m │ block_8_expand_B… │\n",
       "│ (\u001b[38;5;33mReLU\u001b[0m)              │ \u001b[38;5;34m384\u001b[0m)              │            │                   │\n",
       "├─────────────────────┼───────────────────┼────────────┼───────────────────┤\n",
       "│ block_8_depthwise   │ (\u001b[38;5;45mNone\u001b[0m, \u001b[38;5;34m14\u001b[0m, \u001b[38;5;34m14\u001b[0m,    │      \u001b[38;5;34m3,456\u001b[0m │ block_8_expand_r… │\n",
       "│ (\u001b[38;5;33mDepthwiseConv2D\u001b[0m)   │ \u001b[38;5;34m384\u001b[0m)              │            │                   │\n",
       "├─────────────────────┼───────────────────┼────────────┼───────────────────┤\n",
       "│ block_8_depthwise_… │ (\u001b[38;5;45mNone\u001b[0m, \u001b[38;5;34m14\u001b[0m, \u001b[38;5;34m14\u001b[0m,    │      \u001b[38;5;34m1,536\u001b[0m │ block_8_depthwis… │\n",
       "│ (\u001b[38;5;33mBatchNormalizatio…\u001b[0m │ \u001b[38;5;34m384\u001b[0m)              │            │                   │\n",
       "├─────────────────────┼───────────────────┼────────────┼───────────────────┤\n",
       "│ block_8_depthwise_… │ (\u001b[38;5;45mNone\u001b[0m, \u001b[38;5;34m14\u001b[0m, \u001b[38;5;34m14\u001b[0m,    │          \u001b[38;5;34m0\u001b[0m │ block_8_depthwis… │\n",
       "│ (\u001b[38;5;33mReLU\u001b[0m)              │ \u001b[38;5;34m384\u001b[0m)              │            │                   │\n",
       "├─────────────────────┼───────────────────┼────────────┼───────────────────┤\n",
       "│ block_8_project     │ (\u001b[38;5;45mNone\u001b[0m, \u001b[38;5;34m14\u001b[0m, \u001b[38;5;34m14\u001b[0m,    │     \u001b[38;5;34m24,576\u001b[0m │ block_8_depthwis… │\n",
       "│ (\u001b[38;5;33mConv2D\u001b[0m)            │ \u001b[38;5;34m64\u001b[0m)               │            │                   │\n",
       "├─────────────────────┼───────────────────┼────────────┼───────────────────┤\n",
       "│ block_8_project_BN  │ (\u001b[38;5;45mNone\u001b[0m, \u001b[38;5;34m14\u001b[0m, \u001b[38;5;34m14\u001b[0m,    │        \u001b[38;5;34m256\u001b[0m │ block_8_project[\u001b[38;5;34m…\u001b[0m │\n",
       "│ (\u001b[38;5;33mBatchNormalizatio…\u001b[0m │ \u001b[38;5;34m64\u001b[0m)               │            │                   │\n",
       "├─────────────────────┼───────────────────┼────────────┼───────────────────┤\n",
       "│ block_8_add (\u001b[38;5;33mAdd\u001b[0m)   │ (\u001b[38;5;45mNone\u001b[0m, \u001b[38;5;34m14\u001b[0m, \u001b[38;5;34m14\u001b[0m,    │          \u001b[38;5;34m0\u001b[0m │ block_7_add[\u001b[38;5;34m0\u001b[0m][\u001b[38;5;34m0\u001b[0m… │\n",
       "│                     │ \u001b[38;5;34m64\u001b[0m)               │            │ block_8_project_… │\n",
       "├─────────────────────┼───────────────────┼────────────┼───────────────────┤\n",
       "│ block_9_expand      │ (\u001b[38;5;45mNone\u001b[0m, \u001b[38;5;34m14\u001b[0m, \u001b[38;5;34m14\u001b[0m,    │     \u001b[38;5;34m24,576\u001b[0m │ block_8_add[\u001b[38;5;34m0\u001b[0m][\u001b[38;5;34m0\u001b[0m] │\n",
       "│ (\u001b[38;5;33mConv2D\u001b[0m)            │ \u001b[38;5;34m384\u001b[0m)              │            │                   │\n",
       "├─────────────────────┼───────────────────┼────────────┼───────────────────┤\n",
       "│ block_9_expand_BN   │ (\u001b[38;5;45mNone\u001b[0m, \u001b[38;5;34m14\u001b[0m, \u001b[38;5;34m14\u001b[0m,    │      \u001b[38;5;34m1,536\u001b[0m │ block_9_expand[\u001b[38;5;34m0\u001b[0m… │\n",
       "│ (\u001b[38;5;33mBatchNormalizatio…\u001b[0m │ \u001b[38;5;34m384\u001b[0m)              │            │                   │\n",
       "├─────────────────────┼───────────────────┼────────────┼───────────────────┤\n",
       "│ block_9_expand_relu │ (\u001b[38;5;45mNone\u001b[0m, \u001b[38;5;34m14\u001b[0m, \u001b[38;5;34m14\u001b[0m,    │          \u001b[38;5;34m0\u001b[0m │ block_9_expand_B… │\n",
       "│ (\u001b[38;5;33mReLU\u001b[0m)              │ \u001b[38;5;34m384\u001b[0m)              │            │                   │\n",
       "├─────────────────────┼───────────────────┼────────────┼───────────────────┤\n",
       "│ block_9_depthwise   │ (\u001b[38;5;45mNone\u001b[0m, \u001b[38;5;34m14\u001b[0m, \u001b[38;5;34m14\u001b[0m,    │      \u001b[38;5;34m3,456\u001b[0m │ block_9_expand_r… │\n",
       "│ (\u001b[38;5;33mDepthwiseConv2D\u001b[0m)   │ \u001b[38;5;34m384\u001b[0m)              │            │                   │\n",
       "├─────────────────────┼───────────────────┼────────────┼───────────────────┤\n",
       "│ block_9_depthwise_… │ (\u001b[38;5;45mNone\u001b[0m, \u001b[38;5;34m14\u001b[0m, \u001b[38;5;34m14\u001b[0m,    │      \u001b[38;5;34m1,536\u001b[0m │ block_9_depthwis… │\n",
       "│ (\u001b[38;5;33mBatchNormalizatio…\u001b[0m │ \u001b[38;5;34m384\u001b[0m)              │            │                   │\n",
       "├─────────────────────┼───────────────────┼────────────┼───────────────────┤\n",
       "│ block_9_depthwise_… │ (\u001b[38;5;45mNone\u001b[0m, \u001b[38;5;34m14\u001b[0m, \u001b[38;5;34m14\u001b[0m,    │          \u001b[38;5;34m0\u001b[0m │ block_9_depthwis… │\n",
       "│ (\u001b[38;5;33mReLU\u001b[0m)              │ \u001b[38;5;34m384\u001b[0m)              │            │                   │\n",
       "├─────────────────────┼───────────────────┼────────────┼───────────────────┤\n",
       "│ block_9_project     │ (\u001b[38;5;45mNone\u001b[0m, \u001b[38;5;34m14\u001b[0m, \u001b[38;5;34m14\u001b[0m,    │     \u001b[38;5;34m24,576\u001b[0m │ block_9_depthwis… │\n",
       "│ (\u001b[38;5;33mConv2D\u001b[0m)            │ \u001b[38;5;34m64\u001b[0m)               │            │                   │\n",
       "├─────────────────────┼───────────────────┼────────────┼───────────────────┤\n",
       "│ block_9_project_BN  │ (\u001b[38;5;45mNone\u001b[0m, \u001b[38;5;34m14\u001b[0m, \u001b[38;5;34m14\u001b[0m,    │        \u001b[38;5;34m256\u001b[0m │ block_9_project[\u001b[38;5;34m…\u001b[0m │\n",
       "│ (\u001b[38;5;33mBatchNormalizatio…\u001b[0m │ \u001b[38;5;34m64\u001b[0m)               │            │                   │\n",
       "├─────────────────────┼───────────────────┼────────────┼───────────────────┤\n",
       "│ block_9_add (\u001b[38;5;33mAdd\u001b[0m)   │ (\u001b[38;5;45mNone\u001b[0m, \u001b[38;5;34m14\u001b[0m, \u001b[38;5;34m14\u001b[0m,    │          \u001b[38;5;34m0\u001b[0m │ block_8_add[\u001b[38;5;34m0\u001b[0m][\u001b[38;5;34m0\u001b[0m… │\n",
       "│                     │ \u001b[38;5;34m64\u001b[0m)               │            │ block_9_project_… │\n",
       "├─────────────────────┼───────────────────┼────────────┼───────────────────┤\n",
       "│ block_10_expand     │ (\u001b[38;5;45mNone\u001b[0m, \u001b[38;5;34m14\u001b[0m, \u001b[38;5;34m14\u001b[0m,    │     \u001b[38;5;34m24,576\u001b[0m │ block_9_add[\u001b[38;5;34m0\u001b[0m][\u001b[38;5;34m0\u001b[0m] │\n",
       "│ (\u001b[38;5;33mConv2D\u001b[0m)            │ \u001b[38;5;34m384\u001b[0m)              │            │                   │\n",
       "├─────────────────────┼───────────────────┼────────────┼───────────────────┤\n",
       "│ block_10_expand_BN  │ (\u001b[38;5;45mNone\u001b[0m, \u001b[38;5;34m14\u001b[0m, \u001b[38;5;34m14\u001b[0m,    │      \u001b[38;5;34m1,536\u001b[0m │ block_10_expand[\u001b[38;5;34m…\u001b[0m │\n",
       "│ (\u001b[38;5;33mBatchNormalizatio…\u001b[0m │ \u001b[38;5;34m384\u001b[0m)              │            │                   │\n",
       "├─────────────────────┼───────────────────┼────────────┼───────────────────┤\n",
       "│ block_10_expand_re… │ (\u001b[38;5;45mNone\u001b[0m, \u001b[38;5;34m14\u001b[0m, \u001b[38;5;34m14\u001b[0m,    │          \u001b[38;5;34m0\u001b[0m │ block_10_expand_… │\n",
       "│ (\u001b[38;5;33mReLU\u001b[0m)              │ \u001b[38;5;34m384\u001b[0m)              │            │                   │\n",
       "├─────────────────────┼───────────────────┼────────────┼───────────────────┤\n",
       "│ block_10_depthwise  │ (\u001b[38;5;45mNone\u001b[0m, \u001b[38;5;34m14\u001b[0m, \u001b[38;5;34m14\u001b[0m,    │      \u001b[38;5;34m3,456\u001b[0m │ block_10_expand_… │\n",
       "│ (\u001b[38;5;33mDepthwiseConv2D\u001b[0m)   │ \u001b[38;5;34m384\u001b[0m)              │            │                   │\n",
       "├─────────────────────┼───────────────────┼────────────┼───────────────────┤\n",
       "│ block_10_depthwise… │ (\u001b[38;5;45mNone\u001b[0m, \u001b[38;5;34m14\u001b[0m, \u001b[38;5;34m14\u001b[0m,    │      \u001b[38;5;34m1,536\u001b[0m │ block_10_depthwi… │\n",
       "│ (\u001b[38;5;33mBatchNormalizatio…\u001b[0m │ \u001b[38;5;34m384\u001b[0m)              │            │                   │\n",
       "├─────────────────────┼───────────────────┼────────────┼───────────────────┤\n",
       "│ block_10_depthwise… │ (\u001b[38;5;45mNone\u001b[0m, \u001b[38;5;34m14\u001b[0m, \u001b[38;5;34m14\u001b[0m,    │          \u001b[38;5;34m0\u001b[0m │ block_10_depthwi… │\n",
       "│ (\u001b[38;5;33mReLU\u001b[0m)              │ \u001b[38;5;34m384\u001b[0m)              │            │                   │\n",
       "├─────────────────────┼───────────────────┼────────────┼───────────────────┤\n",
       "│ block_10_project    │ (\u001b[38;5;45mNone\u001b[0m, \u001b[38;5;34m14\u001b[0m, \u001b[38;5;34m14\u001b[0m,    │     \u001b[38;5;34m36,864\u001b[0m │ block_10_depthwi… │\n",
       "│ (\u001b[38;5;33mConv2D\u001b[0m)            │ \u001b[38;5;34m96\u001b[0m)               │            │                   │\n",
       "├─────────────────────┼───────────────────┼────────────┼───────────────────┤\n",
       "│ block_10_project_BN │ (\u001b[38;5;45mNone\u001b[0m, \u001b[38;5;34m14\u001b[0m, \u001b[38;5;34m14\u001b[0m,    │        \u001b[38;5;34m384\u001b[0m │ block_10_project… │\n",
       "│ (\u001b[38;5;33mBatchNormalizatio…\u001b[0m │ \u001b[38;5;34m96\u001b[0m)               │            │                   │\n",
       "├─────────────────────┼───────────────────┼────────────┼───────────────────┤\n",
       "│ block_11_expand     │ (\u001b[38;5;45mNone\u001b[0m, \u001b[38;5;34m14\u001b[0m, \u001b[38;5;34m14\u001b[0m,    │     \u001b[38;5;34m55,296\u001b[0m │ block_10_project… │\n",
       "│ (\u001b[38;5;33mConv2D\u001b[0m)            │ \u001b[38;5;34m576\u001b[0m)              │            │                   │\n",
       "├─────────────────────┼───────────────────┼────────────┼───────────────────┤\n",
       "│ block_11_expand_BN  │ (\u001b[38;5;45mNone\u001b[0m, \u001b[38;5;34m14\u001b[0m, \u001b[38;5;34m14\u001b[0m,    │      \u001b[38;5;34m2,304\u001b[0m │ block_11_expand[\u001b[38;5;34m…\u001b[0m │\n",
       "│ (\u001b[38;5;33mBatchNormalizatio…\u001b[0m │ \u001b[38;5;34m576\u001b[0m)              │            │                   │\n",
       "├─────────────────────┼───────────────────┼────────────┼───────────────────┤\n",
       "│ block_11_expand_re… │ (\u001b[38;5;45mNone\u001b[0m, \u001b[38;5;34m14\u001b[0m, \u001b[38;5;34m14\u001b[0m,    │          \u001b[38;5;34m0\u001b[0m │ block_11_expand_… │\n",
       "│ (\u001b[38;5;33mReLU\u001b[0m)              │ \u001b[38;5;34m576\u001b[0m)              │            │                   │\n",
       "├─────────────────────┼───────────────────┼────────────┼───────────────────┤\n",
       "│ block_11_depthwise  │ (\u001b[38;5;45mNone\u001b[0m, \u001b[38;5;34m14\u001b[0m, \u001b[38;5;34m14\u001b[0m,    │      \u001b[38;5;34m5,184\u001b[0m │ block_11_expand_… │\n",
       "│ (\u001b[38;5;33mDepthwiseConv2D\u001b[0m)   │ \u001b[38;5;34m576\u001b[0m)              │            │                   │\n",
       "├─────────────────────┼───────────────────┼────────────┼───────────────────┤\n",
       "│ block_11_depthwise… │ (\u001b[38;5;45mNone\u001b[0m, \u001b[38;5;34m14\u001b[0m, \u001b[38;5;34m14\u001b[0m,    │      \u001b[38;5;34m2,304\u001b[0m │ block_11_depthwi… │\n",
       "│ (\u001b[38;5;33mBatchNormalizatio…\u001b[0m │ \u001b[38;5;34m576\u001b[0m)              │            │                   │\n",
       "├─────────────────────┼───────────────────┼────────────┼───────────────────┤\n",
       "│ block_11_depthwise… │ (\u001b[38;5;45mNone\u001b[0m, \u001b[38;5;34m14\u001b[0m, \u001b[38;5;34m14\u001b[0m,    │          \u001b[38;5;34m0\u001b[0m │ block_11_depthwi… │\n",
       "│ (\u001b[38;5;33mReLU\u001b[0m)              │ \u001b[38;5;34m576\u001b[0m)              │            │                   │\n",
       "├─────────────────────┼───────────────────┼────────────┼───────────────────┤\n",
       "│ block_11_project    │ (\u001b[38;5;45mNone\u001b[0m, \u001b[38;5;34m14\u001b[0m, \u001b[38;5;34m14\u001b[0m,    │     \u001b[38;5;34m55,296\u001b[0m │ block_11_depthwi… │\n",
       "│ (\u001b[38;5;33mConv2D\u001b[0m)            │ \u001b[38;5;34m96\u001b[0m)               │            │                   │\n",
       "├─────────────────────┼───────────────────┼────────────┼───────────────────┤\n",
       "│ block_11_project_BN │ (\u001b[38;5;45mNone\u001b[0m, \u001b[38;5;34m14\u001b[0m, \u001b[38;5;34m14\u001b[0m,    │        \u001b[38;5;34m384\u001b[0m │ block_11_project… │\n",
       "│ (\u001b[38;5;33mBatchNormalizatio…\u001b[0m │ \u001b[38;5;34m96\u001b[0m)               │            │                   │\n",
       "├─────────────────────┼───────────────────┼────────────┼───────────────────┤\n",
       "│ block_11_add (\u001b[38;5;33mAdd\u001b[0m)  │ (\u001b[38;5;45mNone\u001b[0m, \u001b[38;5;34m14\u001b[0m, \u001b[38;5;34m14\u001b[0m,    │          \u001b[38;5;34m0\u001b[0m │ block_10_project… │\n",
       "│                     │ \u001b[38;5;34m96\u001b[0m)               │            │ block_11_project… │\n",
       "├─────────────────────┼───────────────────┼────────────┼───────────────────┤\n",
       "│ block_12_expand     │ (\u001b[38;5;45mNone\u001b[0m, \u001b[38;5;34m14\u001b[0m, \u001b[38;5;34m14\u001b[0m,    │     \u001b[38;5;34m55,296\u001b[0m │ block_11_add[\u001b[38;5;34m0\u001b[0m][\u001b[38;5;34m…\u001b[0m │\n",
       "│ (\u001b[38;5;33mConv2D\u001b[0m)            │ \u001b[38;5;34m576\u001b[0m)              │            │                   │\n",
       "├─────────────────────┼───────────────────┼────────────┼───────────────────┤\n",
       "│ block_12_expand_BN  │ (\u001b[38;5;45mNone\u001b[0m, \u001b[38;5;34m14\u001b[0m, \u001b[38;5;34m14\u001b[0m,    │      \u001b[38;5;34m2,304\u001b[0m │ block_12_expand[\u001b[38;5;34m…\u001b[0m │\n",
       "│ (\u001b[38;5;33mBatchNormalizatio…\u001b[0m │ \u001b[38;5;34m576\u001b[0m)              │            │                   │\n",
       "├─────────────────────┼───────────────────┼────────────┼───────────────────┤\n",
       "│ block_12_expand_re… │ (\u001b[38;5;45mNone\u001b[0m, \u001b[38;5;34m14\u001b[0m, \u001b[38;5;34m14\u001b[0m,    │          \u001b[38;5;34m0\u001b[0m │ block_12_expand_… │\n",
       "│ (\u001b[38;5;33mReLU\u001b[0m)              │ \u001b[38;5;34m576\u001b[0m)              │            │                   │\n",
       "├─────────────────────┼───────────────────┼────────────┼───────────────────┤\n",
       "│ block_12_depthwise  │ (\u001b[38;5;45mNone\u001b[0m, \u001b[38;5;34m14\u001b[0m, \u001b[38;5;34m14\u001b[0m,    │      \u001b[38;5;34m5,184\u001b[0m │ block_12_expand_… │\n",
       "│ (\u001b[38;5;33mDepthwiseConv2D\u001b[0m)   │ \u001b[38;5;34m576\u001b[0m)              │            │                   │\n",
       "├─────────────────────┼───────────────────┼────────────┼───────────────────┤\n",
       "│ block_12_depthwise… │ (\u001b[38;5;45mNone\u001b[0m, \u001b[38;5;34m14\u001b[0m, \u001b[38;5;34m14\u001b[0m,    │      \u001b[38;5;34m2,304\u001b[0m │ block_12_depthwi… │\n",
       "│ (\u001b[38;5;33mBatchNormalizatio…\u001b[0m │ \u001b[38;5;34m576\u001b[0m)              │            │                   │\n",
       "├─────────────────────┼───────────────────┼────────────┼───────────────────┤\n",
       "│ block_12_depthwise… │ (\u001b[38;5;45mNone\u001b[0m, \u001b[38;5;34m14\u001b[0m, \u001b[38;5;34m14\u001b[0m,    │          \u001b[38;5;34m0\u001b[0m │ block_12_depthwi… │\n",
       "│ (\u001b[38;5;33mReLU\u001b[0m)              │ \u001b[38;5;34m576\u001b[0m)              │            │                   │\n",
       "├─────────────────────┼───────────────────┼────────────┼───────────────────┤\n",
       "│ block_12_project    │ (\u001b[38;5;45mNone\u001b[0m, \u001b[38;5;34m14\u001b[0m, \u001b[38;5;34m14\u001b[0m,    │     \u001b[38;5;34m55,296\u001b[0m │ block_12_depthwi… │\n",
       "│ (\u001b[38;5;33mConv2D\u001b[0m)            │ \u001b[38;5;34m96\u001b[0m)               │            │                   │\n",
       "├─────────────────────┼───────────────────┼────────────┼───────────────────┤\n",
       "│ block_12_project_BN │ (\u001b[38;5;45mNone\u001b[0m, \u001b[38;5;34m14\u001b[0m, \u001b[38;5;34m14\u001b[0m,    │        \u001b[38;5;34m384\u001b[0m │ block_12_project… │\n",
       "│ (\u001b[38;5;33mBatchNormalizatio…\u001b[0m │ \u001b[38;5;34m96\u001b[0m)               │            │                   │\n",
       "├─────────────────────┼───────────────────┼────────────┼───────────────────┤\n",
       "│ block_12_add (\u001b[38;5;33mAdd\u001b[0m)  │ (\u001b[38;5;45mNone\u001b[0m, \u001b[38;5;34m14\u001b[0m, \u001b[38;5;34m14\u001b[0m,    │          \u001b[38;5;34m0\u001b[0m │ block_11_add[\u001b[38;5;34m0\u001b[0m][\u001b[38;5;34m…\u001b[0m │\n",
       "│                     │ \u001b[38;5;34m96\u001b[0m)               │            │ block_12_project… │\n",
       "├─────────────────────┼───────────────────┼────────────┼───────────────────┤\n",
       "│ block_13_expand     │ (\u001b[38;5;45mNone\u001b[0m, \u001b[38;5;34m14\u001b[0m, \u001b[38;5;34m14\u001b[0m,    │     \u001b[38;5;34m55,296\u001b[0m │ block_12_add[\u001b[38;5;34m0\u001b[0m][\u001b[38;5;34m…\u001b[0m │\n",
       "│ (\u001b[38;5;33mConv2D\u001b[0m)            │ \u001b[38;5;34m576\u001b[0m)              │            │                   │\n",
       "├─────────────────────┼───────────────────┼────────────┼───────────────────┤\n",
       "│ block_13_expand_BN  │ (\u001b[38;5;45mNone\u001b[0m, \u001b[38;5;34m14\u001b[0m, \u001b[38;5;34m14\u001b[0m,    │      \u001b[38;5;34m2,304\u001b[0m │ block_13_expand[\u001b[38;5;34m…\u001b[0m │\n",
       "│ (\u001b[38;5;33mBatchNormalizatio…\u001b[0m │ \u001b[38;5;34m576\u001b[0m)              │            │                   │\n",
       "├─────────────────────┼───────────────────┼────────────┼───────────────────┤\n",
       "│ block_13_expand_re… │ (\u001b[38;5;45mNone\u001b[0m, \u001b[38;5;34m14\u001b[0m, \u001b[38;5;34m14\u001b[0m,    │          \u001b[38;5;34m0\u001b[0m │ block_13_expand_… │\n",
       "│ (\u001b[38;5;33mReLU\u001b[0m)              │ \u001b[38;5;34m576\u001b[0m)              │            │                   │\n",
       "├─────────────────────┼───────────────────┼────────────┼───────────────────┤\n",
       "│ block_13_pad        │ (\u001b[38;5;45mNone\u001b[0m, \u001b[38;5;34m15\u001b[0m, \u001b[38;5;34m15\u001b[0m,    │          \u001b[38;5;34m0\u001b[0m │ block_13_expand_… │\n",
       "│ (\u001b[38;5;33mZeroPadding2D\u001b[0m)     │ \u001b[38;5;34m576\u001b[0m)              │            │                   │\n",
       "├─────────────────────┼───────────────────┼────────────┼───────────────────┤\n",
       "│ block_13_depthwise  │ (\u001b[38;5;45mNone\u001b[0m, \u001b[38;5;34m7\u001b[0m, \u001b[38;5;34m7\u001b[0m, \u001b[38;5;34m576\u001b[0m) │      \u001b[38;5;34m5,184\u001b[0m │ block_13_pad[\u001b[38;5;34m0\u001b[0m][\u001b[38;5;34m…\u001b[0m │\n",
       "│ (\u001b[38;5;33mDepthwiseConv2D\u001b[0m)   │                   │            │                   │\n",
       "├─────────────────────┼───────────────────┼────────────┼───────────────────┤\n",
       "│ block_13_depthwise… │ (\u001b[38;5;45mNone\u001b[0m, \u001b[38;5;34m7\u001b[0m, \u001b[38;5;34m7\u001b[0m, \u001b[38;5;34m576\u001b[0m) │      \u001b[38;5;34m2,304\u001b[0m │ block_13_depthwi… │\n",
       "│ (\u001b[38;5;33mBatchNormalizatio…\u001b[0m │                   │            │                   │\n",
       "├─────────────────────┼───────────────────┼────────────┼───────────────────┤\n",
       "│ block_13_depthwise… │ (\u001b[38;5;45mNone\u001b[0m, \u001b[38;5;34m7\u001b[0m, \u001b[38;5;34m7\u001b[0m, \u001b[38;5;34m576\u001b[0m) │          \u001b[38;5;34m0\u001b[0m │ block_13_depthwi… │\n",
       "│ (\u001b[38;5;33mReLU\u001b[0m)              │                   │            │                   │\n",
       "├─────────────────────┼───────────────────┼────────────┼───────────────────┤\n",
       "│ block_13_project    │ (\u001b[38;5;45mNone\u001b[0m, \u001b[38;5;34m7\u001b[0m, \u001b[38;5;34m7\u001b[0m, \u001b[38;5;34m160\u001b[0m) │     \u001b[38;5;34m92,160\u001b[0m │ block_13_depthwi… │\n",
       "│ (\u001b[38;5;33mConv2D\u001b[0m)            │                   │            │                   │\n",
       "├─────────────────────┼───────────────────┼────────────┼───────────────────┤\n",
       "│ block_13_project_BN │ (\u001b[38;5;45mNone\u001b[0m, \u001b[38;5;34m7\u001b[0m, \u001b[38;5;34m7\u001b[0m, \u001b[38;5;34m160\u001b[0m) │        \u001b[38;5;34m640\u001b[0m │ block_13_project… │\n",
       "│ (\u001b[38;5;33mBatchNormalizatio…\u001b[0m │                   │            │                   │\n",
       "├─────────────────────┼───────────────────┼────────────┼───────────────────┤\n",
       "│ block_14_expand     │ (\u001b[38;5;45mNone\u001b[0m, \u001b[38;5;34m7\u001b[0m, \u001b[38;5;34m7\u001b[0m, \u001b[38;5;34m960\u001b[0m) │    \u001b[38;5;34m153,600\u001b[0m │ block_13_project… │\n",
       "│ (\u001b[38;5;33mConv2D\u001b[0m)            │                   │            │                   │\n",
       "├─────────────────────┼───────────────────┼────────────┼───────────────────┤\n",
       "│ block_14_expand_BN  │ (\u001b[38;5;45mNone\u001b[0m, \u001b[38;5;34m7\u001b[0m, \u001b[38;5;34m7\u001b[0m, \u001b[38;5;34m960\u001b[0m) │      \u001b[38;5;34m3,840\u001b[0m │ block_14_expand[\u001b[38;5;34m…\u001b[0m │\n",
       "│ (\u001b[38;5;33mBatchNormalizatio…\u001b[0m │                   │            │                   │\n",
       "├─────────────────────┼───────────────────┼────────────┼───────────────────┤\n",
       "│ block_14_expand_re… │ (\u001b[38;5;45mNone\u001b[0m, \u001b[38;5;34m7\u001b[0m, \u001b[38;5;34m7\u001b[0m, \u001b[38;5;34m960\u001b[0m) │          \u001b[38;5;34m0\u001b[0m │ block_14_expand_… │\n",
       "│ (\u001b[38;5;33mReLU\u001b[0m)              │                   │            │                   │\n",
       "├─────────────────────┼───────────────────┼────────────┼───────────────────┤\n",
       "│ block_14_depthwise  │ (\u001b[38;5;45mNone\u001b[0m, \u001b[38;5;34m7\u001b[0m, \u001b[38;5;34m7\u001b[0m, \u001b[38;5;34m960\u001b[0m) │      \u001b[38;5;34m8,640\u001b[0m │ block_14_expand_… │\n",
       "│ (\u001b[38;5;33mDepthwiseConv2D\u001b[0m)   │                   │            │                   │\n",
       "├─────────────────────┼───────────────────┼────────────┼───────────────────┤\n",
       "│ block_14_depthwise… │ (\u001b[38;5;45mNone\u001b[0m, \u001b[38;5;34m7\u001b[0m, \u001b[38;5;34m7\u001b[0m, \u001b[38;5;34m960\u001b[0m) │      \u001b[38;5;34m3,840\u001b[0m │ block_14_depthwi… │\n",
       "│ (\u001b[38;5;33mBatchNormalizatio…\u001b[0m │                   │            │                   │\n",
       "├─────────────────────┼───────────────────┼────────────┼───────────────────┤\n",
       "│ block_14_depthwise… │ (\u001b[38;5;45mNone\u001b[0m, \u001b[38;5;34m7\u001b[0m, \u001b[38;5;34m7\u001b[0m, \u001b[38;5;34m960\u001b[0m) │          \u001b[38;5;34m0\u001b[0m │ block_14_depthwi… │\n",
       "│ (\u001b[38;5;33mReLU\u001b[0m)              │                   │            │                   │\n",
       "├─────────────────────┼───────────────────┼────────────┼───────────────────┤\n",
       "│ block_14_project    │ (\u001b[38;5;45mNone\u001b[0m, \u001b[38;5;34m7\u001b[0m, \u001b[38;5;34m7\u001b[0m, \u001b[38;5;34m160\u001b[0m) │    \u001b[38;5;34m153,600\u001b[0m │ block_14_depthwi… │\n",
       "│ (\u001b[38;5;33mConv2D\u001b[0m)            │                   │            │                   │\n",
       "├─────────────────────┼───────────────────┼────────────┼───────────────────┤\n",
       "│ block_14_project_BN │ (\u001b[38;5;45mNone\u001b[0m, \u001b[38;5;34m7\u001b[0m, \u001b[38;5;34m7\u001b[0m, \u001b[38;5;34m160\u001b[0m) │        \u001b[38;5;34m640\u001b[0m │ block_14_project… │\n",
       "│ (\u001b[38;5;33mBatchNormalizatio…\u001b[0m │                   │            │                   │\n",
       "├─────────────────────┼───────────────────┼────────────┼───────────────────┤\n",
       "│ block_14_add (\u001b[38;5;33mAdd\u001b[0m)  │ (\u001b[38;5;45mNone\u001b[0m, \u001b[38;5;34m7\u001b[0m, \u001b[38;5;34m7\u001b[0m, \u001b[38;5;34m160\u001b[0m) │          \u001b[38;5;34m0\u001b[0m │ block_13_project… │\n",
       "│                     │                   │            │ block_14_project… │\n",
       "├─────────────────────┼───────────────────┼────────────┼───────────────────┤\n",
       "│ block_15_expand     │ (\u001b[38;5;45mNone\u001b[0m, \u001b[38;5;34m7\u001b[0m, \u001b[38;5;34m7\u001b[0m, \u001b[38;5;34m960\u001b[0m) │    \u001b[38;5;34m153,600\u001b[0m │ block_14_add[\u001b[38;5;34m0\u001b[0m][\u001b[38;5;34m…\u001b[0m │\n",
       "│ (\u001b[38;5;33mConv2D\u001b[0m)            │                   │            │                   │\n",
       "├─────────────────────┼───────────────────┼────────────┼───────────────────┤\n",
       "│ block_15_expand_BN  │ (\u001b[38;5;45mNone\u001b[0m, \u001b[38;5;34m7\u001b[0m, \u001b[38;5;34m7\u001b[0m, \u001b[38;5;34m960\u001b[0m) │      \u001b[38;5;34m3,840\u001b[0m │ block_15_expand[\u001b[38;5;34m…\u001b[0m │\n",
       "│ (\u001b[38;5;33mBatchNormalizatio…\u001b[0m │                   │            │                   │\n",
       "├─────────────────────┼───────────────────┼────────────┼───────────────────┤\n",
       "│ block_15_expand_re… │ (\u001b[38;5;45mNone\u001b[0m, \u001b[38;5;34m7\u001b[0m, \u001b[38;5;34m7\u001b[0m, \u001b[38;5;34m960\u001b[0m) │          \u001b[38;5;34m0\u001b[0m │ block_15_expand_… │\n",
       "│ (\u001b[38;5;33mReLU\u001b[0m)              │                   │            │                   │\n",
       "├─────────────────────┼───────────────────┼────────────┼───────────────────┤\n",
       "│ block_15_depthwise  │ (\u001b[38;5;45mNone\u001b[0m, \u001b[38;5;34m7\u001b[0m, \u001b[38;5;34m7\u001b[0m, \u001b[38;5;34m960\u001b[0m) │      \u001b[38;5;34m8,640\u001b[0m │ block_15_expand_… │\n",
       "│ (\u001b[38;5;33mDepthwiseConv2D\u001b[0m)   │                   │            │                   │\n",
       "├─────────────────────┼───────────────────┼────────────┼───────────────────┤\n",
       "│ block_15_depthwise… │ (\u001b[38;5;45mNone\u001b[0m, \u001b[38;5;34m7\u001b[0m, \u001b[38;5;34m7\u001b[0m, \u001b[38;5;34m960\u001b[0m) │      \u001b[38;5;34m3,840\u001b[0m │ block_15_depthwi… │\n",
       "│ (\u001b[38;5;33mBatchNormalizatio…\u001b[0m │                   │            │                   │\n",
       "├─────────────────────┼───────────────────┼────────────┼───────────────────┤\n",
       "│ block_15_depthwise… │ (\u001b[38;5;45mNone\u001b[0m, \u001b[38;5;34m7\u001b[0m, \u001b[38;5;34m7\u001b[0m, \u001b[38;5;34m960\u001b[0m) │          \u001b[38;5;34m0\u001b[0m │ block_15_depthwi… │\n",
       "│ (\u001b[38;5;33mReLU\u001b[0m)              │                   │            │                   │\n",
       "├─────────────────────┼───────────────────┼────────────┼───────────────────┤\n",
       "│ block_15_project    │ (\u001b[38;5;45mNone\u001b[0m, \u001b[38;5;34m7\u001b[0m, \u001b[38;5;34m7\u001b[0m, \u001b[38;5;34m160\u001b[0m) │    \u001b[38;5;34m153,600\u001b[0m │ block_15_depthwi… │\n",
       "│ (\u001b[38;5;33mConv2D\u001b[0m)            │                   │            │                   │\n",
       "├─────────────────────┼───────────────────┼────────────┼───────────────────┤\n",
       "│ block_15_project_BN │ (\u001b[38;5;45mNone\u001b[0m, \u001b[38;5;34m7\u001b[0m, \u001b[38;5;34m7\u001b[0m, \u001b[38;5;34m160\u001b[0m) │        \u001b[38;5;34m640\u001b[0m │ block_15_project… │\n",
       "│ (\u001b[38;5;33mBatchNormalizatio…\u001b[0m │                   │            │                   │\n",
       "├─────────────────────┼───────────────────┼────────────┼───────────────────┤\n",
       "│ block_15_add (\u001b[38;5;33mAdd\u001b[0m)  │ (\u001b[38;5;45mNone\u001b[0m, \u001b[38;5;34m7\u001b[0m, \u001b[38;5;34m7\u001b[0m, \u001b[38;5;34m160\u001b[0m) │          \u001b[38;5;34m0\u001b[0m │ block_14_add[\u001b[38;5;34m0\u001b[0m][\u001b[38;5;34m…\u001b[0m │\n",
       "│                     │                   │            │ block_15_project… │\n",
       "├─────────────────────┼───────────────────┼────────────┼───────────────────┤\n",
       "│ block_16_expand     │ (\u001b[38;5;45mNone\u001b[0m, \u001b[38;5;34m7\u001b[0m, \u001b[38;5;34m7\u001b[0m, \u001b[38;5;34m960\u001b[0m) │    \u001b[38;5;34m153,600\u001b[0m │ block_15_add[\u001b[38;5;34m0\u001b[0m][\u001b[38;5;34m…\u001b[0m │\n",
       "│ (\u001b[38;5;33mConv2D\u001b[0m)            │                   │            │                   │\n",
       "├─────────────────────┼───────────────────┼────────────┼───────────────────┤\n",
       "│ block_16_expand_BN  │ (\u001b[38;5;45mNone\u001b[0m, \u001b[38;5;34m7\u001b[0m, \u001b[38;5;34m7\u001b[0m, \u001b[38;5;34m960\u001b[0m) │      \u001b[38;5;34m3,840\u001b[0m │ block_16_expand[\u001b[38;5;34m…\u001b[0m │\n",
       "│ (\u001b[38;5;33mBatchNormalizatio…\u001b[0m │                   │            │                   │\n",
       "├─────────────────────┼───────────────────┼────────────┼───────────────────┤\n",
       "│ block_16_expand_re… │ (\u001b[38;5;45mNone\u001b[0m, \u001b[38;5;34m7\u001b[0m, \u001b[38;5;34m7\u001b[0m, \u001b[38;5;34m960\u001b[0m) │          \u001b[38;5;34m0\u001b[0m │ block_16_expand_… │\n",
       "│ (\u001b[38;5;33mReLU\u001b[0m)              │                   │            │                   │\n",
       "├─────────────────────┼───────────────────┼────────────┼───────────────────┤\n",
       "│ block_16_depthwise  │ (\u001b[38;5;45mNone\u001b[0m, \u001b[38;5;34m7\u001b[0m, \u001b[38;5;34m7\u001b[0m, \u001b[38;5;34m960\u001b[0m) │      \u001b[38;5;34m8,640\u001b[0m │ block_16_expand_… │\n",
       "│ (\u001b[38;5;33mDepthwiseConv2D\u001b[0m)   │                   │            │                   │\n",
       "├─────────────────────┼───────────────────┼────────────┼───────────────────┤\n",
       "│ block_16_depthwise… │ (\u001b[38;5;45mNone\u001b[0m, \u001b[38;5;34m7\u001b[0m, \u001b[38;5;34m7\u001b[0m, \u001b[38;5;34m960\u001b[0m) │      \u001b[38;5;34m3,840\u001b[0m │ block_16_depthwi… │\n",
       "│ (\u001b[38;5;33mBatchNormalizatio…\u001b[0m │                   │            │                   │\n",
       "├─────────────────────┼───────────────────┼────────────┼───────────────────┤\n",
       "│ block_16_depthwise… │ (\u001b[38;5;45mNone\u001b[0m, \u001b[38;5;34m7\u001b[0m, \u001b[38;5;34m7\u001b[0m, \u001b[38;5;34m960\u001b[0m) │          \u001b[38;5;34m0\u001b[0m │ block_16_depthwi… │\n",
       "│ (\u001b[38;5;33mReLU\u001b[0m)              │                   │            │                   │\n",
       "├─────────────────────┼───────────────────┼────────────┼───────────────────┤\n",
       "│ block_16_project    │ (\u001b[38;5;45mNone\u001b[0m, \u001b[38;5;34m7\u001b[0m, \u001b[38;5;34m7\u001b[0m, \u001b[38;5;34m320\u001b[0m) │    \u001b[38;5;34m307,200\u001b[0m │ block_16_depthwi… │\n",
       "│ (\u001b[38;5;33mConv2D\u001b[0m)            │                   │            │                   │\n",
       "├─────────────────────┼───────────────────┼────────────┼───────────────────┤\n",
       "│ block_16_project_BN │ (\u001b[38;5;45mNone\u001b[0m, \u001b[38;5;34m7\u001b[0m, \u001b[38;5;34m7\u001b[0m, \u001b[38;5;34m320\u001b[0m) │      \u001b[38;5;34m1,280\u001b[0m │ block_16_project… │\n",
       "│ (\u001b[38;5;33mBatchNormalizatio…\u001b[0m │                   │            │                   │\n",
       "├─────────────────────┼───────────────────┼────────────┼───────────────────┤\n",
       "│ Conv_1 (\u001b[38;5;33mConv2D\u001b[0m)     │ (\u001b[38;5;45mNone\u001b[0m, \u001b[38;5;34m7\u001b[0m, \u001b[38;5;34m7\u001b[0m,      │    \u001b[38;5;34m409,600\u001b[0m │ block_16_project… │\n",
       "│                     │ \u001b[38;5;34m1280\u001b[0m)             │            │                   │\n",
       "├─────────────────────┼───────────────────┼────────────┼───────────────────┤\n",
       "│ Conv_1_bn           │ (\u001b[38;5;45mNone\u001b[0m, \u001b[38;5;34m7\u001b[0m, \u001b[38;5;34m7\u001b[0m,      │      \u001b[38;5;34m5,120\u001b[0m │ Conv_1[\u001b[38;5;34m0\u001b[0m][\u001b[38;5;34m0\u001b[0m]      │\n",
       "│ (\u001b[38;5;33mBatchNormalizatio…\u001b[0m │ \u001b[38;5;34m1280\u001b[0m)             │            │                   │\n",
       "├─────────────────────┼───────────────────┼────────────┼───────────────────┤\n",
       "│ out_relu (\u001b[38;5;33mReLU\u001b[0m)     │ (\u001b[38;5;45mNone\u001b[0m, \u001b[38;5;34m7\u001b[0m, \u001b[38;5;34m7\u001b[0m,      │          \u001b[38;5;34m0\u001b[0m │ Conv_1_bn[\u001b[38;5;34m0\u001b[0m][\u001b[38;5;34m0\u001b[0m]   │\n",
       "│                     │ \u001b[38;5;34m1280\u001b[0m)             │            │                   │\n",
       "├─────────────────────┼───────────────────┼────────────┼───────────────────┤\n",
       "│ global_average_poo… │ (\u001b[38;5;45mNone\u001b[0m, \u001b[38;5;34m1280\u001b[0m)      │          \u001b[38;5;34m0\u001b[0m │ out_relu[\u001b[38;5;34m0\u001b[0m][\u001b[38;5;34m0\u001b[0m]    │\n",
       "│ (\u001b[38;5;33mGlobalAveragePool…\u001b[0m │                   │            │                   │\n",
       "└─────────────────────┴───────────────────┴────────────┴───────────────────┘\n"
      ]
     },
     "metadata": {},
     "output_type": "display_data"
    },
    {
     "data": {
      "text/html": [
       "<pre style=\"white-space:pre;overflow-x:auto;line-height:normal;font-family:Menlo,'DejaVu Sans Mono',consolas,'Courier New',monospace\"><span style=\"font-weight: bold\"> Total params: </span><span style=\"color: #00af00; text-decoration-color: #00af00\">2,257,984</span> (8.61 MB)\n",
       "</pre>\n"
      ],
      "text/plain": [
       "\u001b[1m Total params: \u001b[0m\u001b[38;5;34m2,257,984\u001b[0m (8.61 MB)\n"
      ]
     },
     "metadata": {},
     "output_type": "display_data"
    },
    {
     "data": {
      "text/html": [
       "<pre style=\"white-space:pre;overflow-x:auto;line-height:normal;font-family:Menlo,'DejaVu Sans Mono',consolas,'Courier New',monospace\"><span style=\"font-weight: bold\"> Trainable params: </span><span style=\"color: #00af00; text-decoration-color: #00af00\">2,223,872</span> (8.48 MB)\n",
       "</pre>\n"
      ],
      "text/plain": [
       "\u001b[1m Trainable params: \u001b[0m\u001b[38;5;34m2,223,872\u001b[0m (8.48 MB)\n"
      ]
     },
     "metadata": {},
     "output_type": "display_data"
    },
    {
     "data": {
      "text/html": [
       "<pre style=\"white-space:pre;overflow-x:auto;line-height:normal;font-family:Menlo,'DejaVu Sans Mono',consolas,'Courier New',monospace\"><span style=\"font-weight: bold\"> Non-trainable params: </span><span style=\"color: #00af00; text-decoration-color: #00af00\">34,112</span> (133.25 KB)\n",
       "</pre>\n"
      ],
      "text/plain": [
       "\u001b[1m Non-trainable params: \u001b[0m\u001b[38;5;34m34,112\u001b[0m (133.25 KB)\n"
      ]
     },
     "metadata": {},
     "output_type": "display_data"
    }
   ],
   "source": [
    "new_model.summary()"
   ]
  },
  {
   "cell_type": "markdown",
   "id": "2a0adcf5",
   "metadata": {},
   "source": [
    "Tous les workeurs doivent avoir accès au modèle ainsi qu'à ses poids. Il est recommandé de charger d'abord le modèle sur le serveur principal, puis de distribuer les poids aux différents workeurs."
   ]
  },
  {
   "cell_type": "code",
   "execution_count": null,
   "id": "1cc53ff0",
   "metadata": {},
   "outputs": [],
   "source": [
    "brodcast_weights = sc.broadcast(new_model.get_weights())"
   ]
  },
  {
   "cell_type": "markdown",
   "id": "8bc0e34e",
   "metadata": {},
   "source": [
    "Mettons cela sous forme de fonction:"
   ]
  },
  {
   "cell_type": "code",
   "execution_count": null,
   "id": "3fd51ba9",
   "metadata": {},
   "outputs": [],
   "source": [
    "def model_fn():\n",
    "    \"\"\"\n",
    "    Fonction de création du modèle avec les poids diffusés\n",
    "    \"\"\"\n",
    "    model = MobileNetV2(weights=None, \n",
    "                        include_top=True,\n",
    "                        input_shape=(224, 224, 3))\n",
    "    for layer in model.layers:\n",
    "        layer.trainable = False\n",
    "    new_model = Model(inputs=model.input,\n",
    "                  outputs=model.layers[-2].output)\n",
    "    new_model.set_weights(brodcast_weights.value) \n",
    "    return new_model\n"
   ]
  },
  {
   "cell_type": "markdown",
   "id": "3912674b",
   "metadata": {},
   "source": [
    "### 3.4.3. Chargement des images et featurisation via pandas UDF"
   ]
  },
  {
   "cell_type": "markdown",
   "id": "e5620876",
   "metadata": {},
   "source": [
    "Nous traitons et extrayons les features des images brutes en utilisant un modèle de prédiction :\n",
    "\n",
    "- preprocess(content) : prépare une image brute (en redimensionnant et prétraitant) pour la prédiction\n",
    "\n",
    "- featurize_series(model, content_series) : applique le modèle sur une série d'images prétraitées, extrait les caractéristiques, et retourne une série de vecteurs de features.\n",
    "\n",
    "- featurize_udf(content_series_iter) : définit une fonction UDF Spark qui traite des lots d'images, applique le modèle et renvoie les caractéristiques sous forme de DataFrame Spark.\n",
    "\n",
    "En résumé, nous transformons les images brutes en vecteurs de caractéristiques prêts pour la prédiction, le tout dans un cadre Spark distribué."
   ]
  },
  {
   "cell_type": "code",
   "execution_count": null,
   "id": "dc4e5f69",
   "metadata": {},
   "outputs": [
    {
     "name": "stderr",
     "output_type": "stream",
     "text": [
      "/opt/anaconda3/lib/python3.11/site-packages/pyspark/sql/pandas/functions.py:407: UserWarning: In Python 3.6+ and Spark 3.0+, it is preferred to specify type hints for pandas UDF instead of specifying pandas UDF type which will be deprecated in the future releases. See SPARK-28264 for more details.\n",
      "  warnings.warn(\n"
     ]
    }
   ],
   "source": [
    "def preprocess(content):\n",
    "    \"\"\"\n",
    "    Prétraitement des images pour les adapter au modèle MobileNetV2\n",
    "    \"\"\"\n",
    "    img = Image.open(io.BytesIO(content)).resize([224, 224])\n",
    "    arr = img_to_array(img)\n",
    "    return preprocess_input(arr)\n",
    "\n",
    "def featurize_series(model, content_series):\n",
    "    \"\"\"\n",
    "    Extraction des features pour une série d'images\n",
    "    \"\"\"\n",
    "    input = np.stack(content_series.map(preprocess))\n",
    "    preds = model.predict(input)\n",
    "    output = [p.flatten() for p in preds]\n",
    "    return pd.Series(output)\n",
    "\n",
    "@pandas_udf('array<float>', PandasUDFType.SCALAR_ITER)\n",
    "def featurize_udf(content_series_iter):\n",
    "    \"\"\"\n",
    "    Utilisation de pandas_udf pour permettre l'extraction de caractéristiques dans PySpark\n",
    "    \"\"\"\n",
    "    model = model_fn()\n",
    "    for content_series in content_series_iter:\n",
    "        yield featurize_series(model, content_series)"
   ]
  },
  {
   "cell_type": "markdown",
   "id": "1c4ddc38",
   "metadata": {},
   "source": [
    "### 3.4.4. Exécution des actions d'extraction de features"
   ]
  },
  {
   "cell_type": "markdown",
   "id": "2bdf2ef9",
   "metadata": {},
   "source": [
    "Les Pandas UDF peuvent provoquer des erreurs de type Out Of Memory (OOM) lorsqu'elles traitent de grands ensembles de données, comme des images volumineuses. Pour éviter cela, nous optons pour un échantillonnage à hauteur de 1,5% du jeu de données d'une taille totale de 22 688, ce qui correspond à 338 images."
   ]
  },
  {
   "cell_type": "code",
   "execution_count": null,
   "id": "9ef8f350",
   "metadata": {},
   "outputs": [
    {
     "name": "stdout",
     "output_type": "stream",
     "text": [
      "Nombre total de fichiers .jpg : 22688\n"
     ]
    }
   ],
   "source": [
    "jpg_files = [f for root, dirs, files in os.walk(PATH_Data) for f in files if f.endswith('.jpg')]\n",
    "print(f\"Nombre total de fichiers .jpg : {len(jpg_files)}\")"
   ]
  },
  {
   "cell_type": "code",
   "execution_count": null,
   "id": "8b8d9b9d",
   "metadata": {},
   "outputs": [
    {
     "name": "stderr",
     "output_type": "stream",
     "text": [
      "[Stage 4:>                                                          (0 + 1) / 1]\r"
     ]
    },
    {
     "name": "stdout",
     "output_type": "stream",
     "text": [
      "Nombre total d'images détectées par Spark : 22688\n"
     ]
    },
    {
     "name": "stderr",
     "output_type": "stream",
     "text": [
      "                                                                                \r"
     ]
    }
   ],
   "source": [
    "print(f\"Nombre total d'images détectées par Spark : {images.count()}\")"
   ]
  },
  {
   "cell_type": "code",
   "execution_count": null,
   "id": "1f7ac20f",
   "metadata": {},
   "outputs": [
    {
     "name": "stderr",
     "output_type": "stream",
     "text": [
      "[Stage 7:>                                                          (0 + 1) / 1]\r"
     ]
    },
    {
     "name": "stdout",
     "output_type": "stream",
     "text": [
      "Nombre d'images échantillonnées : 338\n"
     ]
    },
    {
     "name": "stderr",
     "output_type": "stream",
     "text": [
      "                                                                                \r"
     ]
    }
   ],
   "source": [
    "sampled_images = images.sample(withReplacement=False, fraction=0.015)\n",
    "print(f\"Nombre d'images échantillonnées : {sampled_images.count()}\")"
   ]
  },
  {
   "cell_type": "markdown",
   "id": "76d86f7f",
   "metadata": {},
   "source": [
    "Les images échantillonnées sont repartitionnées (20 partitions) et transformées en un DataFrame contenant :\n",
    "- path : le chemin de l'image\n",
    "- label : son label\n",
    "- features : des features extraites via la fonction featurize_udf\n",
    "\n",
    "Puis, les chemins des images sont collectés, nettoyés (suppression du préfixe \"file:\"), et convertis en liste. Enfin, un répertoire (sampled_images_2) est créé. Les images existantes dans les chemins collectés sont copiées vers ce répertoire."
   ]
  },
  {
   "cell_type": "code",
   "execution_count": null,
   "id": "072b8779",
   "metadata": {},
   "outputs": [],
   "source": [
    "features_df = sampled_images.repartition(20).select(\n",
    "    col(\"path\"),\n",
    "    col(\"label\"),\n",
    "    featurize_udf(\"content\").alias(\"features\")\n",
    ")"
   ]
  },
  {
   "cell_type": "code",
   "execution_count": null,
   "id": "48fb3da0",
   "metadata": {},
   "outputs": [
    {
     "name": "stderr",
     "output_type": "stream",
     "text": [
      "                                                                                \r"
     ]
    }
   ],
   "source": [
    "# Sauvegarder les images échantillonnées\n",
    "image_paths = sampled_images.select(\"path\").rdd.flatMap(lambda x: x).collect()\n",
    "image_paths = [img_path.replace(\"file:\", \"\") for img_path in image_paths]  \n",
    "\n",
    "sampled_images_dir = os.path.join(PATH, \"sampled_images_2\")\n",
    "os.makedirs(sampled_images_dir, exist_ok=True)\n",
    "\n",
    "for img_path in image_paths:\n",
    "    if os.path.exists(img_path):  \n",
    "        shutil.copy(img_path, sampled_images_dir)\n",
    "    else:\n",
    "        print(f\"Fichier introuvable : {img_path}\")\n"
   ]
  },
  {
   "cell_type": "code",
   "execution_count": null,
   "id": "67fcdb0f",
   "metadata": {},
   "outputs": [
    {
     "name": "stdout",
     "output_type": "stream",
     "text": [
      "/Users/amira/Documents/OPC/Projet9/Resultats_2\n"
     ]
    }
   ],
   "source": [
    "print(PATH_Result)"
   ]
  },
  {
   "cell_type": "markdown",
   "id": "b0006162",
   "metadata": {},
   "source": [
    "### 3.4.5 Réduction de dimension (ACP)"
   ]
  },
  {
   "cell_type": "markdown",
   "id": "c9d7b560",
   "metadata": {},
   "source": [
    "Nous appliquons une réduction de dimensionnalité via l'ACP en plusieurs étapes:\n",
    "\n",
    "- Conversion en DenseVector: une UDF transforme les caractéristiques (array<float>) en objets DenseVector\n",
    "- Initialisation de l'ACP: le modèle est d'abord ajusté pour évaluer la variance expliquée cumulée\n",
    "- Optimisation: le nombre minimal de composantes expliquant au moins 75% de la variance est déterminé\n",
    "- Application finale: l'ACP est réajustée avec ce nombre optimal de composantes et appliquée aux données"
   ]
  },
  {
   "cell_type": "code",
   "execution_count": null,
   "id": "acfeb8d5",
   "metadata": {},
   "outputs": [
    {
     "name": "stdout",
     "output_type": "stream",
     "text": [
      "=== Conversion en DenseVector ===\n"
     ]
    }
   ],
   "source": [
    "#Conversion des features en DenseVector\n",
    "def array_to_dense_vector(arr):\n",
    "    \"\"\"\n",
    "    Convertit un array<float> en DenseVector.\n",
    "    \"\"\"\n",
    "    if isinstance(arr, list):\n",
    "        return Vectors.dense(arr)\n",
    "    else:\n",
    "        raise ValueError(\"Les données ne sont pas au format attendu : array<float>\")\n",
    "\n",
    "array_to_dense_vector_udf = udf(array_to_dense_vector, VectorUDT())\n",
    "\n",
    "#Application de l'UDF pour transformer la colonne 'features' en DenseVector\n",
    "print(\"=== Conversion en DenseVector ===\")\n",
    "features_df = features_df.withColumn(\"features_vector\", array_to_dense_vector_udf(\"features\"))\n"
   ]
  },
  {
   "cell_type": "code",
   "execution_count": null,
   "id": "95b0e748",
   "metadata": {},
   "outputs": [
    {
     "name": "stderr",
     "output_type": "stream",
     "text": [
      "2024-12-03 19:30:32.572679: I tensorflow/core/platform/cpu_feature_guard.cc:210] This TensorFlow binary is optimized to use available CPU instructions in performance-critical operations.\n",
      "To enable the following instructions: AVX2 FMA, in other operations, rebuild TensorFlow with the appropriate compiler flags.\n",
      "\u001b[1m1/1\u001b[0m \u001b[32m━━━━━━━━━━━━━━━━━━━━\u001b[0m\u001b[37m\u001b[0m \u001b[1m2s\u001b[0m 2s/step0 + 1) / 1]\n",
      "2024-12-03 19:32:19.017188: I tensorflow/core/platform/cpu_feature_guard.cc:210] This TensorFlow binary is optimized to use available CPU instructions in performance-critical operations.\n",
      "To enable the following instructions: AVX2 FMA, in other operations, rebuild TensorFlow with the appropriate compiler flags.\n",
      "\u001b[1m1/1\u001b[0m \u001b[32m━━━━━━━━━━━━━━━━━━━━\u001b[0m\u001b[37m\u001b[0m \u001b[1m2s\u001b[0m 2s/step\n",
      "\u001b[1m1/1\u001b[0m \u001b[32m━━━━━━━━━━━━━━━━━━━━\u001b[0m\u001b[37m\u001b[0m \u001b[1m3s\u001b[0m 3s/step0 + 1) / 1]\n",
      "\u001b[1m1/1\u001b[0m \u001b[32m━━━━━━━━━━━━━━━━━━━━\u001b[0m\u001b[37m\u001b[0m \u001b[1m4s\u001b[0m 4s/step + 4) / 20]\n",
      "2024-12-03 19:32:54.156171: I tensorflow/core/platform/cpu_feature_guard.cc:210] This TensorFlow binary is optimized to use available CPU instructions in performance-critical operations.\n",
      "To enable the following instructions: AVX2 FMA, in other operations, rebuild TensorFlow with the appropriate compiler flags.\n",
      "2024-12-03 19:32:54.163040: I tensorflow/core/platform/cpu_feature_guard.cc:210] This TensorFlow binary is optimized to use available CPU instructions in performance-critical operations.\n",
      "To enable the following instructions: AVX2 FMA, in other operations, rebuild TensorFlow with the appropriate compiler flags.\n",
      "2024-12-03 19:32:54.185889: I tensorflow/core/platform/cpu_feature_guard.cc:210] This TensorFlow binary is optimized to use available CPU instructions in performance-critical operations.\n",
      "To enable the following instructions: AVX2 FMA, in other operations, rebuild TensorFlow with the appropriate compiler flags.\n",
      "\u001b[1m1/1\u001b[0m \u001b[32m━━━━━━━━━━━━━━━━━━━━\u001b[0m\u001b[37m\u001b[0m \u001b[1m5s\u001b[0m 5s/step + 4) / 20]\n",
      "WARNING:tensorflow:5 out of the last 5 calls to <function TensorFlowTrainer.make_predict_function.<locals>.one_step_on_data_distributed at 0x128465bc0> triggered tf.function retracing. Tracing is expensive and the excessive number of tracings could be due to (1) creating @tf.function repeatedly in a loop, (2) passing tensors with different shapes, (3) passing Python objects instead of tensors. For (1), please define your @tf.function outside of the loop. For (2), @tf.function has reduce_retracing=True option that can avoid unnecessary retracing. For (3), please refer to https://www.tensorflow.org/guide/function#controlling_retracing and https://www.tensorflow.org/api_docs/python/tf/function for  more details.\n",
      "\u001b[1m1/1\u001b[0m \u001b[32m━━━━━━━━━━━━━━━━━━━━\u001b[0m\u001b[37m\u001b[0m \u001b[1m5s\u001b[0m 5s/step\n",
      "\u001b[1m1/1\u001b[0m \u001b[32m━━━━━━━━━━━━━━━━━━━━\u001b[0m\u001b[37m\u001b[0m \u001b[1m7s\u001b[0m 7s/step + 4) / 20]\n",
      "\u001b[1m1/1\u001b[0m \u001b[32m━━━━━━━━━━━━━━━━━━━━\u001b[0m\u001b[37m\u001b[0m \u001b[1m7s\u001b[0m 7s/step\n",
      "\u001b[1m1/1\u001b[0m \u001b[32m━━━━━━━━━━━━━━━━━━━━\u001b[0m\u001b[37m\u001b[0m \u001b[1m8s\u001b[0m 8s/step\n",
      "WARNING:tensorflow:6 out of the last 6 calls to <function TensorFlowTrainer.make_predict_function.<locals>.one_step_on_data_distributed at 0x1064edc60> triggered tf.function retracing. Tracing is expensive and the excessive number of tracings could be due to (1) creating @tf.function repeatedly in a loop, (2) passing tensors with different shapes, (3) passing Python objects instead of tensors. For (1), please define your @tf.function outside of the loop. For (2), @tf.function has reduce_retracing=True option that can avoid unnecessary retracing. For (3), please refer to https://www.tensorflow.org/guide/function#controlling_retracing and https://www.tensorflow.org/api_docs/python/tf/function for  more details.\n",
      "\u001b[1m1/1\u001b[0m \u001b[32m━━━━━━━━━━━━━━━━━━━━\u001b[0m\u001b[37m\u001b[0m \u001b[1m8s\u001b[0m 8s/step\n",
      "\u001b[1m1/1\u001b[0m \u001b[32m━━━━━━━━━━━━━━━━━━━━\u001b[0m\u001b[37m\u001b[0m \u001b[1m5s\u001b[0m 5s/step + 4) / 20]\n",
      "\u001b[1m1/1\u001b[0m \u001b[32m━━━━━━━━━━━━━━━━━━━━\u001b[0m\u001b[37m\u001b[0m \u001b[1m5s\u001b[0m 5s/step\n",
      "2024-12-03 19:33:27.829570: I tensorflow/core/platform/cpu_feature_guard.cc:210] This TensorFlow binary is optimized to use available CPU instructions in performance-critical operations.\n",
      "To enable the following instructions: AVX2 FMA, in other operations, rebuild TensorFlow with the appropriate compiler flags.\n",
      "\u001b[1m1/1\u001b[0m \u001b[32m━━━━━━━━━━━━━━━━━━━━\u001b[0m\u001b[37m\u001b[0m \u001b[1m6s\u001b[0m 6s/step + 4) / 20]\n",
      "\u001b[1m1/1\u001b[0m \u001b[32m━━━━━━━━━━━━━━━━━━━━\u001b[0m\u001b[37m\u001b[0m \u001b[1m6s\u001b[0m 6s/step + 4) / 20]\n",
      "2024-12-03 19:33:36.492759: I tensorflow/core/platform/cpu_feature_guard.cc:210] This TensorFlow binary is optimized to use available CPU instructions in performance-critical operations.\n",
      "To enable the following instructions: AVX2 FMA, in other operations, rebuild TensorFlow with the appropriate compiler flags.\n",
      "\u001b[1m1/1\u001b[0m \u001b[32m━━━━━━━━━━━━━━━━━━━━\u001b[0m\u001b[37m\u001b[0m \u001b[1m5s\u001b[0m 5s/step + 4) / 20]\n",
      "\u001b[1m1/1\u001b[0m \u001b[32m━━━━━━━━━━━━━━━━━━━━\u001b[0m\u001b[37m\u001b[0m \u001b[1m5s\u001b[0m 5s/step + 4) / 20]\n",
      "\u001b[1m1/1\u001b[0m \u001b[32m━━━━━━━━━━━━━━━━━━━━\u001b[0m\u001b[37m\u001b[0m \u001b[1m6s\u001b[0m 6s/step + 4) / 20]\n",
      "\u001b[1m1/1\u001b[0m \u001b[32m━━━━━━━━━━━━━━━━━━━━\u001b[0m\u001b[37m\u001b[0m \u001b[1m8s\u001b[0m 8s/step\n",
      "\u001b[1m1/1\u001b[0m \u001b[32m━━━━━━━━━━━━━━━━━━━━\u001b[0m\u001b[37m\u001b[0m \u001b[1m7s\u001b[0m 7s/step + 4) / 20]\n",
      "WARNING:tensorflow:5 out of the last 5 calls to <function TensorFlowTrainer.make_predict_function.<locals>.one_step_on_data_distributed at 0x1284f5bc0> triggered tf.function retracing. Tracing is expensive and the excessive number of tracings could be due to (1) creating @tf.function repeatedly in a loop, (2) passing tensors with different shapes, (3) passing Python objects instead of tensors. For (1), please define your @tf.function outside of the loop. For (2), @tf.function has reduce_retracing=True option that can avoid unnecessary retracing. For (3), please refer to https://www.tensorflow.org/guide/function#controlling_retracing and https://www.tensorflow.org/api_docs/python/tf/function for  more details.\n",
      "\u001b[1m1/1\u001b[0m \u001b[32m━━━━━━━━━━━━━━━━━━━━\u001b[0m\u001b[37m\u001b[0m \u001b[1m7s\u001b[0m 7s/step\n",
      "\u001b[1m1/1\u001b[0m \u001b[32m━━━━━━━━━━━━━━━━━━━━\u001b[0m\u001b[37m\u001b[0m \u001b[1m9s\u001b[0m 9s/step + 3) / 20]\n",
      "\u001b[1m1/1\u001b[0m \u001b[32m━━━━━━━━━━━━━━━━━━━━\u001b[0m\u001b[37m\u001b[0m \u001b[1m9s\u001b[0m 9s/step + 2) / 20]\n",
      "\u001b[1m1/1\u001b[0m \u001b[32m━━━━━━━━━━━━━━━━━━━━\u001b[0m\u001b[37m\u001b[0m \u001b[1m6s\u001b[0m 6s/step + 1) / 20]\n",
      "WARNING:tensorflow:6 out of the last 6 calls to <function TensorFlowTrainer.make_predict_function.<locals>.one_step_on_data_distributed at 0x12b135c60> triggered tf.function retracing. Tracing is expensive and the excessive number of tracings could be due to (1) creating @tf.function repeatedly in a loop, (2) passing tensors with different shapes, (3) passing Python objects instead of tensors. For (1), please define your @tf.function outside of the loop. For (2), @tf.function has reduce_retracing=True option that can avoid unnecessary retracing. For (3), please refer to https://www.tensorflow.org/guide/function#controlling_retracing and https://www.tensorflow.org/api_docs/python/tf/function for  more details.\n",
      "\u001b[1m1/1\u001b[0m \u001b[32m━━━━━━━━━━━━━━━━━━━━\u001b[0m\u001b[37m\u001b[0m \u001b[1m3s\u001b[0m 3s/step\n",
      "\u001b[1m1/1\u001b[0m \u001b[32m━━━━━━━━━━━━━━━━━━━━\u001b[0m\u001b[37m\u001b[0m \u001b[1m6s\u001b[0m 6s/step + 4) / 20]\n",
      "\u001b[1m1/1\u001b[0m \u001b[32m━━━━━━━━━━━━━━━━━━━━\u001b[0m\u001b[37m\u001b[0m \u001b[1m7s\u001b[0m 7s/step\n",
      "\u001b[1m1/1\u001b[0m \u001b[32m━━━━━━━━━━━━━━━━━━━━\u001b[0m\u001b[37m\u001b[0m \u001b[1m7s\u001b[0m 7s/step\n",
      "\u001b[1m1/1\u001b[0m \u001b[32m━━━━━━━━━━━━━━━━━━━━\u001b[0m\u001b[37m\u001b[0m \u001b[1m7s\u001b[0m 7s/step\n",
      "24/12/03 19:34:30 WARN InstanceBuilder: Failed to load implementation from:dev.ludovic.netlib.blas.JNIBLAS\n",
      "\u001b[1m1/1\u001b[0m \u001b[32m━━━━━━━━━━━━━━━━━━━━\u001b[0m\u001b[37m\u001b[0m \u001b[1m5s\u001b[0m 5s/step + 4) / 20]\n",
      "\u001b[1m1/1\u001b[0m \u001b[32m━━━━━━━━━━━━━━━━━━━━\u001b[0m\u001b[37m\u001b[0m \u001b[1m6s\u001b[0m 6s/step\n",
      "2024-12-03 19:34:40.884075: I tensorflow/core/platform/cpu_feature_guard.cc:210] This TensorFlow binary is optimized to use available CPU instructions in performance-critical operations.\n",
      "To enable the following instructions: AVX2 FMA, in other operations, rebuild TensorFlow with the appropriate compiler flags.\n",
      "\u001b[1m1/1\u001b[0m \u001b[32m━━━━━━━━━━━━━━━━━━━━\u001b[0m\u001b[37m\u001b[0m \u001b[1m7s\u001b[0m 7s/step\n",
      "WARNING:tensorflow:5 out of the last 5 calls to <function TensorFlowTrainer.make_predict_function.<locals>.one_step_on_data_distributed at 0x1060859e0> triggered tf.function retracing. Tracing is expensive and the excessive number of tracings could be due to (1) creating @tf.function repeatedly in a loop, (2) passing tensors with different shapes, (3) passing Python objects instead of tensors. For (1), please define your @tf.function outside of the loop. For (2), @tf.function has reduce_retracing=True option that can avoid unnecessary retracing. For (3), please refer to https://www.tensorflow.org/guide/function#controlling_retracing and https://www.tensorflow.org/api_docs/python/tf/function for  more details.\n",
      "\u001b[1m1/1\u001b[0m \u001b[32m━━━━━━━━━━━━━━━━━━━━\u001b[0m\u001b[37m\u001b[0m \u001b[1m6s\u001b[0m 6s/step\n",
      "\u001b[1m1/1\u001b[0m \u001b[32m━━━━━━━━━━━━━━━━━━━━\u001b[0m\u001b[37m\u001b[0m \u001b[1m8s\u001b[0m 8s/step + 4) / 20]\n",
      "\u001b[1m1/1\u001b[0m \u001b[32m━━━━━━━━━━━━━━━━━━━━\u001b[0m\u001b[37m\u001b[0m \u001b[1m10s\u001b[0m 10s/step 4) / 20]\n",
      "WARNING:tensorflow:6 out of the last 6 calls to <function TensorFlowTrainer.make_predict_function.<locals>.one_step_on_data_distributed at 0x12b519b20> triggered tf.function retracing. Tracing is expensive and the excessive number of tracings could be due to (1) creating @tf.function repeatedly in a loop, (2) passing tensors with different shapes, (3) passing Python objects instead of tensors. For (1), please define your @tf.function outside of the loop. For (2), @tf.function has reduce_retracing=True option that can avoid unnecessary retracing. For (3), please refer to https://www.tensorflow.org/guide/function#controlling_retracing and https://www.tensorflow.org/api_docs/python/tf/function for  more details.\n",
      "\u001b[1m1/1\u001b[0m \u001b[32m━━━━━━━━━━━━━━━━━━━━\u001b[0m\u001b[37m\u001b[0m \u001b[1m5s\u001b[0m 5s/step\n",
      "\u001b[1m1/1\u001b[0m \u001b[32m━━━━━━━━━━━━━━━━━━━━\u001b[0m\u001b[37m\u001b[0m \u001b[1m6s\u001b[0m 6s/step + 4) / 20]\n",
      "\u001b[1m1/1\u001b[0m \u001b[32m━━━━━━━━━━━━━━━━━━━━\u001b[0m\u001b[37m\u001b[0m \u001b[1m6s\u001b[0m 6s/step + 4) / 20]\n",
      "\u001b[1m1/1\u001b[0m \u001b[32m━━━━━━━━━━━━━━━━━━━━\u001b[0m\u001b[37m\u001b[0m \u001b[1m5s\u001b[0m 5s/step + 4) / 20]\n",
      "WARNING:tensorflow:5 out of the last 5 calls to <function TensorFlowTrainer.make_predict_function.<locals>.one_step_on_data_distributed at 0x12a7c19e0> triggered tf.function retracing. Tracing is expensive and the excessive number of tracings could be due to (1) creating @tf.function repeatedly in a loop, (2) passing tensors with different shapes, (3) passing Python objects instead of tensors. For (1), please define your @tf.function outside of the loop. For (2), @tf.function has reduce_retracing=True option that can avoid unnecessary retracing. For (3), please refer to https://www.tensorflow.org/guide/function#controlling_retracing and https://www.tensorflow.org/api_docs/python/tf/function for  more details.\n",
      "\u001b[1m1/1\u001b[0m \u001b[32m━━━━━━━━━━━━━━━━━━━━\u001b[0m\u001b[37m\u001b[0m \u001b[1m5s\u001b[0m 5s/step\n",
      "\u001b[1m1/1\u001b[0m \u001b[32m━━━━━━━━━━━━━━━━━━━━\u001b[0m\u001b[37m\u001b[0m \u001b[1m6s\u001b[0m 6s/step\n",
      "\u001b[1m1/1\u001b[0m \u001b[32m━━━━━━━━━━━━━━━━━━━━\u001b[0m\u001b[37m\u001b[0m \u001b[1m7s\u001b[0m 7s/step + 4) / 20]\n",
      "\u001b[1m1/1\u001b[0m \u001b[32m━━━━━━━━━━━━━━━━━━━━\u001b[0m\u001b[37m\u001b[0m \u001b[1m6s\u001b[0m 6s/step + 3) / 20]\n",
      "\u001b[1m1/1\u001b[0m \u001b[32m━━━━━━━━━━━━━━━━━━━━\u001b[0m\u001b[37m\u001b[0m \u001b[1m6s\u001b[0m 6s/step + 2) / 20]\n",
      "\u001b[1m1/1\u001b[0m \u001b[32m━━━━━━━━━━━━━━━━━━━━\u001b[0m\u001b[37m\u001b[0m \u001b[1m7s\u001b[0m 7s/step + 1) / 20]\n",
      "24/12/03 19:35:29 WARN InstanceBuilder: Failed to load implementation from:dev.ludovic.netlib.lapack.JNILAPACK\n"
     ]
    },
    {
     "name": "stdout",
     "output_type": "stream",
     "text": [
      "Variance Expliquée Cumulative :  [0.0307839  0.05603421 0.07534274 ... 1.00012384 1.00012384 1.        ]\n",
      "Nombre de composantes nécessaires pour expliquer au moins 75% de la variance : 86\n"
     ]
    },
    {
     "name": "stderr",
     "output_type": "stream",
     "text": [
      "2024-12-03 19:37:08.745462: I tensorflow/core/platform/cpu_feature_guard.cc:210] This TensorFlow binary is optimized to use available CPU instructions in performance-critical operations.\n",
      "To enable the following instructions: AVX2 FMA, in other operations, rebuild TensorFlow with the appropriate compiler flags.\n",
      "\u001b[1m1/1\u001b[0m \u001b[32m━━━━━━━━━━━━━━━━━━━━\u001b[0m\u001b[37m\u001b[0m \u001b[1m3s\u001b[0m 3s/step0 + 1) / 1]\n",
      "\u001b[1m1/1\u001b[0m \u001b[32m━━━━━━━━━━━━━━━━━━━━\u001b[0m\u001b[37m\u001b[0m \u001b[1m3s\u001b[0m 3s/step0 + 1) / 1]\n",
      "\u001b[1m1/1\u001b[0m \u001b[32m━━━━━━━━━━━━━━━━━━━━\u001b[0m\u001b[37m\u001b[0m \u001b[1m4s\u001b[0m 4s/step + 4) / 20]\n",
      "2024-12-03 19:38:34.386009: I tensorflow/core/platform/cpu_feature_guard.cc:210] This TensorFlow binary is optimized to use available CPU instructions in performance-critical operations.\n",
      "To enable the following instructions: AVX2 FMA, in other operations, rebuild TensorFlow with the appropriate compiler flags.\n",
      "2024-12-03 19:38:34.388734: I tensorflow/core/platform/cpu_feature_guard.cc:210] This TensorFlow binary is optimized to use available CPU instructions in performance-critical operations.\n",
      "To enable the following instructions: AVX2 FMA, in other operations, rebuild TensorFlow with the appropriate compiler flags.\n",
      "2024-12-03 19:38:34.392729: I tensorflow/core/platform/cpu_feature_guard.cc:210] This TensorFlow binary is optimized to use available CPU instructions in performance-critical operations.\n",
      "To enable the following instructions: AVX2 FMA, in other operations, rebuild TensorFlow with the appropriate compiler flags.\n",
      "\u001b[1m1/1\u001b[0m \u001b[32m━━━━━━━━━━━━━━━━━━━━\u001b[0m\u001b[37m\u001b[0m \u001b[1m6s\u001b[0m 6s/step + 4) / 20]\n",
      "WARNING:tensorflow:5 out of the last 5 calls to <function TensorFlowTrainer.make_predict_function.<locals>.one_step_on_data_distributed at 0x12842dbc0> triggered tf.function retracing. Tracing is expensive and the excessive number of tracings could be due to (1) creating @tf.function repeatedly in a loop, (2) passing tensors with different shapes, (3) passing Python objects instead of tensors. For (1), please define your @tf.function outside of the loop. For (2), @tf.function has reduce_retracing=True option that can avoid unnecessary retracing. For (3), please refer to https://www.tensorflow.org/guide/function#controlling_retracing and https://www.tensorflow.org/api_docs/python/tf/function for  more details.\n",
      "\u001b[1m1/1\u001b[0m \u001b[32m━━━━━━━━━━━━━━━━━━━━\u001b[0m\u001b[37m\u001b[0m \u001b[1m5s\u001b[0m 5s/step\n",
      "\u001b[1m1/1\u001b[0m \u001b[32m━━━━━━━━━━━━━━━━━━━━\u001b[0m\u001b[37m\u001b[0m \u001b[1m6s\u001b[0m 6s/step + 4) / 20]\n",
      "\u001b[1m1/1\u001b[0m \u001b[32m━━━━━━━━━━━━━━━━━━━━\u001b[0m\u001b[37m\u001b[0m \u001b[1m6s\u001b[0m 6s/step\n",
      "\u001b[1m1/1\u001b[0m \u001b[32m━━━━━━━━━━━━━━━━━━━━\u001b[0m\u001b[37m\u001b[0m \u001b[1m7s\u001b[0m 7s/step\n",
      "WARNING:tensorflow:6 out of the last 6 calls to <function TensorFlowTrainer.make_predict_function.<locals>.one_step_on_data_distributed at 0x106465c60> triggered tf.function retracing. Tracing is expensive and the excessive number of tracings could be due to (1) creating @tf.function repeatedly in a loop, (2) passing tensors with different shapes, (3) passing Python objects instead of tensors. For (1), please define your @tf.function outside of the loop. For (2), @tf.function has reduce_retracing=True option that can avoid unnecessary retracing. For (3), please refer to https://www.tensorflow.org/guide/function#controlling_retracing and https://www.tensorflow.org/api_docs/python/tf/function for  more details.\n",
      "\u001b[1m1/1\u001b[0m \u001b[32m━━━━━━━━━━━━━━━━━━━━\u001b[0m\u001b[37m\u001b[0m \u001b[1m6s\u001b[0m 6s/step\n",
      "\u001b[1m1/1\u001b[0m \u001b[32m━━━━━━━━━━━━━━━━━━━━\u001b[0m\u001b[37m\u001b[0m \u001b[1m6s\u001b[0m 6s/step + 4) / 20]\n",
      "\u001b[1m1/1\u001b[0m \u001b[32m━━━━━━━━━━━━━━━━━━━━\u001b[0m\u001b[37m\u001b[0m \u001b[1m6s\u001b[0m 6s/step\n",
      "2024-12-03 19:39:08.999951: I tensorflow/core/platform/cpu_feature_guard.cc:210] This TensorFlow binary is optimized to use available CPU instructions in performance-critical operations.\n",
      "To enable the following instructions: AVX2 FMA, in other operations, rebuild TensorFlow with the appropriate compiler flags.\n",
      "\u001b[1m1/1\u001b[0m \u001b[32m━━━━━━━━━━━━━━━━━━━━\u001b[0m\u001b[37m\u001b[0m \u001b[1m7s\u001b[0m 7s/step + 4) / 20]\n",
      "\u001b[1m1/1\u001b[0m \u001b[32m━━━━━━━━━━━━━━━━━━━━\u001b[0m\u001b[37m\u001b[0m \u001b[1m7s\u001b[0m 7s/step + 4) / 20]\n",
      "2024-12-03 19:39:19.917882: I tensorflow/core/platform/cpu_feature_guard.cc:210] This TensorFlow binary is optimized to use available CPU instructions in performance-critical operations.\n",
      "To enable the following instructions: AVX2 FMA, in other operations, rebuild TensorFlow with the appropriate compiler flags.\n",
      "\u001b[1m1/1\u001b[0m \u001b[32m━━━━━━━━━━━━━━━━━━━━\u001b[0m\u001b[37m\u001b[0m \u001b[1m7s\u001b[0m 7s/step\n",
      "\u001b[1m1/1\u001b[0m \u001b[32m━━━━━━━━━━━━━━━━━━━━\u001b[0m\u001b[37m\u001b[0m \u001b[1m5s\u001b[0m 5s/step + 4) / 20]\n",
      "\u001b[1m1/1\u001b[0m \u001b[32m━━━━━━━━━━━━━━━━━━━━\u001b[0m\u001b[37m\u001b[0m \u001b[1m6s\u001b[0m 6s/step + 4) / 20]\n",
      "\u001b[1m1/1\u001b[0m \u001b[32m━━━━━━━━━━━━━━━━━━━━\u001b[0m\u001b[37m\u001b[0m \u001b[1m6s\u001b[0m 6s/step + 4) / 20]\n",
      "WARNING:tensorflow:5 out of the last 5 calls to <function TensorFlowTrainer.make_predict_function.<locals>.one_step_on_data_distributed at 0x12a989bc0> triggered tf.function retracing. Tracing is expensive and the excessive number of tracings could be due to (1) creating @tf.function repeatedly in a loop, (2) passing tensors with different shapes, (3) passing Python objects instead of tensors. For (1), please define your @tf.function outside of the loop. For (2), @tf.function has reduce_retracing=True option that can avoid unnecessary retracing. For (3), please refer to https://www.tensorflow.org/guide/function#controlling_retracing and https://www.tensorflow.org/api_docs/python/tf/function for  more details.\n",
      "\u001b[1m1/1\u001b[0m \u001b[32m━━━━━━━━━━━━━━━━━━━━\u001b[0m\u001b[37m\u001b[0m \u001b[1m6s\u001b[0m 6s/step\n",
      "\u001b[1m1/1\u001b[0m \u001b[32m━━━━━━━━━━━━━━━━━━━━\u001b[0m\u001b[37m\u001b[0m \u001b[1m8s\u001b[0m 8s/step + 4) / 20]\n",
      "\u001b[1m1/1\u001b[0m \u001b[32m━━━━━━━━━━━━━━━━━━━━\u001b[0m\u001b[37m\u001b[0m \u001b[1m7s\u001b[0m 7s/step + 3) / 20]\n",
      "\u001b[1m1/1\u001b[0m \u001b[32m━━━━━━━━━━━━━━━━━━━━\u001b[0m\u001b[37m\u001b[0m \u001b[1m7s\u001b[0m 7s/step\n",
      "WARNING:tensorflow:6 out of the last 6 calls to <function TensorFlowTrainer.make_predict_function.<locals>.one_step_on_data_distributed at 0x1064a5c60> triggered tf.function retracing. Tracing is expensive and the excessive number of tracings could be due to (1) creating @tf.function repeatedly in a loop, (2) passing tensors with different shapes, (3) passing Python objects instead of tensors. For (1), please define your @tf.function outside of the loop. For (2), @tf.function has reduce_retracing=True option that can avoid unnecessary retracing. For (3), please refer to https://www.tensorflow.org/guide/function#controlling_retracing and https://www.tensorflow.org/api_docs/python/tf/function for  more details.\n",
      "\u001b[1m1/1\u001b[0m \u001b[32m━━━━━━━━━━━━━━━━━━━━\u001b[0m\u001b[37m\u001b[0m \u001b[1m7s\u001b[0m 7s/step\n",
      "\u001b[1m1/1\u001b[0m \u001b[32m━━━━━━━━━━━━━━━━━━━━\u001b[0m\u001b[37m\u001b[0m \u001b[1m2s\u001b[0m 2s/step0 + 1) / 1]\n",
      "\u001b[1m1/1\u001b[0m \u001b[32m━━━━━━━━━━━━━━━━━━━━\u001b[0m\u001b[37m\u001b[0m \u001b[1m8s\u001b[0m 8s/step + 4) / 20]\n",
      "\u001b[1m1/1\u001b[0m \u001b[32m━━━━━━━━━━━━━━━━━━━━\u001b[0m\u001b[37m\u001b[0m \u001b[1m8s\u001b[0m 8s/step\n",
      "\u001b[1m1/1\u001b[0m \u001b[32m━━━━━━━━━━━━━━━━━━━━\u001b[0m\u001b[37m\u001b[0m \u001b[1m9s\u001b[0m 9s/step + 4) / 20]\n",
      "\u001b[1m1/1\u001b[0m \u001b[32m━━━━━━━━━━━━━━━━━━━━\u001b[0m\u001b[37m\u001b[0m \u001b[1m11s\u001b[0m 11s/step 4) / 20]\n",
      "\u001b[1m1/1\u001b[0m \u001b[32m━━━━━━━━━━━━━━━━━━━━\u001b[0m\u001b[37m\u001b[0m \u001b[1m11s\u001b[0m 11s/step 4) / 20]\n",
      "\u001b[1m1/1\u001b[0m \u001b[32m━━━━━━━━━━━━━━━━━━━━\u001b[0m\u001b[37m\u001b[0m \u001b[1m11s\u001b[0m 11s/step 4) / 20]\n",
      "\u001b[1m1/1\u001b[0m \u001b[32m━━━━━━━━━━━━━━━━━━━━\u001b[0m\u001b[37m\u001b[0m \u001b[1m12s\u001b[0m 12s/step\n",
      "\u001b[1m1/1\u001b[0m \u001b[32m━━━━━━━━━━━━━━━━━━━━\u001b[0m\u001b[37m\u001b[0m \u001b[1m12s\u001b[0m 12s/step 4) / 20]\n",
      "\u001b[1m1/1\u001b[0m \u001b[32m━━━━━━━━━━━━━━━━━━━━\u001b[0m\u001b[37m\u001b[0m \u001b[1m10s\u001b[0m 10s/step 4) / 20]\n",
      "\u001b[1m1/1\u001b[0m \u001b[32m━━━━━━━━━━━━━━━━━━━━\u001b[0m\u001b[37m\u001b[0m \u001b[1m10s\u001b[0m 10s/step\n",
      "WARNING:tensorflow:5 out of the last 5 calls to <function TensorFlowTrainer.make_predict_function.<locals>.one_step_on_data_distributed at 0x12ad5d9e0> triggered tf.function retracing. Tracing is expensive and the excessive number of tracings could be due to (1) creating @tf.function repeatedly in a loop, (2) passing tensors with different shapes, (3) passing Python objects instead of tensors. For (1), please define your @tf.function outside of the loop. For (2), @tf.function has reduce_retracing=True option that can avoid unnecessary retracing. For (3), please refer to https://www.tensorflow.org/guide/function#controlling_retracing and https://www.tensorflow.org/api_docs/python/tf/function for  more details.\n",
      "\u001b[1m1/1\u001b[0m \u001b[32m━━━━━━━━━━━━━━━━━━━━\u001b[0m\u001b[37m\u001b[0m \u001b[1m11s\u001b[0m 11s/step\n",
      "\u001b[1m1/1\u001b[0m \u001b[32m━━━━━━━━━━━━━━━━━━━━\u001b[0m\u001b[37m\u001b[0m \u001b[1m10s\u001b[0m 10s/step 4) / 20]\n",
      "\u001b[1m1/1\u001b[0m \u001b[32m━━━━━━━━━━━━━━━━━━━━\u001b[0m\u001b[37m\u001b[0m \u001b[1m6s\u001b[0m 6s/step + 4) / 20]\n",
      "WARNING:tensorflow:6 out of the last 6 calls to <function TensorFlowTrainer.make_predict_function.<locals>.one_step_on_data_distributed at 0x1060edb20> triggered tf.function retracing. Tracing is expensive and the excessive number of tracings could be due to (1) creating @tf.function repeatedly in a loop, (2) passing tensors with different shapes, (3) passing Python objects instead of tensors. For (1), please define your @tf.function outside of the loop. For (2), @tf.function has reduce_retracing=True option that can avoid unnecessary retracing. For (3), please refer to https://www.tensorflow.org/guide/function#controlling_retracing and https://www.tensorflow.org/api_docs/python/tf/function for  more details.\n",
      "\u001b[1m1/1\u001b[0m \u001b[32m━━━━━━━━━━━━━━━━━━━━\u001b[0m\u001b[37m\u001b[0m \u001b[1m6s\u001b[0m 6s/step\n",
      "WARNING:tensorflow:5 out of the last 5 calls to <function TensorFlowTrainer.make_predict_function.<locals>.one_step_on_data_distributed at 0x12a8e19e0> triggered tf.function retracing. Tracing is expensive and the excessive number of tracings could be due to (1) creating @tf.function repeatedly in a loop, (2) passing tensors with different shapes, (3) passing Python objects instead of tensors. For (1), please define your @tf.function outside of the loop. For (2), @tf.function has reduce_retracing=True option that can avoid unnecessary retracing. For (3), please refer to https://www.tensorflow.org/guide/function#controlling_retracing and https://www.tensorflow.org/api_docs/python/tf/function for  more details.\n",
      "\u001b[1m1/1\u001b[0m \u001b[32m━━━━━━━━━━━━━━━━━━━━\u001b[0m\u001b[37m\u001b[0m \u001b[1m7s\u001b[0m 7s/step\n",
      "\u001b[1m1/1\u001b[0m \u001b[32m━━━━━━━━━━━━━━━━━━━━\u001b[0m\u001b[37m\u001b[0m \u001b[1m8s\u001b[0m 8s/step + 4) / 20]\n",
      "\u001b[1m1/1\u001b[0m \u001b[32m━━━━━━━━━━━━━━━━━━━━\u001b[0m\u001b[37m\u001b[0m \u001b[1m8s\u001b[0m 8s/step + 4) / 20]\n",
      "WARNING:tensorflow:6 out of the last 6 calls to <function TensorFlowTrainer.make_predict_function.<locals>.one_step_on_data_distributed at 0x10812db20> triggered tf.function retracing. Tracing is expensive and the excessive number of tracings could be due to (1) creating @tf.function repeatedly in a loop, (2) passing tensors with different shapes, (3) passing Python objects instead of tensors. For (1), please define your @tf.function outside of the loop. For (2), @tf.function has reduce_retracing=True option that can avoid unnecessary retracing. For (3), please refer to https://www.tensorflow.org/guide/function#controlling_retracing and https://www.tensorflow.org/api_docs/python/tf/function for  more details.\n",
      "\u001b[1m1/1\u001b[0m \u001b[32m━━━━━━━━━━━━━━━━━━━━\u001b[0m\u001b[37m\u001b[0m \u001b[1m8s\u001b[0m 8s/step\n",
      "\u001b[1m1/1\u001b[0m \u001b[32m━━━━━━━━━━━━━━━━━━━━\u001b[0m\u001b[37m\u001b[0m \u001b[1m8s\u001b[0m 8s/step\n",
      "\u001b[1m1/1\u001b[0m \u001b[32m━━━━━━━━━━━━━━━━━━━━\u001b[0m\u001b[37m\u001b[0m \u001b[1m7s\u001b[0m 7s/step + 1) / 20]\n",
      "                                                                                \r"
     ]
    }
   ],
   "source": [
    "#Ajustement de l'ACP pour initialiser avec toutes les composantes disponibles\n",
    "pca = PCA(k=features_df.select(\"features_vector\").first()[0].size,  \n",
    "          inputCol=\"features_vector\", \n",
    "          outputCol=\"pca_features\")\n",
    "\n",
    "# Ajustement du modèle PCA\n",
    "pca_model = pca.fit(features_df)\n",
    "\n",
    "#Calcul de la variance cumulée\n",
    "explained_variance = np.cumsum(pca_model.explainedVariance)  \n",
    "print(\"Variance Expliquée Cumulative : \", explained_variance)\n",
    "\n",
    "#Recherche du plus petit k pour lequel la variance cumulée >= 75%\n",
    "threshold = 0.75 \n",
    "k_optimal = np.argmax(explained_variance >= threshold) + 1  \n",
    "print(f\"Nombre de composantes nécessaires pour expliquer au moins 75% de la variance : {k_optimal}\")\n",
    "\n",
    "# Réajustement de l'ACP avec le k déterminé\n",
    "pca = PCA(k=k_optimal, inputCol=\"features_vector\", outputCol=\"pca_features\")\n",
    "pca_model = pca.fit(features_df)\n",
    "\n",
    "# Application de l'ACP avec le k déterminé\n",
    "pca_result = pca_model.transform(features_df)"
   ]
  },
  {
   "cell_type": "markdown",
   "id": "3b195d9c",
   "metadata": {},
   "source": [
    "Sauvegarde et lecture :\n",
    "Les résultats transformés sont sauvegardés au format Parquet et peuvent être chargés avec Pandas"
   ]
  },
  {
   "cell_type": "code",
   "execution_count": null,
   "id": "95d07466",
   "metadata": {},
   "outputs": [
    {
     "name": "stderr",
     "output_type": "stream",
     "text": [
      "2024-12-03 19:53:46.521424: I tensorflow/core/platform/cpu_feature_guard.cc:210] This TensorFlow binary is optimized to use available CPU instructions in performance-critical operations.\n",
      "To enable the following instructions: AVX2 FMA, in other operations, rebuild TensorFlow with the appropriate compiler flags.\n",
      "2024-12-03 19:53:46.519931: I tensorflow/core/platform/cpu_feature_guard.cc:210] This TensorFlow binary is optimized to use available CPU instructions in performance-critical operations.\n",
      "To enable the following instructions: AVX2 FMA, in other operations, rebuild TensorFlow with the appropriate compiler flags.\n",
      "2024-12-03 19:53:46.528976: I tensorflow/core/platform/cpu_feature_guard.cc:210] This TensorFlow binary is optimized to use available CPU instructions in performance-critical operations.\n",
      "To enable the following instructions: AVX2 FMA, in other operations, rebuild TensorFlow with the appropriate compiler flags.\n",
      "2024-12-03 19:53:46.550397: I tensorflow/core/platform/cpu_feature_guard.cc:210] This TensorFlow binary is optimized to use available CPU instructions in performance-critical operations.\n",
      "To enable the following instructions: AVX2 FMA, in other operations, rebuild TensorFlow with the appropriate compiler flags.\n",
      "\u001b[1m1/1\u001b[0m \u001b[32m━━━━━━━━━━━━━━━━━━━━\u001b[0m\u001b[37m\u001b[0m \u001b[1m8s\u001b[0m 8s/step + 4) / 20]\n",
      "\u001b[1m1/1\u001b[0m \u001b[32m━━━━━━━━━━━━━━━━━━━━\u001b[0m\u001b[37m\u001b[0m \u001b[1m8s\u001b[0m 8s/step\n",
      "\u001b[1m1/1\u001b[0m \u001b[32m━━━━━━━━━━━━━━━━━━━━\u001b[0m\u001b[37m\u001b[0m \u001b[1m9s\u001b[0m 9s/step\n",
      "\u001b[1m1/1\u001b[0m \u001b[32m━━━━━━━━━━━━━━━━━━━━\u001b[0m\u001b[37m\u001b[0m \u001b[1m10s\u001b[0m 10s/step\n",
      "\u001b[1m1/1\u001b[0m \u001b[32m━━━━━━━━━━━━━━━━━━━━\u001b[0m\u001b[37m\u001b[0m \u001b[1m8s\u001b[0m 8s/step + 4) / 20]\n",
      "\u001b[1m1/1\u001b[0m \u001b[32m━━━━━━━━━━━━━━━━━━━━\u001b[0m\u001b[37m\u001b[0m \u001b[1m9s\u001b[0m 9s/step\n",
      "2024-12-03 19:55:19.580448: I tensorflow/core/platform/cpu_feature_guard.cc:210] This TensorFlow binary is optimized to use available CPU instructions in performance-critical operations.\n",
      "To enable the following instructions: AVX2 FMA, in other operations, rebuild TensorFlow with the appropriate compiler flags.\n",
      "2024-12-03 19:55:19.716196: I tensorflow/core/platform/cpu_feature_guard.cc:210] This TensorFlow binary is optimized to use available CPU instructions in performance-critical operations.\n",
      "To enable the following instructions: AVX2 FMA, in other operations, rebuild TensorFlow with the appropriate compiler flags.\n",
      "\u001b[1m1/1\u001b[0m \u001b[32m━━━━━━━━━━━━━━━━━━━━\u001b[0m\u001b[37m\u001b[0m \u001b[1m8s\u001b[0m 8s/step + 4) / 20]\n",
      "\u001b[1m1/1\u001b[0m \u001b[32m━━━━━━━━━━━━━━━━━━━━\u001b[0m\u001b[37m\u001b[0m \u001b[1m9s\u001b[0m 9s/step\n",
      "\u001b[1m1/1\u001b[0m \u001b[32m━━━━━━━━━━━━━━━━━━━━\u001b[0m\u001b[37m\u001b[0m \u001b[1m8s\u001b[0m 8s/step + 4) / 20]\n",
      "\u001b[1m1/1\u001b[0m \u001b[32m━━━━━━━━━━━━━━━━━━━━\u001b[0m\u001b[37m\u001b[0m \u001b[1m8s\u001b[0m 8s/step\n",
      "\u001b[1m1/1\u001b[0m \u001b[32m━━━━━━━━━━━━━━━━━━━━\u001b[0m\u001b[37m\u001b[0m \u001b[1m10s\u001b[0m 10s/step 4) / 20]\n",
      "\u001b[1m1/1\u001b[0m \u001b[32m━━━━━━━━━━━━━━━━━━━━\u001b[0m\u001b[37m\u001b[0m \u001b[1m11s\u001b[0m 11s/step 4) / 20]\n",
      "WARNING:tensorflow:5 out of the last 5 calls to <function TensorFlowTrainer.make_predict_function.<locals>.one_step_on_data_distributed at 0x128495bc0> triggered tf.function retracing. Tracing is expensive and the excessive number of tracings could be due to (1) creating @tf.function repeatedly in a loop, (2) passing tensors with different shapes, (3) passing Python objects instead of tensors. For (1), please define your @tf.function outside of the loop. For (2), @tf.function has reduce_retracing=True option that can avoid unnecessary retracing. For (3), please refer to https://www.tensorflow.org/guide/function#controlling_retracing and https://www.tensorflow.org/api_docs/python/tf/function for  more details.\n",
      "\u001b[1m1/1\u001b[0m \u001b[32m━━━━━━━━━━━━━━━━━━━━\u001b[0m\u001b[37m\u001b[0m \u001b[1m11s\u001b[0m 11s/step\n",
      "\u001b[1m1/1\u001b[0m \u001b[32m━━━━━━━━━━━━━━━━━━━━\u001b[0m\u001b[37m\u001b[0m \u001b[1m11s\u001b[0m 11s/step 4) / 20]\n",
      "\u001b[1m1/1\u001b[0m \u001b[32m━━━━━━━━━━━━━━━━━━━━\u001b[0m\u001b[37m\u001b[0m \u001b[1m7s\u001b[0m 7s/step + 4) / 20]\n",
      "\u001b[1m1/1\u001b[0m \u001b[32m━━━━━━━━━━━━━━━━━━━━\u001b[0m\u001b[37m\u001b[0m \u001b[1m8s\u001b[0m 8s/step\n",
      "WARNING:tensorflow:6 out of the last 6 calls to <function TensorFlowTrainer.make_predict_function.<locals>.one_step_on_data_distributed at 0x12b0a1c60> triggered tf.function retracing. Tracing is expensive and the excessive number of tracings could be due to (1) creating @tf.function repeatedly in a loop, (2) passing tensors with different shapes, (3) passing Python objects instead of tensors. For (1), please define your @tf.function outside of the loop. For (2), @tf.function has reduce_retracing=True option that can avoid unnecessary retracing. For (3), please refer to https://www.tensorflow.org/guide/function#controlling_retracing and https://www.tensorflow.org/api_docs/python/tf/function for  more details.\n",
      "\u001b[1m1/1\u001b[0m \u001b[32m━━━━━━━━━━━━━━━━━━━━\u001b[0m\u001b[37m\u001b[0m \u001b[1m9s\u001b[0m 9s/step\n",
      "WARNING:tensorflow:5 out of the last 5 calls to <function TensorFlowTrainer.make_predict_function.<locals>.one_step_on_data_distributed at 0x12b30d9e0> triggered tf.function retracing. Tracing is expensive and the excessive number of tracings could be due to (1) creating @tf.function repeatedly in a loop, (2) passing tensors with different shapes, (3) passing Python objects instead of tensors. For (1), please define your @tf.function outside of the loop. For (2), @tf.function has reduce_retracing=True option that can avoid unnecessary retracing. For (3), please refer to https://www.tensorflow.org/guide/function#controlling_retracing and https://www.tensorflow.org/api_docs/python/tf/function for  more details.\n",
      "\u001b[1m1/1\u001b[0m \u001b[32m━━━━━━━━━━━━━━━━━━━━\u001b[0m\u001b[37m\u001b[0m \u001b[1m10s\u001b[0m 10s/step\n",
      "\u001b[1m1/1\u001b[0m \u001b[32m━━━━━━━━━━━━━━━━━━━━\u001b[0m\u001b[37m\u001b[0m \u001b[1m4s\u001b[0m 4s/step + 2) / 20]\n",
      "\u001b[1m1/1\u001b[0m \u001b[32m━━━━━━━━━━━━━━━━━━━━\u001b[0m\u001b[37m\u001b[0m \u001b[1m5s\u001b[0m 5s/step\n",
      "                                                                                \r"
     ]
    }
   ],
   "source": [
    "features_df.write.mode(\"overwrite\").parquet(PATH_Result)"
   ]
  },
  {
   "cell_type": "markdown",
   "id": "f9506f21",
   "metadata": {},
   "source": [
    "## 3.5. Chargement des données enregistrées et validation du résultat"
   ]
  },
  {
   "cell_type": "markdown",
   "id": "c932e850",
   "metadata": {},
   "source": [
    "Nous chargeons les données enregistrées dans un DataFrame Pandas, et affichons les 5 premières lignes"
   ]
  },
  {
   "cell_type": "code",
   "execution_count": null,
   "id": "19243bf5",
   "metadata": {},
   "outputs": [],
   "source": [
    "df = pd.read_parquet(PATH_Result, engine='pyarrow')"
   ]
  },
  {
   "cell_type": "code",
   "execution_count": null,
   "id": "8a1bcdeb",
   "metadata": {},
   "outputs": [
    {
     "data": {
      "text/html": [
       "<div>\n",
       "<style scoped>\n",
       "    .dataframe tbody tr th:only-of-type {\n",
       "        vertical-align: middle;\n",
       "    }\n",
       "\n",
       "    .dataframe tbody tr th {\n",
       "        vertical-align: top;\n",
       "    }\n",
       "\n",
       "    .dataframe thead th {\n",
       "        text-align: right;\n",
       "    }\n",
       "</style>\n",
       "<table border=\"1\" class=\"dataframe\">\n",
       "  <thead>\n",
       "    <tr style=\"text-align: right;\">\n",
       "      <th></th>\n",
       "      <th>path</th>\n",
       "      <th>label</th>\n",
       "      <th>features</th>\n",
       "      <th>features_vector</th>\n",
       "    </tr>\n",
       "  </thead>\n",
       "  <tbody>\n",
       "    <tr>\n",
       "      <th>0</th>\n",
       "      <td>file:/Users/amira/Documents/OPC/Projet9/data/f...</td>\n",
       "      <td>cucumber_3</td>\n",
       "      <td>[1.2083813, 0.47967055, 0.11343843, 0.07406247...</td>\n",
       "      <td>{'type': 1, 'size': None, 'indices': None, 'va...</td>\n",
       "    </tr>\n",
       "    <tr>\n",
       "      <th>1</th>\n",
       "      <td>file:/Users/amira/Documents/OPC/Projet9/data/f...</td>\n",
       "      <td>apple_braeburn_1</td>\n",
       "      <td>[0.13303593, 0.0, 0.026936326, 0.0, 0.0, 1.795...</td>\n",
       "      <td>{'type': 1, 'size': None, 'indices': None, 'va...</td>\n",
       "    </tr>\n",
       "    <tr>\n",
       "      <th>2</th>\n",
       "      <td>file:/Users/amira/Documents/OPC/Projet9/data/f...</td>\n",
       "      <td>apple_red_1</td>\n",
       "      <td>[0.5185862, 0.0, 0.0, 0.0, 0.17228875, 0.0, 0....</td>\n",
       "      <td>{'type': 1, 'size': None, 'indices': None, 'va...</td>\n",
       "    </tr>\n",
       "    <tr>\n",
       "      <th>3</th>\n",
       "      <td>file:/Users/amira/Documents/OPC/Projet9/data/f...</td>\n",
       "      <td>apple_braeburn_1</td>\n",
       "      <td>[0.49638048, 0.37547272, 0.0, 0.0, 0.0, 0.0807...</td>\n",
       "      <td>{'type': 1, 'size': None, 'indices': None, 'va...</td>\n",
       "    </tr>\n",
       "    <tr>\n",
       "      <th>4</th>\n",
       "      <td>file:/Users/amira/Documents/OPC/Projet9/data/f...</td>\n",
       "      <td>apple_golden_1</td>\n",
       "      <td>[0.0, 0.20505804, 0.82092077, 0.0, 0.0, 0.0, 0...</td>\n",
       "      <td>{'type': 1, 'size': None, 'indices': None, 'va...</td>\n",
       "    </tr>\n",
       "  </tbody>\n",
       "</table>\n",
       "</div>"
      ],
      "text/plain": [
       "                                                path             label  \\\n",
       "0  file:/Users/amira/Documents/OPC/Projet9/data/f...        cucumber_3   \n",
       "1  file:/Users/amira/Documents/OPC/Projet9/data/f...  apple_braeburn_1   \n",
       "2  file:/Users/amira/Documents/OPC/Projet9/data/f...       apple_red_1   \n",
       "3  file:/Users/amira/Documents/OPC/Projet9/data/f...  apple_braeburn_1   \n",
       "4  file:/Users/amira/Documents/OPC/Projet9/data/f...    apple_golden_1   \n",
       "\n",
       "                                            features  \\\n",
       "0  [1.2083813, 0.47967055, 0.11343843, 0.07406247...   \n",
       "1  [0.13303593, 0.0, 0.026936326, 0.0, 0.0, 1.795...   \n",
       "2  [0.5185862, 0.0, 0.0, 0.0, 0.17228875, 0.0, 0....   \n",
       "3  [0.49638048, 0.37547272, 0.0, 0.0, 0.0, 0.0807...   \n",
       "4  [0.0, 0.20505804, 0.82092077, 0.0, 0.0, 0.0, 0...   \n",
       "\n",
       "                                     features_vector  \n",
       "0  {'type': 1, 'size': None, 'indices': None, 'va...  \n",
       "1  {'type': 1, 'size': None, 'indices': None, 'va...  \n",
       "2  {'type': 1, 'size': None, 'indices': None, 'va...  \n",
       "3  {'type': 1, 'size': None, 'indices': None, 'va...  \n",
       "4  {'type': 1, 'size': None, 'indices': None, 'va...  "
      ]
     },
     "execution_count": 26,
     "metadata": {},
     "output_type": "execute_result"
    }
   ],
   "source": [
    "df.head()"
   ]
  },
  {
   "cell_type": "markdown",
   "id": "e2794fca",
   "metadata": {},
   "source": [
    "Nous validons que la dimension du vecteur de caractéristiques des images est bien de dimension 1280"
   ]
  },
  {
   "cell_type": "code",
   "execution_count": null,
   "id": "0bb933b9",
   "metadata": {},
   "outputs": [
    {
     "data": {
      "text/plain": [
       "(1280,)"
      ]
     },
     "execution_count": 27,
     "metadata": {},
     "output_type": "execute_result"
    }
   ],
   "source": [
    "df.loc[0,'features'].shape"
   ]
  },
  {
   "cell_type": "markdown",
   "id": "efe5348d",
   "metadata": {},
   "source": [
    "Nous avons validé le processus en local sur un jeu de données réduit, en simulant un cluster de machines en répartissant la charge de travail sur plusieurs cœurs d’un même processeur.\n",
    "Nous allons maintenant passer à l’étape suivante en généralisant ce processus. La solution sera déployée sur un véritable cluster de machines, et nous traiterons l’ensemble des 22688 images présentes dans le dossier \"Test\"."
   ]
  },
  {
   "cell_type": "markdown",
   "id": "153dbd0f",
   "metadata": {},
   "source": [
    "# 4. Déploiement de la solution sur le cloud"
   ]
  },
  {
   "cell_type": "markdown",
   "id": "16ce50b3",
   "metadata": {},
   "source": [
    "Les étapes suivantes ont été mises en place afin de déploier la solution sur le cloud AWS:\n",
    "- Création d'un S3 nommé opc-p9-ba : un compartiment S3 a été créé sur AWS avec le nom opc-p9-ba. Ce compartiment sera utilisé pour stocker les images et autres fichiers nécessaires au projet.\n",
    "\n",
    "- Chargement des images sur ce S3 : les images pertinentes pour le projet ont été téléchargées dans le compartiment opc-p9-ba. Ces images seront ensuite utilisées pour le traitement et l'analyse au sein de l'environnement EMR.\n",
    "\n",
    "- Configuration de l'EMR: l'EMR P8_Fruits a été configuré avec les paramètres appropriés pour assurer le bon déroulement du traitement des données. Les paramètres sont les suivants:\n",
    "    - utilisation de la version EMR 7.5.0 \n",
    "    - installation de Hadoop 3.4.0, JupyterHub 1.5.0, Spark 3.5.2, TensorFlow 2.16.1\n",
    "    - proupes d'instances uniformes Primaire m5.xlarge et Unité principale m5.xlarge et Tâche 1 sur 1 m5.xlarge\n",
    "    - volume racine EBS 15 Gio IOPS 3000 Débit 124 Mio/s\n",
    "    - paramètres du logiciel:\n",
    "    [\n",
    "  {\n",
    "    \"Classification\": \"jupyter-s3-conf\",\n",
    "    \"Properties\": {\n",
    "      \"s3.persistence.bucket\": \"opc-p9-ba\",\n",
    "      \"s3.persistence.enabled\": \"true\"\n",
    "    }\n",
    "  }\n",
    "]\n",
    "\n",
    "- Installation des packages via un fichier bootstrap-emr.sh: un fichier bootstrap-emr.sh a été créé pour automatiser l'installation des packages nécessaires. Ce script permet de mettre à jour les outils Python, puis d'installer toutes les bibliothèques nécessaires, y compris pillow pour la gestion des images, numpy et scikit-learn pour le machine learning, ainsi que boto3 et s3fs pour l'interaction avec AWS S3. Ce fichier contient les instructions suivantes :\n",
    "\n",
    "![Détails installations](https://i.imgur.com/NYgVKgx.png)\n",
    "\n",
    "\n",
    "- Création d'un tunnel SSH avec FoxyProxy: un tunnel SSH a été configuré à l'aide de FoxyProxy pour permettre un accès sécurisé et direct à l'environnement EMR\n",
    "\n",
    "- Exécution du code avec JupyterHub hébergé par EMR dans un environnement PySpark: le code suivant est ensuite exécuté sur l'environnement EMR via JupyterHub. Cela permet de tirer parti de la puissance de calcul distribuée pour le traitement de données volumineuses et l'exécution de modèles machine learning à grande échelle"
   ]
  },
  {
   "cell_type": "markdown",
   "id": "4e759c1e",
   "metadata": {},
   "source": [
    "## 4.1. Démarrage de la session Spark"
   ]
  },
  {
   "cell_type": "code",
   "execution_count": null,
   "id": "e5f0fbe1",
   "metadata": {},
   "outputs": [
    {
     "name": "stdout",
     "output_type": "stream",
     "text": [
      "Starting Spark application\n"
     ]
    },
    {
     "data": {
      "text/html": [
       "<table>\n",
       "<tr><th>ID</th><th>YARN Application ID</th><th>Kind</th><th>State</th><th>Spark UI</th><th>Driver log</th><th>User</th><th>Current session?</th></tr><tr><td>0</td><td>application_1733303984191_0001</td><td>pyspark</td><td>idle</td><td><a target=\"_blank\" href=\"http://ip-172-31-37-64.eu-west-3.compute.internal:20888/proxy/application_1733303984191_0001/\">Link</a></td><td><a target=\"_blank\" href=\"http://ip-172-31-41-66.eu-west-3.compute.internal:8042/node/containerlogs/container_1733303984191_0001_01_000001/livy\">Link</a></td><td>None</td><td>✔</td></tr></table>"
      ],
      "text/plain": [
       "<IPython.core.display.HTML object>"
      ]
     },
     "metadata": {},
     "output_type": "display_data"
    },
    {
     "data": {
      "application/vnd.jupyter.widget-view+json": {
       "model_id": "",
       "version_major": 2,
       "version_minor": 0
      },
      "text/plain": [
       "FloatProgress(value=0.0, bar_style='info', description='Progress:', layout=Layout(height='25px', width='50%'),…"
      ]
     },
     "metadata": {},
     "output_type": "display_data"
    },
    {
     "name": "stdout",
     "output_type": "stream",
     "text": [
      "SparkSession available as 'spark'.\n"
     ]
    },
    {
     "data": {
      "application/vnd.jupyter.widget-view+json": {
       "model_id": "",
       "version_major": 2,
       "version_minor": 0
      },
      "text/plain": [
       "FloatProgress(value=0.0, bar_style='info', description='Progress:', layout=Layout(height='25px', width='50%'),…"
      ]
     },
     "metadata": {},
     "output_type": "display_data"
    }
   ],
   "source": [
    "# L'exécution de cette cellule démarre l'application Spark"
   ]
  },
  {
   "cell_type": "markdown",
   "id": "3aba202f",
   "metadata": {},
   "source": [
    "<u>Affichage des informations sur la session en cours et liens vers Spark UI</u> :"
   ]
  },
  {
   "cell_type": "code",
   "execution_count": null,
   "id": "fb788991",
   "metadata": {},
   "outputs": [
    {
     "data": {
      "text/html": [
       "Current session configs: <tt>{'driverMemory': '1000M', 'executorCores': 2, 'proxyUser': 'jovyan', 'kind': 'pyspark'}</tt><br>"
      ],
      "text/plain": [
       "<IPython.core.display.HTML object>"
      ]
     },
     "metadata": {},
     "output_type": "display_data"
    },
    {
     "data": {
      "text/html": [
       "<table>\n",
       "<tr><th>ID</th><th>YARN Application ID</th><th>Kind</th><th>State</th><th>Spark UI</th><th>Driver log</th><th>User</th><th>Current session?</th></tr><tr><td>0</td><td>application_1733303984191_0001</td><td>pyspark</td><td>idle</td><td><a target=\"_blank\" href=\"http://ip-172-31-37-64.eu-west-3.compute.internal:20888/proxy/application_1733303984191_0001/\">Link</a></td><td><a target=\"_blank\" href=\"http://ip-172-31-41-66.eu-west-3.compute.internal:8042/node/containerlogs/container_1733303984191_0001_01_000001/livy\">Link</a></td><td>None</td><td>✔</td></tr></table>"
      ],
      "text/plain": [
       "<IPython.core.display.HTML object>"
      ]
     },
     "metadata": {},
     "output_type": "display_data"
    }
   ],
   "source": [
    "%%info"
   ]
  },
  {
   "cell_type": "markdown",
   "id": "33187ad0",
   "metadata": {},
   "source": [
    "## 4.2. Importation des librairies"
   ]
  },
  {
   "cell_type": "code",
   "execution_count": 2,
   "id": "ad562eab",
   "metadata": {},
   "outputs": [],
   "source": [
    "import pandas as pd\n",
    "import numpy as np\n",
    "import io\n",
    "import os\n",
    "import tensorflow as tf\n",
    "from PIL import Image\n",
    "from tensorflow.keras.applications.mobilenet_v2 import MobileNetV2, preprocess_input\n",
    "from tensorflow.keras.preprocessing.image import img_to_array\n",
    "from tensorflow.keras import Model\n",
    "from pyspark.sql.functions import col, pandas_udf, PandasUDFType, element_at, split, udf, base64\n",
    "import boto3\n",
    "import glob\n",
    "\n",
    "from pyspark.ml.feature import PCA\n",
    "from pyspark.ml.linalg import Vectors, VectorUDT\n",
    "from pyspark.sql.types import StringType\n"
   ]
  },
  {
   "cell_type": "markdown",
   "id": "65c6334b",
   "metadata": {},
   "source": [
    "## 4.3. Définition des PATHs"
   ]
  },
  {
   "cell_type": "markdown",
   "id": "83663cbd",
   "metadata": {},
   "source": [
    "Nous accédons à nos données sur S3"
   ]
  },
  {
   "cell_type": "code",
   "execution_count": null,
   "id": "46be859d",
   "metadata": {},
   "outputs": [
    {
     "data": {
      "application/vnd.jupyter.widget-view+json": {
       "model_id": "",
       "version_major": 2,
       "version_minor": 0
      },
      "text/plain": [
       "FloatProgress(value=0.0, bar_style='info', description='Progress:', layout=Layout(height='25px', width='50%'),…"
      ]
     },
     "metadata": {},
     "output_type": "display_data"
    },
    {
     "name": "stdout",
     "output_type": "stream",
     "text": [
      "PATH:        s3://opc-p9-ba\n",
      "PATH_Data:   s3://opc-p9-ba\n",
      "PATH_Result: s3://opc-p9-ba/Resultats"
     ]
    }
   ],
   "source": [
    "PATH = 's3://opc-p9-ba'\n",
    "PATH_Data = PATH\n",
    "PATH_Result = PATH+'/Resultats'\n",
    "print('PATH:        '+\\\n",
    "      PATH+'\\nPATH_Data:   '+\\\n",
    "      PATH_Data+'\\nPATH_Result: '+PATH_Result)"
   ]
  },
  {
   "cell_type": "markdown",
   "id": "cf883c20",
   "metadata": {},
   "source": [
    "## 4.4. Traitement des données"
   ]
  },
  {
   "cell_type": "markdown",
   "id": "2ffe93f5",
   "metadata": {},
   "source": [
    "### 4.4.1. Chargement des données"
   ]
  },
  {
   "cell_type": "markdown",
   "id": "9985c377",
   "metadata": {},
   "source": [
    "Nous chargeons les fichiers image depuis le stockage S3 en utilisant Pyspark, et nous observons les cinq premières lignes"
   ]
  },
  {
   "cell_type": "code",
   "execution_count": null,
   "id": "7e4b319a",
   "metadata": {},
   "outputs": [
    {
     "data": {
      "application/vnd.jupyter.widget-view+json": {
       "model_id": "",
       "version_major": 2,
       "version_minor": 0
      },
      "text/plain": [
       "FloatProgress(value=0.0, bar_style='info', description='Progress:', layout=Layout(height='25px', width='50%'),…"
      ]
     },
     "metadata": {},
     "output_type": "display_data"
    }
   ],
   "source": [
    "images = spark.read.format(\"binaryFile\") \\\n",
    "  .option(\"pathGlobFilter\", \"*.jpg\") \\\n",
    "  .option(\"recursiveFileLookup\", \"true\") \\\n",
    "  .load(PATH_Data)"
   ]
  },
  {
   "cell_type": "code",
   "execution_count": null,
   "id": "16bfeb4d",
   "metadata": {},
   "outputs": [
    {
     "data": {
      "application/vnd.jupyter.widget-view+json": {
       "model_id": "",
       "version_major": 2,
       "version_minor": 0
      },
      "text/plain": [
       "FloatProgress(value=0.0, bar_style='info', description='Progress:', layout=Layout(height='25px', width='50%'),…"
      ]
     },
     "metadata": {},
     "output_type": "display_data"
    },
    {
     "name": "stdout",
     "output_type": "stream",
     "text": [
      "+--------------------+-------------------+------+--------------------+\n",
      "|                path|   modificationTime|length|             content|\n",
      "+--------------------+-------------------+------+--------------------+\n",
      "|s3://opc-p9-ba/Wa...|2024-12-03 18:48:38|  7353|[FF D8 FF E0 00 1...|\n",
      "|s3://opc-p9-ba/Wa...|2024-12-03 18:48:38|  7350|[FF D8 FF E0 00 1...|\n",
      "|s3://opc-p9-ba/Wa...|2024-12-03 18:48:38|  7349|[FF D8 FF E0 00 1...|\n",
      "|s3://opc-p9-ba/Wa...|2024-12-03 18:48:38|  7348|[FF D8 FF E0 00 1...|\n",
      "|s3://opc-p9-ba/Wa...|2024-12-03 18:48:39|  7328|[FF D8 FF E0 00 1...|\n",
      "+--------------------+-------------------+------+--------------------+\n",
      "only showing top 5 rows"
     ]
    }
   ],
   "source": [
    "images.show(5)"
   ]
  },
  {
   "cell_type": "markdown",
   "id": "8b32ac34",
   "metadata": {},
   "source": [
    "Nous conservons uniquement le path de l'image et nous ajoutons une colonne contenant les labels de chaque image"
   ]
  },
  {
   "cell_type": "code",
   "execution_count": null,
   "id": "a52ab808",
   "metadata": {},
   "outputs": [
    {
     "data": {
      "application/vnd.jupyter.widget-view+json": {
       "model_id": "",
       "version_major": 2,
       "version_minor": 0
      },
      "text/plain": [
       "FloatProgress(value=0.0, bar_style='info', description='Progress:', layout=Layout(height='25px', width='50%'),…"
      ]
     },
     "metadata": {},
     "output_type": "display_data"
    },
    {
     "name": "stdout",
     "output_type": "stream",
     "text": [
      "root\n",
      " |-- path: string (nullable = true)\n",
      " |-- modificationTime: timestamp (nullable = true)\n",
      " |-- length: long (nullable = true)\n",
      " |-- content: binary (nullable = true)\n",
      " |-- label: string (nullable = true)\n",
      "\n",
      "None\n",
      "+---------------------------------------+----------+\n",
      "|path                                   |label     |\n",
      "+---------------------------------------+----------+\n",
      "|s3://opc-p9-ba/Watermelon/r_106_100.jpg|Watermelon|\n",
      "|s3://opc-p9-ba/Watermelon/r_109_100.jpg|Watermelon|\n",
      "|s3://opc-p9-ba/Watermelon/r_108_100.jpg|Watermelon|\n",
      "|s3://opc-p9-ba/Watermelon/r_107_100.jpg|Watermelon|\n",
      "|s3://opc-p9-ba/Watermelon/r_95_100.jpg |Watermelon|\n",
      "+---------------------------------------+----------+\n",
      "only showing top 5 rows\n",
      "\n",
      "None"
     ]
    }
   ],
   "source": [
    "images = images.withColumn('label', element_at(split(images['path'], '/'),-2))\n",
    "print(images.printSchema())\n",
    "print(images.select('path','label').show(5,False))"
   ]
  },
  {
   "cell_type": "markdown",
   "id": "8f15b199",
   "metadata": {},
   "source": [
    "### 4.4.2. Préparation du modèle"
   ]
  },
  {
   "cell_type": "markdown",
   "id": "6bd2e6e0",
   "metadata": {},
   "source": [
    "Nous préparons le modèle MobileNetV2 de la même façon que précédemment"
   ]
  },
  {
   "cell_type": "code",
   "execution_count": null,
   "id": "ec7c7165",
   "metadata": {},
   "outputs": [
    {
     "data": {
      "application/vnd.jupyter.widget-view+json": {
       "model_id": "",
       "version_major": 2,
       "version_minor": 0
      },
      "text/plain": [
       "FloatProgress(value=0.0, bar_style='info', description='Progress:', layout=Layout(height='25px', width='50%'),…"
      ]
     },
     "metadata": {},
     "output_type": "display_data"
    },
    {
     "name": "stdout",
     "output_type": "stream",
     "text": [
      "Downloading data from https://storage.googleapis.com/tensorflow/keras-applications/mobilenet_v2/mobilenet_v2_weights_tf_dim_ordering_tf_kernels_1.0_224.h5\n",
      "\r\n",
      "\u001b[1m       0/14536120\u001b[0m \u001b[37m━━━━━━━━━━━━━━━━━━━━\u001b[0m \u001b[1m0s\u001b[0m 0s/step\b\b\b\b\b\b\b\b\b\b\b\b\b\b\b\b\b\b\b\b\b\b\b\b\b\b\b\b\b\b\b\b\b\b\b\b\b\b\b\b\b\b\b\b\b\b\b\b\b\r\n",
      "\u001b[1m   32768/14536120\u001b[0m \u001b[37m━━━━━━━━━━━━━━━━━━━━\u001b[0m \u001b[1m40s\u001b[0m 3us/step\b\b\b\b\b\b\b\b\b\b\b\b\b\b\b\b\b\b\b\b\b\b\b\b\b\b\b\b\b\b\b\b\b\b\b\b\b\b\b\b\b\b\b\b\b\b\b\b\b\b\b\r\n",
      "\u001b[1m   65536/14536120\u001b[0m \u001b[37m━━━━━━━━━━━━━━━━━━━━\u001b[0m \u001b[1m34s\u001b[0m 2us/step\b\b\b\b\b\b\b\b\b\b\b\b\b\b\b\b\b\b\b\b\b\b\b\b\b\b\b\b\b\b\b\b\b\b\b\b\b\b\b\b\b\b\b\b\b\b\b\b\b\b\b\r\n",
      "\u001b[1m   81920/14536120\u001b[0m \u001b[37m━━━━━━━━━━━━━━━━━━━━\u001b[0m \u001b[1m38s\u001b[0m 3us/step\b\b\b\b\b\b\b\b\b\b\b\b\b\b\b\b\b\b\b\b\b\b\b\b\b\b\b\b\b\b\b\b\b\b\b\b\b\b\b\b\b\b\b\b\b\b\b\b\b\b\b\r\n",
      "\u001b[1m  147456/14536120\u001b[0m \u001b[37m━━━━━━━━━━━━━━━━━━━━\u001b[0m \u001b[1m27s\u001b[0m 2us/step\b\b\b\b\b\b\b\b\b\b\b\b\b\b\b\b\b\b\b\b\b\b\b\b\b\b\b\b\b\b\b\b\b\b\b\b\b\b\b\b\b\b\b\b\b\b\b\b\b\b\b\r\n",
      "\u001b[1m  221184/14536120\u001b[0m \u001b[37m━━━━━━━━━━━━━━━━━━━━\u001b[0m \u001b[1m21s\u001b[0m 2us/step\b\b\b\b\b\b\b\b\b\b\b\b\b\b\b\b\b\b\b\b\b\b\b\b\b\b\b\b\b\b\b\b\b\b\b\b\b\b\b\b\b\b\b\b\b\b\b\b\b\b\b\r\n",
      "\u001b[1m  327680/14536120\u001b[0m \u001b[37m━━━━━━━━━━━━━━━━━━━━\u001b[0m \u001b[1m16s\u001b[0m 1us/step\b\b\b\b\b\b\b\b\b\b\b\b\b\b\b\b\b\b\b\b\b\b\b\b\b\b\b\b\b\b\b\b\b\b\b\b\b\b\b\b\b\b\b\b\b\b\b\b\b\b\b\r\n",
      "\u001b[1m  483328/14536120\u001b[0m \u001b[37m━━━━━━━━━━━━━━━━━━━━\u001b[0m \u001b[1m12s\u001b[0m 1us/step\b\b\b\b\b\b\b\b\b\b\b\b\b\b\b\b\b\b\b\b\b\b\b\b\b\b\b\b\b\b\b\b\b\b\b\b\b\b\b\b\b\b\b\b\b\b\b\b\b\b\b\r\n",
      "\u001b[1m  753664/14536120\u001b[0m \u001b[32m━\u001b[0m\u001b[37m━━━━━━━━━━━━━━━━━━━\u001b[0m \u001b[1m8s\u001b[0m 1us/step \b\b\b\b\b\b\b\b\b\b\b\b\b\b\b\b\b\b\b\b\b\b\b\b\b\b\b\b\b\b\b\b\b\b\b\b\b\b\b\b\b\b\b\b\b\b\b\b\b\b\r\n",
      "\u001b[1m 1130496/14536120\u001b[0m \u001b[32m━\u001b[0m\u001b[37m━━━━━━━━━━━━━━━━━━━\u001b[0m \u001b[1m6s\u001b[0m 0us/step\b\b\b\b\b\b\b\b\b\b\b\b\b\b\b\b\b\b\b\b\b\b\b\b\b\b\b\b\b\b\b\b\b\b\b\b\b\b\b\b\b\b\b\b\b\b\b\b\b\b\r\n",
      "\u001b[1m 1785856/14536120\u001b[0m \u001b[32m━━\u001b[0m\u001b[37m━━━━━━━━━━━━━━━━━━\u001b[0m \u001b[1m4s\u001b[0m 0us/step\b\b\b\b\b\b\b\b\b\b\b\b\b\b\b\b\b\b\b\b\b\b\b\b\b\b\b\b\b\b\b\b\b\b\b\b\b\b\b\b\b\b\b\b\b\b\b\b\b\b\r\n",
      "\u001b[1m 2711552/14536120\u001b[0m \u001b[32m━━━\u001b[0m\u001b[37m━━━━━━━━━━━━━━━━━\u001b[0m \u001b[1m2s\u001b[0m 0us/step\b\b\b\b\b\b\b\b\b\b\b\b\b\b\b\b\b\b\b\b\b\b\b\b\b\b\b\b\b\b\b\b\b\b\b\b\b\b\b\b\b\b\b\b\b\b\b\b\b\b\r\n",
      "\u001b[1m 4292608/14536120\u001b[0m \u001b[32m━━━━━\u001b[0m\u001b[37m━━━━━━━━━━━━━━━\u001b[0m \u001b[1m1s\u001b[0m 0us/step\b\b\b\b\b\b\b\b\b\b\b\b\b\b\b\b\b\b\b\b\b\b\b\b\b\b\b\b\b\b\b\b\b\b\b\b\b\b\b\b\b\b\b\b\b\b\b\b\b\b\r\n",
      "\u001b[1m 6569984/14536120\u001b[0m \u001b[32m━━━━━━━━━\u001b[0m\u001b[37m━━━━━━━━━━━\u001b[0m \u001b[1m0s\u001b[0m 0us/step\b\b\b\b\b\b\b\b\b\b\b\b\b\b\b\b\b\b\b\b\b\b\b\b\b\b\b\b\b\b\b\b\b\b\b\b\b\b\b\b\b\b\b\b\b\b\b\b\b\b\r\n",
      "\u001b[1m 8929280/14536120\u001b[0m \u001b[32m━━━━━━━━━━━━\u001b[0m\u001b[37m━━━━━━━━\u001b[0m \u001b[1m0s\u001b[0m 0us/step\b\b\b\b\b\b\b\b\b\b\b\b\b\b\b\b\b\b\b\b\b\b\b\b\b\b\b\b\b\b\b\b\b\b\b\b\b\b\b\b\b\b\b\b\b\b\b\b\b\b\r\n",
      "\u001b[1m11411456/14536120\u001b[0m \u001b[32m━━━━━━━━━━━━━━━\u001b[0m\u001b[37m━━━━━\u001b[0m \u001b[1m0s\u001b[0m 0us/step\b\b\b\b\b\b\b\b\b\b\b\b\b\b\b\b\b\b\b\b\b\b\b\b\b\b\b\b\b\b\b\b\b\b\b\b\b\b\b\b\b\b\b\b\b\b\b\b\b\b\r\n",
      "\u001b[1m13729792/14536120\u001b[0m \u001b[32m━━━━━━━━━━━━━━━━━━\u001b[0m\u001b[37m━━\u001b[0m \u001b[1m0s\u001b[0m 0us/step\b\b\b\b\b\b\b\b\b\b\b\b\b\b\b\b\b\b\b\b\b\b\b\b\b\b\b\b\b\b\b\b\b\b\b\b\b\b\b\b\b\b\b\b\b\b\b\b\b\b\r\n",
      "\u001b[1m14536120/14536120\u001b[0m \u001b[32m━━━━━━━━━━━━━━━━━━━━\u001b[0m\u001b[37m\u001b[0m \u001b[1m1s\u001b[0m 0us/step"
     ]
    }
   ],
   "source": [
    "# Téléchargement du modèle pré-entraîné MobileNetV2 pour extraire des features\n",
    "model = MobileNetV2(weights='imagenet',\n",
    "                    include_top=True,\n",
    "                    input_shape=(224, 224, 3))"
   ]
  },
  {
   "cell_type": "code",
   "execution_count": null,
   "id": "1b9bc650",
   "metadata": {},
   "outputs": [
    {
     "data": {
      "application/vnd.jupyter.widget-view+json": {
       "model_id": "",
       "version_major": 2,
       "version_minor": 0
      },
      "text/plain": [
       "FloatProgress(value=0.0, bar_style='info', description='Progress:', layout=Layout(height='25px', width='50%'),…"
      ]
     },
     "metadata": {},
     "output_type": "display_data"
    }
   ],
   "source": [
    "new_model = Model(inputs=model.input,\n",
    "                  outputs=model.layers[-2].output)"
   ]
  },
  {
   "cell_type": "code",
   "execution_count": null,
   "id": "a0d497f2",
   "metadata": {},
   "outputs": [
    {
     "data": {
      "application/vnd.jupyter.widget-view+json": {
       "model_id": "",
       "version_major": 2,
       "version_minor": 0
      },
      "text/plain": [
       "FloatProgress(value=0.0, bar_style='info', description='Progress:', layout=Layout(height='25px', width='50%'),…"
      ]
     },
     "metadata": {},
     "output_type": "display_data"
    }
   ],
   "source": [
    "brodcast_weights = sc.broadcast(new_model.get_weights())"
   ]
  },
  {
   "cell_type": "code",
   "execution_count": null,
   "id": "1bc0bf14",
   "metadata": {},
   "outputs": [
    {
     "data": {
      "application/vnd.jupyter.widget-view+json": {
       "model_id": "",
       "version_major": 2,
       "version_minor": 0
      },
      "text/plain": [
       "FloatProgress(value=0.0, bar_style='info', description='Progress:', layout=Layout(height='25px', width='50%'),…"
      ]
     },
     "metadata": {},
     "output_type": "display_data"
    },
    {
     "name": "stdout",
     "output_type": "stream",
     "text": [
      "Model: \"functional_1\"\n",
      "┏━━━━━━━━━━━━━━━━━━━━━┳━━━━━━━━━━━━━━━━━━━┳━━━━━━━━━┳━━━━━━━━━━━━━━━━━━━━━━┓\n",
      "┃ Layer (type)        ┃ Output Shape      ┃ Param # ┃ Connected to         ┃\n",
      "┡━━━━━━━━━━━━━━━━━━━━━╇━━━━━━━━━━━━━━━━━━━╇━━━━━━━━━╇━━━━━━━━━━━━━━━━━━━━━━┩\n",
      "│ input_layer         │ (None, 224, 224,  │       0 │ -                    │\n",
      "│ (InputLayer)        │ 3)                │         │                      │\n",
      "├─────────────────────┼───────────────────┼─────────┼──────────────────────┤\n",
      "│ Conv1 (Conv2D)      │ (None, 112, 112,  │     864 │ input_layer[0][0]    │\n",
      "│                     │ 32)               │         │                      │\n",
      "├─────────────────────┼───────────────────┼─────────┼──────────────────────┤\n",
      "│ bn_Conv1            │ (None, 112, 112,  │     128 │ Conv1[0][0]          │\n",
      "│ (BatchNormalizatio… │ 32)               │         │                      │\n",
      "├─────────────────────┼───────────────────┼─────────┼──────────────────────┤\n",
      "│ Conv1_relu (ReLU)   │ (None, 112, 112,  │       0 │ bn_Conv1[0][0]       │\n",
      "│                     │ 32)               │         │                      │\n",
      "├─────────────────────┼───────────────────┼─────────┼──────────────────────┤\n",
      "│ expanded_conv_dept… │ (None, 112, 112,  │     288 │ Conv1_relu[0][0]     │\n",
      "│ (DepthwiseConv2D)   │ 32)               │         │                      │\n",
      "├─────────────────────┼───────────────────┼─────────┼──────────────────────┤\n",
      "│ expanded_conv_dept… │ (None, 112, 112,  │     128 │ expanded_conv_depth… │\n",
      "│ (BatchNormalizatio… │ 32)               │         │                      │\n",
      "├─────────────────────┼───────────────────┼─────────┼──────────────────────┤\n",
      "│ expanded_conv_dept… │ (None, 112, 112,  │       0 │ expanded_conv_depth… │\n",
      "│ (ReLU)              │ 32)               │         │                      │\n",
      "├─────────────────────┼───────────────────┼─────────┼──────────────────────┤\n",
      "│ expanded_conv_proj… │ (None, 112, 112,  │     512 │ expanded_conv_depth… │\n",
      "│ (Conv2D)            │ 16)               │         │                      │\n",
      "├─────────────────────┼───────────────────┼─────────┼──────────────────────┤\n",
      "│ expanded_conv_proj… │ (None, 112, 112,  │      64 │ expanded_conv_proje… │\n",
      "│ (BatchNormalizatio… │ 16)               │         │                      │\n",
      "├─────────────────────┼───────────────────┼─────────┼──────────────────────┤\n",
      "│ block_1_expand      │ (None, 112, 112,  │   1,536 │ expanded_conv_proje… │\n",
      "│ (Conv2D)            │ 96)               │         │                      │\n",
      "├─────────────────────┼───────────────────┼─────────┼──────────────────────┤\n",
      "│ block_1_expand_BN   │ (None, 112, 112,  │     384 │ block_1_expand[0][0] │\n",
      "│ (BatchNormalizatio… │ 96)               │         │                      │\n",
      "├─────────────────────┼───────────────────┼─────────┼──────────────────────┤\n",
      "│ block_1_expand_relu │ (None, 112, 112,  │       0 │ block_1_expand_BN[0… │\n",
      "│ (ReLU)              │ 96)               │         │                      │\n",
      "├─────────────────────┼───────────────────┼─────────┼──────────────────────┤\n",
      "│ block_1_pad         │ (None, 113, 113,  │       0 │ block_1_expand_relu… │\n",
      "│ (ZeroPadding2D)     │ 96)               │         │                      │\n",
      "├─────────────────────┼───────────────────┼─────────┼──────────────────────┤\n",
      "│ block_1_depthwise   │ (None, 56, 56,    │     864 │ block_1_pad[0][0]    │\n",
      "│ (DepthwiseConv2D)   │ 96)               │         │                      │\n",
      "├─────────────────────┼───────────────────┼─────────┼──────────────────────┤\n",
      "│ block_1_depthwise_… │ (None, 56, 56,    │     384 │ block_1_depthwise[0… │\n",
      "│ (BatchNormalizatio… │ 96)               │         │                      │\n",
      "├─────────────────────┼───────────────────┼─────────┼──────────────────────┤\n",
      "│ block_1_depthwise_… │ (None, 56, 56,    │       0 │ block_1_depthwise_B… │\n",
      "│ (ReLU)              │ 96)               │         │                      │\n",
      "├─────────────────────┼───────────────────┼─────────┼──────────────────────┤\n",
      "│ block_1_project     │ (None, 56, 56,    │   2,304 │ block_1_depthwise_r… │\n",
      "│ (Conv2D)            │ 24)               │         │                      │\n",
      "├─────────────────────┼───────────────────┼─────────┼──────────────────────┤\n",
      "│ block_1_project_BN  │ (None, 56, 56,    │      96 │ block_1_project[0][… │\n",
      "│ (BatchNormalizatio… │ 24)               │         │                      │\n",
      "├─────────────────────┼───────────────────┼─────────┼──────────────────────┤\n",
      "│ block_2_expand      │ (None, 56, 56,    │   3,456 │ block_1_project_BN[… │\n",
      "│ (Conv2D)            │ 144)              │         │                      │\n",
      "├─────────────────────┼───────────────────┼─────────┼──────────────────────┤\n",
      "│ block_2_expand_BN   │ (None, 56, 56,    │     576 │ block_2_expand[0][0] │\n",
      "│ (BatchNormalizatio… │ 144)              │         │                      │\n",
      "├─────────────────────┼───────────────────┼─────────┼──────────────────────┤\n",
      "│ block_2_expand_relu │ (None, 56, 56,    │       0 │ block_2_expand_BN[0… │\n",
      "│ (ReLU)              │ 144)              │         │                      │\n",
      "├─────────────────────┼───────────────────┼─────────┼──────────────────────┤\n",
      "│ block_2_depthwise   │ (None, 56, 56,    │   1,296 │ block_2_expand_relu… │\n",
      "│ (DepthwiseConv2D)   │ 144)              │         │                      │\n",
      "├─────────────────────┼───────────────────┼─────────┼──────────────────────┤\n",
      "│ block_2_depthwise_… │ (None, 56, 56,    │     576 │ block_2_depthwise[0… │\n",
      "│ (BatchNormalizatio… │ 144)              │         │                      │\n",
      "├─────────────────────┼───────────────────┼─────────┼──────────────────────┤\n",
      "│ block_2_depthwise_… │ (None, 56, 56,    │       0 │ block_2_depthwise_B… │\n",
      "│ (ReLU)              │ 144)              │         │                      │\n",
      "├─────────────────────┼───────────────────┼─────────┼──────────────────────┤\n",
      "│ block_2_project     │ (None, 56, 56,    │   3,456 │ block_2_depthwise_r… │\n",
      "│ (Conv2D)            │ 24)               │         │                      │\n",
      "├─────────────────────┼───────────────────┼─────────┼──────────────────────┤\n",
      "│ block_2_project_BN  │ (None, 56, 56,    │      96 │ block_2_project[0][… │\n",
      "│ (BatchNormalizatio… │ 24)               │         │                      │\n",
      "├─────────────────────┼───────────────────┼─────────┼──────────────────────┤\n",
      "│ block_2_add (Add)   │ (None, 56, 56,    │       0 │ block_1_project_BN[… │\n",
      "│                     │ 24)               │         │ block_2_project_BN[… │\n",
      "├─────────────────────┼───────────────────┼─────────┼──────────────────────┤\n",
      "│ block_3_expand      │ (None, 56, 56,    │   3,456 │ block_2_add[0][0]    │\n",
      "│ (Conv2D)            │ 144)              │         │                      │\n",
      "├─────────────────────┼───────────────────┼─────────┼──────────────────────┤\n",
      "│ block_3_expand_BN   │ (None, 56, 56,    │     576 │ block_3_expand[0][0] │\n",
      "│ (BatchNormalizatio… │ 144)              │         │                      │\n",
      "├─────────────────────┼───────────────────┼─────────┼──────────────────────┤\n",
      "│ block_3_expand_relu │ (None, 56, 56,    │       0 │ block_3_expand_BN[0… │\n",
      "│ (ReLU)              │ 144)              │         │                      │\n",
      "├─────────────────────┼───────────────────┼─────────┼──────────────────────┤\n",
      "│ block_3_pad         │ (None, 57, 57,    │       0 │ block_3_expand_relu… │\n",
      "│ (ZeroPadding2D)     │ 144)              │         │                      │\n",
      "├─────────────────────┼───────────────────┼─────────┼──────────────────────┤\n",
      "│ block_3_depthwise   │ (None, 28, 28,    │   1,296 │ block_3_pad[0][0]    │\n",
      "│ (DepthwiseConv2D)   │ 144)              │         │                      │\n",
      "├─────────────────────┼───────────────────┼─────────┼──────────────────────┤\n",
      "│ block_3_depthwise_… │ (None, 28, 28,    │     576 │ block_3_depthwise[0… │\n",
      "│ (BatchNormalizatio… │ 144)              │         │                      │\n",
      "├─────────────────────┼───────────────────┼─────────┼──────────────────────┤\n",
      "│ block_3_depthwise_… │ (None, 28, 28,    │       0 │ block_3_depthwise_B… │\n",
      "│ (ReLU)              │ 144)              │         │                      │\n",
      "├─────────────────────┼───────────────────┼─────────┼──────────────────────┤\n",
      "│ block_3_project     │ (None, 28, 28,    │   4,608 │ block_3_depthwise_r… │\n",
      "│ (Conv2D)            │ 32)               │         │                      │\n",
      "├─────────────────────┼───────────────────┼─────────┼──────────────────────┤\n",
      "│ block_3_project_BN  │ (None, 28, 28,    │     128 │ block_3_project[0][… │\n",
      "│ (BatchNormalizatio… │ 32)               │         │                      │\n",
      "├─────────────────────┼───────────────────┼─────────┼──────────────────────┤\n",
      "│ block_4_expand      │ (None, 28, 28,    │   6,144 │ block_3_project_BN[… │\n",
      "│ (Conv2D)            │ 192)              │         │                      │\n",
      "├─────────────────────┼───────────────────┼─────────┼──────────────────────┤\n",
      "│ block_4_expand_BN   │ (None, 28, 28,    │     768 │ block_4_expand[0][0] │\n",
      "│ (BatchNormalizatio… │ 192)              │         │                      │\n",
      "├─────────────────────┼───────────────────┼─────────┼──────────────────────┤\n",
      "│ block_4_expand_relu │ (None, 28, 28,    │       0 │ block_4_expand_BN[0… │\n",
      "│ (ReLU)              │ 192)              │         │                      │\n",
      "├─────────────────────┼───────────────────┼─────────┼──────────────────────┤\n",
      "│ block_4_depthwise   │ (None, 28, 28,    │   1,728 │ block_4_expand_relu… │\n",
      "│ (DepthwiseConv2D)   │ 192)              │         │                      │\n",
      "├─────────────────────┼───────────────────┼─────────┼──────────────────────┤\n",
      "│ block_4_depthwise_… │ (None, 28, 28,    │     768 │ block_4_depthwise[0… │\n",
      "│ (BatchNormalizatio… │ 192)              │         │                      │\n",
      "├─────────────────────┼───────────────────┼─────────┼──────────────────────┤\n",
      "│ block_4_depthwise_… │ (None, 28, 28,    │       0 │ block_4_depthwise_B… │\n",
      "│ (ReLU)              │ 192)              │         │                      │\n",
      "├─────────────────────┼───────────────────┼─────────┼──────────────────────┤\n",
      "│ block_4_project     │ (None, 28, 28,    │   6,144 │ block_4_depthwise_r… │\n",
      "│ (Conv2D)            │ 32)               │         │                      │\n",
      "├─────────────────────┼───────────────────┼─────────┼──────────────────────┤\n",
      "│ block_4_project_BN  │ (None, 28, 28,    │     128 │ block_4_project[0][… │\n",
      "│ (BatchNormalizatio… │ 32)               │         │                      │\n",
      "├─────────────────────┼───────────────────┼─────────┼──────────────────────┤\n",
      "│ block_4_add (Add)   │ (None, 28, 28,    │       0 │ block_3_project_BN[… │\n",
      "│                     │ 32)               │         │ block_4_project_BN[… │\n",
      "├─────────────────────┼───────────────────┼─────────┼──────────────────────┤\n",
      "│ block_5_expand      │ (None, 28, 28,    │   6,144 │ block_4_add[0][0]    │\n",
      "│ (Conv2D)            │ 192)              │         │                      │\n",
      "├─────────────────────┼───────────────────┼─────────┼──────────────────────┤\n",
      "│ block_5_expand_BN   │ (None, 28, 28,    │     768 │ block_5_expand[0][0] │\n",
      "│ (BatchNormalizatio… │ 192)              │         │                      │\n",
      "├─────────────────────┼───────────────────┼─────────┼──────────────────────┤\n",
      "│ block_5_expand_relu │ (None, 28, 28,    │       0 │ block_5_expand_BN[0… │\n",
      "│ (ReLU)              │ 192)              │         │                      │\n",
      "├─────────────────────┼───────────────────┼─────────┼──────────────────────┤\n",
      "│ block_5_depthwise   │ (None, 28, 28,    │   1,728 │ block_5_expand_relu… │\n",
      "│ (DepthwiseConv2D)   │ 192)              │         │                      │\n",
      "├─────────────────────┼───────────────────┼─────────┼──────────────────────┤\n",
      "│ block_5_depthwise_… │ (None, 28, 28,    │     768 │ block_5_depthwise[0… │\n",
      "│ (BatchNormalizatio… │ 192)              │         │                      │\n",
      "├─────────────────────┼───────────────────┼─────────┼──────────────────────┤\n",
      "│ block_5_depthwise_… │ (None, 28, 28,    │       0 │ block_5_depthwise_B… │\n",
      "│ (ReLU)              │ 192)              │         │                      │\n",
      "├─────────────────────┼───────────────────┼─────────┼──────────────────────┤\n",
      "│ block_5_project     │ (None, 28, 28,    │   6,144 │ block_5_depthwise_r… │\n",
      "│ (Conv2D)            │ 32)               │         │                      │\n",
      "├─────────────────────┼───────────────────┼─────────┼──────────────────────┤\n",
      "│ block_5_project_BN  │ (None, 28, 28,    │     128 │ block_5_project[0][… │\n",
      "│ (BatchNormalizatio… │ 32)               │         │                      │\n",
      "├─────────────────────┼───────────────────┼─────────┼──────────────────────┤\n",
      "│ block_5_add (Add)   │ (None, 28, 28,    │       0 │ block_4_add[0][0],   │\n",
      "│                     │ 32)               │         │ block_5_project_BN[… │\n",
      "├─────────────────────┼───────────────────┼─────────┼──────────────────────┤\n",
      "│ block_6_expand      │ (None, 28, 28,    │   6,144 │ block_5_add[0][0]    │\n",
      "│ (Conv2D)            │ 192)              │         │                      │\n",
      "├─────────────────────┼───────────────────┼─────────┼──────────────────────┤\n",
      "│ block_6_expand_BN   │ (None, 28, 28,    │     768 │ block_6_expand[0][0] │\n",
      "│ (BatchNormalizatio… │ 192)              │         │                      │\n",
      "├─────────────────────┼───────────────────┼─────────┼──────────────────────┤\n",
      "│ block_6_expand_relu │ (None, 28, 28,    │       0 │ block_6_expand_BN[0… │\n",
      "│ (ReLU)              │ 192)              │         │                      │\n",
      "├─────────────────────┼───────────────────┼─────────┼──────────────────────┤\n",
      "│ block_6_pad         │ (None, 29, 29,    │       0 │ block_6_expand_relu… │\n",
      "│ (ZeroPadding2D)     │ 192)              │         │                      │\n",
      "├─────────────────────┼───────────────────┼─────────┼──────────────────────┤\n",
      "│ block_6_depthwise   │ (None, 14, 14,    │   1,728 │ block_6_pad[0][0]    │\n",
      "│ (DepthwiseConv2D)   │ 192)              │         │                      │\n",
      "├─────────────────────┼───────────────────┼─────────┼──────────────────────┤\n",
      "│ block_6_depthwise_… │ (None, 14, 14,    │     768 │ block_6_depthwise[0… │\n",
      "│ (BatchNormalizatio… │ 192)              │         │                      │\n",
      "├─────────────────────┼───────────────────┼─────────┼──────────────────────┤\n",
      "│ block_6_depthwise_… │ (None, 14, 14,    │       0 │ block_6_depthwise_B… │\n",
      "│ (ReLU)              │ 192)              │         │                      │\n",
      "├─────────────────────┼───────────────────┼─────────┼──────────────────────┤\n",
      "│ block_6_project     │ (None, 14, 14,    │  12,288 │ block_6_depthwise_r… │\n",
      "│ (Conv2D)            │ 64)               │         │                      │\n",
      "├─────────────────────┼───────────────────┼─────────┼──────────────────────┤\n",
      "│ block_6_project_BN  │ (None, 14, 14,    │     256 │ block_6_project[0][… │\n",
      "│ (BatchNormalizatio… │ 64)               │         │                      │\n",
      "├─────────────────────┼───────────────────┼─────────┼──────────────────────┤\n",
      "│ block_7_expand      │ (None, 14, 14,    │  24,576 │ block_6_project_BN[… │\n",
      "│ (Conv2D)            │ 384)              │         │                      │\n",
      "├─────────────────────┼───────────────────┼─────────┼──────────────────────┤\n",
      "│ block_7_expand_BN   │ (None, 14, 14,    │   1,536 │ block_7_expand[0][0] │\n",
      "│ (BatchNormalizatio… │ 384)              │         │                      │\n",
      "├─────────────────────┼───────────────────┼─────────┼──────────────────────┤\n",
      "│ block_7_expand_relu │ (None, 14, 14,    │       0 │ block_7_expand_BN[0… │\n",
      "│ (ReLU)              │ 384)              │         │                      │\n",
      "├─────────────────────┼───────────────────┼─────────┼──────────────────────┤\n",
      "│ block_7_depthwise   │ (None, 14, 14,    │   3,456 │ block_7_expand_relu… │\n",
      "│ (DepthwiseConv2D)   │ 384)              │         │                      │\n",
      "├─────────────────────┼───────────────────┼─────────┼──────────────────────┤\n",
      "│ block_7_depthwise_… │ (None, 14, 14,    │   1,536 │ block_7_depthwise[0… │\n",
      "│ (BatchNormalizatio… │ 384)              │         │                      │\n",
      "├─────────────────────┼───────────────────┼─────────┼──────────────────────┤\n",
      "│ block_7_depthwise_… │ (None, 14, 14,    │       0 │ block_7_depthwise_B… │\n",
      "│ (ReLU)              │ 384)              │         │                      │\n",
      "├─────────────────────┼───────────────────┼─────────┼──────────────────────┤\n",
      "│ block_7_project     │ (None, 14, 14,    │  24,576 │ block_7_depthwise_r… │\n",
      "│ (Conv2D)            │ 64)               │         │                      │\n",
      "├─────────────────────┼───────────────────┼─────────┼──────────────────────┤\n",
      "│ block_7_project_BN  │ (None, 14, 14,    │     256 │ block_7_project[0][… │\n",
      "│ (BatchNormalizatio… │ 64)               │         │                      │\n",
      "├─────────────────────┼───────────────────┼─────────┼──────────────────────┤\n",
      "│ block_7_add (Add)   │ (None, 14, 14,    │       0 │ block_6_project_BN[… │\n",
      "│                     │ 64)               │         │ block_7_project_BN[… │\n",
      "├─────────────────────┼───────────────────┼─────────┼──────────────────────┤\n",
      "│ block_8_expand      │ (None, 14, 14,    │  24,576 │ block_7_add[0][0]    │\n",
      "│ (Conv2D)            │ 384)              │         │                      │\n",
      "├─────────────────────┼───────────────────┼─────────┼──────────────────────┤\n",
      "│ block_8_expand_BN   │ (None, 14, 14,    │   1,536 │ block_8_expand[0][0] │\n",
      "│ (BatchNormalizatio… │ 384)              │         │                      │\n",
      "├─────────────────────┼───────────────────┼─────────┼──────────────────────┤\n",
      "│ block_8_expand_relu │ (None, 14, 14,    │       0 │ block_8_expand_BN[0… │\n",
      "│ (ReLU)              │ 384)              │         │                      │\n",
      "├─────────────────────┼───────────────────┼─────────┼──────────────────────┤\n",
      "│ block_8_depthwise   │ (None, 14, 14,    │   3,456 │ block_8_expand_relu… │\n",
      "│ (DepthwiseConv2D)   │ 384)              │         │                      │\n",
      "├─────────────────────┼───────────────────┼─────────┼──────────────────────┤\n",
      "│ block_8_depthwise_… │ (None, 14, 14,    │   1,536 │ block_8_depthwise[0… │\n",
      "│ (BatchNormalizatio… │ 384)              │         │                      │\n",
      "├─────────────────────┼───────────────────┼─────────┼──────────────────────┤\n",
      "│ block_8_depthwise_… │ (None, 14, 14,    │       0 │ block_8_depthwise_B… │\n",
      "│ (ReLU)              │ 384)              │         │                      │\n",
      "├─────────────────────┼───────────────────┼─────────┼──────────────────────┤\n",
      "│ block_8_project     │ (None, 14, 14,    │  24,576 │ block_8_depthwise_r… │\n",
      "│ (Conv2D)            │ 64)               │         │                      │\n",
      "├─────────────────────┼───────────────────┼─────────┼──────────────────────┤\n",
      "│ block_8_project_BN  │ (None, 14, 14,    │     256 │ block_8_project[0][… │\n",
      "│ (BatchNormalizatio… │ 64)               │         │                      │\n",
      "├─────────────────────┼───────────────────┼─────────┼──────────────────────┤\n",
      "│ block_8_add (Add)   │ (None, 14, 14,    │       0 │ block_7_add[0][0],   │\n",
      "│                     │ 64)               │         │ block_8_project_BN[… │\n",
      "├─────────────────────┼───────────────────┼─────────┼──────────────────────┤\n",
      "│ block_9_expand      │ (None, 14, 14,    │  24,576 │ block_8_add[0][0]    │\n",
      "│ (Conv2D)            │ 384)              │         │                      │\n",
      "├─────────────────────┼───────────────────┼─────────┼──────────────────────┤\n",
      "│ block_9_expand_BN   │ (None, 14, 14,    │   1,536 │ block_9_expand[0][0] │\n",
      "│ (BatchNormalizatio… │ 384)              │         │                      │\n",
      "├─────────────────────┼───────────────────┼─────────┼──────────────────────┤\n",
      "│ block_9_expand_relu │ (None, 14, 14,    │       0 │ block_9_expand_BN[0… │\n",
      "│ (ReLU)              │ 384)              │         │                      │\n",
      "├─────────────────────┼───────────────────┼─────────┼──────────────────────┤\n",
      "│ block_9_depthwise   │ (None, 14, 14,    │   3,456 │ block_9_expand_relu… │\n",
      "│ (DepthwiseConv2D)   │ 384)              │         │                      │\n",
      "├─────────────────────┼───────────────────┼─────────┼──────────────────────┤\n",
      "│ block_9_depthwise_… │ (None, 14, 14,    │   1,536 │ block_9_depthwise[0… │\n",
      "│ (BatchNormalizatio… │ 384)              │         │                      │\n",
      "├─────────────────────┼───────────────────┼─────────┼──────────────────────┤\n",
      "│ block_9_depthwise_… │ (None, 14, 14,    │       0 │ block_9_depthwise_B… │\n",
      "│ (ReLU)              │ 384)              │         │                      │\n",
      "├─────────────────────┼───────────────────┼─────────┼──────────────────────┤\n",
      "│ block_9_project     │ (None, 14, 14,    │  24,576 │ block_9_depthwise_r… │\n",
      "│ (Conv2D)            │ 64)               │         │                      │\n",
      "├─────────────────────┼───────────────────┼─────────┼──────────────────────┤\n",
      "│ block_9_project_BN  │ (None, 14, 14,    │     256 │ block_9_project[0][… │\n",
      "│ (BatchNormalizatio… │ 64)               │         │                      │\n",
      "├─────────────────────┼───────────────────┼─────────┼──────────────────────┤\n",
      "│ block_9_add (Add)   │ (None, 14, 14,    │       0 │ block_8_add[0][0],   │\n",
      "│                     │ 64)               │         │ block_9_project_BN[… │\n",
      "├─────────────────────┼───────────────────┼─────────┼──────────────────────┤\n",
      "│ block_10_expand     │ (None, 14, 14,    │  24,576 │ block_9_add[0][0]    │\n",
      "│ (Conv2D)            │ 384)              │         │                      │\n",
      "├─────────────────────┼───────────────────┼─────────┼──────────────────────┤\n",
      "│ block_10_expand_BN  │ (None, 14, 14,    │   1,536 │ block_10_expand[0][… │\n",
      "│ (BatchNormalizatio… │ 384)              │         │                      │\n",
      "├─────────────────────┼───────────────────┼─────────┼──────────────────────┤\n",
      "│ block_10_expand_re… │ (None, 14, 14,    │       0 │ block_10_expand_BN[… │\n",
      "│ (ReLU)              │ 384)              │         │                      │\n",
      "├─────────────────────┼───────────────────┼─────────┼──────────────────────┤\n",
      "│ block_10_depthwise  │ (None, 14, 14,    │   3,456 │ block_10_expand_rel… │\n",
      "│ (DepthwiseConv2D)   │ 384)              │         │                      │\n",
      "├─────────────────────┼───────────────────┼─────────┼──────────────────────┤\n",
      "│ block_10_depthwise… │ (None, 14, 14,    │   1,536 │ block_10_depthwise[… │\n",
      "│ (BatchNormalizatio… │ 384)              │         │                      │\n",
      "├─────────────────────┼───────────────────┼─────────┼──────────────────────┤\n",
      "│ block_10_depthwise… │ (None, 14, 14,    │       0 │ block_10_depthwise_… │\n",
      "│ (ReLU)              │ 384)              │         │                      │\n",
      "├─────────────────────┼───────────────────┼─────────┼──────────────────────┤\n",
      "│ block_10_project    │ (None, 14, 14,    │  36,864 │ block_10_depthwise_… │\n",
      "│ (Conv2D)            │ 96)               │         │                      │\n",
      "├─────────────────────┼───────────────────┼─────────┼──────────────────────┤\n",
      "│ block_10_project_BN │ (None, 14, 14,    │     384 │ block_10_project[0]… │\n",
      "│ (BatchNormalizatio… │ 96)               │         │                      │\n",
      "├─────────────────────┼───────────────────┼─────────┼──────────────────────┤\n",
      "│ block_11_expand     │ (None, 14, 14,    │  55,296 │ block_10_project_BN… │\n",
      "│ (Conv2D)            │ 576)              │         │                      │\n",
      "├─────────────────────┼───────────────────┼─────────┼──────────────────────┤\n",
      "│ block_11_expand_BN  │ (None, 14, 14,    │   2,304 │ block_11_expand[0][… │\n",
      "│ (BatchNormalizatio… │ 576)              │         │                      │\n",
      "├─────────────────────┼───────────────────┼─────────┼──────────────────────┤\n",
      "│ block_11_expand_re… │ (None, 14, 14,    │       0 │ block_11_expand_BN[… │\n",
      "│ (ReLU)              │ 576)              │         │                      │\n",
      "├─────────────────────┼───────────────────┼─────────┼──────────────────────┤\n",
      "│ block_11_depthwise  │ (None, 14, 14,    │   5,184 │ block_11_expand_rel… │\n",
      "│ (DepthwiseConv2D)   │ 576)              │         │                      │\n",
      "├─────────────────────┼───────────────────┼─────────┼──────────────────────┤\n",
      "│ block_11_depthwise… │ (None, 14, 14,    │   2,304 │ block_11_depthwise[… │\n",
      "│ (BatchNormalizatio… │ 576)              │         │                      │\n",
      "├─────────────────────┼───────────────────┼─────────┼──────────────────────┤\n",
      "│ block_11_depthwise… │ (None, 14, 14,    │       0 │ block_11_depthwise_… │\n",
      "│ (ReLU)              │ 576)              │         │                      │\n",
      "├─────────────────────┼───────────────────┼─────────┼──────────────────────┤\n",
      "│ block_11_project    │ (None, 14, 14,    │  55,296 │ block_11_depthwise_… │\n",
      "│ (Conv2D)            │ 96)               │         │                      │\n",
      "├─────────────────────┼───────────────────┼─────────┼──────────────────────┤\n",
      "│ block_11_project_BN │ (None, 14, 14,    │     384 │ block_11_project[0]… │\n",
      "│ (BatchNormalizatio… │ 96)               │         │                      │\n",
      "├─────────────────────┼───────────────────┼─────────┼──────────────────────┤\n",
      "│ block_11_add (Add)  │ (None, 14, 14,    │       0 │ block_10_project_BN… │\n",
      "│                     │ 96)               │         │ block_11_project_BN… │\n",
      "├─────────────────────┼───────────────────┼─────────┼──────────────────────┤\n",
      "│ block_12_expand     │ (None, 14, 14,    │  55,296 │ block_11_add[0][0]   │\n",
      "│ (Conv2D)            │ 576)              │         │                      │\n",
      "├─────────────────────┼───────────────────┼─────────┼──────────────────────┤\n",
      "│ block_12_expand_BN  │ (None, 14, 14,    │   2,304 │ block_12_expand[0][… │\n",
      "│ (BatchNormalizatio… │ 576)              │         │                      │\n",
      "├─────────────────────┼───────────────────┼─────────┼──────────────────────┤\n",
      "│ block_12_expand_re… │ (None, 14, 14,    │       0 │ block_12_expand_BN[… │\n",
      "│ (ReLU)              │ 576)              │         │                      │\n",
      "├─────────────────────┼───────────────────┼─────────┼──────────────────────┤\n",
      "│ block_12_depthwise  │ (None, 14, 14,    │   5,184 │ block_12_expand_rel… │\n",
      "│ (DepthwiseConv2D)   │ 576)              │         │                      │\n",
      "├─────────────────────┼───────────────────┼─────────┼──────────────────────┤\n",
      "│ block_12_depthwise… │ (None, 14, 14,    │   2,304 │ block_12_depthwise[… │\n",
      "│ (BatchNormalizatio… │ 576)              │         │                      │\n",
      "├─────────────────────┼───────────────────┼─────────┼──────────────────────┤\n",
      "│ block_12_depthwise… │ (None, 14, 14,    │       0 │ block_12_depthwise_… │\n",
      "│ (ReLU)              │ 576)              │         │                      │\n",
      "├─────────────────────┼───────────────────┼─────────┼──────────────────────┤\n",
      "│ block_12_project    │ (None, 14, 14,    │  55,296 │ block_12_depthwise_… │\n",
      "│ (Conv2D)            │ 96)               │         │                      │\n",
      "├─────────────────────┼───────────────────┼─────────┼──────────────────────┤\n",
      "│ block_12_project_BN │ (None, 14, 14,    │     384 │ block_12_project[0]… │\n",
      "│ (BatchNormalizatio… │ 96)               │         │                      │\n",
      "├─────────────────────┼───────────────────┼─────────┼──────────────────────┤\n",
      "│ block_12_add (Add)  │ (None, 14, 14,    │       0 │ block_11_add[0][0],  │\n",
      "│                     │ 96)               │         │ block_12_project_BN… │\n",
      "├─────────────────────┼───────────────────┼─────────┼──────────────────────┤\n",
      "│ block_13_expand     │ (None, 14, 14,    │  55,296 │ block_12_add[0][0]   │\n",
      "│ (Conv2D)            │ 576)              │         │                      │\n",
      "├─────────────────────┼───────────────────┼─────────┼──────────────────────┤\n",
      "│ block_13_expand_BN  │ (None, 14, 14,    │   2,304 │ block_13_expand[0][… │\n",
      "│ (BatchNormalizatio… │ 576)              │         │                      │\n",
      "├─────────────────────┼───────────────────┼─────────┼──────────────────────┤\n",
      "│ block_13_expand_re… │ (None, 14, 14,    │       0 │ block_13_expand_BN[… │\n",
      "│ (ReLU)              │ 576)              │         │                      │\n",
      "├─────────────────────┼───────────────────┼─────────┼──────────────────────┤\n",
      "│ block_13_pad        │ (None, 15, 15,    │       0 │ block_13_expand_rel… │\n",
      "│ (ZeroPadding2D)     │ 576)              │         │                      │\n",
      "├─────────────────────┼───────────────────┼─────────┼──────────────────────┤\n",
      "│ block_13_depthwise  │ (None, 7, 7, 576) │   5,184 │ block_13_pad[0][0]   │\n",
      "│ (DepthwiseConv2D)   │                   │         │                      │\n",
      "├─────────────────────┼───────────────────┼─────────┼──────────────────────┤\n",
      "│ block_13_depthwise… │ (None, 7, 7, 576) │   2,304 │ block_13_depthwise[… │\n",
      "│ (BatchNormalizatio… │                   │         │                      │\n",
      "├─────────────────────┼───────────────────┼─────────┼──────────────────────┤\n",
      "│ block_13_depthwise… │ (None, 7, 7, 576) │       0 │ block_13_depthwise_… │\n",
      "│ (ReLU)              │                   │         │                      │\n",
      "├─────────────────────┼───────────────────┼─────────┼──────────────────────┤\n",
      "│ block_13_project    │ (None, 7, 7, 160) │  92,160 │ block_13_depthwise_… │\n",
      "│ (Conv2D)            │                   │         │                      │\n",
      "├─────────────────────┼───────────────────┼─────────┼──────────────────────┤\n",
      "│ block_13_project_BN │ (None, 7, 7, 160) │     640 │ block_13_project[0]… │\n",
      "│ (BatchNormalizatio… │                   │         │                      │\n",
      "├─────────────────────┼───────────────────┼─────────┼──────────────────────┤\n",
      "│ block_14_expand     │ (None, 7, 7, 960) │ 153,600 │ block_13_project_BN… │\n",
      "│ (Conv2D)            │                   │         │                      │\n",
      "├─────────────────────┼───────────────────┼─────────┼──────────────────────┤\n",
      "│ block_14_expand_BN  │ (None, 7, 7, 960) │   3,840 │ block_14_expand[0][… │\n",
      "│ (BatchNormalizatio… │                   │         │                      │\n",
      "├─────────────────────┼───────────────────┼─────────┼──────────────────────┤\n",
      "│ block_14_expand_re… │ (None, 7, 7, 960) │       0 │ block_14_expand_BN[… │\n",
      "│ (ReLU)              │                   │         │                      │\n",
      "├─────────────────────┼───────────────────┼─────────┼──────────────────────┤\n",
      "│ block_14_depthwise  │ (None, 7, 7, 960) │   8,640 │ block_14_expand_rel… │\n",
      "│ (DepthwiseConv2D)   │                   │         │                      │\n",
      "├─────────────────────┼───────────────────┼─────────┼──────────────────────┤\n",
      "│ block_14_depthwise… │ (None, 7, 7, 960) │   3,840 │ block_14_depthwise[… │\n",
      "│ (BatchNormalizatio… │                   │         │                      │\n",
      "├─────────────────────┼───────────────────┼─────────┼──────────────────────┤\n",
      "│ block_14_depthwise… │ (None, 7, 7, 960) │       0 │ block_14_depthwise_… │\n",
      "│ (ReLU)              │                   │         │                      │\n",
      "├─────────────────────┼───────────────────┼─────────┼──────────────────────┤\n",
      "│ block_14_project    │ (None, 7, 7, 160) │ 153,600 │ block_14_depthwise_… │\n",
      "│ (Conv2D)            │                   │         │                      │\n",
      "├─────────────────────┼───────────────────┼─────────┼──────────────────────┤\n",
      "│ block_14_project_BN │ (None, 7, 7, 160) │     640 │ block_14_project[0]… │\n",
      "│ (BatchNormalizatio… │                   │         │                      │\n",
      "├─────────────────────┼───────────────────┼─────────┼──────────────────────┤\n",
      "│ block_14_add (Add)  │ (None, 7, 7, 160) │       0 │ block_13_project_BN… │\n",
      "│                     │                   │         │ block_14_project_BN… │\n",
      "├─────────────────────┼───────────────────┼─────────┼──────────────────────┤\n",
      "│ block_15_expand     │ (None, 7, 7, 960) │ 153,600 │ block_14_add[0][0]   │\n",
      "│ (Conv2D)            │                   │         │                      │\n",
      "├─────────────────────┼───────────────────┼─────────┼──────────────────────┤\n",
      "│ block_15_expand_BN  │ (None, 7, 7, 960) │   3,840 │ block_15_expand[0][… │\n",
      "│ (BatchNormalizatio… │                   │         │                      │\n",
      "├─────────────────────┼───────────────────┼─────────┼──────────────────────┤\n",
      "│ block_15_expand_re… │ (None, 7, 7, 960) │       0 │ block_15_expand_BN[… │\n",
      "│ (ReLU)              │                   │         │                      │\n",
      "├─────────────────────┼───────────────────┼─────────┼──────────────────────┤\n",
      "│ block_15_depthwise  │ (None, 7, 7, 960) │   8,640 │ block_15_expand_rel… │\n",
      "│ (DepthwiseConv2D)   │                   │         │                      │\n",
      "├─────────────────────┼───────────────────┼─────────┼──────────────────────┤\n",
      "│ block_15_depthwise… │ (None, 7, 7, 960) │   3,840 │ block_15_depthwise[… │\n",
      "│ (BatchNormalizatio… │                   │         │                      │\n",
      "├─────────────────────┼───────────────────┼─────────┼──────────────────────┤\n",
      "│ block_15_depthwise… │ (None, 7, 7, 960) │       0 │ block_15_depthwise_… │\n",
      "│ (ReLU)              │                   │         │                      │\n",
      "├─────────────────────┼───────────────────┼─────────┼──────────────────────┤\n",
      "│ block_15_project    │ (None, 7, 7, 160) │ 153,600 │ block_15_depthwise_… │\n",
      "│ (Conv2D)            │                   │         │                      │\n",
      "├─────────────────────┼───────────────────┼─────────┼──────────────────────┤\n",
      "│ block_15_project_BN │ (None, 7, 7, 160) │     640 │ block_15_project[0]… │\n",
      "│ (BatchNormalizatio… │                   │         │                      │\n",
      "├─────────────────────┼───────────────────┼─────────┼──────────────────────┤\n",
      "│ block_15_add (Add)  │ (None, 7, 7, 160) │       0 │ block_14_add[0][0],  │\n",
      "│                     │                   │         │ block_15_project_BN… │\n",
      "├─────────────────────┼───────────────────┼─────────┼──────────────────────┤\n",
      "│ block_16_expand     │ (None, 7, 7, 960) │ 153,600 │ block_15_add[0][0]   │\n",
      "│ (Conv2D)            │                   │         │                      │\n",
      "├─────────────────────┼───────────────────┼─────────┼──────────────────────┤\n",
      "│ block_16_expand_BN  │ (None, 7, 7, 960) │   3,840 │ block_16_expand[0][… │\n",
      "│ (BatchNormalizatio… │                   │         │                      │\n",
      "├─────────────────────┼───────────────────┼─────────┼──────────────────────┤\n",
      "│ block_16_expand_re… │ (None, 7, 7, 960) │       0 │ block_16_expand_BN[… │\n",
      "│ (ReLU)              │                   │         │                      │\n",
      "├─────────────────────┼───────────────────┼─────────┼──────────────────────┤\n",
      "│ block_16_depthwise  │ (None, 7, 7, 960) │   8,640 │ block_16_expand_rel… │\n",
      "│ (DepthwiseConv2D)   │                   │         │                      │\n",
      "├─────────────────────┼───────────────────┼─────────┼──────────────────────┤\n",
      "│ block_16_depthwise… │ (None, 7, 7, 960) │   3,840 │ block_16_depthwise[… │\n",
      "│ (BatchNormalizatio… │                   │         │                      │\n",
      "├─────────────────────┼───────────────────┼─────────┼──────────────────────┤\n",
      "│ block_16_depthwise… │ (None, 7, 7, 960) │       0 │ block_16_depthwise_… │\n",
      "│ (ReLU)              │                   │         │                      │\n",
      "├─────────────────────┼───────────────────┼─────────┼──────────────────────┤\n",
      "│ block_16_project    │ (None, 7, 7, 320) │ 307,200 │ block_16_depthwise_… │\n",
      "│ (Conv2D)            │                   │         │                      │\n",
      "├─────────────────────┼───────────────────┼─────────┼──────────────────────┤\n",
      "│ block_16_project_BN │ (None, 7, 7, 320) │   1,280 │ block_16_project[0]… │\n",
      "│ (BatchNormalizatio… │                   │         │                      │\n",
      "├─────────────────────┼───────────────────┼─────────┼──────────────────────┤\n",
      "│ Conv_1 (Conv2D)     │ (None, 7, 7,      │ 409,600 │ block_16_project_BN… │\n",
      "│                     │ 1280)             │         │                      │\n",
      "├─────────────────────┼───────────────────┼─────────┼──────────────────────┤\n",
      "│ Conv_1_bn           │ (None, 7, 7,      │   5,120 │ Conv_1[0][0]         │\n",
      "│ (BatchNormalizatio… │ 1280)             │         │                      │\n",
      "├─────────────────────┼───────────────────┼─────────┼──────────────────────┤\n",
      "│ out_relu (ReLU)     │ (None, 7, 7,      │       0 │ Conv_1_bn[0][0]      │\n",
      "│                     │ 1280)             │         │                      │\n",
      "├─────────────────────┼───────────────────┼─────────┼──────────────────────┤\n",
      "│ global_average_poo… │ (None, 1280)      │       0 │ out_relu[0][0]       │\n",
      "│ (GlobalAveragePool… │                   │         │                      │\n",
      "└─────────────────────┴───────────────────┴─────────┴──────────────────────┘\n",
      " Total params: 2,257,984 (8.61 MB)\n",
      " Trainable params: 2,223,872 (8.48 MB)\n",
      " Non-trainable params: 34,112 (133.25 KB)"
     ]
    }
   ],
   "source": [
    "new_model.summary()"
   ]
  },
  {
   "cell_type": "markdown",
   "id": "ca612b50",
   "metadata": {},
   "source": [
    "Nous définissons les fonctions pour le modèle et la préprocessing des images. Ces fonctions incluent la préparation des images et l'extraction des features avec MobileNetV2 comme précédemment"
   ]
  },
  {
   "cell_type": "code",
   "execution_count": null,
   "id": "be8fe2b9",
   "metadata": {},
   "outputs": [
    {
     "data": {
      "application/vnd.jupyter.widget-view+json": {
       "model_id": "",
       "version_major": 2,
       "version_minor": 0
      },
      "text/plain": [
       "FloatProgress(value=0.0, bar_style='info', description='Progress:', layout=Layout(height='25px', width='50%'),…"
      ]
     },
     "metadata": {},
     "output_type": "display_data"
    }
   ],
   "source": [
    "def model_fn():\n",
    "    # Création du modèle MobileNetV2 avec des couches gelées (non entraînables)\n",
    "    model = MobileNetV2(weights='imagenet',\n",
    "                        include_top=True,\n",
    "                        input_shape=(224, 224, 3))\n",
    "    for layer in model.layers:\n",
    "        layer.trainable = False\n",
    "    new_model = Model(inputs=model.input,\n",
    "                  outputs=model.layers[-2].output)\n",
    "    new_model.set_weights(brodcast_weights.value)\n",
    "    return new_model"
   ]
  },
  {
   "cell_type": "code",
   "execution_count": null,
   "id": "933100cf",
   "metadata": {
    "scrolled": true
   },
   "outputs": [
    {
     "data": {
      "application/vnd.jupyter.widget-view+json": {
       "model_id": "",
       "version_major": 2,
       "version_minor": 0
      },
      "text/plain": [
       "FloatProgress(value=0.0, bar_style='info', description='Progress:', layout=Layout(height='25px', width='50%'),…"
      ]
     },
     "metadata": {},
     "output_type": "display_data"
    },
    {
     "name": "stdout",
     "output_type": "stream",
     "text": [
      "/mnt/yarn/usercache/livy/appcache/application_1733303984191_0001/container_1733303984191_0001_01_000001/pyspark.zip/pyspark/sql/pandas/functions.py:407: UserWarning: In Python 3.6+ and Spark 3.0+, it is preferred to specify type hints for pandas UDF instead of specifying pandas UDF type which will be deprecated in the future releases. See SPARK-28264 for more details."
     ]
    }
   ],
   "source": [
    "def preprocess(content):\n",
    "# Prétraitement des images pour les adapter au modèle MobileNetV2\n",
    "    img = Image.open(io.BytesIO(content)).resize([224, 224])\n",
    "    arr = img_to_array(img).astype('float32')  \n",
    "    return preprocess_input(arr)\n",
    "\n",
    "\n",
    "def featurize_series(model, content_series):\n",
    "    # Extraction des features pour une série d'images\n",
    "    input = np.stack([np.asarray(preprocess(x), dtype=np.float32) for x in content_series])\n",
    "    preds = model.predict(input)\n",
    "    output = [p.flatten().tolist() for p in preds]\n",
    "    return pd.Series(output)\n",
    "\n",
    "\n",
    "@pandas_udf('array<float>', PandasUDFType.SCALAR_ITER)\n",
    "def featurize_udf(content_series_iter):\n",
    "# Utilisation de pandas_udf pour permettre l'extraction de caractéristiques dans PySpark\n",
    "    model = model_fn()\n",
    "    for content_series in content_series_iter:\n",
    "        yield featurize_series(model, content_series)"
   ]
  },
  {
   "cell_type": "markdown",
   "id": "f23206e8",
   "metadata": {},
   "source": [
    "### 4.4.3. Extraction des features"
   ]
  },
  {
   "cell_type": "markdown",
   "id": "4ca4c88c",
   "metadata": {},
   "source": [
    "Nous utilisons la fonction UDF pour générer un DataFrame contenant les caractéristiques extraites de l'ensemble des images, contrairement à la démarche locale où cela avait été effectué uniquement sur un échantillon d'images."
   ]
  },
  {
   "cell_type": "code",
   "execution_count": null,
   "id": "5e07fd68",
   "metadata": {},
   "outputs": [
    {
     "data": {
      "application/vnd.jupyter.widget-view+json": {
       "model_id": "",
       "version_major": 2,
       "version_minor": 0
      },
      "text/plain": [
       "FloatProgress(value=0.0, bar_style='info', description='Progress:', layout=Layout(height='25px', width='50%'),…"
      ]
     },
     "metadata": {},
     "output_type": "display_data"
    }
   ],
   "source": [
    "features_df = images.repartition(24).select(\n",
    "    col(\"path\"),\n",
    "    col(\"label\"),\n",
    "    featurize_udf(\"content\").alias(\"features\")\n",
    ")"
   ]
  },
  {
   "cell_type": "markdown",
   "id": "45f6e28c",
   "metadata": {},
   "source": [
    "### 4.4.4.  Réduction de dimension (ACP)"
   ]
  },
  {
   "cell_type": "markdown",
   "id": "3e00ae32",
   "metadata": {},
   "source": [
    "Nous faisons une réduction de dimension en utilisant la méthode ACP comme précédemment"
   ]
  },
  {
   "cell_type": "code",
   "execution_count": null,
   "id": "b5280b49",
   "metadata": {},
   "outputs": [
    {
     "data": {
      "application/vnd.jupyter.widget-view+json": {
       "model_id": "",
       "version_major": 2,
       "version_minor": 0
      },
      "text/plain": [
       "FloatProgress(value=0.0, bar_style='info', description='Progress:', layout=Layout(height='25px', width='50%'),…"
      ]
     },
     "metadata": {},
     "output_type": "display_data"
    },
    {
     "name": "stdout",
     "output_type": "stream",
     "text": [
      "=== V?rification des Donn?es apr?s Conversion ===\n",
      "+------------------------------------------------------------------------------------------------------------------------------------------------------------------------------------------------------------------------------------------------------------------------------------------------------------------------------------------------------------------------------------------------------------------------------------------------------------------------------------------------------------------------------------------------------------------------------------------------------------------------------------------------------------------------------------------------------------------------------------------------------------------------------------------------------------------------------------------------------------------------------------------------------------------------------------------------------------------------------------------------------------------------------------------------------------------------------------------------------------------------------------------------------------------------------------------------------------------------------------------------------------------------------------------------------------------------------------------------------------------------------------------------------------------------------------------------------------------------------------------------------------------------------------------------------------------------------------------------------------------------------------------------------------------------------------------------------------------------------------------------------------------------------------------------------------------------------------------------------------------------------------------------------------------------------------------------------------------------------------------------------------------------------------------------------------------------------------------------------------------------------------------------------------------------------------------------------------------------------------------------------------------------------------------------------------------------------------------------------------------------------------------------------------------------------------------------------------------------------------------------------------------------------------------------------------------------------------------------------------------------------------------------------------------------------------------------------------------------------------------------------------------------------------------------------------------------------------------------------------------------------------------------------------------------------------------------------------------------------------------------------------------------------------------------------------------------------------------------------------------------------------------------------------------------------------------------------------------------------------------------------------------------------------------------------------------------------------------------------------------------------------------------------------------------------------------------------------------------------------------------------------------------------------------------------------------------------------------------------------------------------------------------------------------------------------------------------------------------------------------------------------------------------------------------------------------------------------------------------------------------------------------------------------------------------------------------------------------------------------------------------------------------------------------------------------------------------------------------------------------------------------------------------------------------------------------------------------------------------------------------------------------------------------------------------------------------------------------------------------------------------------------------------------------------------------------------------------------------------------------------------------------------------------------------------------------------------------------------------------------------------------------------------------------------------------------------------------------------------------------------------------------------------------------------------------------------------------------------------------------------------------------------------------------------------------------------------------------------------------------------------------------------------------------------------------------------------------------------------------------------------------------------------------------------------------------------------------------------------------------------------------------------------------------------------------------------------------------------------------------------------------------------------------------------------------------------------------------------------------------------------------------------------------------------------------------------------------------------------------------------------------------------------------------------------------------------------------------------------------------------------------------------------------------------------------------------------------------------------------------------------------------------------------------------------------------------------------------------------------------------------------------------------------------------------------------------------------------------------------------------------------------------------------------------------------------------------------------------------------------------------------------------------------------------------------------------------------------------------------------------------------------------------------------------------------------------------------------------------------------------------------------------------------------------------------------------------------------------------------------------------------------------------------------------------------------------------------------------------------------------------------------------------------------------------------------------------------------------------------------------------------------------------------------------------------------------------------------------------------------------------------------------------------------------------------------------------------------------------------------------------------------------------------------------------------------------------------------------------------------------------------------------------------------------------------------------------------------------------------------------------------------------------------------------------------------------------------------------------------------------------------------------------------------------------------------------------------------------------------------------------------------------------------------------------------------------------------------------------------------------------------------------------------------------------------------------------------------------------------------------------------------------------------------------------------------------------------------------------------------------------------------------------------------------------------------------------------------------------------------------------------------------------------------------------------------------------------------------------------------------------------------------------------------------------------------------------------------------------------------------------------------------------------------------------------------------------------------------------------------------------------------------------------------------------------------------------------------------------------------------------------------------------------------------------------------------------------------------------------------------------------------------------------------------------------------------------------------------------------------------------------------------------------------------------------------------------------------------------------------------------------------------------------------------------------------------------------------------------------------------------------------------------------------------------------------------------------------------------------------------------------------------------------------------------------------------------------------------------------------------------------------------------------------------------------------------------------------------------------------------------------------------------------------------------------------------------------------------------------------------------------------------------------------------------------------------------------------------------------------------------------------------------------------------------------------------------------------------------------------------------------------------------------------------------------------------------------------------------------------------------------------------------------------------------------------------------------------------------------------------------------------------------------------------------------------------------------------------------------------------------------------------------------------------------------------------------------------------------------------------------------------------------------------------------------------------------------------------------------------------------------------------------------------------------------------------------------------------------------------------------------------------------------------------------------------------------------------------------------------------------------------------------------------------------------------------------------------------------------------------------------------------------------------------------------------------------------------------------------------------------------------------------------------------------------------------------------------------------------------------------------------------------------------------------------------------------------------------------------------------------------------------------------------------------------------------------------------------------------------------------------------------------------------------------------------------------------------------------------------------------------------------------------------------------------------------------------------------------------------------------------------------------------------------------------------------------------------------------------------------------------------------------------------------------------------------------------------------------------------------------------------------------------------------------------------------------------------------------------------------------------------------------------------------------------------------------------------------------------------------------------------------------------------------------------------------------------------------------------------------------------------------------------------------------------------------------------------------------------------------------------------------------------------------------------------------------------------------------------------------------------------------------------------------------------------------------------------------------------------------------------------------------------------------------------------------------------------------------------------------------------------------------------------------------------------------------------------------------------------------------------------------------------------------------------------------------------------------------------------------------------------------------------------------------------------------------------------------------------------------------------------------------------------------------------------------------------------------------------------------------------------------------------------------------------------------------------------------------------------------------------------------------------------------------------------------------------------------------------------------------------------------------------------------------------------------------------------------------------------------------------------------------------------------------------------------------------------------------------------------------------------------------------------------------------------------------------------------------------------------------------------------------------------------------------------------------------------------------------------------------------------------------------------------------------------------------------------------------------------------------------------------------------------------------------------------------------------------------------------------------------------------------------------------------------------------------------------------------------------------------------------------------------------------------------------------------------------------------------------------------------------------------------------------------------------------------------------------------------------------------------------------------------------------------------------------------------------------------------------------------------------------------------------------------------------------------------------------------------------------------------------------------------------------------------------------------------------------------------------------------------------------------------------------------------------------------------------------------------------------------------------------------------------------------------------------------------------------------------------------------------------------------------------------------------------------------------------------------------------------------------------------------------------------------------------------------------------------------------------------------------------------------------------------------------------------------------------------------------------------------------------------------------------------------------------------------------------------------------------------------------------------------------------------------------------------------------------------------------------------------------------------------------------------------------------------------------------------------------------------------------------------------------------------------------------------------------------------------------------------------------------------------------------------------------------------------------------------------------------------------------------------------------------------------------------------------------------------------------------------------------------------------------------------------------------------------------------------------------------------------------------------------------------------------------------------------------------------------------------------------------------------------------------------------------------------------------------------------------------------------------------------------------------------------------------------------------------------------------------------------------------------------------------------------------------------------------------------------------------------------------------------------------------------------------------------------------------------------------------------------------------------------------------------------------------------------------------------------------------------------------------------------------------------------------------------------------------------------------------------------------------------------------------------------------------------------------------------------------------------------------------------------------------------------------------------------------------------------------------------------------------------------------------------------------------------------------------------------------------------------------------------------------------------------------------------------------------------------------------------------------------------------------------------------------------------------------------------------------------------------------------------------------------------------------------------------------------------------------------------------------------------------------------------------------------------------------------------------------------------------------------------------------------------------------------------------------------------------------------------------------------------------------------------------------------------------------------------------------------------------------------------------------------------------------------------------------------------------------------------------------------------------------------------------------------------------------------------------------------------------------------------------------------------------------------------------------------------------------------------------------------------------------------------------------------------------------------------------------------------------------------------------------------------------------------------------------------------------------------------------------------------------------------------------------+\n",
      "|features_vector                                                                                                                                                                                                                                                                                                                                                                                                                                                                                                                                                                                                                                                                                                                                                                                                                                                                                                                                                                                                                                                                                                                                                                                                                                                                                                                                                                                                                                                                                                                                                                                                                                                                                                                                                                                                                                                                                                                                                                                                                                                                                                                                                                                                                                                                                                                                                                                                                                                                                                                                                                                                                                                                                                                                                                                                                                                                                                                                                                                                                                                                                                                                                                                                                                                                                                                                                                                                                                                                                                                                                                                                                                                                                                                                                                                                                                                                                                                                                                                                                                                                                                                                                                                                                                                                                                                                                                                                                                                                                                                                                                                                                                                                                                                                                                                                                                                                                                                                                                                                                                                                                                                                                                                                                                                                                                                                                                                                                                                                                                                                                                                                                                                                                                                                                                                                                                                                                                                                                                                                                                                                                                                                                                                                                                                                                                                                                                                                                                                                                                                                                                                                                                                                                                                                                                                                                                                                                                                                                                                                                                                                                                                                                                                                                                                                                                                                                                                                                                                                                                                                                                                                                                                                                                                                                                                                                                                                                                                                                                                                                                                                                                                                                                                                                                                                                                                                                                                                                                                                                                                                                                                                                                                                                                                                                                                                                                                                                                                                                                                                                                                                                                                                                                                                                                                                                                                                                                                                                                                                                                                                                                                                                                                                                                                                                                                                                                                                                                                                                                                                                                                                                                                                                                                                                                                                                                                                                                                                                                                                                                                                                                                                                                                                                                                                                                                                                                                                                                                                                                                                                                                                                                                                                                                                                                                                                                                                                                                                                                                                                                                                                                                                                                                                                                                                                                                                                                                                                                                                                                                                                                                                                                                                                                                                                                                                                                                                                                                                                                                                                                                                                                                                                                                                                                                                                                                                                                                                                                                                                                                                                                                                                                                                                                                                                                                                                                                                                                                                                                                                                                                                                                                                                                                                                                                                                                                                                                                                                                                                                                                                                                                                                                                                                                                                                                                                                                                                                                                                                                                                                                                                                                                                                                                                                                                                                                                                                                                                                                                                                                                                                                                                                                                                                                                                                                                                                                                                                                                                                                                                                                                                                                                                                                                                                                                                                                                                                                                                                                                                                                                                                                                                                                                                                                                                                                                                                                                                                                                                                                                                                                                                                                                                                                                                                                                                                                                                                                                                                                                                                                                                                                                                                                                                                                                                                                                                                                                                                                                                                                                                                                                                                                                                                                                                                                                                                                                                                                                                                                                                                                                                                                                                                                                                                                                                                                                                                                                                                                                                                                                                                                                                                                                                                                                                                                                                                                                                                                                                                                                                                                                                                                                                                                                                                                     |\n",
      "+------------------------------------------------------------------------------------------------------------------------------------------------------------------------------------------------------------------------------------------------------------------------------------------------------------------------------------------------------------------------------------------------------------------------------------------------------------------------------------------------------------------------------------------------------------------------------------------------------------------------------------------------------------------------------------------------------------------------------------------------------------------------------------------------------------------------------------------------------------------------------------------------------------------------------------------------------------------------------------------------------------------------------------------------------------------------------------------------------------------------------------------------------------------------------------------------------------------------------------------------------------------------------------------------------------------------------------------------------------------------------------------------------------------------------------------------------------------------------------------------------------------------------------------------------------------------------------------------------------------------------------------------------------------------------------------------------------------------------------------------------------------------------------------------------------------------------------------------------------------------------------------------------------------------------------------------------------------------------------------------------------------------------------------------------------------------------------------------------------------------------------------------------------------------------------------------------------------------------------------------------------------------------------------------------------------------------------------------------------------------------------------------------------------------------------------------------------------------------------------------------------------------------------------------------------------------------------------------------------------------------------------------------------------------------------------------------------------------------------------------------------------------------------------------------------------------------------------------------------------------------------------------------------------------------------------------------------------------------------------------------------------------------------------------------------------------------------------------------------------------------------------------------------------------------------------------------------------------------------------------------------------------------------------------------------------------------------------------------------------------------------------------------------------------------------------------------------------------------------------------------------------------------------------------------------------------------------------------------------------------------------------------------------------------------------------------------------------------------------------------------------------------------------------------------------------------------------------------------------------------------------------------------------------------------------------------------------------------------------------------------------------------------------------------------------------------------------------------------------------------------------------------------------------------------------------------------------------------------------------------------------------------------------------------------------------------------------------------------------------------------------------------------------------------------------------------------------------------------------------------------------------------------------------------------------------------------------------------------------------------------------------------------------------------------------------------------------------------------------------------------------------------------------------------------------------------------------------------------------------------------------------------------------------------------------------------------------------------------------------------------------------------------------------------------------------------------------------------------------------------------------------------------------------------------------------------------------------------------------------------------------------------------------------------------------------------------------------------------------------------------------------------------------------------------------------------------------------------------------------------------------------------------------------------------------------------------------------------------------------------------------------------------------------------------------------------------------------------------------------------------------------------------------------------------------------------------------------------------------------------------------------------------------------------------------------------------------------------------------------------------------------------------------------------------------------------------------------------------------------------------------------------------------------------------------------------------------------------------------------------------------------------------------------------------------------------------------------------------------------------------------------------------------------------------------------------------------------------------------------------------------------------------------------------------------------------------------------------------------------------------------------------------------------------------------------------------------------------------------------------------------------------------------------------------------------------------------------------------------------------------------------------------------------------------------------------------------------------------------------------------------------------------------------------------------------------------------------------------------------------------------------------------------------------------------------------------------------------------------------------------------------------------------------------------------------------------------------------------------------------------------------------------------------------------------------------------------------------------------------------------------------------------------------------------------------------------------------------------------------------------------------------------------------------------------------------------------------------------------------------------------------------------------------------------------------------------------------------------------------------------------------------------------------------------------------------------------------------------------------------------------------------------------------------------------------------------------------------------------------------------------------------------------------------------------------------------------------------------------------------------------------------------------------------------------------------------------------------------------------------------------------------------------------------------------------------------------------------------------------------------------------------------------------------------------------------------------------------------------------------------------------------------------------------------------------------------------------------------------------------------------------------------------------------------------------------------------------------------------------------------------------------------------------------------------------------------------------------------------------------------------------------------------------------------------------------------------------------------------------------------------------------------------------------------------------------------------------------------------------------------------------------------------------------------------------------------------------------------------------------------------------------------------------------------------------------------------------------------------------------------------------------------------------------------------------------------------------------------------------------------------------------------------------------------------------------------------------------------------------------------------------------------------------------------------------------------------------------------------------------------------------------------------------------------------------------------------------------------------------------------------------------------------------------------------------------------------------------------------------------------------------------------------------------------------------------------------------------------------------------------------------------------------------------------------------------------------------------------------------------------------------------------------------------------------------------------------------------------------------------------------------------------------------------------------------------------------------------------------------------------------------------------------------------------------------------------------------------------------------------------------------------------------------------------------------------------------------------------------------------------------------------------------------------------------------------------------------------------------------------------------------------------------------------------------------------------------------------------------------------------------------------------------------------------------------------------------------------------------------------------------------------------------------------------------------------------------------------------------------------------------------------------------------------------------------------------------------------------------------------------------------------------------------------------------------------------------------------------------------------------------------------------------------------------------------------------------------------------------------------------------------------------------------------------------------------------------------------------------------------------------------------------------------------------------------------------------------------------------------------------------------------------------------------------------------------------------------------------------------------------------------------------------------------------------------------------------------------------------------------------------------------------------------------------------------------------------------------------------------------------------------------------------------------------------------------------------------------------------------------------------------------------------------------------------------------------------------------------------------------------------------------------------------------------------------------------------------------------------------------------------------------------------------------------------------------------------------------------------------------------------------------------------------------------------------------------------------------------------------------------------------------------------------------------------------------------------------------------------------------------------------------------------------------------------------------------------------------------------------------------------------------------------------------------------------------------------------------------------------------------------------------------------------------------------------------------------------------------------------------------------------------------------------------------------------------------------------------------------------------------------------------------------------------------------------------------------------------------------------------------------------------------------------------------------------------------------------------------------------------------------------------------------------------------------------------------------------------------------------------------------------------------------------------------------------------------------------------------------------------------------------------------------------------------------------------------------------------------------------------------------------------------------------------------------------------------------------------------------------------------------------------------------------------------------------------------------------------------------------------------------------------------------------------------------------------------------------------------------------------------------------------------------------------------------------------------------------------------------------------------------------------------------------------------------------------------------------------------------------------------------------------------------------------------------------------------------------------------------------------------------------------------------------------------------------------------------------------------------------------------------------------------------------------------------------------------------------------------------------------------------------------------------------------------------------------------------------------------------------------------------------------------------------------------------------------------------------------------------------------------------------------------------------------------------------------------------------------------------------------------------------------------------------------------------------------------------------------------------------------------------------------------------------------------------------------------------------------------------------------------------------------------------------------------------------------------------------------------------------------------------------------------------------------------------------------------------------------------------------------------------------------------------------------------------------------------------------------------------------------------------------------------------------------------------------------------------------------------------------------------------------------------------------------------------------------------------------------------------------------------------------------------------------------------------------------------------------------------------------------------------------------------------------------------------------------------------------------------------------------------------------------------------------------------------------------------------------------------------------------------------------------------------------------------------------------------------------------------------------------------------------------------------------------------------------------------------------------------------------------------------------------------------------------------------------------------------------------------------------------------------------------------------------------------------------------------------------------------------------------------------------------------------------------------------------------------------------------------------------------------------------------------------------------------------------------------------------------------------------------------------------------------------------------------------------------------------------------------------------------------------------------------------------------------------------------------------------------------------------------------------------------------------------------------------------------------------------------------------------------------------------------------------------------------------------------------------------------------------------------------------------------------------------------------------------------------------------------------------------------------------------------------------------------------------------------------------------------------------------------------------------------------------------------------------------------------------------------------------------------------------------------------------------------------------------------------------------------------------------------------------------------------------------------------------------------------------------------------------------------------------------------------------------------------------------------------------------------------------------------------------------------------------------------------------------------------------------------------------------------------------------------------------------------------------------------------------------------------------------------------------------------------------------------------------+\n",
      "|[0.18327483534812927,0.0630199983716011,0.0,0.0641367956995964,0.7892006039619446,0.0,0.681795060634613,0.37749531865119934,0.032280903309583664,0.0,0.611534595489502,0.1079070121049881,0.06453850865364075,0.19096215069293976,0.3398728370666504,0.0,0.0,0.0,0.0,0.5160458087921143,0.008838926441967487,0.0,0.0,0.0027977300342172384,0.11359622329473495,0.9916793704032898,2.138326644897461,0.0,0.0,1.4119656085968018,0.020703451707959175,0.057272911071777344,0.21094107627868652,0.6109143495559692,0.0,0.07101593911647797,0.37943026423454285,2.655916690826416,0.0046038334257900715,0.0,0.12006639689207077,0.0,0.11573345959186554,0.0,0.0,0.0,0.8342524170875549,0.06809031218290329,1.6478066444396973,0.3780939280986786,0.0,0.033790647983551025,0.12791746854782104,0.0,0.01956959068775177,1.971318244934082,0.03307300806045532,0.6757960915565491,0.0,0.017008986324071884,0.0,0.0,0.0,0.0,2.711318254470825,1.037691354751587,2.3298351764678955,1.2791887274943292E-4,0.0,0.02044025808572769,0.0,0.06352581083774567,0.0,1.0548816919326782,0.0038794984575361013,1.04411780834198,0.0,0.0,0.0,0.0,0.0,1.7310725450515747,0.029876425862312317,0.05261267349123955,0.013607569970190525,0.0,0.045518908649683,0.9979277849197388,1.0170661211013794,2.0044238567352295,0.26163917779922485,0.0063740964978933334,0.0,0.007853604853153229,1.222164511680603,0.3123036324977875,1.2162206172943115,0.10808945447206497,1.111368179321289,0.0,0.06927534937858582,0.0013651361223310232,0.16623742878437042,0.0,0.8200124502182007,0.9680394530296326,0.0,0.23396410048007965,0.0,0.02099747583270073,0.0,0.0,0.0,0.3909611999988556,0.0,0.9746399521827698,1.9295654296875,0.13192114233970642,0.0,0.406252920627594,0.060706451535224915,0.04347211495041847,0.022031238302588463,0.020889360457658768,0.01121179386973381,1.1692544221878052,0.47334355115890503,2.2204737663269043,2.888519525527954,0.06564272940158844,0.011710313148796558,2.5791842937469482,0.46145451068878174,0.05473354086279869,1.4701833724975586,0.0,0.18580564856529236,0.0,1.961262583732605,1.815927267074585,0.6057500839233398,0.0,0.677258312702179,1.5819858312606812,0.0,0.4320400655269623,0.001644757343456149,1.7276684045791626,0.04389937222003937,1.005671501159668,0.005824935622513294,0.0,0.17275549471378326,0.0,0.13666313886642456,0.01688879355788231,0.1203354150056839,0.0,0.20542629063129425,0.28140339255332947,0.0,0.11060161888599396,0.0,0.08227911591529846,1.9894951581954956,2.9927425384521484,1.533551573753357,1.2764003276824951,0.5654058456420898,0.01035512238740921,0.017865579575300217,0.0,0.4490884244441986,0.725476861000061,0.0,0.9803550243377686,0.8362693786621094,1.5325103998184204,0.06257031112909317,0.6343411207199097,1.0991909503936768,0.3731437921524048,0.0,0.0,0.372069776058197,0.09660584479570389,0.8409872055053711,0.0,0.0,0.052239660173654556,0.03613411635160446,1.0505070686340332,0.0,0.405817449092865,0.34890174865722656,0.0,0.0,0.0,0.02123229391872883,0.0,1.4063996076583862,0.07816532999277115,0.11877787858247757,0.02852039970457554,0.029420988634228706,0.013148998841643333,0.0,0.0,0.4897196888923645,1.5605661869049072,0.0,0.40514668822288513,0.0,0.023626483976840973,0.07975863665342331,0.04486427456140518,0.006159529555588961,0.0,1.0616379976272583,0.0,1.2717540264129639,0.0,0.0,0.40236374735832214,0.0,0.0,0.0,0.40273573994636536,2.0997955799102783,0.1914277821779251,0.7444889545440674,0.14170226454734802,1.073946475982666,0.8305243849754333,0.15237046778202057,0.16097870469093323,0.0,0.0,0.2887527644634247,0.9275538921356201,2.2586684226989746,0.6538761854171753,0.0,0.0,0.14383558928966522,0.2459256500005722,2.902280330657959,0.0,2.015803098678589,0.3857060670852661,2.3379087448120117,0.0,0.00683192815631628,0.0,2.465754985809326,0.5430822372436523,0.8978727459907532,0.040172819048166275,0.04717232286930084,0.8472391963005066,0.0,1.4738495349884033,0.0,0.24925535917282104,0.0,0.0,0.0,0.0,0.0,0.0,0.0,0.020219724625349045,1.3475253582000732,0.23024442791938782,0.8968963027000427,0.47250592708587646,0.6978285908699036,0.0,0.0757986307144165,0.0,0.0,0.0,0.0,0.7476096153259277,1.4877328872680664,0.0,0.0,0.2853977382183075,0.9457112550735474,0.2761349678039551,0.4738202691078186,0.49817362427711487,0.029418136924505234,0.0,0.0,0.9196732044219971,0.0,0.0,0.008665785193443298,0.0,0.0,0.0,1.2510883808135986,0.3835459351539612,0.031215939670801163,0.0,0.0,0.30933037400245667,0.0,0.0,0.716675341129303,1.0183792114257812,0.012835327535867691,0.0,1.4097065925598145,0.01566929742693901,0.0,0.0,0.0,0.04338379204273224,0.22046266496181488,1.7717671394348145,0.8597061634063721,0.1670360416173935,0.0,0.016758402809500694,0.008906841278076172,0.0,0.0,0.029003620147705078,0.0,0.033346641808748245,0.046636492013931274,2.6261496543884277,0.0,0.005215235985815525,0.0,0.0,0.030799729749560356,1.607135534286499,0.0,0.16733582317829132,0.03755888715386391,0.024449776858091354,0.39516523480415344,1.7368981838226318,0.024136437103152275,0.0,1.4411332607269287,0.6626293659210205,0.14538826048374176,0.1547141820192337,0.0,0.8519401550292969,0.0,0.0,0.0,0.0,0.6794417500495911,0.0,0.047430798411369324,2.958767890930176,0.02800242230296135,1.5792291164398193,0.2061600387096405,0.0,0.9089600443840027,0.5696568489074707,0.0,0.0,0.15972237288951874,0.0,0.0,0.06799726188182831,1.1493173837661743,0.0,0.008668042719364166,0.5990605354309082,0.411440372467041,0.0,0.0,0.8564266562461853,0.3357107937335968,0.0,0.38545021414756775,0.0,0.34970948100090027,0.0,0.0,0.8205693960189819,3.3276307582855225,0.0,0.0,0.0,0.0,0.094211645424366,6.123562343418598E-4,0.0,0.10128159075975418,0.06537126004695892,0.27999281883239746,1.1151434183120728,0.032216161489486694,0.3276790678501129,0.0,0.9831119179725647,0.2801850736141205,0.11612240225076675,1.6559077501296997,0.0,2.3438992500305176,2.4187052249908447,0.0,0.34028953313827515,0.364565908908844,0.016875840723514557,0.0,0.7141240835189819,0.8632688522338867,3.06855845451355,0.6080858111381531,1.8088786602020264,0.6182668805122375,0.0,0.02806125394999981,0.7082532644271851,0.6375786662101746,0.06498198956251144,0.0,0.0,0.18232442438602448,0.11804050952196121,0.0,0.0,0.0,1.1246572732925415,0.18907853960990906,0.029373422265052795,0.0,0.0461997389793396,0.0,0.0,2.2166736125946045,0.2467428296804428,1.9276617765426636,0.7554407715797424,0.07377871870994568,0.5476892590522766,0.3936076760292053,0.009456625208258629,0.22697030007839203,0.8831838369369507,0.6810330748558044,0.21469606459140778,2.1609201431274414,0.8300667405128479,0.0,0.0,0.30267903208732605,0.0,1.423861026763916,0.3275218605995178,0.0,0.03780296817421913,1.415328860282898,0.03790533170104027,2.377629518508911,0.0020802654325962067,1.035624623298645,0.38594770431518555,0.03654603660106659,0.0,0.10175212472677231,0.41419610381126404,0.4919980764389038,0.27393674850463867,0.6234965324401855,0.0,0.0,2.287273406982422,0.0,0.05770490691065788,0.054452430456876755,0.004314743913710117,0.6174291968345642,1.4115163087844849,0.13562613725662231,1.9247244596481323,0.0,0.9521295428276062,1.0763068199157715,0.03194316476583481,0.0,1.2681119441986084,0.4431335926055908,0.0,0.3319012522697449,0.09760522097349167,0.10057824105024338,2.5094144344329834,0.0,0.901177704334259,0.0,0.0,0.270776629447937,0.0,0.0,0.0,0.8140682578086853,0.0,0.6244621276855469,1.3930095434188843,0.44656386971473694,1.1524046659469604,0.32788458466529846,0.29892900586128235,0.0,2.0754363536834717,0.3213256597518921,0.2412903904914856,0.0,3.357250928878784,0.0,0.25684601068496704,0.0,0.0,0.3964988887310028,0.06321068853139877,1.5279693603515625,0.059308167546987534,1.0260282754898071,1.0874812602996826,0.0,0.053464800119400024,1.0126779079437256,0.07875687628984451,0.06885270029306412,0.01197393611073494,0.6293373703956604,0.4033970832824707,0.0,0.0,0.6356450319290161,0.8681815266609192,0.01937047764658928,0.0,0.0,0.047836557030677795,0.0,0.01599758490920067,0.5753100514411926,0.0,0.0,0.0,0.0,0.020536500960588455,1.0873618125915527,2.1230220794677734,1.839646577835083,3.320854425430298,0.39658546447753906,0.0,1.2180482149124146,0.0,0.8943318128585815,0.09239941090345383,2.179762601852417,9.04292450286448E-4,0.0,0.0,0.0,0.6647714972496033,0.0,0.060462288558483124,1.5356886386871338,1.2087345123291016,0.0,0.7652949094772339,0.0,0.8610255718231201,0.07403698563575745,0.0,0.0,0.024105742573738098,0.0010488276602700353,0.02797124907374382,1.5026787519454956,0.0,0.0,0.059602297842502594,0.5874654054641724,1.4273762702941895,0.2817133367061615,2.4277191162109375,0.028574632480740547,0.2290765345096588,0.0,0.6251788139343262,0.09383396059274673,0.0,0.23574839532375336,0.4026731252670288,0.23148606717586517,0.176590234041214,0.00927927065640688,0.0,0.36218997836112976,0.005564271006733179,0.40145158767700195,0.07115916907787323,0.15972810983657837,1.43691086769104,0.018521279096603394,0.02781631425023079,2.307826519012451,0.441127747297287,2.1674766540527344,0.05089162290096283,0.022783542051911354,0.0,0.0,0.8252164125442505,0.14613831043243408,0.5196390748023987,0.0066591184586286545,0.2849254608154297,0.05624920874834061,0.0,0.0,0.0,0.656688928604126,0.1312784105539322,0.0,0.051031626760959625,0.0,0.9852749705314636,0.7964352369308472,1.9379163980484009,0.42966845631599426,0.7127951979637146,0.0,0.0,1.4119391441345215,0.46977871656417847,0.0,1.4688234329223633,0.0,0.0,0.614777147769928,0.6623473167419434,0.7242029905319214,0.08627300709486008,0.0,0.0,0.7203330397605896,0.0,0.006105792708694935,0.7238275408744812,0.0,0.0,0.0,1.2856718301773071,0.0,0.0,0.0,0.02834404818713665,0.0,0.0,0.0279989056289196,0.789837121963501,1.9205275774002075,0.20022854208946228,3.1649796962738037,2.4335391521453857,0.02517126128077507,0.6944745182991028,0.7045535445213318,0.6428824663162231,1.0258595943450928,0.19296430051326752,0.2442377507686615,0.08955679088830948,0.0,0.4453485906124115,0.0,0.06257356703281403,0.21324583888053894,0.9195735454559326,1.8579107522964478,2.9770588874816895,0.001682884874753654,0.0,0.0,0.3560773432254791,1.1999499797821045,0.0,0.18053774535655975,0.05175359919667244,0.3145897686481476,0.25169700384140015,0.0,0.7522051930427551,0.014352185651659966,0.0,0.38637134432792664,0.0,1.1036102771759033,0.1434367597103119,0.0,0.0,0.0,0.721677839756012,1.1532124280929565,0.0,2.211303472518921,0.04224199056625366,0.15464265644550323,0.0,0.04904096946120262,2.3218443393707275,2.1332366466522217,0.004475447814911604,0.04587328061461449,0.0,1.4401662349700928,1.6396818161010742,0.5021883249282837,0.04037441685795784,0.6806652545928955,0.8093777298927307,0.1660172939300537,2.497270345687866,1.6436758041381836,0.0,0.12105824798345566,0.0,2.536452293395996,0.01705135591328144,0.13866175711154938,0.0,0.049670685082674026,0.4755702018737793,0.6944882273674011,0.0,0.02934448979794979,0.4301779568195343,0.10391774773597717,0.14747354388237,8.147784392349422E-4,0.0,0.0,0.0,0.055606480687856674,1.143462061882019,0.4486868381500244,0.0,1.2438894510269165,0.1667623519897461,1.0586527585983276,0.0,0.040341515094041824,0.04213893786072731,0.4675450325012207,0.014640954323112965,0.0,1.0807108879089355,0.11597553640604019,1.5358500480651855,0.25721579790115356,0.0,0.5629823803901672,0.0,0.7987971305847168,1.763033151626587,0.0,1.0485743284225464,0.3125171661376953,0.0,0.7509081959724426,1.3261052370071411,0.0,0.0010398456361144781,0.0,0.1712135374546051,0.7568298578262329,0.019865727052092552,0.24822087585926056,0.37041667103767395,0.0,0.023103665560483932,0.6013177037239075,1.0015684366226196,1.092826247215271,0.05195644870400429,1.2997608184814453,1.4863225221633911,0.4066258668899536,0.0,0.0,0.10947737097740173,0.2456149309873581,0.0,0.23522143065929413,0.0019568910356611013,0.05904620140790939,0.002001129789277911,0.029368935152888298,0.6096270680427551,0.0,0.0,0.2777121067047119,1.1000391244888306,0.0,0.3170206546783447,0.05531594157218933,0.6202450394630432,0.0,0.0,0.08955080807209015,0.09700006246566772,1.6713459491729736,0.048164378851652145,0.012878680601716042,0.1603471338748932,0.5345533490180969,2.5199878215789795,0.0,4.296852111816406,1.0066765546798706,0.2607167959213257,0.734691321849823,0.010919629596173763,0.0,0.0,0.044003698974847794,0.0,1.2446670532226562,0.0,0.9269405007362366,0.03403933346271515,0.5888722538948059,0.0,0.10712137073278427,2.399477243423462,1.2567758560180664,0.0,0.0,0.015671147033572197,0.1783570647239685,0.0,0.01939539983868599,2.8043951988220215,0.8701861500740051,0.06157488748431206,0.2339327335357666,0.012910219840705395,1.3213108777999878,0.0,0.0,0.06224852055311203,0.9787141680717468,0.09019450843334198,0.0,0.22185611724853516,0.0,0.0,0.0,0.29311513900756836,0.0,0.0,0.0011011435417458415,0.0,0.4427865147590637,0.0,0.0,0.08799929171800613,0.0,0.9837053418159485,0.0,1.2682085037231445,0.0,0.027736419811844826,1.372308373451233,1.3715153932571411,0.5830399394035339,0.01650034636259079,0.3406886160373688,0.0,0.527338445186615,0.0,0.0,0.0,0.010318941436707973,0.14669150114059448,0.20225055515766144,0.07670582830905914,0.5179172158241272,0.0,0.0,0.0,0.0,1.7031499147415161,0.0,0.0,0.20371612906455994,0.8982742428779602,0.0,0.0,0.0,0.18297678232192993,0.0,0.0,0.0,0.029336929321289062,0.0,0.08599364012479782,0.0,0.07354109734296799,0.0,0.0,0.03910025954246521,0.0,1.3215961456298828,0.0,0.0,0.3917306661605835,0.005972346290946007,0.0,0.0,0.0,0.0,0.0,0.13136613368988037,1.9757949113845825,0.0,0.0,2.23165225982666,0.057168737053871155,0.0,0.438656210899353,0.0,0.16200675070285797,0.11845306307077408,1.0684536695480347,1.1226969957351685,1.7353559732437134,3.117490291595459,0.19538773596286774,1.3318589925765991,0.08345210552215576,0.023014789447188377,1.1637846231460571,0.016737977042794228,0.0,0.0,0.0,0.29310107231140137,0.0,0.03170384094119072,0.4794624149799347,0.12720739841461182,0.0,0.0,0.034165266901254654,2.3298861980438232,0.0,0.08709319680929184,1.0574392080307007,0.0,1.7896724939346313,0.0,1.871077299118042,0.7536618113517761,3.4138312339782715,0.24933071434497833,0.0,1.209291696548462,0.1419253945350647,0.0,0.40328824520111084,0.0,0.20497113466262817,1.2620326280593872,0.0,0.6019948720932007,0.0,0.0,0.05869588255882263,0.0,0.0,0.0,0.016189517453312874,0.0,0.5936919450759888,0.0,0.09279342740774155,0.5883721113204956,0.005714951548725367,0.0333755761384964,0.5314784049987793,0.026676811277866364,0.19165393710136414,0.04157126694917679,0.002659281948581338,0.03818095475435257,2.518343925476074,0.037927813827991486,0.016599761322140694,0.0,0.025406982749700546,0.03972429037094116,0.0,0.0,0.8669777512550354,0.11890535056591034,0.0,0.6558340191841125,0.6186861991882324,0.03780253231525421,0.10104281455278397,0.0010303088929504156,0.07209212332963943,0.7910671830177307,0.03168511018157005,0.04474855959415436,0.0,0.013340103439986706,0.0,1.441613793373108,0.030497366562485695,0.006067509762942791,0.0,1.299542784690857,0.2338525801897049,0.08422978222370148,0.25188130140304565,0.0,0.052997201681137085,1.5376087427139282,0.9834876656532288,0.926544725894928,0.0,0.9280405044555664,0.4427967369556427,0.02174215018749237,0.013119610026478767,0.0,1.4376862049102783,0.0,0.13568924367427826,0.0,0.0,0.5026248097419739,0.5864676833152771,1.701549768447876,0.06231502443552017,2.376047134399414,3.2719857692718506,0.0,0.0,0.18567879498004913,0.8081942200660706,0.6534050107002258,0.06868458539247513,0.32928743958473206,0.0,1.3409303426742554,0.031156549230217934,0.42777082324028015,0.14588738977909088,0.1551530510187149,1.3025497198104858,0.0,0.16668471693992615,0.6725110411643982,0.640837550163269,0.0,1.7546563148498535,0.06357472389936447,0.0,0.5699158906936646,0.0,0.42264875769615173,0.0,0.38403573632240295,0.0,0.0,0.28092947602272034,0.02772398293018341,1.1686586141586304,0.0,0.0,0.49349796772003174,1.8660660982131958,0.0,0.0,0.1538693904876709,0.16507726907730103,0.0,0.32567667961120605,0.13881100714206696,1.0202678442001343,1.5842276811599731,0.0,0.16975262761116028,0.0,2.237039566040039,0.14582300186157227,0.0,0.0,0.0922229066491127,0.003208617679774761,0.13498467206954956,0.04355701059103012,0.0,0.5356602072715759,0.1396723836660385,0.22861970961093903,1.096195101737976,0.0063109202310442924,0.0,0.0,0.018655037507414818,0.02704237960278988,0.6862049698829651,0.11410725116729736,1.517899513244629,0.04524250328540802,0.45246508717536926,1.4128493070602417,1.152104377746582,0.0,0.15002946555614471,0.0,2.7568857669830322,0.0,1.8649389743804932,1.5077333450317383,0.027549372985959053,0.05487431213259697,0.0,0.0,1.1906418800354004,0.7597401142120361,1.443274974822998,1.2654438018798828,0.0,0.9403063058853149,0.0,0.3826541602611542,1.6105260848999023,0.04713694751262665,0.3155357241630554,0.016650822013616562,0.9791876077651978,0.0,0.856635570526123,0.0,1.4253664016723633,0.0,1.5957351922988892,0.0,0.5878502130508423,0.0,0.0,0.05472186952829361,0.006501343566924334,0.06929311156272888,0.0,0.0,0.020193781703710556,0.0,1.8651823997497559,0.17335569858551025,0.0,1.844362497329712,0.06012839823961258,0.30260390043258667,0.9030219912528992,0.0,0.0,0.6559059023857117,0.7026451230049133,0.5194500684738159,0.7768140435218811,0.15524978935718536,0.0,2.0827677249908447,0.7882257699966431,1.9182870388031006,0.4935901463031769,0.057900700718164444,0.08936984837055206,0.034932348877191544,0.030134132131934166,0.6983411312103271,0.0,0.0,0.0,1.7992233037948608,0.3382699191570282,0.20933867990970612,0.4523124396800995,0.1517544537782669,0.3542945384979248,0.004327442962676287,0.0,1.3732056617736816,0.24370528757572174,0.044407229870557785,0.14445601403713226,0.03511332347989082,0.0,0.1571577936410904,0.020134693011641502,0.0,0.6949285268783569,0.0,2.155890703201294,0.11311960220336914,0.0,0.008518092334270477,0.2227463275194168,0.21272794902324677,0.49348148703575134,0.6386628150939941,0.44151487946510315,1.3666598796844482,3.3880221843719482,0.12842673063278198,0.6345238089561462,1.2387768030166626,0.04271743819117546,0.01062367856502533,1.8162072896957397,1.8793216943740845,0.0,1.0949549674987793,0.0,0.8497708439826965,1.3859232664108276,0.0,1.7174402475357056,0.15321946144104004,0.0,0.0,0.0,0.13007593154907227,0.30946779251098633,0.0,0.027911225333809853,0.007838346064090729,0.057096607983112335,0.6150551438331604,0.03381526842713356,0.002500728704035282,1.3938100337982178,0.0,0.059498272836208344,0.7173331379890442,0.0,0.07130593061447144,0.0,1.428096055984497,0.5078919529914856,0.0,0.0,0.0,0.0,1.064876914024353,0.054438814520835876,0.0,0.19400113821029663,1.3055918216705322,0.7100304365158081,0.9199638366699219,0.0,1.4524734020233154,0.0,0.0]|\n",
      "+------------------------------------------------------------------------------------------------------------------------------------------------------------------------------------------------------------------------------------------------------------------------------------------------------------------------------------------------------------------------------------------------------------------------------------------------------------------------------------------------------------------------------------------------------------------------------------------------------------------------------------------------------------------------------------------------------------------------------------------------------------------------------------------------------------------------------------------------------------------------------------------------------------------------------------------------------------------------------------------------------------------------------------------------------------------------------------------------------------------------------------------------------------------------------------------------------------------------------------------------------------------------------------------------------------------------------------------------------------------------------------------------------------------------------------------------------------------------------------------------------------------------------------------------------------------------------------------------------------------------------------------------------------------------------------------------------------------------------------------------------------------------------------------------------------------------------------------------------------------------------------------------------------------------------------------------------------------------------------------------------------------------------------------------------------------------------------------------------------------------------------------------------------------------------------------------------------------------------------------------------------------------------------------------------------------------------------------------------------------------------------------------------------------------------------------------------------------------------------------------------------------------------------------------------------------------------------------------------------------------------------------------------------------------------------------------------------------------------------------------------------------------------------------------------------------------------------------------------------------------------------------------------------------------------------------------------------------------------------------------------------------------------------------------------------------------------------------------------------------------------------------------------------------------------------------------------------------------------------------------------------------------------------------------------------------------------------------------------------------------------------------------------------------------------------------------------------------------------------------------------------------------------------------------------------------------------------------------------------------------------------------------------------------------------------------------------------------------------------------------------------------------------------------------------------------------------------------------------------------------------------------------------------------------------------------------------------------------------------------------------------------------------------------------------------------------------------------------------------------------------------------------------------------------------------------------------------------------------------------------------------------------------------------------------------------------------------------------------------------------------------------------------------------------------------------------------------------------------------------------------------------------------------------------------------------------------------------------------------------------------------------------------------------------------------------------------------------------------------------------------------------------------------------------------------------------------------------------------------------------------------------------------------------------------------------------------------------------------------------------------------------------------------------------------------------------------------------------------------------------------------------------------------------------------------------------------------------------------------------------------------------------------------------------------------------------------------------------------------------------------------------------------------------------------------------------------------------------------------------------------------------------------------------------------------------------------------------------------------------------------------------------------------------------------------------------------------------------------------------------------------------------------------------------------------------------------------------------------------------------------------------------------------------------------------------------------------------------------------------------------------------------------------------------------------------------------------------------------------------------------------------------------------------------------------------------------------------------------------------------------------------------------------------------------------------------------------------------------------------------------------------------------------------------------------------------------------------------------------------------------------------------------------------------------------------------------------------------------------------------------------------------------------------------------------------------------------------------------------------------------------------------------------------------------------------------------------------------------------------------------------------------------------------------------------------------------------------------------------------------------------------------------------------------------------------------------------------------------------------------------------------------------------------------------------------------------------------------------------------------------------------------------------------------------------------------------------------------------------------------------------------------------------------------------------------------------------------------------------------------------------------------------------------------------------------------------------------------------------------------------------------------------------------------------------------------------------------------------------------------------------------------------------------------------------------------------------------------------------------------------------------------------------------------------------------------------------------------------------------------------------------------------------------------------------------------------------------------------------------------------------------------------------------------------------------------------------------------------------------------------------------------------------------------------------------------------------------------------------------------------------------------------------------------------------------------------------------------------------------------------------------------------------------------------------------------------------------------------------------------------------------------------------------------------------------------------------------------------------------------------------------------------------------------------------------------------------------------------------------------------------------------------------------------------------------------------------------------------------------------------------------------------------------------------------------------------------------------------------------------------------------------------------------------------------------------------------------------------------------------------------------------------------------------------------------------------------------------------------------------------------------------------------------------------------------------------------------------------------------------------------------------------------------------------------------------------------------------------------------------------------------------------------------------------------------------------------------------------------------------------------------------------------------------------------------------------------------------------------------------------------------------------------------------------------------------------------------------------------------------------------------------------------------------------------------------------------------------------------------------------------------------------------------------------------------------------------------------------------------------------------------------------------------------------------------------------------------------------------------------------------------------------------------------------------------------------------------------------------------------------------------------------------------------------------------------------------------------------------------------------------------------------------------------------------------------------------------------------------------------------------------------------------------------------------------------------------------------------------------------------------------------------------------------------------------------------------------------------------------------------------------------------------------------------------------------------------------------------------------------------------------------------------------------------------------------------------------------------------------------------------------------------------------------------------------------------------------------------------------------------------------------------------------------------------------------------------------------------------------------------------------------------------------------------------------------------------------------------------------------------------------------------------------------------------------------------------------------------------------------------------------------------------------------------------------------------------------------------------------------------------------------------------------------------------------------------------------------------------------------------------------------------------------------------------------------------------------------------------------------------------------------------------------------------------------------------------------------------------------------------------------------------------------------------------------------------------------------------------------------------------------------------------------------------------------------------------------------------------------------------------------------------------------------------------------------------------------------------------------------------------------------------------------------------------------------------------------------------------------------------------------------------------------------------------------------------------------------------------------------------------------------------------------------------------------------------------------------------------------------------------------------------------------------------------------------------------------------------------------------------------------------------------------------------------------------------------------------------------------------------------------------------------------------------------------------------------------------------------------------------------------------------------------------------------------------------------------------------------------------------------------------------------------------------------------------------------------------------------------------------------------------------------------------------------------------------------------------------------------------------------------------------------------------------------------------------------------------------------------------------------------------------------------------------------------------------------------------------------------------------------------------------------------------------------------------------------------------------------------------------------------------------------------------------------------------------------------------------------------------------------------------------------------------------------------------------------------------------------------------------------------------------------------------------------------------------------------------------------------------------------------------------------------------------------------------------------------------------------------------------------------------------------------------------------------------------------------------------------------------------------------------------------------------------------------------------------------------------------------------------------------------------------------------------------------------------------------------------------------------------------------------------------------------------------------------------------------------------------------------------------------------------------------------------------------------------------------------------------------------------------------------------------------------------------------------------------------------------------------------------------------------------------------------------------------------------------------------------------------------------------------------------------------------------------------------------------------------------------------------------------------------------------------------------------------------------------------------------------------------------------------------------------------------------------------------------------------------------------------------------------------------------------------------------------------------------------------------------------------------------------------------------------------------------------------------------------------------------------------------------------------------------------------------------------------------------------------------------------------------------------------------------------------------------------------------------------------------------------------------------------------------------------------------------------------------------------------------------------------------------------------------------------------------------------------------------------------------------------------------------------------------------------------------------------------------------------------------------------------------------------------------------------------------------------------------------------------------------------------------------------------------------------------------------------------------------------------------------------------------------------------------------------------------------------------------------------------------------------------------------------------------------------------------------------------------------------------------------------------------------------------------------------------------------------------------------------------------------------------------------------------------------------------------------------------------------------------------------------------------------------------------------------------------------------------------------------------------------------------------------------------------------------------------------------------------------------------------------------------------------------------------------------------------------------------------------------------------------------------------------------------------------------------------------------------------------------------------------------------------------------------------------------------------------------------------------------------------------------------------------------------------------------------------------------------------------------------------------------------------------------------------------------------------------------------------------------------------------------------------------------------------------------------------------------------------------------------------------------------------------------------------------------------------------------------------------------------------------------------------------------------------------------------------------------------------------------------------------------------------------------------------------------------------------------------------------------------------------------------------------------------------------------------------------------------------------------------------------------------------------------------------------------------------------------------------------------------------------------------------------------------------------------------------------------+\n",
      "only showing top 1 row"
     ]
    }
   ],
   "source": [
    "# Conversion des caractéristiques en DenseVector\n",
    "def array_to_dense_vector(arr):\n",
    "    if isinstance(arr, list):\n",
    "        return Vectors.dense(arr)\n",
    "    else:\n",
    "        raise ValueError(\"Les données ne sont pas au format attendu : array<float>\")\n",
    "\n",
    "array_to_dense_vector_udf = udf(array_to_dense_vector, VectorUDT())\n",
    "features_df = features_df.withColumn(\"features_vector\", array_to_dense_vector_udf(\"features\"))\n",
    "\n",
    "print(\"=== Vérification des Données après Conversion ===\")\n",
    "features_df.select(\"features_vector\").show(1, truncate=False)"
   ]
  },
  {
   "cell_type": "code",
   "execution_count": null,
   "id": "c7f9b758",
   "metadata": {},
   "outputs": [
    {
     "data": {
      "application/vnd.jupyter.widget-view+json": {
       "model_id": "",
       "version_major": 2,
       "version_minor": 0
      },
      "text/plain": [
       "FloatProgress(value=0.0, bar_style='info', description='Progress:', layout=Layout(height='25px', width='50%'),…"
      ]
     },
     "metadata": {},
     "output_type": "display_data"
    },
    {
     "name": "stdout",
     "output_type": "stream",
     "text": [
      "=== Ajustement du Mod?le PCA ===\n",
      "Variance Expliqu?e Cumulative :  [0.1014099  0.18146972 0.24497273 ... 0.99999945 0.99999982 1.        ]\n",
      "Nombre de composantes n?cessaires pour expliquer au moins 75% de la variance : 57\n",
      "=== Application de PCA ==="
     ]
    }
   ],
   "source": [
    "# Utilisation de PCA pour réduire la dimensionnalité des caractéristiques en conservant au moins 75% de la variance\n",
    "pca = PCA(k=features_df.select(\"features_vector\").first()[0].size,  \n",
    "          inputCol=\"features_vector\", \n",
    "          outputCol=\"pca_features\")\n",
    "\n",
    "print(\"=== Ajustement du Modèle PCA ===\")\n",
    "pca_model = pca.fit(features_df)\n",
    "\n",
    "explained_variance = np.cumsum(pca_model.explainedVariance)  \n",
    "print(\"Variance Expliquée Cumulative : \", explained_variance)\n",
    "\n",
    "threshold = 0.75 \n",
    "k_optimal = np.argmax(explained_variance >= threshold) + 1 \n",
    "print(f\"Nombre de composantes nécessaires pour expliquer au moins 75% de la variance : {k_optimal}\")\n",
    "\n",
    "pca = PCA(k=k_optimal, inputCol=\"features_vector\", outputCol=\"pca_features\")\n",
    "pca_model = pca.fit(features_df)\n",
    "\n",
    "print(\"=== Application de PCA ===\")\n",
    "pca_result = pca_model.transform(features_df)\n"
   ]
  },
  {
   "cell_type": "markdown",
   "id": "693a3123",
   "metadata": {},
   "source": [
    "Nous sauvegardons les résultats au format Parquet "
   ]
  },
  {
   "cell_type": "code",
   "execution_count": null,
   "id": "7c53ddd5",
   "metadata": {},
   "outputs": [
    {
     "data": {
      "application/vnd.jupyter.widget-view+json": {
       "model_id": "",
       "version_major": 2,
       "version_minor": 0
      },
      "text/plain": [
       "FloatProgress(value=0.0, bar_style='info', description='Progress:', layout=Layout(height='25px', width='50%'),…"
      ]
     },
     "metadata": {},
     "output_type": "display_data"
    }
   ],
   "source": [
    "features_df.write.mode(\"overwrite\").parquet(PATH_Result)"
   ]
  },
  {
   "cell_type": "markdown",
   "id": "1fe01b72",
   "metadata": {},
   "source": [
    "## 4.5. Chargement des données et validation du résultat"
   ]
  },
  {
   "cell_type": "code",
   "execution_count": null,
   "id": "db18a784",
   "metadata": {},
   "outputs": [
    {
     "data": {
      "application/vnd.jupyter.widget-view+json": {
       "model_id": "",
       "version_major": 2,
       "version_minor": 0
      },
      "text/plain": [
       "FloatProgress(value=0.0, bar_style='info', description='Progress:', layout=Layout(height='25px', width='50%'),…"
      ]
     },
     "metadata": {},
     "output_type": "display_data"
    }
   ],
   "source": [
    "df = pd.read_parquet(PATH_Result, engine='pyarrow')"
   ]
  },
  {
   "cell_type": "code",
   "execution_count": null,
   "id": "d750d2a8",
   "metadata": {},
   "outputs": [
    {
     "data": {
      "application/vnd.jupyter.widget-view+json": {
       "model_id": "",
       "version_major": 2,
       "version_minor": 0
      },
      "text/plain": [
       "FloatProgress(value=0.0, bar_style='info', description='Progress:', layout=Layout(height='25px', width='50%'),…"
      ]
     },
     "metadata": {},
     "output_type": "display_data"
    },
    {
     "name": "stdout",
     "output_type": "stream",
     "text": [
      "                                        path  ...                                    features_vector\n",
      "0     s3://opc-p9-ba/Watermelon/r_70_100.jpg  ...  {'type': 1, 'size': None, 'indices': None, 'va...\n",
      "1     s3://opc-p9-ba/Watermelon/r_51_100.jpg  ...  {'type': 1, 'size': None, 'indices': None, 'va...\n",
      "2  s3://opc-p9-ba/Pineapple Mini/275_100.jpg  ...  {'type': 1, 'size': None, 'indices': None, 'va...\n",
      "3  s3://opc-p9-ba/Pineapple Mini/269_100.jpg  ...  {'type': 1, 'size': None, 'indices': None, 'va...\n",
      "4      s3://opc-p9-ba/Watermelon/183_100.jpg  ...  {'type': 1, 'size': None, 'indices': None, 'va...\n",
      "\n",
      "[5 rows x 4 columns]"
     ]
    }
   ],
   "source": [
    "df.head()"
   ]
  },
  {
   "cell_type": "code",
   "execution_count": null,
   "id": "b29205ff",
   "metadata": {},
   "outputs": [
    {
     "data": {
      "application/vnd.jupyter.widget-view+json": {
       "model_id": "",
       "version_major": 2,
       "version_minor": 0
      },
      "text/plain": [
       "FloatProgress(value=0.0, bar_style='info', description='Progress:', layout=Layout(height='25px', width='50%'),…"
      ]
     },
     "metadata": {},
     "output_type": "display_data"
    },
    {
     "name": "stdout",
     "output_type": "stream",
     "text": [
      "(1280,)"
     ]
    }
   ],
   "source": [
    "df.loc[0,'features'].shape"
   ]
  },
  {
   "cell_type": "code",
   "execution_count": null,
   "id": "4fba6455",
   "metadata": {},
   "outputs": [
    {
     "data": {
      "application/vnd.jupyter.widget-view+json": {
       "model_id": "",
       "version_major": 2,
       "version_minor": 0
      },
      "text/plain": [
       "FloatProgress(value=0.0, bar_style='info', description='Progress:', layout=Layout(height='25px', width='50%'),…"
      ]
     },
     "metadata": {},
     "output_type": "display_data"
    },
    {
     "name": "stdout",
     "output_type": "stream",
     "text": [
      "(22688, 4)"
     ]
    }
   ],
   "source": [
    "df.shape"
   ]
  },
  {
   "cell_type": "markdown",
   "id": "eaeb3a03",
   "metadata": {},
   "source": [
    "Voici les étapes pour récupérer les résultats dans un fichier unique CSV:\n",
    "\n",
    "- Transformation des images en base64: les images sont converties en une représentation base64 pour faciliter leur gestion et leur exportation dans des formats textuels comme CSV\n",
    "\n",
    "- Jointure des features ACP avec les images base64: nous associons les résultats ACP aux images en fonction du chemin (path). Cela permet d'avoir à la fois les features réduites (ACP) et les images sous forme de base64 dans un seul DataFrame, facilitant l'analyse et l'exportation\n",
    "\n",
    "- Conversion des caractéristiques ACP en chaîne JSON: nous convertissons les caractéristiques ACP (structurées) en chaînes JSON pour les rendre facilement exportables au format CSV. Cela permet de conserver la structure des données ACP tout en les rendant lisibles et exportables\n",
    "\n",
    "- Exportation en CSV: le DataFrame final est sauvegardé sous forme de fichier CSV, permettant une utilisation ultérieure ou un partage facile des résultats\n",
    "\n",
    "- Téléchargement des résultats depuis S3 vers un dossier local: les fichiers CSV générés sont téléchargés depuis le compartiment S3 pour être combinés localement\n",
    "\n",
    "- Fusion des fichiers CSV et sauvegarde finale: les différents fichiers CSV sont fusionnés en un seul fichier pour simplifier l'analyse et éviter de travailler avec plusieurs petits fichiers. Le fichier fusionné est ensuite téléchargé sur S3 pour garantir une copie de sauvegarde dans le cloud, accessible à tout moment."
   ]
  },
  {
   "cell_type": "code",
   "execution_count": null,
   "id": "e5d91afd",
   "metadata": {},
   "outputs": [
    {
     "data": {
      "application/vnd.jupyter.widget-view+json": {
       "model_id": "",
       "version_major": 2,
       "version_minor": 0
      },
      "text/plain": [
       "FloatProgress(value=0.0, bar_style='info', description='Progress:', layout=Layout(height='25px', width='50%'),…"
      ]
     },
     "metadata": {},
     "output_type": "display_data"
    }
   ],
   "source": [
    "# Transformation des images en une représentation `base64`\n",
    "images_base64 = images.select(\n",
    "    col(\"path\"),\n",
    "    col(\"label\"),\n",
    "    base64(col(\"content\")).alias(\"image_base64\")\n",
    ")"
   ]
  },
  {
   "cell_type": "code",
   "execution_count": null,
   "id": "8f65f42c",
   "metadata": {},
   "outputs": [
    {
     "data": {
      "application/vnd.jupyter.widget-view+json": {
       "model_id": "",
       "version_major": 2,
       "version_minor": 0
      },
      "text/plain": [
       "FloatProgress(value=0.0, bar_style='info', description='Progress:', layout=Layout(height='25px', width='50%'),…"
      ]
     },
     "metadata": {},
     "output_type": "display_data"
    },
    {
     "name": "stdout",
     "output_type": "stream",
     "text": [
      "Fichier CSV enregistr? sur s3://opc-p9-ba/Resultats/final_output_csv"
     ]
    }
   ],
   "source": [
    "# Jointure des caractéristiques PCA avec les données `base64` et exportation au format CSV\n",
    "images_base64 = images.select(\n",
    "    col(\"path\"),\n",
    "    col(\"label\").alias(\"image_label\"),  \n",
    "    base64(col(\"content\")).alias(\"image_base64\")\n",
    ")\n",
    "\n",
    "def struct_to_json(pca_features):\n",
    "    if pca_features:\n",
    "        return str(pca_features.values)  \n",
    "    return None\n",
    "\n",
    "struct_to_json_udf = udf(struct_to_json, StringType())\n",
    "\n",
    "export_df = pca_result.withColumn(\"pca_features_str\", struct_to_json_udf(col(\"pca_features\"))) \\\n",
    "    .drop(\"features\", \"features_vector\", \"pca_features\")\n",
    "\n",
    "final_df = export_df.join(images_base64, on=\"path\", how=\"inner\")\n",
    "\n",
    "# Sauvegarde en CSV\n",
    "export_path_csv = PATH_Result + \"/final_output_csv\"\n",
    "final_df.write.mode(\"overwrite\") \\\n",
    "    .option(\"header\", \"true\") \\\n",
    "    .csv(export_path_csv)\n",
    "\n",
    "print(f\"Fichier CSV enregistré sur {export_path_csv}\")"
   ]
  },
  {
   "cell_type": "markdown",
   "id": "1b7c7e1d",
   "metadata": {},
   "source": [
    "Téléchargement des fichiers CSV depuis S3 "
   ]
  },
  {
   "cell_type": "code",
   "execution_count": 3,
   "id": "069e1900",
   "metadata": {},
   "outputs": [
    {
     "name": "stdout",
     "output_type": "stream",
     "text": [
      "Téléchargé : Resultats/final_output_csv/part-00000-f0e03654-1ae0-4583-87fc-e14e57103622-c000.csv\n",
      "Téléchargé : Resultats/final_output_csv/part-00001-f0e03654-1ae0-4583-87fc-e14e57103622-c000.csv\n",
      "Téléchargé : Resultats/final_output_csv/part-00002-f0e03654-1ae0-4583-87fc-e14e57103622-c000.csv\n",
      "Téléchargé : Resultats/final_output_csv/part-00003-f0e03654-1ae0-4583-87fc-e14e57103622-c000.csv\n",
      "Téléchargé : Resultats/final_output_csv/part-00004-f0e03654-1ae0-4583-87fc-e14e57103622-c000.csv\n",
      "Téléchargé : Resultats/final_output_csv/part-00005-f0e03654-1ae0-4583-87fc-e14e57103622-c000.csv\n",
      "Téléchargé : Resultats/final_output_csv/part-00006-f0e03654-1ae0-4583-87fc-e14e57103622-c000.csv\n",
      "Téléchargé : Resultats/final_output_csv/part-00007-f0e03654-1ae0-4583-87fc-e14e57103622-c000.csv\n",
      "Téléchargé : Resultats/final_output_csv/part-00008-f0e03654-1ae0-4583-87fc-e14e57103622-c000.csv\n",
      "Téléchargé : Resultats/final_output_csv/part-00009-f0e03654-1ae0-4583-87fc-e14e57103622-c000.csv\n",
      "Téléchargé : Resultats/final_output_csv/part-00010-f0e03654-1ae0-4583-87fc-e14e57103622-c000.csv\n",
      "Téléchargé : Resultats/final_output_csv/part-00011-f0e03654-1ae0-4583-87fc-e14e57103622-c000.csv\n",
      "Téléchargé : Resultats/final_output_csv/part-00012-f0e03654-1ae0-4583-87fc-e14e57103622-c000.csv\n",
      "Téléchargé : Resultats/final_output_csv/part-00013-f0e03654-1ae0-4583-87fc-e14e57103622-c000.csv\n",
      "Téléchargé : Resultats/final_output_csv/part-00014-f0e03654-1ae0-4583-87fc-e14e57103622-c000.csv\n",
      "Téléchargé : Resultats/final_output_csv/part-00015-f0e03654-1ae0-4583-87fc-e14e57103622-c000.csv\n",
      "Téléchargé : Resultats/final_output_csv/part-00016-f0e03654-1ae0-4583-87fc-e14e57103622-c000.csv\n",
      "Téléchargé : Resultats/final_output_csv/part-00017-f0e03654-1ae0-4583-87fc-e14e57103622-c000.csv\n",
      "Téléchargé : Resultats/final_output_csv/part-00018-f0e03654-1ae0-4583-87fc-e14e57103622-c000.csv\n",
      "Téléchargé : Resultats/final_output_csv/part-00019-f0e03654-1ae0-4583-87fc-e14e57103622-c000.csv\n",
      "Téléchargé : Resultats/final_output_csv/part-00020-f0e03654-1ae0-4583-87fc-e14e57103622-c000.csv\n",
      "Téléchargé : Resultats/final_output_csv/part-00021-f0e03654-1ae0-4583-87fc-e14e57103622-c000.csv\n",
      "Téléchargé : Resultats/final_output_csv/part-00022-f0e03654-1ae0-4583-87fc-e14e57103622-c000.csv\n",
      "Téléchargé : Resultats/final_output_csv/part-00023-f0e03654-1ae0-4583-87fc-e14e57103622-c000.csv\n",
      "Téléchargé : Resultats/final_output_csv/part-00024-f0e03654-1ae0-4583-87fc-e14e57103622-c000.csv\n",
      "Téléchargé : Resultats/final_output_csv/part-00025-f0e03654-1ae0-4583-87fc-e14e57103622-c000.csv\n"
     ]
    }
   ],
   "source": [
    "# Téléchargement des résultats du répertoire S3 vers un dossier local\n",
    "bucket_name = \"opc-p9-ba\"\n",
    "s3_folder = \"Resultats/final_output_csv/\"\n",
    "local_folder = \"./local_csv/\"\n",
    "\n",
    "os.makedirs(local_folder, exist_ok=True)\n",
    "\n",
    "s3 = boto3.client('s3')\n",
    "\n",
    "objects = s3.list_objects_v2(Bucket=bucket_name, Prefix=s3_folder)\n",
    "\n",
    "for obj in objects.get('Contents', []):\n",
    "    file_key = obj['Key']\n",
    "    if file_key.endswith('.csv'):  \n",
    "        local_file_path = os.path.join(local_folder, os.path.basename(file_key))\n",
    "        s3.download_file(bucket_name, file_key, local_file_path)\n",
    "        print(f\"Téléchargé : {file_key}\")"
   ]
  },
  {
   "cell_type": "markdown",
   "id": "c9958479",
   "metadata": {},
   "source": [
    "Fusion des fichiers CSV"
   ]
  },
  {
   "cell_type": "code",
   "execution_count": null,
   "id": "16f80379",
   "metadata": {},
   "outputs": [
    {
     "name": "stdout",
     "output_type": "stream",
     "text": [
      "Fichier fusionné sauvegardé localement : ./Bahou_Amira_images_112024.csv\n"
     ]
    }
   ],
   "source": [
    "# Les fichiers CSV sont combinés en un seul fichier final, qui est sauvegardé localement et sur S3\n",
    "folder_path = \"./local_csv/\"\n",
    "\n",
    "all_csv_files = glob.glob(os.path.join(folder_path, \"part-*.csv\"))\n",
    "\n",
    "df_list = [pd.read_csv(file) for file in all_csv_files]\n",
    "merged_df = pd.concat(df_list, axis=0)\n",
    "\n",
    "output_file = \"./Bahou_Amira_2_images_112024.csv\"\n",
    "merged_df.to_csv(output_file, index=False)\n",
    "\n",
    "print(f\"Fichier fusionné sauvegardé localement : {output_file}\")"
   ]
  },
  {
   "cell_type": "code",
   "execution_count": null,
   "id": "73a1048c",
   "metadata": {},
   "outputs": [
    {
     "name": "stdout",
     "output_type": "stream",
     "text": [
      "Fichier fusionné sauvegardé sur S3 : s3://opc-p9-ba/Resultats/final_output_csv/Bahou_Amira_images_112024.csv\n"
     ]
    }
   ],
   "source": [
    "output_s3_key = \"Resultats/final_output_csv/Bahou_Amira_2_images_112024.csv\"\n",
    "\n",
    "s3.upload_file(output_file, bucket_name, output_s3_key)\n",
    "\n",
    "print(f\"Fichier fusionné sauvegardé sur S3 : s3://{bucket_name}/{output_s3_key}\")"
   ]
  },
  {
   "cell_type": "markdown",
   "id": "187f8511",
   "metadata": {},
   "source": [
    "# 5. Conclusion"
   ]
  },
  {
   "cell_type": "markdown",
   "id": "4eba46f9",
   "metadata": {},
   "source": [
    "Nous avons réalisé ce projet en deux étapes, en tenant compte des contraintes imposées.\n",
    "\n",
    "Dans un premier temps, nous avons développé notre solution localement. La première phase a consisté à installer l'environnement Spark. Ce dernier dispose d'un paramètre permettant de travailler en mode local, simulant ainsi du calcul distribué en considérant chaque cœur de processeur comme un worker indépendant. Nous avons testé notre solution sur un jeu de données plus petit, l'objectif étant de valider son bon fonctionnement.\n",
    "Pour le modèle, nous avons opté pour du transfer learning avec MobileNetV2, choisi pour sa légèreté, sa rapidité d'exécution et la faible taille de son vecteur de sortie. Les résultats ont été sauvegardés sur disque sous forme de partitions au format parquet. La solution a parfaitement fonctionné en local.\n",
    "\n",
    "La deuxième phase a consisté à mettre en place un cluster de calculs réel, afin d'anticiper une augmentation future de la charge de travail. Nous avons choisi d'utiliser Amazon Web Services (AWS), qui permet de louer à la demande de la puissance de calcul à un coût abordable. Le service EC2 d'AWS, qui fait partie des solutions Infrastructure as a Service (IaaS), a été retenu. Nous avons également adopté un service de niveau supérieur (Platform as a Service - PaaS) : EMR. Ce service nous a permis de lancer un cluster de serveurs sur lesquels nous avons installé et configuré plusieurs programmes et librairies nécessaires à notre projet, tels que Spark, Hadoop, JupyterHub et TensorFlow. Cette approche nous a permis non seulement d'être plus rapides et efficaces dans la mise en place, mais aussi de garantir le bon fonctionnement de la solution, validée par les ingénieurs d'Amazon. L'installation des packages nécessaires a été réalisée facilement sur l'ensemble des machines du cluster.\n",
    "Avec peu de modifications, nous avons pu exécuter notre notebook exactement comme en local, cette fois-ci sur toutes les images du dossier \"Test\". Pour le stockage des données, nous avons opté pour Amazon S3, qui offre un stockage évolutif et à faible coût. S3 permet une gestion efficace des données, avec un espace de stockage potentiellement illimité et des coûts en fonction de l'espace utilisé.\n",
    "\n",
    "Grâce à cette solution, nous serons capables de faire face à l'augmentation de la charge de travail en redimensionnant facilement notre cluster. Bien que cela augmente les coûts, ils resteront bien inférieurs à ceux associés à l'achat de matériel ou à la location de serveurs dédiés."
   ]
  }
 ],
 "metadata": {
  "kernelspec": {
   "display_name": "base",
   "language": "python",
   "name": "python3"
  },
  "language_info": {
   "codemirror_mode": {
    "name": "ipython",
    "version": 3
   },
   "file_extension": ".py",
   "mimetype": "text/x-python",
   "name": "python",
   "nbconvert_exporter": "python",
   "pygments_lexer": "ipython3",
   "version": "3.11.7"
  },
  "toc": {
   "base_numbering": 1,
   "nav_menu": {},
   "number_sections": true,
   "sideBar": true,
   "skip_h1_title": false,
   "title_cell": "Table of Contents",
   "title_sidebar": "Contents",
   "toc_cell": false,
   "toc_position": {
    "height": "calc(100% - 180px)",
    "left": "10px",
    "top": "150px",
    "width": "432.4px"
   },
   "toc_section_display": true,
   "toc_window_display": true
  }
 },
 "nbformat": 4,
 "nbformat_minor": 5
}
